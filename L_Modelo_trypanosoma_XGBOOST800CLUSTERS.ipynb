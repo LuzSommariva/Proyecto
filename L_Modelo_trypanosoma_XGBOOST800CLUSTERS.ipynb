{
  "nbformat": 4,
  "nbformat_minor": 0,
  "metadata": {
    "colab": {
      "provenance": [],
      "toc_visible": true
    },
    "kernelspec": {
      "name": "python3",
      "display_name": "Python 3"
    },
    "language_info": {
      "name": "python"
    }
  },
  "cells": [
    {
      "cell_type": "markdown",
      "source": [
        "#Instalacion librerias\n"
      ],
      "metadata": {
        "id": "-lz5yadqkxeR"
      }
    },
    {
      "cell_type": "code",
      "execution_count": null,
      "metadata": {
        "id": "4xgfzTS3fGsm",
        "colab": {
          "base_uri": "https://localhost:8080/"
        },
        "outputId": "d5064f07-89c2-4190-89f6-51fd9b8c329d"
      },
      "outputs": [
        {
          "output_type": "stream",
          "name": "stdout",
          "text": [
            "Collecting git+https://github.com/ikmckenz/adme-pred-py.git\n",
            "  Cloning https://github.com/ikmckenz/adme-pred-py.git to /tmp/pip-req-build-uincqtl0\n",
            "  Running command git clone --filter=blob:none --quiet https://github.com/ikmckenz/adme-pred-py.git /tmp/pip-req-build-uincqtl0\n",
            "  Resolved https://github.com/ikmckenz/adme-pred-py.git to commit 8091a02fe5998b8ba237760ade7ff3400abbbcdd\n",
            "  Preparing metadata (setup.py) ... \u001b[?25l\u001b[?25hdone\n",
            "Requirement already satisfied: pandas in /usr/local/lib/python3.10/dist-packages (1.5.3)\n",
            "Collecting rdkit\n",
            "  Downloading rdkit-2023.9.1-cp310-cp310-manylinux_2_17_x86_64.manylinux2014_x86_64.whl (30.5 MB)\n",
            "\u001b[2K     \u001b[90m━━━━━━━━━━━━━━━━━━━━━━━━━━━━━━━━━━━━━━━━\u001b[0m \u001b[32m30.5/30.5 MB\u001b[0m \u001b[31m45.5 MB/s\u001b[0m eta \u001b[36m0:00:00\u001b[0m\n",
            "\u001b[?25hRequirement already satisfied: tqdm in /usr/local/lib/python3.10/dist-packages (4.66.1)\n",
            "Collecting chembl_webresource_client\n",
            "  Downloading chembl_webresource_client-0.10.8-py3-none-any.whl (55 kB)\n",
            "\u001b[2K     \u001b[90m━━━━━━━━━━━━━━━━━━━━━━━━━━━━━━━━━━━━━━━━\u001b[0m \u001b[32m55.2/55.2 kB\u001b[0m \u001b[31m7.4 MB/s\u001b[0m eta \u001b[36m0:00:00\u001b[0m\n",
            "\u001b[?25hRequirement already satisfied: python-dateutil>=2.8.1 in /usr/local/lib/python3.10/dist-packages (from pandas) (2.8.2)\n",
            "Requirement already satisfied: pytz>=2020.1 in /usr/local/lib/python3.10/dist-packages (from pandas) (2023.3.post1)\n",
            "Requirement already satisfied: numpy>=1.21.0 in /usr/local/lib/python3.10/dist-packages (from pandas) (1.23.5)\n",
            "Requirement already satisfied: Pillow in /usr/local/lib/python3.10/dist-packages (from rdkit) (9.4.0)\n",
            "Requirement already satisfied: urllib3 in /usr/local/lib/python3.10/dist-packages (from chembl_webresource_client) (2.0.7)\n",
            "Requirement already satisfied: requests>=2.18.4 in /usr/local/lib/python3.10/dist-packages (from chembl_webresource_client) (2.31.0)\n",
            "Collecting requests-cache~=0.7.0 (from chembl_webresource_client)\n",
            "  Downloading requests_cache-0.7.5-py3-none-any.whl (39 kB)\n",
            "Requirement already satisfied: easydict in /usr/local/lib/python3.10/dist-packages (from chembl_webresource_client) (1.11)\n",
            "Requirement already satisfied: six>=1.5 in /usr/local/lib/python3.10/dist-packages (from python-dateutil>=2.8.1->pandas) (1.16.0)\n",
            "Requirement already satisfied: charset-normalizer<4,>=2 in /usr/local/lib/python3.10/dist-packages (from requests>=2.18.4->chembl_webresource_client) (3.3.1)\n",
            "Requirement already satisfied: idna<4,>=2.5 in /usr/local/lib/python3.10/dist-packages (from requests>=2.18.4->chembl_webresource_client) (3.4)\n",
            "Requirement already satisfied: certifi>=2017.4.17 in /usr/local/lib/python3.10/dist-packages (from requests>=2.18.4->chembl_webresource_client) (2023.7.22)\n",
            "Collecting attrs<22.0,>=21.2 (from requests-cache~=0.7.0->chembl_webresource_client)\n",
            "  Downloading attrs-21.4.0-py2.py3-none-any.whl (60 kB)\n",
            "\u001b[2K     \u001b[90m━━━━━━━━━━━━━━━━━━━━━━━━━━━━━━━━━━━━━━━━\u001b[0m \u001b[32m60.6/60.6 kB\u001b[0m \u001b[31m7.2 MB/s\u001b[0m eta \u001b[36m0:00:00\u001b[0m\n",
            "\u001b[?25hRequirement already satisfied: itsdangerous>=2.0.1 in /usr/local/lib/python3.10/dist-packages (from requests-cache~=0.7.0->chembl_webresource_client) (2.1.2)\n",
            "Requirement already satisfied: pyyaml>=5.4 in /usr/local/lib/python3.10/dist-packages (from requests-cache~=0.7.0->chembl_webresource_client) (6.0.1)\n",
            "Collecting url-normalize<2.0,>=1.4 (from requests-cache~=0.7.0->chembl_webresource_client)\n",
            "  Downloading url_normalize-1.4.3-py2.py3-none-any.whl (6.8 kB)\n",
            "Building wheels for collected packages: adme-pred\n",
            "  Building wheel for adme-pred (setup.py) ... \u001b[?25l\u001b[?25hdone\n",
            "  Created wheel for adme-pred: filename=adme_pred-0.0.2-py3-none-any.whl size=18561 sha256=00c8f47012ad04de426db5f4bff7d3f8c20d37e5780eed68547732a11b803448\n",
            "  Stored in directory: /tmp/pip-ephem-wheel-cache-8wa85sxh/wheels/0b/cd/8f/5b6314f4393bde6a8e1378ff709adf4c3a59e4ee2f4ef88256\n",
            "Successfully built adme-pred\n",
            "Installing collected packages: adme-pred, url-normalize, rdkit, attrs, requests-cache, chembl_webresource_client\n",
            "  Attempting uninstall: attrs\n",
            "    Found existing installation: attrs 23.1.0\n",
            "    Uninstalling attrs-23.1.0:\n",
            "      Successfully uninstalled attrs-23.1.0\n",
            "\u001b[31mERROR: pip's dependency resolver does not currently take into account all the packages that are installed. This behaviour is the source of the following dependency conflicts.\n",
            "lida 0.0.10 requires fastapi, which is not installed.\n",
            "lida 0.0.10 requires kaleido, which is not installed.\n",
            "lida 0.0.10 requires python-multipart, which is not installed.\n",
            "lida 0.0.10 requires uvicorn, which is not installed.\n",
            "jsonschema 4.19.1 requires attrs>=22.2.0, but you have attrs 21.4.0 which is incompatible.\n",
            "referencing 0.30.2 requires attrs>=22.2.0, but you have attrs 21.4.0 which is incompatible.\u001b[0m\u001b[31m\n",
            "\u001b[0mSuccessfully installed adme-pred-0.0.2 attrs-21.4.0 chembl_webresource_client-0.10.8 rdkit-2023.9.1 requests-cache-0.7.5 url-normalize-1.4.3\n"
          ]
        }
      ],
      "source": [
        "# Instalar las librerias\n",
        "!pip install pandas rdkit tqdm chembl_webresource_client git+https://github.com/ikmckenz/adme-pred-py.git"
      ]
    },
    {
      "cell_type": "code",
      "source": [
        "# Instalar las librerias\n",
        "!pip install pandas rdkit tqdm useful_rdkit_utils seaborn scikit-posthocs chembl_downloader chembl_webresource_client  pubchempy"
      ],
      "metadata": {
        "colab": {
          "base_uri": "https://localhost:8080/"
        },
        "id": "A8ZRkH_yk1pW",
        "outputId": "a14cd47c-3a5a-4cfa-ea8a-c76baa3b99a5"
      },
      "execution_count": null,
      "outputs": [
        {
          "output_type": "stream",
          "name": "stdout",
          "text": [
            "Requirement already satisfied: pandas in /usr/local/lib/python3.10/dist-packages (1.5.3)\n",
            "Requirement already satisfied: rdkit in /usr/local/lib/python3.10/dist-packages (2023.9.1)\n",
            "Requirement already satisfied: tqdm in /usr/local/lib/python3.10/dist-packages (4.66.1)\n",
            "Collecting useful_rdkit_utils\n",
            "  Downloading useful_rdkit_utils-0.3.12-py3-none-any.whl (1.1 MB)\n",
            "\u001b[2K     \u001b[90m━━━━━━━━━━━━━━━━━━━━━━━━━━━━━━━━━━━━━━━━\u001b[0m \u001b[32m1.1/1.1 MB\u001b[0m \u001b[31m8.9 MB/s\u001b[0m eta \u001b[36m0:00:00\u001b[0m\n",
            "\u001b[?25hRequirement already satisfied: seaborn in /usr/local/lib/python3.10/dist-packages (0.12.2)\n",
            "Collecting scikit-posthocs\n",
            "  Downloading scikit_posthocs-0.7.0-py3-none-any.whl (38 kB)\n",
            "Collecting chembl_downloader\n",
            "  Downloading chembl_downloader-0.4.4-py3-none-any.whl (16 kB)\n",
            "Requirement already satisfied: chembl_webresource_client in /usr/local/lib/python3.10/dist-packages (0.10.8)\n",
            "Collecting pubchempy\n",
            "  Downloading PubChemPy-1.0.4.tar.gz (29 kB)\n",
            "  Preparing metadata (setup.py) ... \u001b[?25l\u001b[?25hdone\n",
            "Requirement already satisfied: python-dateutil>=2.8.1 in /usr/local/lib/python3.10/dist-packages (from pandas) (2.8.2)\n",
            "Requirement already satisfied: pytz>=2020.1 in /usr/local/lib/python3.10/dist-packages (from pandas) (2023.3.post1)\n",
            "Requirement already satisfied: numpy>=1.21.0 in /usr/local/lib/python3.10/dist-packages (from pandas) (1.23.5)\n",
            "Requirement already satisfied: Pillow in /usr/local/lib/python3.10/dist-packages (from rdkit) (9.4.0)\n",
            "Requirement already satisfied: pyarrow in /usr/local/lib/python3.10/dist-packages (from useful_rdkit_utils) (9.0.0)\n",
            "Collecting pystow (from useful_rdkit_utils)\n",
            "  Downloading pystow-0.5.0-py3-none-any.whl (37 kB)\n",
            "Requirement already satisfied: matplotlib!=3.6.1,>=3.1 in /usr/local/lib/python3.10/dist-packages (from seaborn) (3.7.1)\n",
            "Requirement already satisfied: scipy in /usr/local/lib/python3.10/dist-packages (from scikit-posthocs) (1.11.3)\n",
            "Requirement already satisfied: statsmodels in /usr/local/lib/python3.10/dist-packages (from scikit-posthocs) (0.14.0)\n",
            "Requirement already satisfied: click in /usr/local/lib/python3.10/dist-packages (from chembl_downloader) (8.1.7)\n",
            "Collecting more-click (from chembl_downloader)\n",
            "  Downloading more_click-0.1.2-py3-none-any.whl (6.7 kB)\n",
            "Requirement already satisfied: typing-extensions in /usr/local/lib/python3.10/dist-packages (from chembl_downloader) (4.5.0)\n",
            "Requirement already satisfied: urllib3 in /usr/local/lib/python3.10/dist-packages (from chembl_webresource_client) (2.0.7)\n",
            "Requirement already satisfied: requests>=2.18.4 in /usr/local/lib/python3.10/dist-packages (from chembl_webresource_client) (2.31.0)\n",
            "Requirement already satisfied: requests-cache~=0.7.0 in /usr/local/lib/python3.10/dist-packages (from chembl_webresource_client) (0.7.5)\n",
            "Requirement already satisfied: easydict in /usr/local/lib/python3.10/dist-packages (from chembl_webresource_client) (1.11)\n",
            "Requirement already satisfied: contourpy>=1.0.1 in /usr/local/lib/python3.10/dist-packages (from matplotlib!=3.6.1,>=3.1->seaborn) (1.1.1)\n",
            "Requirement already satisfied: cycler>=0.10 in /usr/local/lib/python3.10/dist-packages (from matplotlib!=3.6.1,>=3.1->seaborn) (0.12.1)\n",
            "Requirement already satisfied: fonttools>=4.22.0 in /usr/local/lib/python3.10/dist-packages (from matplotlib!=3.6.1,>=3.1->seaborn) (4.43.1)\n",
            "Requirement already satisfied: kiwisolver>=1.0.1 in /usr/local/lib/python3.10/dist-packages (from matplotlib!=3.6.1,>=3.1->seaborn) (1.4.5)\n",
            "Requirement already satisfied: packaging>=20.0 in /usr/local/lib/python3.10/dist-packages (from matplotlib!=3.6.1,>=3.1->seaborn) (23.2)\n",
            "Requirement already satisfied: pyparsing>=2.3.1 in /usr/local/lib/python3.10/dist-packages (from matplotlib!=3.6.1,>=3.1->seaborn) (3.1.1)\n",
            "Requirement already satisfied: six>=1.5 in /usr/local/lib/python3.10/dist-packages (from python-dateutil>=2.8.1->pandas) (1.16.0)\n",
            "Requirement already satisfied: charset-normalizer<4,>=2 in /usr/local/lib/python3.10/dist-packages (from requests>=2.18.4->chembl_webresource_client) (3.3.1)\n",
            "Requirement already satisfied: idna<4,>=2.5 in /usr/local/lib/python3.10/dist-packages (from requests>=2.18.4->chembl_webresource_client) (3.4)\n",
            "Requirement already satisfied: certifi>=2017.4.17 in /usr/local/lib/python3.10/dist-packages (from requests>=2.18.4->chembl_webresource_client) (2023.7.22)\n",
            "Requirement already satisfied: attrs<22.0,>=21.2 in /usr/local/lib/python3.10/dist-packages (from requests-cache~=0.7.0->chembl_webresource_client) (21.4.0)\n",
            "Requirement already satisfied: itsdangerous>=2.0.1 in /usr/local/lib/python3.10/dist-packages (from requests-cache~=0.7.0->chembl_webresource_client) (2.1.2)\n",
            "Requirement already satisfied: pyyaml>=5.4 in /usr/local/lib/python3.10/dist-packages (from requests-cache~=0.7.0->chembl_webresource_client) (6.0.1)\n",
            "Requirement already satisfied: url-normalize<2.0,>=1.4 in /usr/local/lib/python3.10/dist-packages (from requests-cache~=0.7.0->chembl_webresource_client) (1.4.3)\n",
            "Requirement already satisfied: patsy>=0.5.2 in /usr/local/lib/python3.10/dist-packages (from statsmodels->scikit-posthocs) (0.5.3)\n",
            "Building wheels for collected packages: pubchempy\n",
            "  Building wheel for pubchempy (setup.py) ... \u001b[?25l\u001b[?25hdone\n",
            "  Created wheel for pubchempy: filename=PubChemPy-1.0.4-py3-none-any.whl size=13820 sha256=7b29e37f6eb42af20a62c4e7a698a740bd14b2e5e1d3a015bd852144e8ee8e9e\n",
            "  Stored in directory: /root/.cache/pip/wheels/90/7c/45/18a0671e3c3316966ef7ed9ad2b3f3300a7e41d3421a44e799\n",
            "Successfully built pubchempy\n",
            "Installing collected packages: pubchempy, more-click, pystow, useful_rdkit_utils, chembl_downloader, scikit-posthocs\n",
            "Successfully installed chembl_downloader-0.4.4 more-click-0.1.2 pubchempy-1.0.4 pystow-0.5.0 scikit-posthocs-0.7.0 useful_rdkit_utils-0.3.12\n"
          ]
        }
      ]
    },
    {
      "cell_type": "code",
      "source": [
        "#guardar eeto\n"
      ],
      "metadata": {
        "id": "NJN-0UOe6Tsq"
      },
      "execution_count": null,
      "outputs": []
    },
    {
      "cell_type": "markdown",
      "source": [
        "#Importacion"
      ],
      "metadata": {
        "id": "7Sbocg3yk7oJ"
      }
    },
    {
      "cell_type": "code",
      "source": [
        "import os\n",
        "\n",
        "# Importar libreria para guardar trabajar con tablas\n",
        "import pandas as pd\n",
        "import numpy as np\n",
        "\n",
        "# Importar las librerias de RDKit\n",
        "from rdkit import Chem, DataStructs\n",
        "from rdkit.Chem import Draw\n",
        "from rdkit.Chem import rdMolDescriptors\n",
        "from rdkit.Chem import Descriptors\n",
        "from rdkit.Chem import PandasTools\n",
        "from rdkit.Chem.Draw import rdMolDraw2D\n",
        "from rdkit.Chem.Fingerprints import FingerprintMols\n",
        "\n",
        "# Importar las librerias para graficar\n",
        "import matplotlib.pyplot as plt\n",
        "import matplotlib.cm as cm\n",
        "import matplotlib.gridspec as gridspec\n",
        "import seaborn as sns\n",
        "\n",
        "# Importar las funciones de 'scipy'\n",
        "from scipy.cluster.hierarchy import dendrogram, linkage, is_valid_linkage, cut_tree\n",
        "\n",
        "# Importar las funciones de 'sklearn'\n",
        "from sklearn.cluster import KMeans\n",
        "from sklearn.metrics import silhouette_samples, silhouette_score\n",
        "from sklearn.preprocessing import StandardScaler\n",
        "from sklearn.decomposition import PCA\n",
        "from sklearn.cluster import AgglomerativeClustering\n",
        "\n",
        "# Importar libreria de ChEMBL\n",
        "from chembl_webresource_client.new_client import new_client\n",
        "\n",
        "# Importar libreria de PubChem\n",
        "import pubchempy as pcp\n",
        "\n",
        "# Importar libreria para ver una barra con el progreso de cada comando\n",
        "from tqdm.auto import tqdm\n",
        "tqdm.pandas()\n",
        "\n",
        "# Importar el módulo de advertencias\n",
        "import warnings\n",
        "\n",
        "# Importar el módulo sys\n",
        "import sys\n",
        "np.set_printoptions(threshold=sys.maxsize)\n",
        "\n",
        "\n",
        "from rdkit import Chem, DataStructs\n",
        "from rdkit.Chem import Draw\n",
        "from rdkit.Chem import rdMolDescriptors\n",
        "from rdkit.Chem import Descriptors\n",
        "from rdkit.Chem import PandasTools\n",
        "from rdkit.Chem.Draw import rdMolDraw2D\n",
        "from rdkit.Chem.Fingerprints import FingerprintMols\n",
        "\n",
        "\n",
        "# Importar libreria de RDKit\n",
        "from rdkit import Chem\n",
        "from rdkit.Chem import AllChem\n",
        "from rdkit.Chem import Draw\n",
        "from rdkit.Chem.Draw import rdMolDraw2D\n",
        "from rdkit.Chem import PandasTools\n",
        "from rdkit.Chem import rdMolDescriptors\n",
        "from rdkit.Chem import Descriptors\n",
        "\n",
        "# Importar libreria para cambiar el directorio y guardar archivos\n",
        "import os\n",
        "\n",
        "# Importar libreria para ver una barra con el progreso de cada comando\n",
        "from tqdm.auto import tqdm\n",
        "tqdm.pandas()\n",
        "\n",
        "import pandas as pd\n",
        "\n",
        "from chembl_webresource_client.new_client import new_client\n",
        "\n",
        "# Importar libreria de ADME\n",
        "from adme_pred import ADME\n",
        "\n",
        "# Importar las librerias para graficar\n",
        "import matplotlib.pyplot as plt\n",
        "import matplotlib.cm as cm\n",
        "import matplotlib.gridspec as gridspec\n",
        "import seaborn as sns\n",
        "\n",
        "from sklearn.metrics import confusion_matrix\n",
        "from sklearn.metrics import classification_report\n",
        "from sklearn.model_selection import train_test_split\n",
        "from sklearn.linear_model import LogisticRegression\n",
        "from sklearn.decomposition import PCA\n",
        "from sklearn.tree import DecisionTreeClassifier\n",
        "\n",
        "from pylab import rcParams\n",
        "\n",
        "from imblearn.under_sampling import NearMiss\n",
        "from imblearn.over_sampling import RandomOverSampler\n",
        "from imblearn.combine import SMOTETomek\n",
        "from imblearn.ensemble import BalancedBaggingClassifier\n",
        "\n",
        "from collections import Counter\n",
        "\n",
        "#set up graphic style in this case I am using the color scheme from xkcd.com\n",
        "rcParams['figure.figsize'] = 14, 8.7 # Golden Mean\n",
        "LABELS = [\"Active\",\"Inactive\"]\n",
        "#col_list = [\"cerulean\",\"scarlet\"]# https://xkcd.com/color/rgb/\n",
        "#sns.set(style='white', font_scale=1.75, palette=sns.xkcd_palette(col_list))\n",
        "\n",
        "%matplotlib inline"
      ],
      "metadata": {
        "id": "l3YVr0dzk9hA"
      },
      "execution_count": null,
      "outputs": []
    },
    {
      "cell_type": "code",
      "source": [
        "def mostrar_resultados(y_test, pred_y):\n",
        "    conf_matrix = confusion_matrix(y_test, pred_y)\n",
        "    plt.figure(figsize=(8, 8))\n",
        "    sns.heatmap(conf_matrix, xticklabels=LABELS, yticklabels=LABELS, annot=True, fmt=\"d\");\n",
        "    plt.title(\"Confusion matrix\")\n",
        "    plt.ylabel('True class')\n",
        "    plt.xlabel('Predicted class')\n",
        "    plt.show()\n",
        "    print (classification_report(y_test, pred_y))"
      ],
      "metadata": {
        "id": "mI_sKaCplAs8"
      },
      "execution_count": null,
      "outputs": []
    },
    {
      "cell_type": "markdown",
      "source": [
        "#Google"
      ],
      "metadata": {
        "id": "kOvNvYCflCmD"
      }
    },
    {
      "cell_type": "code",
      "source": [
        "from google.colab import drive\n",
        "drive.mount('/content/drive')"
      ],
      "metadata": {
        "id": "zEE03wPTlFHj",
        "colab": {
          "base_uri": "https://localhost:8080/"
        },
        "outputId": "f49eed47-de48-4b6c-93ec-9be9762429ab"
      },
      "execution_count": null,
      "outputs": [
        {
          "output_type": "stream",
          "name": "stdout",
          "text": [
            "Mounted at /content/drive\n"
          ]
        }
      ]
    },
    {
      "cell_type": "code",
      "source": [
        "# Indicar la carpeta de trabajo\n",
        "#path_luz = '/content/drive/MyDrive/Proyecto análisis Lysil tRNA Sintetasa/Analisis_compuestos'\n",
        "path_luz = \"/content/drive/MyDrive/Proyecto análisis Lysil tRNA Sintetasa/Analisis_compuestos/Activos_contra_Lys\"\n",
        "path_mer = '/content/drive/Shareddrives/Doctorado/Proyecto análisis Lysil tRNA Sintetasa/Analisis_compuestos/Activos_contra_Lys'\n",
        "os.chdir(path_luz)"
      ],
      "metadata": {
        "id": "d_JqRqIplFYO"
      },
      "execution_count": null,
      "outputs": []
    },
    {
      "cell_type": "markdown",
      "source": [
        "#Modelo"
      ],
      "metadata": {
        "id": "G2B6hGU5lOX2"
      }
    },
    {
      "cell_type": "code",
      "source": [
        "total=pd.read_csv(\"Resultados_compuestos_lys_800.csv\") #These data was taken from ChEMBL where we created a library\n",
        "                                                       #of 17,946 bioactive compounds with the funcional groupe chromane scaffold\n",
        "                                                       #around 800 presented accurate information about their activity against T. Cruzi"
      ],
      "metadata": {
        "id": "ADiofz-E7dgo"
      },
      "execution_count": null,
      "outputs": []
    },
    {
      "cell_type": "code",
      "source": [
        "total\n"
      ],
      "metadata": {
        "colab": {
          "base_uri": "https://localhost:8080/",
          "height": 808
        },
        "id": "nXeDYWqv8EqZ",
        "outputId": "92d3884d-4985-4c26-a1c6-097f1bd8663d"
      },
      "execution_count": null,
      "outputs": [
        {
          "output_type": "execute_result",
          "data": {
            "text/plain": [
              "     Unnamed: 0  level_0  index  \\\n",
              "0             0        0      0   \n",
              "1             1        1      1   \n",
              "2             2        4      4   \n",
              "3             3        5      5   \n",
              "4             4        6      6   \n",
              "..          ...      ...    ...   \n",
              "855         855      870    395   \n",
              "856         856      871    396   \n",
              "857         857      872    397   \n",
              "858         858      873    398   \n",
              "859         859      874    399   \n",
              "\n",
              "                                      canonical_smiles  \\\n",
              "0    COc1cc(N2CCC(N3CCN(C)CC3)CC2)ccc1Nc1ncc(Cl)c(N...   \n",
              "1    Cc1ccc(NC(=O)c2cccc(C(F)(F)F)c2)cc1N1Cc2cnc(N)...   \n",
              "2               CN(C)c1ccc(-c2cc3ncccc3c(NCCCCN)n2)cc1   \n",
              "3    CN[C@@H]1C[C@H]2O[C@@](C)([C@@H]1OC)n1c3ccccc3...   \n",
              "4    COc1cc(Nc2nc(N[C@H]3CCCC[C@H]3N)n3nc(-c4ccccc4...   \n",
              "..                                                 ...   \n",
              "855  COc1ccc(Nc2nc(N/N=C/c3ccc(O)cc3)nc(Nc3ccc([N+]...   \n",
              "856                Cn1c(C(=O)c2cccc3ccccc23)nc2ccccc21   \n",
              "857                     CCc1ccc(CNCC(O)c2ccccc2)cc1.Cl   \n",
              "858              OCCNc1nc(Nc2ccc(Cl)c(Cl)c2)nc2ccccc12   \n",
              "859                            COCCn1c(C)nc2ccccc2c1=O   \n",
              "\n",
              "                                                ROMol  \\\n",
              "0    <rdkit.Chem.rdchem.Mol object at 0x78cde710a6c0>   \n",
              "1    <rdkit.Chem.rdchem.Mol object at 0x78cde710a960>   \n",
              "2    <rdkit.Chem.rdchem.Mol object at 0x78cde710a490>   \n",
              "3    <rdkit.Chem.rdchem.Mol object at 0x78cde710a810>   \n",
              "4    <rdkit.Chem.rdchem.Mol object at 0x78cde7109e00>   \n",
              "..                                                ...   \n",
              "855  <rdkit.Chem.rdchem.Mol object at 0x78cde7711d90>   \n",
              "856  <rdkit.Chem.rdchem.Mol object at 0x78cde7711e00>   \n",
              "857  <rdkit.Chem.rdchem.Mol object at 0x78cde7711e70>   \n",
              "858  <rdkit.Chem.rdchem.Mol object at 0x78cde7711ee0>   \n",
              "859  <rdkit.Chem.rdchem.Mol object at 0x78cde7711f50>   \n",
              "\n",
              "                        InchiKey  Activity   Organismo assay_chembl_id  type  \\\n",
              "0    QQWUGDVOUVUTOY-UHFFFAOYSA-N    Active       Human   CHEMBL1006347  IC50   \n",
              "1    ZWVLMQTXUWMUII-UHFFFAOYSA-N    Active       Human    CHEMBL974011  EC50   \n",
              "2    SBGMPUIVPOGTGN-UHFFFAOYSA-N    Active       Human   CHEMBL1025770  IC50   \n",
              "3    HKSZLNNOFSGOKW-FYTWVXJKSA-N    Active       Human    CHEMBL981176  IC50   \n",
              "4    VLHKHLQNVJKAHG-UXHICEINSA-N    Active       Human    CHEMBL981176  IC50   \n",
              "..                           ...       ...         ...             ...   ...   \n",
              "855  PPSIRBXGBCWYRP-ZVHZXABRSA-N  Inactive  Plasmodium   CHEMBL3301569  IC50   \n",
              "856  IRYFDSQLAQPRJR-UHFFFAOYSA-N  Inactive  Plasmodium   CHEMBL3301569  IC50   \n",
              "857  CPIYNGWBBRUNGH-UHFFFAOYSA-N  Inactive  Plasmodium   CHEMBL3301569  IC50   \n",
              "858  ZGMMVVYGDFQTBB-UHFFFAOYSA-N  Inactive  Plasmodium   CHEMBL3301569  IC50   \n",
              "859  SLRRNHXGUZBHNV-UHFFFAOYSA-N  Inactive  Plasmodium   CHEMBL3301569  IC50   \n",
              "\n",
              "    Activity_metric  \n",
              "0               low  \n",
              "1               low  \n",
              "2              high  \n",
              "3              high  \n",
              "4              high  \n",
              "..              ...  \n",
              "855             NaN  \n",
              "856             NaN  \n",
              "857             NaN  \n",
              "858             NaN  \n",
              "859             NaN  \n",
              "\n",
              "[860 rows x 11 columns]"
            ],
            "text/html": [
              "\n",
              "  <div id=\"df-2f116266-edb3-4ec9-a1a8-75231b035676\" class=\"colab-df-container\">\n",
              "    <div>\n",
              "<style scoped>\n",
              "    .dataframe tbody tr th:only-of-type {\n",
              "        vertical-align: middle;\n",
              "    }\n",
              "\n",
              "    .dataframe tbody tr th {\n",
              "        vertical-align: top;\n",
              "    }\n",
              "\n",
              "    .dataframe thead th {\n",
              "        text-align: right;\n",
              "    }\n",
              "</style>\n",
              "<table border=\"1\" class=\"dataframe\">\n",
              "  <thead>\n",
              "    <tr style=\"text-align: right;\">\n",
              "      <th></th>\n",
              "      <th>Unnamed: 0</th>\n",
              "      <th>level_0</th>\n",
              "      <th>index</th>\n",
              "      <th>canonical_smiles</th>\n",
              "      <th>ROMol</th>\n",
              "      <th>InchiKey</th>\n",
              "      <th>Activity</th>\n",
              "      <th>Organismo</th>\n",
              "      <th>assay_chembl_id</th>\n",
              "      <th>type</th>\n",
              "      <th>Activity_metric</th>\n",
              "    </tr>\n",
              "  </thead>\n",
              "  <tbody>\n",
              "    <tr>\n",
              "      <th>0</th>\n",
              "      <td>0</td>\n",
              "      <td>0</td>\n",
              "      <td>0</td>\n",
              "      <td>COc1cc(N2CCC(N3CCN(C)CC3)CC2)ccc1Nc1ncc(Cl)c(N...</td>\n",
              "      <td>&lt;rdkit.Chem.rdchem.Mol object at 0x78cde710a6c0&gt;</td>\n",
              "      <td>QQWUGDVOUVUTOY-UHFFFAOYSA-N</td>\n",
              "      <td>Active</td>\n",
              "      <td>Human</td>\n",
              "      <td>CHEMBL1006347</td>\n",
              "      <td>IC50</td>\n",
              "      <td>low</td>\n",
              "    </tr>\n",
              "    <tr>\n",
              "      <th>1</th>\n",
              "      <td>1</td>\n",
              "      <td>1</td>\n",
              "      <td>1</td>\n",
              "      <td>Cc1ccc(NC(=O)c2cccc(C(F)(F)F)c2)cc1N1Cc2cnc(N)...</td>\n",
              "      <td>&lt;rdkit.Chem.rdchem.Mol object at 0x78cde710a960&gt;</td>\n",
              "      <td>ZWVLMQTXUWMUII-UHFFFAOYSA-N</td>\n",
              "      <td>Active</td>\n",
              "      <td>Human</td>\n",
              "      <td>CHEMBL974011</td>\n",
              "      <td>EC50</td>\n",
              "      <td>low</td>\n",
              "    </tr>\n",
              "    <tr>\n",
              "      <th>2</th>\n",
              "      <td>2</td>\n",
              "      <td>4</td>\n",
              "      <td>4</td>\n",
              "      <td>CN(C)c1ccc(-c2cc3ncccc3c(NCCCCN)n2)cc1</td>\n",
              "      <td>&lt;rdkit.Chem.rdchem.Mol object at 0x78cde710a490&gt;</td>\n",
              "      <td>SBGMPUIVPOGTGN-UHFFFAOYSA-N</td>\n",
              "      <td>Active</td>\n",
              "      <td>Human</td>\n",
              "      <td>CHEMBL1025770</td>\n",
              "      <td>IC50</td>\n",
              "      <td>high</td>\n",
              "    </tr>\n",
              "    <tr>\n",
              "      <th>3</th>\n",
              "      <td>3</td>\n",
              "      <td>5</td>\n",
              "      <td>5</td>\n",
              "      <td>CN[C@@H]1C[C@H]2O[C@@](C)([C@@H]1OC)n1c3ccccc3...</td>\n",
              "      <td>&lt;rdkit.Chem.rdchem.Mol object at 0x78cde710a810&gt;</td>\n",
              "      <td>HKSZLNNOFSGOKW-FYTWVXJKSA-N</td>\n",
              "      <td>Active</td>\n",
              "      <td>Human</td>\n",
              "      <td>CHEMBL981176</td>\n",
              "      <td>IC50</td>\n",
              "      <td>high</td>\n",
              "    </tr>\n",
              "    <tr>\n",
              "      <th>4</th>\n",
              "      <td>4</td>\n",
              "      <td>6</td>\n",
              "      <td>6</td>\n",
              "      <td>COc1cc(Nc2nc(N[C@H]3CCCC[C@H]3N)n3nc(-c4ccccc4...</td>\n",
              "      <td>&lt;rdkit.Chem.rdchem.Mol object at 0x78cde7109e00&gt;</td>\n",
              "      <td>VLHKHLQNVJKAHG-UXHICEINSA-N</td>\n",
              "      <td>Active</td>\n",
              "      <td>Human</td>\n",
              "      <td>CHEMBL981176</td>\n",
              "      <td>IC50</td>\n",
              "      <td>high</td>\n",
              "    </tr>\n",
              "    <tr>\n",
              "      <th>...</th>\n",
              "      <td>...</td>\n",
              "      <td>...</td>\n",
              "      <td>...</td>\n",
              "      <td>...</td>\n",
              "      <td>...</td>\n",
              "      <td>...</td>\n",
              "      <td>...</td>\n",
              "      <td>...</td>\n",
              "      <td>...</td>\n",
              "      <td>...</td>\n",
              "      <td>...</td>\n",
              "    </tr>\n",
              "    <tr>\n",
              "      <th>855</th>\n",
              "      <td>855</td>\n",
              "      <td>870</td>\n",
              "      <td>395</td>\n",
              "      <td>COc1ccc(Nc2nc(N/N=C/c3ccc(O)cc3)nc(Nc3ccc([N+]...</td>\n",
              "      <td>&lt;rdkit.Chem.rdchem.Mol object at 0x78cde7711d90&gt;</td>\n",
              "      <td>PPSIRBXGBCWYRP-ZVHZXABRSA-N</td>\n",
              "      <td>Inactive</td>\n",
              "      <td>Plasmodium</td>\n",
              "      <td>CHEMBL3301569</td>\n",
              "      <td>IC50</td>\n",
              "      <td>NaN</td>\n",
              "    </tr>\n",
              "    <tr>\n",
              "      <th>856</th>\n",
              "      <td>856</td>\n",
              "      <td>871</td>\n",
              "      <td>396</td>\n",
              "      <td>Cn1c(C(=O)c2cccc3ccccc23)nc2ccccc21</td>\n",
              "      <td>&lt;rdkit.Chem.rdchem.Mol object at 0x78cde7711e00&gt;</td>\n",
              "      <td>IRYFDSQLAQPRJR-UHFFFAOYSA-N</td>\n",
              "      <td>Inactive</td>\n",
              "      <td>Plasmodium</td>\n",
              "      <td>CHEMBL3301569</td>\n",
              "      <td>IC50</td>\n",
              "      <td>NaN</td>\n",
              "    </tr>\n",
              "    <tr>\n",
              "      <th>857</th>\n",
              "      <td>857</td>\n",
              "      <td>872</td>\n",
              "      <td>397</td>\n",
              "      <td>CCc1ccc(CNCC(O)c2ccccc2)cc1.Cl</td>\n",
              "      <td>&lt;rdkit.Chem.rdchem.Mol object at 0x78cde7711e70&gt;</td>\n",
              "      <td>CPIYNGWBBRUNGH-UHFFFAOYSA-N</td>\n",
              "      <td>Inactive</td>\n",
              "      <td>Plasmodium</td>\n",
              "      <td>CHEMBL3301569</td>\n",
              "      <td>IC50</td>\n",
              "      <td>NaN</td>\n",
              "    </tr>\n",
              "    <tr>\n",
              "      <th>858</th>\n",
              "      <td>858</td>\n",
              "      <td>873</td>\n",
              "      <td>398</td>\n",
              "      <td>OCCNc1nc(Nc2ccc(Cl)c(Cl)c2)nc2ccccc12</td>\n",
              "      <td>&lt;rdkit.Chem.rdchem.Mol object at 0x78cde7711ee0&gt;</td>\n",
              "      <td>ZGMMVVYGDFQTBB-UHFFFAOYSA-N</td>\n",
              "      <td>Inactive</td>\n",
              "      <td>Plasmodium</td>\n",
              "      <td>CHEMBL3301569</td>\n",
              "      <td>IC50</td>\n",
              "      <td>NaN</td>\n",
              "    </tr>\n",
              "    <tr>\n",
              "      <th>859</th>\n",
              "      <td>859</td>\n",
              "      <td>874</td>\n",
              "      <td>399</td>\n",
              "      <td>COCCn1c(C)nc2ccccc2c1=O</td>\n",
              "      <td>&lt;rdkit.Chem.rdchem.Mol object at 0x78cde7711f50&gt;</td>\n",
              "      <td>SLRRNHXGUZBHNV-UHFFFAOYSA-N</td>\n",
              "      <td>Inactive</td>\n",
              "      <td>Plasmodium</td>\n",
              "      <td>CHEMBL3301569</td>\n",
              "      <td>IC50</td>\n",
              "      <td>NaN</td>\n",
              "    </tr>\n",
              "  </tbody>\n",
              "</table>\n",
              "<p>860 rows × 11 columns</p>\n",
              "</div>\n",
              "    <div class=\"colab-df-buttons\">\n",
              "\n",
              "  <div class=\"colab-df-container\">\n",
              "    <button class=\"colab-df-convert\" onclick=\"convertToInteractive('df-2f116266-edb3-4ec9-a1a8-75231b035676')\"\n",
              "            title=\"Convert this dataframe to an interactive table.\"\n",
              "            style=\"display:none;\">\n",
              "\n",
              "  <svg xmlns=\"http://www.w3.org/2000/svg\" height=\"24px\" viewBox=\"0 -960 960 960\">\n",
              "    <path d=\"M120-120v-720h720v720H120Zm60-500h600v-160H180v160Zm220 220h160v-160H400v160Zm0 220h160v-160H400v160ZM180-400h160v-160H180v160Zm440 0h160v-160H620v160ZM180-180h160v-160H180v160Zm440 0h160v-160H620v160Z\"/>\n",
              "  </svg>\n",
              "    </button>\n",
              "\n",
              "  <style>\n",
              "    .colab-df-container {\n",
              "      display:flex;\n",
              "      gap: 12px;\n",
              "    }\n",
              "\n",
              "    .colab-df-convert {\n",
              "      background-color: #E8F0FE;\n",
              "      border: none;\n",
              "      border-radius: 50%;\n",
              "      cursor: pointer;\n",
              "      display: none;\n",
              "      fill: #1967D2;\n",
              "      height: 32px;\n",
              "      padding: 0 0 0 0;\n",
              "      width: 32px;\n",
              "    }\n",
              "\n",
              "    .colab-df-convert:hover {\n",
              "      background-color: #E2EBFA;\n",
              "      box-shadow: 0px 1px 2px rgba(60, 64, 67, 0.3), 0px 1px 3px 1px rgba(60, 64, 67, 0.15);\n",
              "      fill: #174EA6;\n",
              "    }\n",
              "\n",
              "    .colab-df-buttons div {\n",
              "      margin-bottom: 4px;\n",
              "    }\n",
              "\n",
              "    [theme=dark] .colab-df-convert {\n",
              "      background-color: #3B4455;\n",
              "      fill: #D2E3FC;\n",
              "    }\n",
              "\n",
              "    [theme=dark] .colab-df-convert:hover {\n",
              "      background-color: #434B5C;\n",
              "      box-shadow: 0px 1px 3px 1px rgba(0, 0, 0, 0.15);\n",
              "      filter: drop-shadow(0px 1px 2px rgba(0, 0, 0, 0.3));\n",
              "      fill: #FFFFFF;\n",
              "    }\n",
              "  </style>\n",
              "\n",
              "    <script>\n",
              "      const buttonEl =\n",
              "        document.querySelector('#df-2f116266-edb3-4ec9-a1a8-75231b035676 button.colab-df-convert');\n",
              "      buttonEl.style.display =\n",
              "        google.colab.kernel.accessAllowed ? 'block' : 'none';\n",
              "\n",
              "      async function convertToInteractive(key) {\n",
              "        const element = document.querySelector('#df-2f116266-edb3-4ec9-a1a8-75231b035676');\n",
              "        const dataTable =\n",
              "          await google.colab.kernel.invokeFunction('convertToInteractive',\n",
              "                                                    [key], {});\n",
              "        if (!dataTable) return;\n",
              "\n",
              "        const docLinkHtml = 'Like what you see? Visit the ' +\n",
              "          '<a target=\"_blank\" href=https://colab.research.google.com/notebooks/data_table.ipynb>data table notebook</a>'\n",
              "          + ' to learn more about interactive tables.';\n",
              "        element.innerHTML = '';\n",
              "        dataTable['output_type'] = 'display_data';\n",
              "        await google.colab.output.renderOutput(dataTable, element);\n",
              "        const docLink = document.createElement('div');\n",
              "        docLink.innerHTML = docLinkHtml;\n",
              "        element.appendChild(docLink);\n",
              "      }\n",
              "    </script>\n",
              "  </div>\n",
              "\n",
              "\n",
              "<div id=\"df-ea9fe5e7-a5ab-4136-9248-e5bc53aef8a4\">\n",
              "  <button class=\"colab-df-quickchart\" onclick=\"quickchart('df-ea9fe5e7-a5ab-4136-9248-e5bc53aef8a4')\"\n",
              "            title=\"Suggest charts.\"\n",
              "            style=\"display:none;\">\n",
              "\n",
              "<svg xmlns=\"http://www.w3.org/2000/svg\" height=\"24px\"viewBox=\"0 0 24 24\"\n",
              "     width=\"24px\">\n",
              "    <g>\n",
              "        <path d=\"M19 3H5c-1.1 0-2 .9-2 2v14c0 1.1.9 2 2 2h14c1.1 0 2-.9 2-2V5c0-1.1-.9-2-2-2zM9 17H7v-7h2v7zm4 0h-2V7h2v10zm4 0h-2v-4h2v4z\"/>\n",
              "    </g>\n",
              "</svg>\n",
              "  </button>\n",
              "\n",
              "<style>\n",
              "  .colab-df-quickchart {\n",
              "      --bg-color: #E8F0FE;\n",
              "      --fill-color: #1967D2;\n",
              "      --hover-bg-color: #E2EBFA;\n",
              "      --hover-fill-color: #174EA6;\n",
              "      --disabled-fill-color: #AAA;\n",
              "      --disabled-bg-color: #DDD;\n",
              "  }\n",
              "\n",
              "  [theme=dark] .colab-df-quickchart {\n",
              "      --bg-color: #3B4455;\n",
              "      --fill-color: #D2E3FC;\n",
              "      --hover-bg-color: #434B5C;\n",
              "      --hover-fill-color: #FFFFFF;\n",
              "      --disabled-bg-color: #3B4455;\n",
              "      --disabled-fill-color: #666;\n",
              "  }\n",
              "\n",
              "  .colab-df-quickchart {\n",
              "    background-color: var(--bg-color);\n",
              "    border: none;\n",
              "    border-radius: 50%;\n",
              "    cursor: pointer;\n",
              "    display: none;\n",
              "    fill: var(--fill-color);\n",
              "    height: 32px;\n",
              "    padding: 0;\n",
              "    width: 32px;\n",
              "  }\n",
              "\n",
              "  .colab-df-quickchart:hover {\n",
              "    background-color: var(--hover-bg-color);\n",
              "    box-shadow: 0 1px 2px rgba(60, 64, 67, 0.3), 0 1px 3px 1px rgba(60, 64, 67, 0.15);\n",
              "    fill: var(--button-hover-fill-color);\n",
              "  }\n",
              "\n",
              "  .colab-df-quickchart-complete:disabled,\n",
              "  .colab-df-quickchart-complete:disabled:hover {\n",
              "    background-color: var(--disabled-bg-color);\n",
              "    fill: var(--disabled-fill-color);\n",
              "    box-shadow: none;\n",
              "  }\n",
              "\n",
              "  .colab-df-spinner {\n",
              "    border: 2px solid var(--fill-color);\n",
              "    border-color: transparent;\n",
              "    border-bottom-color: var(--fill-color);\n",
              "    animation:\n",
              "      spin 1s steps(1) infinite;\n",
              "  }\n",
              "\n",
              "  @keyframes spin {\n",
              "    0% {\n",
              "      border-color: transparent;\n",
              "      border-bottom-color: var(--fill-color);\n",
              "      border-left-color: var(--fill-color);\n",
              "    }\n",
              "    20% {\n",
              "      border-color: transparent;\n",
              "      border-left-color: var(--fill-color);\n",
              "      border-top-color: var(--fill-color);\n",
              "    }\n",
              "    30% {\n",
              "      border-color: transparent;\n",
              "      border-left-color: var(--fill-color);\n",
              "      border-top-color: var(--fill-color);\n",
              "      border-right-color: var(--fill-color);\n",
              "    }\n",
              "    40% {\n",
              "      border-color: transparent;\n",
              "      border-right-color: var(--fill-color);\n",
              "      border-top-color: var(--fill-color);\n",
              "    }\n",
              "    60% {\n",
              "      border-color: transparent;\n",
              "      border-right-color: var(--fill-color);\n",
              "    }\n",
              "    80% {\n",
              "      border-color: transparent;\n",
              "      border-right-color: var(--fill-color);\n",
              "      border-bottom-color: var(--fill-color);\n",
              "    }\n",
              "    90% {\n",
              "      border-color: transparent;\n",
              "      border-bottom-color: var(--fill-color);\n",
              "    }\n",
              "  }\n",
              "</style>\n",
              "\n",
              "  <script>\n",
              "    async function quickchart(key) {\n",
              "      const quickchartButtonEl =\n",
              "        document.querySelector('#' + key + ' button');\n",
              "      quickchartButtonEl.disabled = true;  // To prevent multiple clicks.\n",
              "      quickchartButtonEl.classList.add('colab-df-spinner');\n",
              "      try {\n",
              "        const charts = await google.colab.kernel.invokeFunction(\n",
              "            'suggestCharts', [key], {});\n",
              "      } catch (error) {\n",
              "        console.error('Error during call to suggestCharts:', error);\n",
              "      }\n",
              "      quickchartButtonEl.classList.remove('colab-df-spinner');\n",
              "      quickchartButtonEl.classList.add('colab-df-quickchart-complete');\n",
              "    }\n",
              "    (() => {\n",
              "      let quickchartButtonEl =\n",
              "        document.querySelector('#df-ea9fe5e7-a5ab-4136-9248-e5bc53aef8a4 button');\n",
              "      quickchartButtonEl.style.display =\n",
              "        google.colab.kernel.accessAllowed ? 'block' : 'none';\n",
              "    })();\n",
              "  </script>\n",
              "</div>\n",
              "    </div>\n",
              "  </div>\n"
            ]
          },
          "metadata": {},
          "execution_count": 9
        }
      ]
    },
    {
      "cell_type": "code",
      "source": [
        "total[\"Activity_metric\"]=total[\"Activity_metric\"].fillna(\"I\")"
      ],
      "metadata": {
        "id": "mejmfFhovBvS"
      },
      "execution_count": null,
      "outputs": []
    },
    {
      "cell_type": "code",
      "source": [
        "total[\"Activity\"].value_counts()"
      ],
      "metadata": {
        "colab": {
          "base_uri": "https://localhost:8080/"
        },
        "id": "8h_zwfE4ULmN",
        "outputId": "bd2a4736-aa12-44b8-cef6-5084de9c9b6a"
      },
      "execution_count": null,
      "outputs": [
        {
          "output_type": "execute_result",
          "data": {
            "text/plain": [
              "Inactive    784\n",
              "Active       76\n",
              "Name: Activity, dtype: int64"
            ]
          },
          "metadata": {},
          "execution_count": 11
        }
      ]
    },
    {
      "cell_type": "code",
      "source": [
        "len(total)"
      ],
      "metadata": {
        "colab": {
          "base_uri": "https://localhost:8080/"
        },
        "id": "pMJTfzBWU7_v",
        "outputId": "35c352ff-16eb-4962-f274-88d2543bda00"
      },
      "execution_count": null,
      "outputs": [
        {
          "output_type": "execute_result",
          "data": {
            "text/plain": [
              "860"
            ]
          },
          "metadata": {},
          "execution_count": 12
        }
      ]
    },
    {
      "cell_type": "code",
      "source": [
        "plt.figure(figsize=(2, 4))\n",
        "\n",
        "sns.countplot(data=total, x=\"Activity\", color=\"grey\",width=0.5)\n",
        "\n",
        "#modify individual font size of elements\n",
        "plt.xlabel('Activity', fontsize=16);\n",
        "plt.ylabel('Compound Count', fontsize=16);"
      ],
      "metadata": {
        "colab": {
          "base_uri": "https://localhost:8080/",
          "height": 394
        },
        "id": "kUs3h_8ARfXF",
        "outputId": "219e8f9a-78eb-4689-8917-d10c7360ed2b"
      },
      "execution_count": null,
      "outputs": [
        {
          "output_type": "display_data",
          "data": {
            "text/plain": [
              "<Figure size 200x400 with 1 Axes>"
            ],
            "image/png": "[encoded data removed]"
          },
          "metadata": {}
        }
      ]
    },
    {
      "cell_type": "code",
      "source": [
        "train_df, test_df = train_test_split(total, test_size=0.2, random_state=42, stratify=total[[\"Activity_metric\"]])"
      ],
      "metadata": {
        "id": "jtS8-A4p3BBg"
      },
      "execution_count": null,
      "outputs": []
    },
    {
      "cell_type": "code",
      "source": [
        "train_df.Activity_metric.value_counts() #The activity metric was divided in 3 different levels of effectivity"
      ],
      "metadata": {
        "colab": {
          "base_uri": "https://localhost:8080/"
        },
        "id": "CziLf6RY3HKH",
        "outputId": "d78c49b4-2e6a-46bd-d2fe-72dea70beb2b"
      },
      "execution_count": null,
      "outputs": [
        {
          "output_type": "execute_result",
          "data": {
            "text/plain": [
              "I       627\n",
              "high     42\n",
              "low      19\n",
              "Name: Activity_metric, dtype: int64"
            ]
          },
          "metadata": {},
          "execution_count": 15
        }
      ]
    },
    {
      "cell_type": "code",
      "source": [
        "test_df.Activity_metric.value_counts()"
      ],
      "metadata": {
        "colab": {
          "base_uri": "https://localhost:8080/"
        },
        "id": "tGjCrnXO3HmA",
        "outputId": "2485d916-16ad-4011-8713-15360ffb13cd"
      },
      "execution_count": null,
      "outputs": [
        {
          "output_type": "execute_result",
          "data": {
            "text/plain": [
              "I       157\n",
              "high     10\n",
              "low       5\n",
              "Name: Activity_metric, dtype: int64"
            ]
          },
          "metadata": {},
          "execution_count": 16
        }
      ]
    },
    {
      "cell_type": "markdown",
      "source": [
        "#GRID SEARCH"
      ],
      "metadata": {
        "id": "isvU4pRc8a7o"
      }
    },
    {
      "cell_type": "markdown",
      "source": [
        "### training descriptors"
      ],
      "metadata": {
        "id": "9HEJjFRC4-Lz"
      }
    },
    {
      "cell_type": "code",
      "source": [
        "# filtrar SMILES que no den error\n",
        "SMILES = []\n",
        "for i in range(len(train_df['canonical_smiles'])):   #Every compund can be analized and detected with their \"smiles\"\n",
        "  try:\n",
        "    cs = Chem.CanonSmiles(train_df['canonical_smiles'].iloc[i])\n",
        "    SMILES.append(cs)\n",
        "  except:\n",
        "    print('Invalid SMILES:',train_df['canonical_smiles'].iloc[i],i)"
      ],
      "metadata": {
        "id": "yxvBSAWg4Fod"
      },
      "execution_count": null,
      "outputs": []
    },
    {
      "cell_type": "code",
      "source": [
        "# molecules from smiles\n",
        "ms = [Chem.MolFromSmiles(smile) for smile in SMILES]\n",
        "# number of atoms per molecule\n",
        "numb = [mol.GetNumAtoms() for mol in ms]\n",
        "# different atoms:\n",
        "C = [] # carbon\n",
        "O = [] # oxigen\n",
        "N = [] # nitrogen\n",
        "Cl=[]  # Chlorine\n",
        "F=[]   #fluroine\n",
        "Br=[]  #bromine\n",
        "I=[]   #iodine\n",
        "\n",
        "nh2_pattern = Chem.MolFromSmarts(\"[NH2]\")\n",
        "nh2_counts = [len(mol.GetSubstructMatches(nh2_pattern)) for mol in ms]\n",
        "\n",
        "ring5_counts = []\n",
        "ring6_counts=[]\n",
        "\n",
        "\n",
        "for mol in ms:\n",
        "  c = 0\n",
        "  o = 0\n",
        "  n = 0\n",
        "  cl=0\n",
        "  f=0\n",
        "  br=0\n",
        "  i=0\n",
        "  nh2_count = 0\n",
        "  ring_info = mol.GetRingInfo()# saturated ring\n",
        "  ring5_count = sum(1 for ring in ring_info.AtomRings() if len(ring) == 5)  # Counting 5 carbon rings\n",
        "  ring5_counts.append(ring5_count)\n",
        "  ring6= sum(1 for ring in ring_info.AtomRings()if len(ring) == 6)  # Counting 6 carbon rings\n",
        "  ring6_counts.append(ring6)\n",
        "  for atom in mol.GetAtoms():\n",
        "    if atom.GetAtomicNum() == 6:\n",
        "      c += 1\n",
        "    if atom.GetAtomicNum() == 7:\n",
        "      n += 1\n",
        "    if atom.GetAtomicNum() == 8:\n",
        "      o += 1\n",
        "    if atom.GetAtomicNum() == 9:\n",
        "      f += 1\n",
        "    if atom.GetAtomicNum() == 17:\n",
        "      cl += 1\n",
        "    if atom.GetAtomicNum() == 35:\n",
        "      br += 1\n",
        "    if atom.GetAtomicNum() == 53:\n",
        "      i += 1\n",
        "\n",
        "  C.append(c)\n",
        "  O.append(o)\n",
        "  N.append(n)\n",
        "  Cl.append(cl)\n",
        "  F.append(f)\n",
        "  Br.append(br)\n",
        "  I.append(i)\n",
        "\n",
        "# molecular weight\n",
        "MolWeight = [Descriptors.ExactMolWt(mol) for mol in ms]\n",
        "# rings\n",
        "Rings = [Descriptors.RingCount(mol) for mol in ms]\n",
        "# Total polar surface area\n",
        "TPSA = [Descriptors.TPSA(mol) for mol in ms]\n",
        "# Density Morgan FP\n",
        "FpDM1 = [Descriptors.FpDensityMorgan1(mol) for mol in ms]\n",
        "# rotatable bonds\n",
        "RotBonds = [Descriptors.NumRotatableBonds(mol) for mol in ms]\n",
        "# Obtener la carga formal de la molécula\n",
        "formal_charge =[Chem.rdmolops.GetFormalCharge(mol) for mol in ms]\n",
        "# Calcular el logP (coeficiente de partición octanol-agua) de la molécula\n",
        "logp =[Descriptors.MolLogP(mol) for mol in ms]\n",
        "\n",
        "descriptors = pd.DataFrame(list(zip(numb, C, O, N,F,Br,I,Cl, nh2_counts,ring5_counts,ring6_counts,MolWeight, Rings, TPSA, FpDM1, RotBonds,logp,formal_charge)))\n",
        "\n",
        "Activity= train_df[\"Activity\"].tolist()"
      ],
      "metadata": {
        "id": "X8nbha-O8yTm"
      },
      "execution_count": null,
      "outputs": []
    },
    {
      "cell_type": "code",
      "source": [
        "from sklearn.preprocessing import LabelBinarizer\n",
        "lb = LabelBinarizer()\n",
        "Activity = lb.fit_transform(Activity)\n",
        "#clusters = total[\"Cluster_PCA_5\"].tolist()\n",
        "#descriptors[\"Cluster_PCA_5\"]= clusters"
      ],
      "metadata": {
        "id": "RainPY-p9ES1"
      },
      "execution_count": null,
      "outputs": []
    },
    {
      "cell_type": "code",
      "source": [
        " # validation groups\n",
        "X = np.array(descriptors)\n",
        "y = np.array(Activity)"
      ],
      "metadata": {
        "id": "stbjdQuR4Prr"
      },
      "execution_count": null,
      "outputs": []
    },
    {
      "cell_type": "code",
      "source": [
        "print(len(X))\n",
        "print(len(y))"
      ],
      "metadata": {
        "colab": {
          "base_uri": "https://localhost:8080/"
        },
        "id": "2DqafPjv5qdj",
        "outputId": "ec1a260b-384a-4fc2-cf98-e1cc7d24f1c5"
      },
      "execution_count": null,
      "outputs": [
        {
          "output_type": "stream",
          "name": "stdout",
          "text": [
            "688\n",
            "688\n"
          ]
        }
      ]
    },
    {
      "cell_type": "markdown",
      "source": [
        "###Testing descriptors"
      ],
      "metadata": {
        "id": "QESuxUkV5yoC"
      }
    },
    {
      "cell_type": "code",
      "source": [
        "# filtrar SMILES que no den error\n",
        "SMILES_test = []\n",
        "for i in range(len(test_df['canonical_smiles'])):\n",
        "  try:\n",
        "    cs = Chem.CanonSmiles(test_df['canonical_smiles'].iloc[i])\n",
        "    SMILES_test.append(cs)\n",
        "  except:\n",
        "    print('Invalid SMILES:',test_df['canonical_smiles'].iloc[i],i)"
      ],
      "metadata": {
        "id": "43zXyJCQ51Kq"
      },
      "execution_count": null,
      "outputs": []
    },
    {
      "cell_type": "code",
      "source": [
        "# molecules from smiles\n",
        "ms = [Chem.MolFromSmiles(smile) for smile in SMILES_test]\n",
        "# number of atoms per molecule\n",
        "numb = [mol.GetNumAtoms() for mol in ms]\n",
        "# different atoms:\n",
        "C = [] # carbon\n",
        "O = [] # oxigen\n",
        "N = [] # nitrogen\n",
        "Cl=[]\n",
        "F=[]\n",
        "Br=[]\n",
        "I=[]\n",
        "\n",
        "nh2_pattern = Chem.MolFromSmarts(\"[NH2]\")\n",
        "nh2_counts = [len(mol.GetSubstructMatches(nh2_pattern)) for mol in ms]\n",
        "\n",
        "ring5_counts = []\n",
        "ring6_counts=[]\n",
        "\n",
        "\n",
        "for mol in ms:\n",
        "  c = 0\n",
        "  o = 0\n",
        "  n = 0\n",
        "  cl=0\n",
        "  f=0\n",
        "  br=0\n",
        "  i=0\n",
        "  nh2_count = 0\n",
        "  ring_info = mol.GetRingInfo()# Obtener sistemas de anillos saturados\n",
        "  ring5_count = sum(1 for ring in ring_info.AtomRings() if len(ring) == 5)  # Contar anillos de 5 carbonos\n",
        "  ring5_counts.append(ring5_count)\n",
        "  ring6= sum(1 for ring in ring_info.AtomRings()if len(ring) == 6)  # Contar anillos de 5 carbonos\n",
        "  ring6_counts.append(ring6)\n",
        "  for atom in mol.GetAtoms():\n",
        "    if atom.GetAtomicNum() == 6:\n",
        "      c += 1\n",
        "    if atom.GetAtomicNum() == 7:\n",
        "      n += 1\n",
        "    if atom.GetAtomicNum() == 8:\n",
        "      o += 1\n",
        "    if atom.GetAtomicNum() == 9:\n",
        "      f += 1\n",
        "    if atom.GetAtomicNum() == 17:\n",
        "      cl += 1\n",
        "    if atom.GetAtomicNum() == 35:\n",
        "      br += 1\n",
        "    if atom.GetAtomicNum() == 53:\n",
        "      i += 1\n",
        "\n",
        "  C.append(c)\n",
        "  O.append(o)\n",
        "  N.append(n)\n",
        "  Cl.append(cl)\n",
        "  F.append(f)\n",
        "  Br.append(br)\n",
        "  I.append(i)\n",
        "\n",
        "# molecular weight\n",
        "MolWeight = [Descriptors.ExactMolWt(mol) for mol in ms]\n",
        "# rings\n",
        "Rings = [Descriptors.RingCount(mol) for mol in ms]\n",
        "# Total polar surface area\n",
        "TPSA = [Descriptors.TPSA(mol) for mol in ms]\n",
        "# Density Morgan FP\n",
        "FpDM1 = [Descriptors.FpDensityMorgan1(mol) for mol in ms]\n",
        "# rotatable bonds\n",
        "RotBonds = [Descriptors.NumRotatableBonds(mol) for mol in ms]\n",
        "# Obtener la carga formal de la molécula\n",
        "formal_charge =[Chem.rdmolops.GetFormalCharge(mol) for mol in ms]\n",
        "# Calcular el logP (coeficiente de partición octanol-agua) de la molécula\n",
        "logp =[Descriptors.MolLogP(mol) for mol in ms]\n",
        "\n",
        "descriptors_test = pd.DataFrame(list(zip(numb, C, O, N,F,Br,I,Cl, nh2_counts,ring5_counts,ring6_counts,MolWeight, Rings, TPSA, FpDM1, RotBonds,logp,formal_charge)))\n",
        "\n",
        "Activity_test= test_df[\"Activity\"].tolist()"
      ],
      "metadata": {
        "id": "deqeSuFB6XOR"
      },
      "execution_count": null,
      "outputs": []
    },
    {
      "cell_type": "code",
      "source": [
        "from sklearn.preprocessing import LabelBinarizer\n",
        "lb = LabelBinarizer()\n",
        "Activity_test = lb.fit_transform(Activity_test)"
      ],
      "metadata": {
        "id": "O4o6t1eO6nza"
      },
      "execution_count": null,
      "outputs": []
    },
    {
      "cell_type": "code",
      "source": [
        " # Columna que indica los grupos de validación\n",
        "X_test = np.array(descriptors_test)\n",
        "y_test = np.array(Activity_test)"
      ],
      "metadata": {
        "id": "mT7PW6Hu60RF"
      },
      "execution_count": null,
      "outputs": []
    },
    {
      "cell_type": "code",
      "source": [
        "print(len(X_test))\n",
        "print(len(y_test))"
      ],
      "metadata": {
        "colab": {
          "base_uri": "https://localhost:8080/"
        },
        "id": "0hg-i5Q76-1b",
        "outputId": "87b3a575-c854-49c2-c9d5-2c5419a091a0"
      },
      "execution_count": null,
      "outputs": [
        {
          "output_type": "stream",
          "name": "stdout",
          "text": [
            "172\n",
            "172\n"
          ]
        }
      ]
    },
    {
      "cell_type": "code",
      "source": [
        "from sklearn.model_selection import train_test_split\n",
        "from sklearn.metrics import accuracy_score, recall_score, precision_score, f1_score, confusion_matrix, roc_auc_score\n",
        "from sklearn.model_selection import StratifiedKFold\n",
        "from sklearn.ensemble import RandomForestClassifier\n",
        "from sklearn.model_selection import cross_val_score\n",
        "from sklearn.model_selection import GridSearchCV\n",
        "from sklearn.pipeline import Pipeline\n",
        "from sklearn.svm import SVC\n",
        "import xgboost as xgb\n",
        "from xgboost import XGBClassifier"
      ],
      "metadata": {
        "id": "entRm1qj5KnD"
      },
      "execution_count": null,
      "outputs": []
    },
    {
      "cell_type": "markdown",
      "source": [
        "##without cross validation (to start analizing)"
      ],
      "metadata": {
        "id": "db9IuQDYaWWo"
      }
    },
    {
      "cell_type": "code",
      "source": [
        "xgb_model = xgb.XGBClassifier(learning_rate= 0.2,n_estimators=50,max_depth=3, random_state=42)\n",
        "\n",
        "xgb_model.fit(X, y)\n",
        "\n",
        "y_xgb_pred = xgb_model.predict(X_test)\n"
      ],
      "metadata": {
        "id": "VtTUoEDsakw5"
      },
      "execution_count": null,
      "outputs": []
    },
    {
      "cell_type": "code",
      "source": [
        "# Metrics for  XGBoost\n",
        "accuracy_xgb = accuracy_score(y_test, y_xgb_pred)\n",
        "recall_xgb = recall_score(y_test, y_xgb_pred)\n",
        "precision_xgb = precision_score(y_test, y_xgb_pred)\n",
        "f1_xgb = f1_score(y_test, y_xgb_pred)\n",
        "conf_matrix_xgb = confusion_matrix(y_test, y_xgb_pred,)\n",
        "roc_auc_xgb = roc_auc_score(y_test, y_xgb_pred)\n",
        "\n",
        "# Imprimir métricas para XGBoost\n",
        "print(\"XGBoost Metrics:\")\n",
        "print(\"Accuracy:\", accuracy_xgb)\n",
        "print(\"Recall:\", recall_xgb)\n",
        "print(\"Precision:\", precision_xgb)\n",
        "print(\"F1-Score:\", f1_xgb)\n",
        "print(\"Confusion Matrix:\\n\", sns.heatmap(conf_matrix_xgb,annot=True))\n",
        "print(\"ROC AUC Score:\", roc_auc_xgb)"
      ],
      "metadata": {
        "colab": {
          "base_uri": "https://localhost:8080/",
          "height": 746
        },
        "id": "ag6JH75QbKQm",
        "outputId": "a3de7b45-a60c-4cd0-b67f-09843401143b"
      },
      "execution_count": null,
      "outputs": [
        {
          "output_type": "stream",
          "name": "stdout",
          "text": [
            "XGBoost Metrics:\n",
            "Accuracy: 0.9534883720930233\n",
            "Recall: 0.9808917197452229\n",
            "Precision: 0.9685534591194969\n",
            "F1-Score: 0.9746835443037974\n",
            "Confusion Matrix:\n",
            " Axes(0.125,0.11;0.62x0.77)\n",
            "ROC AUC Score: 0.8237791932059448\n"
          ]
        },
        {
          "output_type": "display_data",
          "data": {
            "text/plain": [
              "<Figure size 1400x870 with 2 Axes>"
            ],
            "image/png": "[encoded data removed]"
          },
          "metadata": {}
        }
      ]
    },
    {
      "cell_type": "code",
      "source": [
        "import pickle\n",
        "\n",
        "filename= \"modelo_XGboost_sincross\"\n",
        "\n",
        "#guardar el modelo\n",
        "#pickle.dump(xgb_model,open(filename,\"wb\"))  #wb es write binary\n",
        "\n",
        "modelo_cargado1= pickle.load(open(filename,\"rb\")) #read binary"
      ],
      "metadata": {
        "id": "baS_9F5B9gKs"
      },
      "execution_count": null,
      "outputs": []
    },
    {
      "cell_type": "code",
      "source": [
        "y_pred= modelo_cargado1.predict(X_test)"
      ],
      "metadata": {
        "id": "oTIMtDAu-hIJ"
      },
      "execution_count": null,
      "outputs": []
    },
    {
      "cell_type": "code",
      "source": [
        "# Calcular métricas para XGBoost\n",
        "accuracy_xgb = accuracy_score(y_test, y_pred)\n",
        "recall_xgb = recall_score(y_test, y_pred)\n",
        "precision_xgb = precision_score(y_test, y_pred)\n",
        "f1_xgb = f1_score(y_test, y_pred)\n",
        "conf_matrix_xgb = confusion_matrix(y_test, y_pred,)\n",
        "roc_auc_xgb = roc_auc_score(y_test, y_pred)\n",
        "\n",
        "# Imprimir métricas para XGBoost\n",
        "print(\"XGBoost Metrics:\")\n",
        "print(\"Accuracy:\", accuracy_xgb)\n",
        "print(\"Recall:\", recall_xgb)\n",
        "print(\"Precision:\", precision_xgb)\n",
        "print(\"F1-Score:\", f1_xgb)\n",
        "print(\"Confusion Matrix:\\n\", sns.heatmap(conf_matrix_xgb,annot=True))\n",
        "print(\"ROC AUC Score:\", roc_auc_xgb)"
      ],
      "metadata": {
        "colab": {
          "base_uri": "https://localhost:8080/",
          "height": 746
        },
        "id": "ZU6ev_w5_ENZ",
        "outputId": "a69cb9a8-e176-4603-9060-212d8f281c09"
      },
      "execution_count": null,
      "outputs": [
        {
          "output_type": "stream",
          "name": "stdout",
          "text": [
            "XGBoost Metrics:\n",
            "Accuracy: 0.9534883720930233\n",
            "Recall: 0.9808917197452229\n",
            "Precision: 0.9685534591194969\n",
            "F1-Score: 0.9746835443037974\n",
            "Confusion Matrix:\n",
            " Axes(0.125,0.11;0.62x0.77)\n",
            "ROC AUC Score: 0.8237791932059448\n"
          ]
        },
        {
          "output_type": "display_data",
          "data": {
            "text/plain": [
              "<Figure size 1400x870 with 2 Axes>"
            ],
            "image/png": "[encoded data removed]"
          },
          "metadata": {}
        }
      ]
    },
    {
      "cell_type": "code",
      "source": [
        "mostrar_resultados(y_test, y_xgb_pred)"
      ],
      "metadata": {
        "colab": {
          "base_uri": "https://localhost:8080/",
          "height": 874
        },
        "id": "DFNlvJIPcP-v",
        "outputId": "799fb89a-9341-403a-85ef-a250d345bb83"
      },
      "execution_count": null,
      "outputs": [
        {
          "output_type": "display_data",
          "data": {
            "text/plain": [
              "<Figure size 800x800 with 2 Axes>"
            ],
            "image/png": "[encoded data removed]"
          },
          "metadata": {}
        },
        {
          "output_type": "stream",
          "name": "stdout",
          "text": [
            "              precision    recall  f1-score   support\n",
            "\n",
            "           0       0.77      0.67      0.71        15\n",
            "           1       0.97      0.98      0.97       157\n",
            "\n",
            "    accuracy                           0.95       172\n",
            "   macro avg       0.87      0.82      0.84       172\n",
            "weighted avg       0.95      0.95      0.95       172\n",
            "\n"
          ]
        }
      ]
    },
    {
      "cell_type": "code",
      "source": [
        "import numpy as np\n",
        "import pandas as pd\n",
        "import xgboost as xgb\n",
        "from sklearn.model_selection import train_test_split\n",
        "from sklearn.metrics import roc_curve, roc_auc_score, auc\n",
        "import matplotlib.pyplot as plt"
      ],
      "metadata": {
        "id": "mfPsRX1tce3W"
      },
      "execution_count": null,
      "outputs": []
    },
    {
      "cell_type": "code",
      "source": [
        "y_pred_prob = modelo_cargado1.predict_proba(X_test)[:, 1]"
      ],
      "metadata": {
        "id": "84JKWWAFcfbU"
      },
      "execution_count": null,
      "outputs": []
    },
    {
      "cell_type": "markdown",
      "source": [
        "###**roc** curve"
      ],
      "metadata": {
        "id": "e0j2z-H4se72"
      }
    },
    {
      "cell_type": "code",
      "source": [
        "fpr, tpr, thresholds = roc_curve(y_test, y_pred_prob)\n",
        "roc_auc = auc(fpr, tpr)\n",
        "roc_auc"
      ],
      "metadata": {
        "id": "iCf6IVRPciFG",
        "colab": {
          "base_uri": "https://localhost:8080/"
        },
        "outputId": "ef9827be-745f-4473-fc42-b343a2acbf4c"
      },
      "execution_count": null,
      "outputs": [
        {
          "output_type": "execute_result",
          "data": {
            "text/plain": [
              "0.9762208067940552"
            ]
          },
          "metadata": {},
          "execution_count": 59
        }
      ]
    },
    {
      "cell_type": "code",
      "source": [
        "plt.figure(figsize=(8, 6))\n",
        "plt.plot(fpr, tpr, color='darkorange', lw=2, label='ROC curve (area = {:.2f})'.format(roc_auc))\n",
        "plt.plot([0, 1], [0, 1], color='navy', lw=2, linestyle='--')\n",
        "plt.xlim([0.0, 1.0])\n",
        "plt.ylim([0.0, 1.05])\n",
        "plt.xlabel('False Positive Rate')\n",
        "plt.ylabel('True Positive Rate')\n",
        "plt.title('Receiver Operating Characteristic (ROC)')\n",
        "plt.legend(loc='lower right')\n",
        "plt.show()"
      ],
      "metadata": {
        "colab": {
          "base_uri": "https://localhost:8080/",
          "height": 564
        },
        "id": "A3wGxOJBcn2L",
        "outputId": "a5c26c09-fcc4-4579-cc89-f321108d97c3"
      },
      "execution_count": null,
      "outputs": [
        {
          "output_type": "display_data",
          "data": {
            "text/plain": [
              "<Figure size 800x600 with 1 Axes>"
            ],
            "image/png": "[encoded data removed]"
          },
          "metadata": {}
        }
      ]
    },
    {
      "cell_type": "code",
      "source": [
        "print(fpr)\n",
        "print(tpr)"
      ],
      "metadata": {
        "colab": {
          "base_uri": "https://localhost:8080/"
        },
        "id": "63WYqIQxxNhO",
        "outputId": "3d86938a-c15f-4a1b-cf69-c4e93b27b8e4"
      },
      "execution_count": null,
      "outputs": [
        {
          "output_type": "stream",
          "name": "stdout",
          "text": [
            "[0.         0.         0.         0.         0.         0.\n",
            " 0.         0.         0.         0.06666667 0.06666667 0.13333333\n",
            " 0.13333333 0.26666667 0.26666667 0.33333333 0.33333333 0.4\n",
            " 0.4        1.         1.        ]\n",
            "[0.         0.00636943 0.2866242  0.29936306 0.38216561 0.40127389\n",
            " 0.77070064 0.78343949 0.9044586  0.9044586  0.92356688 0.92356688\n",
            " 0.95541401 0.96178344 0.96815287 0.96815287 0.98726115 0.98726115\n",
            " 0.99363057 0.99363057 1.        ]\n"
          ]
        }
      ]
    },
    {
      "cell_type": "code",
      "source": [
        "import matplotlib.pyplot as plt\n",
        "from sklearn.metrics import roc_curve, auc\n",
        "\n",
        "# Supongamos que tienes fpr y tpr calculados previamente, así como roc_auc.\n",
        "\n",
        "plt.figure(figsize=(8, 6))\n",
        "\n",
        "# Dibuja la curva ROC\n",
        "plt.plot(fpr, tpr, color='black', lw=2, label='ROC curve (area = {:.2f})'.format(roc_auc))\n",
        "\n",
        "# Rellena el área bajo la curva ROC\n",
        "plt.fill_between(fpr, tpr, color='grey', alpha=0.5)\n",
        "\n",
        "# Línea diagonal de referencia\n",
        "plt.plot([0, 1], [0, 1], color='black', lw=2, linestyle='--')\n",
        "\n",
        "plt.xlim([0.0, 1.0])\n",
        "plt.ylim([0.0, 1.05])\n",
        "plt.xlabel('False Positive Rate')\n",
        "plt.ylabel('True Positive Rate')\n",
        "plt.title('Receiver Operating Characteristic (ROC)')\n",
        "plt.legend(loc='lower right')\n",
        "plt.show()"
      ],
      "metadata": {
        "colab": {
          "base_uri": "https://localhost:8080/",
          "height": 564
        },
        "id": "t0cv_l6Cc7O6",
        "outputId": "aee713f0-4e8f-4f63-ce71-8007f9800b4e"
      },
      "execution_count": null,
      "outputs": [
        {
          "output_type": "display_data",
          "data": {
            "text/plain": [
              "<Figure size 800x600 with 1 Axes>"
            ],
            "image/png": "[encoded data removed]"
          },
          "metadata": {}
        }
      ]
    },
    {
      "cell_type": "code",
      "source": [
        "import numpy as np\n",
        "from scipy.integrate import trapz\n",
        "\n",
        "# Limita los valores de FPR al rango de 0 a 0.1\n",
        "fpr_range = fpr[(fpr >= 0) & (fpr <= 0.1)]\n",
        "tpr_range = tpr[(fpr >= 0) & (fpr <= 0.1)]\n",
        "\n",
        "# Calcula el área bajo la curva ROC para el rango especificado\n",
        "area_partial = trapz(tpr_range, fpr_range)\n",
        "\n",
        "print(\"Área parcial bajo la curva ROC:\", area_partial)"
      ],
      "metadata": {
        "colab": {
          "base_uri": "https://localhost:8080/"
        },
        "id": "espFkhyUxjMr",
        "outputId": "dcd9164a-1012-4224-f716-341bce3f519f"
      },
      "execution_count": null,
      "outputs": [
        {
          "output_type": "stream",
          "name": "stdout",
          "text": [
            "Área parcial bajo la curva ROC: 0.06029723991507431\n"
          ]
        }
      ]
    },
    {
      "cell_type": "code",
      "source": [
        "auc_partial = roc_auc_score(y_test, y_pred_prob, max_fpr=1)\n",
        "\n",
        "print(\"AUC-ROC para el primer 10% del área bajo la curva ROC:\", auc_partial)\n"
      ],
      "metadata": {
        "colab": {
          "base_uri": "https://localhost:8080/"
        },
        "id": "Hp7mnDuH18Kp",
        "outputId": "f1d68328-8565-45b0-b815-89e18880abb8"
      },
      "execution_count": null,
      "outputs": [
        {
          "output_type": "stream",
          "name": "stdout",
          "text": [
            "AUC-ROC para el primer 10% del área bajo la curva ROC: 0.9762208067940552\n"
          ]
        }
      ]
    },
    {
      "cell_type": "code",
      "source": [
        "auc_partial = roc_auc_score(y_test, y_pred_prob, max_fpr=0.1)\n",
        "\n",
        "print(\"AUC-ROC para el primer 10% del área bajo la curva ROC:\", auc_partial)\n"
      ],
      "metadata": {
        "colab": {
          "base_uri": "https://localhost:8080/"
        },
        "id": "0Q4B104J0xGr",
        "outputId": "43aab215-f1e6-436f-95e9-837b240e971c"
      },
      "execution_count": null,
      "outputs": [
        {
          "output_type": "stream",
          "name": "stdout",
          "text": [
            "AUC-ROC para el primer 10% del área bajo la curva ROC: 0.9530673818303721\n"
          ]
        }
      ]
    },
    {
      "cell_type": "code",
      "source": [
        "fpr"
      ],
      "metadata": {
        "colab": {
          "base_uri": "https://localhost:8080/"
        },
        "id": "2l1xVGV93w2m",
        "outputId": "80f63a6b-c54e-4e0e-d199-1367a11130f3"
      },
      "execution_count": null,
      "outputs": [
        {
          "output_type": "execute_result",
          "data": {
            "text/plain": [
              "array([0.        , 0.        , 0.        , 0.        , 0.        ,\n",
              "       0.        , 0.        , 0.        , 0.        , 0.06666667,\n",
              "       0.06666667, 0.13333333, 0.13333333, 0.26666667, 0.26666667,\n",
              "       0.33333333, 0.33333333, 0.4       , 0.4       , 1.        ,\n",
              "       1.        ])"
            ]
          },
          "metadata": {},
          "execution_count": 85
        }
      ]
    },
    {
      "cell_type": "code",
      "source": [
        "tpr"
      ],
      "metadata": {
        "colab": {
          "base_uri": "https://localhost:8080/"
        },
        "id": "ptdi_Fbp564W",
        "outputId": "922e854c-3eb3-4161-8e0b-ee00c0381541"
      },
      "execution_count": null,
      "outputs": [
        {
          "output_type": "execute_result",
          "data": {
            "text/plain": [
              "array([0.        , 0.00636943, 0.2866242 , 0.29936306, 0.38216561,\n",
              "       0.40127389, 0.77070064, 0.78343949, 0.9044586 , 0.9044586 ,\n",
              "       0.92356688, 0.92356688, 0.95541401, 0.96178344, 0.96815287,\n",
              "       0.96815287, 0.98726115, 0.98726115, 0.99363057, 0.99363057,\n",
              "       1.        ])"
            ]
          },
          "metadata": {},
          "execution_count": 95
        }
      ]
    },
    {
      "cell_type": "code",
      "source": [
        "thresholds"
      ],
      "metadata": {
        "colab": {
          "base_uri": "https://localhost:8080/"
        },
        "id": "dfBS3LSc57eN",
        "outputId": "fa412107-c3d1-4348-d563-0a0d11fb7d58"
      },
      "execution_count": null,
      "outputs": [
        {
          "output_type": "execute_result",
          "data": {
            "text/plain": [
              "array([1.9997184 , 0.9997185 , 0.9977908 , 0.99774677, 0.9970937 ,\n",
              "       0.997059  , 0.98657876, 0.9864753 , 0.9274301 , 0.92079955,\n",
              "       0.89430684, 0.88904923, 0.78148866, 0.7749322 , 0.7621095 ,\n",
              "       0.7241756 , 0.4222783 , 0.28152138, 0.23065148, 0.03693687,\n",
              "       0.03444227], dtype=float32)"
            ]
          },
          "metadata": {},
          "execution_count": 96
        }
      ]
    },
    {
      "cell_type": "code",
      "source": [
        "import matplotlib.pyplot as plt\n",
        "from sklearn.metrics import roc_curve, auc\n",
        "from sklearn.metrics import roc_auc_score\n",
        "\n",
        "# Supongamos que tienes tus valores de fpr, tpr y thresholds obtenidos previamente\n",
        "fpr, tpr, thresholds = roc_curve(y_test, y_pred_prob)\n",
        "\n",
        "# Calcula el AUC-ROC completo\n",
        "roc_auc_full = auc(fpr, tpr)\n",
        "\n",
        "# Filtra los valores de FPR y TPR en el rango [0, 0.1]\n",
        "fpr_range = [fpr[i] for i in range(len(fpr)) if fpr[i] >= 0 and fpr[i] <= 0.14]\n",
        "tpr_range = [tpr[i] for i in range(len(fpr)) if fpr[i] >= 0 and fpr[i] <= 0.14]\n",
        "\n",
        "# Calcula el AUC-ROC para el primer 10% del área bajo la curva\n",
        "roc_auc_partial = roc_auc_score(y_test, y_pred_prob, max_fpr=0.1)\n",
        "\n",
        "# Crea el gráfico de la curva ROC\n",
        "plt.figure(figsize=(8, 6))\n",
        "plt.plot(fpr, tpr, color='black', lw=2)\n",
        "plt.fill_between(fpr, tpr, color='grey', alpha=0.5)\n",
        "plt.fill_between(fpr_range, tpr_range, color='grey', alpha=0.0)\n",
        "plt.plot([0, 1], [0, 1], color='black', lw=2, linestyle='--')\n",
        "plt.xlim([0.0, 1.0])\n",
        "plt.ylim([0.0, 1.05])\n",
        "plt.xlabel('False Positive Rate')\n",
        "plt.ylabel('True Positive Rate')\n",
        "plt.title('Receiver Operating Characteristic (ROC) Curve')\n",
        "plt.legend(loc='lower right')\n",
        "\n",
        "plt.show()\n",
        "\n"
      ],
      "metadata": {
        "colab": {
          "base_uri": "https://localhost:8080/",
          "height": 601
        },
        "id": "JtCFyGmp2XhY",
        "outputId": "2a427f76-24a5-4a65-c31b-caa452b0a7d8"
      },
      "execution_count": null,
      "outputs": [
        {
          "output_type": "stream",
          "name": "stderr",
          "text": [
            "WARNING:matplotlib.legend:No artists with labels found to put in legend.  Note that artists whose label start with an underscore are ignored when legend() is called with no argument.\n"
          ]
        },
        {
          "output_type": "display_data",
          "data": {
            "text/plain": [
              "<Figure size 800x600 with 1 Axes>"
            ],
            "image/png": "[encoded data removed]"
          },
          "metadata": {}
        }
      ]
    },
    {
      "cell_type": "code",
      "source": [
        "import matplotlib.pyplot as plt\n",
        "from sklearn.metrics import roc_curve, auc, roc_auc_score\n",
        "\n",
        "# Supongamos que tienes tus valores de fpr, tpr y thresholds obtenidos previamente\n",
        "fpr, tpr, thresholds = roc_curve(y_test, y_pred_prob)\n",
        "\n",
        "# Crea el gráfico de la curva ROC\n",
        "plt.figure(figsize=(8, 6))\n",
        "plt.plot(fpr, tpr, color='gray', lw=2, label='ROC curve')\n",
        "\n",
        "# Calcula el AUC para FPR máximo de 0.1\n",
        "roc_auc_partial = roc_auc_score(y_test, y_pred_prob, max_fpr=0.1)\n",
        "\n",
        "# Agrega el valor de AUC en el gráfico\n",
        "plt.text(0.6, 0.2, f'ROC AUC (Full): {roc_auc_full:.2f}', fontsize=10, bbox=dict(facecolor='white', edgecolor='black'))\n",
        "plt.text(0.6, 0.1, f'ROC AUC (10%): {roc_auc_partial:.2f}', fontsize=10, bbox=dict(facecolor='white', edgecolor='black'))\n",
        "\n",
        "# Resto del código para configurar el gráfico\n",
        "plt.plot([0, 1], [0, 1], color='navy', lw=2, linestyle='--')\n",
        "plt.xlim([0.0, 1.0])\n",
        "plt.ylim([0.0, 1.05])\n",
        "plt.xlabel('False Positive Rate')\n",
        "plt.ylabel('True Positive Rate')\n",
        "plt.title('Receiver Operating Characteristic (ROC) Curve')\n",
        "plt.legend(loc='lower right')\n",
        "\n",
        "plt.show()"
      ],
      "metadata": {
        "colab": {
          "base_uri": "https://localhost:8080/",
          "height": 564
        },
        "id": "6C-k-lii8QuR",
        "outputId": "97f8511e-5633-462b-d455-9f36d96a1b47"
      },
      "execution_count": null,
      "outputs": [
        {
          "output_type": "display_data",
          "data": {
            "text/plain": [
              "<Figure size 800x600 with 1 Axes>"
            ],
            "image/png": "[encoded data removed]"
          },
          "metadata": {}
        }
      ]
    },
    {
      "cell_type": "markdown",
      "source": [
        "##con cross validation (random)"
      ],
      "metadata": {
        "id": "yBst8UViaY2P"
      }
    },
    {
      "cell_type": "code",
      "source": [
        "\n",
        "# Crear y entrenar un modelo XGBoost\n",
        "xgb_model = xgb.XGBClassifier(n_estimators=100, random_state=42)\n",
        "model= xgb_model\n",
        "\n",
        "param_grid = {\n",
        "    'n_estimators': [50, 100, 200],\n",
        "    'learning_rate': [0.01, 0.1, 0.2],\n",
        "    'max_depth': [3, 4, 5],}\n",
        "\n",
        "grid_search = GridSearchCV(estimator=xgb_model, param_grid=param_grid, scoring='f1', cv=2)\n",
        "\n",
        "grid_search.fit(X, y)\n",
        "\n",
        "# Evaluar el modelo con los mejores hiperparámetros en los datos de prueba\n",
        "best_model = grid_search.best_estimator_\n",
        "\n",
        "# Realizar validación cruzada utilizando los grupos definidos\n",
        "#scores = cross_val_score(best_model, X_train, y_train, groups=grupos_train, cv=5)\n",
        "\n",
        "# Obtener los mejores hiperparámetros y la mejor puntuación\n",
        "best_params = grid_search.best_params_\n",
        "best_score = grid_search.best_score_\n",
        "\n",
        "print(\"Mejores hiperparámetros:\", best_params)\n",
        "print(\"Mejor Accuracy:\", best_score)\n",
        "#for i, score in enumerate(scores):\n",
        " #   print(f\"Fold {i + 1}: {score:.2f}\")\n",
        "\n"
      ],
      "metadata": {
        "colab": {
          "base_uri": "https://localhost:8080/"
        },
        "id": "47eqKWKHbRGH",
        "outputId": "08513479-afa3-4213-9df5-123a15dcb382"
      },
      "execution_count": null,
      "outputs": [
        {
          "output_type": "stream",
          "name": "stdout",
          "text": [
            "Mejores hiperparámetros: {'learning_rate': 0.1, 'max_depth': 4, 'n_estimators': 50}\n",
            "Mejor Accuracy: 0.9731227210218807\n"
          ]
        }
      ]
    },
    {
      "cell_type": "code",
      "source": [
        "# Realizar predicciones con XGBoost\n",
        "y_xgb_pred = best_model.predict(X_test)"
      ],
      "metadata": {
        "id": "IlmH2OiIbnaI"
      },
      "execution_count": null,
      "outputs": []
    },
    {
      "cell_type": "code",
      "source": [
        "# Calcular métricas para XGBoost\n",
        "accuracy_xgb = accuracy_score(y_test, y_xgb_pred)\n",
        "recall_xgb = recall_score(y_test, y_xgb_pred)\n",
        "precision_xgb = precision_score(y_test, y_xgb_pred)\n",
        "f1_xgb = f1_score(y_test, y_xgb_pred)\n",
        "conf_matrix_xgb = confusion_matrix(y_test, y_xgb_pred)\n",
        "roc_auc_xgb = roc_auc_score(y_test, y_xgb_pred)\n",
        "\n",
        "# Imprimir métricas para XGBoost\n",
        "print(\"XGBoost Metrics:\")\n",
        "print(\"Accuracy:\", accuracy_xgb)\n",
        "print(\"Recall:\", recall_xgb)\n",
        "print(\"Precision:\", precision_xgb)\n",
        "print(\"F1-Score:\", f1_xgb)\n",
        "print(\"Confusion Matrix:\\n\", sns.heatmap(conf_matrix_xgb,annot=True))\n",
        "print(\"ROC AUC Score:\", roc_auc_xgb)"
      ],
      "metadata": {
        "colab": {
          "base_uri": "https://localhost:8080/",
          "height": 746
        },
        "id": "FkcqAfZvbtZ-",
        "outputId": "83c59e66-869d-4fe1-c8e1-1ffafd5f3b51"
      },
      "execution_count": null,
      "outputs": [
        {
          "output_type": "stream",
          "name": "stdout",
          "text": [
            "XGBoost Metrics:\n",
            "Accuracy: 0.9534883720930233\n",
            "Recall: 0.9808917197452229\n",
            "Precision: 0.9685534591194969\n",
            "F1-Score: 0.9746835443037974\n",
            "Confusion Matrix:\n",
            " Axes(0.125,0.11;0.62x0.77)\n",
            "ROC AUC Score: 0.8237791932059448\n"
          ]
        },
        {
          "output_type": "display_data",
          "data": {
            "text/plain": [
              "<Figure size 1400x870 with 2 Axes>"
            ],
            "image/png": "[encoded data removed]"
          },
          "metadata": {}
        }
      ]
    },
    {
      "cell_type": "code",
      "source": [
        "def mostrar_resultados(y_test, pred_y):\n",
        "    conf_matrix = confusion_matrix(y_test, pred_y)\n",
        "    plt.figure(figsize=(8, 8))\n",
        "    sns.heatmap(conf_matrix, xticklabels=LABELS, yticklabels=LABELS, annot=True, fmt=\"d\");\n",
        "    plt.title(\"Confusion matrix\")\n",
        "    plt.ylabel('True class')\n",
        "    plt.xlabel('Predicted class')\n",
        "    plt.show()\n",
        "    print (classification_report(y_test, pred_y))\n",
        "\n",
        "\n",
        "    #mostrar_resultados(y_test, pred_y)"
      ],
      "metadata": {
        "id": "NZsnklMia2O0"
      },
      "execution_count": null,
      "outputs": []
    },
    {
      "cell_type": "code",
      "source": [
        "import pickle\n",
        "\n",
        "filename= \"modelo_XGboost_CV\"\n",
        "\n",
        "#guardar el modelo\n",
        "pickle.dump(best_model,open(filename,\"wb\"))  #wb es write binary\n",
        "\n",
        "modelo_cargado= pickle.load(open(filename,\"rb\")) #read binary"
      ],
      "metadata": {
        "id": "CeBKfTly8gSQ"
      },
      "execution_count": null,
      "outputs": []
    },
    {
      "cell_type": "code",
      "source": [
        "y_pred= modelo_cargado.predict(X_test)"
      ],
      "metadata": {
        "id": "0te-SWQV9Eik"
      },
      "execution_count": null,
      "outputs": []
    },
    {
      "cell_type": "code",
      "source": [
        "#da todo lo mismo asi que se cargo bien"
      ],
      "metadata": {
        "id": "DTJhSt_59XVs"
      },
      "execution_count": null,
      "outputs": []
    },
    {
      "cell_type": "code",
      "source": [
        "# Calcular métricas para XGBoost\n",
        "accuracy_xgb = accuracy_score(y_test, y_pred)\n",
        "recall_xgb = recall_score(y_test, y_pred)\n",
        "precision_xgb = precision_score(y_test, y_pred)\n",
        "f1_xgb = f1_score(y_test, y_pred)\n",
        "conf_matrix_xgb = confusion_matrix(y_test, y_pred)\n",
        "roc_auc_xgb = roc_auc_score(y_test, y_pred)\n",
        "\n",
        "# Imprimir métricas para XGBoost\n",
        "print(\"XGBoost Metrics:\")\n",
        "print(\"Accuracy:\", accuracy_xgb)\n",
        "print(\"Recall:\", recall_xgb)\n",
        "print(\"Precision:\", precision_xgb)\n",
        "print(\"F1-Score:\", f1_xgb)\n",
        "print(\"Confusion Matrix:\\n\", sns.heatmap(conf_matrix_xgb,annot=True))\n",
        "print(\"ROC AUC Score:\", roc_auc_xgb)"
      ],
      "metadata": {
        "id": "_j38kMJA9NTE"
      },
      "execution_count": null,
      "outputs": []
    },
    {
      "cell_type": "code",
      "source": [
        "import numpy as np\n",
        "import pandas as pd\n",
        "import xgboost as xgb\n",
        "from sklearn.model_selection import train_test_split\n",
        "from sklearn.metrics import roc_curve, roc_auc_score, auc\n",
        "import matplotlib.pyplot as plt"
      ],
      "metadata": {
        "id": "XfnLdb9maeWA"
      },
      "execution_count": null,
      "outputs": []
    },
    {
      "cell_type": "code",
      "source": [
        "y_pred_prob = model.predict_proba(X_test)[:, 1]"
      ],
      "metadata": {
        "id": "80p2Yyt_atTo"
      },
      "execution_count": null,
      "outputs": []
    },
    {
      "cell_type": "code",
      "source": [
        "fpr, tpr, thresholds = roc_curve(y_test, y_pred_prob)\n",
        "roc_auc = auc(fpr, tpr)"
      ],
      "metadata": {
        "id": "pzToQoc5akmw"
      },
      "execution_count": null,
      "outputs": []
    },
    {
      "cell_type": "code",
      "source": [
        "plt.figure(figsize=(8, 6))\n",
        "plt.plot(fpr, tpr, color='darkorange', lw=2, label='ROC curve (area = {:.2f})'.format(roc_auc))\n",
        "plt.plot([0, 1], [0, 1], color='navy', lw=2, linestyle='--')\n",
        "plt.xlim([0.0, 1.0])\n",
        "plt.ylim([0.0, 1.05])\n",
        "plt.xlabel('False Positive Rate')\n",
        "plt.ylabel('True Positive Rate')\n",
        "plt.title('Receiver Operating Characteristic (ROC)')\n",
        "plt.legend(loc='lower right')\n",
        "plt.show()"
      ],
      "metadata": {
        "id": "9_zYlgW5amPP"
      },
      "execution_count": null,
      "outputs": []
    },
    {
      "cell_type": "markdown",
      "source": [
        "##con cross validation por clusters"
      ],
      "metadata": {
        "id": "wxcA_uA_aa_A"
      }
    },
    {
      "cell_type": "code",
      "source": [
        "# Define tus grupos de validación cruzada utilizando la información de \"grupo_validacion\"\n",
        "kf = StratifiedKFold(n_splits=5, shuffle=True, random_state=42)\n",
        "\n",
        "# Crear y entrenar un modelo XGBoost\n",
        "xgb_model = xgb.XGBClassifier(n_estimators=100, random_state=42)\n",
        "model= xgb_model\n",
        "\n",
        "param_grid = {\n",
        "    'n_estimators': [50, 100, 200],\n",
        "    'learning_rate': [0.01, 0.1, 0.2],\n",
        "    'max_depth': [3, 4, 5],}\n",
        "\n",
        "grid_search = GridSearchCV(estimator=xgb_model, param_grid=param_grid, scoring='accuracy', cv=kf)\n",
        "\n",
        "grid_search.fit(X_train, y_train)\n",
        "\n",
        "# Realizar validación cruzada utilizando los grupos definidos\n",
        "scores = cross_val_score(model, X_train, y_train, groups=grupos_train, cv=kf)\n",
        "\n",
        "# Obtener los mejores hiperparámetros y la mejor puntuación\n",
        "best_params = grid_search.best_params_\n",
        "best_score = grid_search.best_score_\n",
        "\n",
        "print(\"Mejores hiperparámetros:\", best_params)\n",
        "print(\"Mejor Accuracy:\", best_score)\n",
        "for i, score in enumerate(scores):\n",
        "    print(f\"Fold {i + 1}: {score:.2f}\")\n",
        "\n",
        "# Evaluar el modelo con los mejores hiperparámetros en los datos de prueba\n",
        "best_model = grid_search.best_estimator_\n"
      ],
      "metadata": {
        "id": "CR-xK_tJ5Nx8"
      },
      "execution_count": null,
      "outputs": []
    },
    {
      "cell_type": "code",
      "source": [
        "\n",
        "# Realizar predicciones con XGBoost\n",
        "y_xgb_pred = best_model.predict(X_test)"
      ],
      "metadata": {
        "id": "pXSb6hIu7goZ"
      },
      "execution_count": null,
      "outputs": []
    },
    {
      "cell_type": "code",
      "source": [
        "y_xgb_pred"
      ],
      "metadata": {
        "id": "4QgWsfGL_2l6"
      },
      "execution_count": null,
      "outputs": []
    },
    {
      "cell_type": "code",
      "source": [
        "# Calcular métricas para XGBoost\n",
        "accuracy_xgb = accuracy_score(y_test, y_xgb_pred)\n",
        "recall_xgb = recall_score(y_test, y_xgb_pred)\n",
        "precision_xgb = precision_score(y_test, y_xgb_pred)\n",
        "f1_xgb = f1_score(y_test, y_xgb_pred)\n",
        "conf_matrix_xgb = confusion_matrix(y_test, y_xgb_pred)\n",
        "roc_auc_xgb = roc_auc_score(y_test, y_xgb_pred)\n",
        "\n",
        "# Imprimir métricas para XGBoost\n",
        "print(\"XGBoost Metrics:\")\n",
        "print(\"Accuracy:\", accuracy_xgb)\n",
        "print(\"Recall:\", recall_xgb)\n",
        "print(\"Precision:\", precision_xgb)\n",
        "print(\"F1-Score:\", f1_xgb)\n",
        "print(\"Confusion Matrix:\\n\", sns.heatmap(conf_matrix_xgb,annot=True))\n",
        "print(\"ROC AUC Score:\", roc_auc_xgb)"
      ],
      "metadata": {
        "id": "DTQ6Ffo77lRP"
      },
      "execution_count": null,
      "outputs": []
    },
    {
      "cell_type": "code",
      "source": [
        "from sklearn.model_selection import GridSearchCV\n",
        "from sklearn.pipeline import Pipeline\n",
        "from sklearn.svm import SVC\n",
        "from xgboost import XGBClassifier\n",
        "\n",
        "xgb_model = XGBClassifier(random_state=42)\n",
        "\n",
        "param_grid = {\n",
        "    'n_estimators': [50, 100, 200],\n",
        "    'learning_rate': [0.01, 0.1, 0.2],\n",
        "    'max_depth': [3, 4, 5],}\n",
        "\n",
        "grid_search = GridSearchCV(estimator=xgb_model, param_grid=param_grid, scoring='accuracy', cv=5)\n",
        "\n",
        "grid_search.fit(X_train, y_train)\n",
        "\n",
        "# Obtener los mejores hiperparámetros y la mejor puntuación\n",
        "best_params = grid_search.best_params_\n",
        "best_score = grid_search.best_score_\n",
        "\n",
        "print(\"Mejores hiperparámetros:\", best_params)\n",
        "print(\"Mejor Accuracy:\", best_score)\n",
        "print(\"Resultados de validación cruzada:\")\n",
        "for i, score in enumerate(scores):\n",
        "    print(f\"Fold {i + 1}: {score:.2f}\")\n",
        "\n",
        "# Evaluar el modelo con los mejores hiperparámetros en los datos de prueba\n",
        "best_model = grid_search.best_estimator_"
      ],
      "metadata": {
        "id": "tDEFnJ115qFx"
      },
      "execution_count": null,
      "outputs": []
    },
    {
      "cell_type": "markdown",
      "source": [
        "##Entrenamiento (1) 0,1,2,3 y testeo en 4"
      ],
      "metadata": {
        "id": "orHwpDCYIwGn"
      }
    },
    {
      "cell_type": "code",
      "source": [
        "from sklearn.metrics import accuracy_score, recall_score, precision_score, f1_score, confusion_matrix, roc_auc_score\n",
        "from sklearn.model_selection import train_test_split\n",
        "from sklearn.preprocessing import LabelBinarizer\n",
        "from sklearn.ensemble import RandomForestClassifier\n",
        "from sklearn.svm import SVC\n",
        "import xgboost as xgb\n",
        "\n",
        "# Crear y entrenar un modelo XGBoost\n",
        "xgb_model = xgb.XGBClassifier(n_estimators=100, random_state=42)\n",
        "xgb_model.fit(X_train, y_train)\n",
        "\n",
        "# Realizar predicciones con XGBoost\n",
        "y_xgb_pred = xgb_model.predict(X_test)"
      ],
      "metadata": {
        "id": "PP_Av8V148Ui"
      },
      "execution_count": null,
      "outputs": []
    },
    {
      "cell_type": "code",
      "source": [
        "# Define tus grupos de validación cruzada utilizando la información de \"grupo_validacion\"\n",
        "kf = StratifiedKFold(n_splits=5, shuffle=True, random_state=42)\n",
        "\n",
        "# Crear un modelo de Random Forest\n",
        "rf_model = RandomForestClassifier(n_estimators=100, random_state=42)\n",
        "model = rf_model\n",
        "\n",
        "# Realizar validación cruzada utilizando los grupos definidos\n",
        "scores = cross_val_score(model, X_train, y_train, groups=grupos_train, cv=kf)\n",
        "\n",
        "# Imprimir los resultados de la validación cruzada\n",
        "print(\"Resultados de validación cruzada:\")\n",
        "for i, score in enumerate(scores):\n",
        "    print(f\"Fold {i + 1}: {score:.2f}\")\n",
        "\n",
        "# Entrenar el modelo en todo el conjunto de entrenamiento\n",
        "model.fit(X_train, y_train)\n",
        "\n",
        "# Realizar predicciones en el conjunto de prueba\n",
        "y_pred = model.predict(X_test)"
      ],
      "metadata": {
        "id": "4qp4C62D364d"
      },
      "execution_count": null,
      "outputs": []
    },
    {
      "cell_type": "code",
      "source": [
        "entrenamiento1= pd.concat([cluster0,cluster1,cluster2,cluster3])\n",
        "testeo1= cluster4"
      ],
      "metadata": {
        "id": "qZGkMlrKJsdD"
      },
      "execution_count": null,
      "outputs": []
    },
    {
      "cell_type": "code",
      "source": [
        "entrenamiento1[\"Activity\"].value_counts()"
      ],
      "metadata": {
        "id": "N0tufD2iheA0"
      },
      "execution_count": null,
      "outputs": []
    },
    {
      "cell_type": "code",
      "source": [
        "# filtrar SMILES que no den error\n",
        "SMILES1 = []\n",
        "for i in range(len(entrenamiento1['canonical_smiles'])):\n",
        "  try:\n",
        "    cs = Chem.CanonSmiles(entrenamiento1['canonical_smiles'].iloc[i])\n",
        "    SMILES1.append(cs)\n",
        "\n",
        "  except:\n",
        "    print('Invalid SMILES:',entrenamiento1['canonical_smiles'].iloc[i],i)"
      ],
      "metadata": {
        "id": "ZIoRSRQtKae_"
      },
      "execution_count": null,
      "outputs": []
    },
    {
      "cell_type": "code",
      "source": [
        "# molecules from smiles\n",
        "ms = [Chem.MolFromSmiles(smile) for smile in SMILES1]\n",
        "# number of atoms per molecule\n",
        "numb = [mol.GetNumAtoms() for mol in ms]\n",
        "# different atoms:\n",
        "C = [] # carbon\n",
        "O = [] # oxigen\n",
        "N = [] # nitrogen\n",
        "Cl=[]\n",
        "F=[]\n",
        "Br=[]\n",
        "I=[]\n",
        "\n",
        "nh2_pattern = Chem.MolFromSmarts(\"[NH2]\")\n",
        "nh2_counts = [len(mol.GetSubstructMatches(nh2_pattern)) for mol in ms]\n",
        "\n",
        "ring5_counts = []\n",
        "ring6_counts=[]\n",
        "\n",
        "\n",
        "for mol in ms:\n",
        "  c = 0\n",
        "  o = 0\n",
        "  n = 0\n",
        "  cl=0\n",
        "  f=0\n",
        "  br=0\n",
        "  i=0\n",
        "  nh2_count = 0\n",
        "  ring_info = mol.GetRingInfo()# Obtener sistemas de anillos saturados\n",
        "  ring5_count = sum(1 for ring in ring_info.AtomRings() if len(ring) == 5)  # Contar anillos de 5 carbonos\n",
        "  ring5_counts.append(ring5_count)\n",
        "  ring6= sum(1 for ring in ring_info.AtomRings()if len(ring) == 6)  # Contar anillos de 5 carbonos\n",
        "  ring6_counts.append(ring6)\n",
        "  for atom in mol.GetAtoms():\n",
        "    if atom.GetAtomicNum() == 6:\n",
        "      c += 1\n",
        "    if atom.GetAtomicNum() == 7:\n",
        "      n += 1\n",
        "    if atom.GetAtomicNum() == 8:\n",
        "      o += 1\n",
        "    if atom.GetAtomicNum() == 9:\n",
        "      f += 1\n",
        "    if atom.GetAtomicNum() == 17:\n",
        "      cl += 1\n",
        "    if atom.GetAtomicNum() == 35:\n",
        "      br += 1\n",
        "    if atom.GetAtomicNum() == 53:\n",
        "      i += 1\n",
        "\n",
        "  C.append(c)\n",
        "  O.append(o)\n",
        "  N.append(n)\n",
        "  Cl.append(cl)\n",
        "  F.append(f)\n",
        "  Br.append(br)\n",
        "  I.append(i)\n",
        "\n",
        "# molecular weight\n",
        "MolWeight = [Descriptors.ExactMolWt(mol) for mol in ms]\n",
        "# rings\n",
        "Rings = [Descriptors.RingCount(mol) for mol in ms]\n",
        "# Total polar surface area\n",
        "TPSA = [Descriptors.TPSA(mol) for mol in ms]\n",
        "# Density Morgan FP\n",
        "FpDM1 = [Descriptors.FpDensityMorgan1(mol) for mol in ms]\n",
        "# rotatable bonds\n",
        "RotBonds = [Descriptors.NumRotatableBonds(mol) for mol in ms]\n",
        "# Obtener la carga formal de la molécula\n",
        "formal_charge =[Chem.rdmolops.GetFormalCharge(mol) for mol in ms]\n",
        "# Calcular el logP (coeficiente de partición octanol-agua) de la molécula\n",
        "logp =[Descriptors.MolLogP(mol) for mol in ms]"
      ],
      "metadata": {
        "id": "Kje89f27Kfcg"
      },
      "execution_count": null,
      "outputs": []
    },
    {
      "cell_type": "markdown",
      "source": [
        "Entrenamiento"
      ],
      "metadata": {
        "id": "DuDHlYPxTLPI"
      }
    },
    {
      "cell_type": "code",
      "source": [
        "entrenamiento1['Activity'] = entrenamiento1['Activity'].map({'Active': 1, 'Inactive': 0})"
      ],
      "metadata": {
        "id": "otb8udy8vd4Y"
      },
      "execution_count": null,
      "outputs": []
    },
    {
      "cell_type": "code",
      "source": [
        "descriptors1 = pd.DataFrame(list(zip(numb, C, O, N,F,Br,I,Cl, nh2_counts,ring5_counts,ring6_counts,MolWeight, Rings, TPSA, FpDM1, RotBonds,logp,formal_charge)))\n",
        "\n",
        "Activity1= entrenamiento1['Activity']"
      ],
      "metadata": {
        "id": "0aNQP5KXLXPe"
      },
      "execution_count": null,
      "outputs": []
    },
    {
      "cell_type": "code",
      "source": [
        "from sklearn.model_selection import train_test_split\n",
        "\n",
        "X1 = np.array(descriptors1)\n",
        "y1 = np.array(Activity1)\n"
      ],
      "metadata": {
        "id": "MfmOPDT6JXLH"
      },
      "execution_count": null,
      "outputs": []
    },
    {
      "cell_type": "code",
      "source": [
        "entrenamiento1.Activity.value_counts()"
      ],
      "metadata": {
        "id": "KsZdOmOc3MHo"
      },
      "execution_count": null,
      "outputs": []
    },
    {
      "cell_type": "code",
      "source": [
        "from sklearn.model_selection import GridSearchCV\n",
        "from sklearn.pipeline import Pipeline\n",
        "from sklearn.svm import SVC\n",
        "from xgboost import XGBClassifier\n",
        "\n",
        "xgb_model = XGBClassifier(random_state=42)\n",
        "\n",
        "param_grid = {\n",
        "    'n_estimators': [50, 100, 200],\n",
        "    'learning_rate': [0.01, 0.1, 0.2],\n",
        "    'max_depth': [3, 4, 5],}\n",
        "\n",
        "grid_search = GridSearchCV(estimator=xgb_model, param_grid=param_grid, scoring='accuracy', cv=5)\n",
        "\n",
        "grid_search.fit(X1, y1)\n",
        "\n",
        "# Obtener los mejores hiperparámetros y la mejor puntuación\n",
        "best_params = grid_search.best_params_\n",
        "best_score = grid_search.best_score_\n",
        "\n",
        "print(\"Mejores hiperparámetros:\", best_params)\n",
        "print(\"Mejor Accuracy:\", best_score)\n",
        "\n",
        "# Evaluar el modelo con los mejores hiperparámetros en los datos de prueba\n",
        "best_model = grid_search.best_estimator_\n",
        "\n",
        "#print(\"Mejores hiperparámetros:\", migscv.best_params_)\n",
        "#print(\"Mejor Accuracy\", migscv.best_score_)\n",
        "\n",
        "#mejor_modelo=migscv.best_estimator_"
      ],
      "metadata": {
        "id": "d7ytzMAOJJrD"
      },
      "execution_count": null,
      "outputs": []
    },
    {
      "cell_type": "markdown",
      "source": [
        "Testeo"
      ],
      "metadata": {
        "id": "k_vBx3oZTPJV"
      }
    },
    {
      "cell_type": "code",
      "source": [
        "testeo1[\"Activity\"]=testeo1[\"Activity\"].map({'Active': 1, 'Inactive': 0})\n"
      ],
      "metadata": {
        "id": "2nf9dXZe1N8F"
      },
      "execution_count": null,
      "outputs": []
    },
    {
      "cell_type": "code",
      "source": [
        "# filtrar SMILES que no den error\n",
        "SMILESt = []\n",
        "for i in range(len(testeo1['canonical_smiles'])):\n",
        "  try:\n",
        "    cs = Chem.CanonSmiles(testeo1['canonical_smiles'].iloc[i])\n",
        "    SMILESt.append(cs)\n",
        "\n",
        "  except:\n",
        "    print('Invalid SMILES:',testeo1['canonical_smiles'].iloc[i],i)\n",
        "\n",
        "\n",
        "# molecules from smiles\n",
        "ms = [Chem.MolFromSmiles(smile) for smile in SMILESt]\n",
        "# number of atoms per molecule\n",
        "numb = [mol.GetNumAtoms() for mol in ms]\n",
        "# different atoms:\n",
        "C = [] # carbon\n",
        "O = [] # oxigen\n",
        "N = [] # nitrogen\n",
        "Cl=[]\n",
        "F=[]\n",
        "Br=[]\n",
        "I=[]\n",
        "\n",
        "nh2_pattern = Chem.MolFromSmarts(\"[NH2]\")\n",
        "nh2_counts = [len(mol.GetSubstructMatches(nh2_pattern)) for mol in ms]\n",
        "\n",
        "ring5_counts = []\n",
        "ring6_counts=[]\n",
        "\n",
        "\n",
        "for mol in ms:\n",
        "  c = 0\n",
        "  o = 0\n",
        "  n = 0\n",
        "  cl=0\n",
        "  f=0\n",
        "  br=0\n",
        "  i=0\n",
        "  nh2_count = 0\n",
        "  ring_info = mol.GetRingInfo()# Obtener sistemas de anillos saturados\n",
        "  ring5_count = sum(1 for ring in ring_info.AtomRings() if len(ring) == 5)  # Contar anillos de 5 carbonos\n",
        "  ring5_counts.append(ring5_count)\n",
        "  ring6= sum(1 for ring in ring_info.AtomRings()if len(ring) == 6)  # Contar anillos de 5 carbonos\n",
        "  ring6_counts.append(ring6)\n",
        "  for atom in mol.GetAtoms():\n",
        "    if atom.GetAtomicNum() == 6:\n",
        "      c += 1\n",
        "    if atom.GetAtomicNum() == 7:\n",
        "      n += 1\n",
        "    if atom.GetAtomicNum() == 8:\n",
        "      o += 1\n",
        "    if atom.GetAtomicNum() == 9:\n",
        "      f += 1\n",
        "    if atom.GetAtomicNum() == 17:\n",
        "      cl += 1\n",
        "    if atom.GetAtomicNum() == 35:\n",
        "      br += 1\n",
        "    if atom.GetAtomicNum() == 53:\n",
        "      i += 1\n",
        "\n",
        "  C.append(c)\n",
        "  O.append(o)\n",
        "  N.append(n)\n",
        "  Cl.append(cl)\n",
        "  F.append(f)\n",
        "  Br.append(br)\n",
        "  I.append(i)\n",
        "\n",
        "# molecular weight\n",
        "MolWeight = [Descriptors.ExactMolWt(mol) for mol in ms]\n",
        "# rings\n",
        "Rings = [Descriptors.RingCount(mol) for mol in ms]\n",
        "# Total polar surface area\n",
        "TPSA = [Descriptors.TPSA(mol) for mol in ms]\n",
        "# Density Morgan FP\n",
        "FpDM1 = [Descriptors.FpDensityMorgan1(mol) for mol in ms]\n",
        "# rotatable bonds\n",
        "RotBonds = [Descriptors.NumRotatableBonds(mol) for mol in ms]\n",
        "# Obtener la carga formal de la molécula\n",
        "formal_charge =[Chem.rdmolops.GetFormalCharge(mol) for mol in ms]\n",
        "# Calcular el logP (coeficiente de partición octanol-agua) de la molécula\n",
        "logp =[Descriptors.MolLogP(mol) for mol in ms]\n",
        "\n",
        "descriptorst = pd.DataFrame(list(zip(numb, C, O, N,F,Br,I,Cl, nh2_counts,ring5_counts,ring6_counts,MolWeight, Rings, TPSA, FpDM1, RotBonds,logp,formal_charge)))\n",
        "\n",
        "Activityt= testeo1['Activity']"
      ],
      "metadata": {
        "id": "71sZVTZzNUhQ"
      },
      "execution_count": null,
      "outputs": []
    },
    {
      "cell_type": "code",
      "source": [
        "Xt = np.array(descriptorst)\n",
        "yt = np.array(Activityt)\n",
        "\n",
        "pred_cluster4 = best_model.predict(Xt)"
      ],
      "metadata": {
        "id": "jIBAligbNPFT"
      },
      "execution_count": null,
      "outputs": []
    },
    {
      "cell_type": "markdown",
      "source": [
        "###Resultados 1"
      ],
      "metadata": {
        "id": "85T2QL5OTl2c"
      }
    },
    {
      "cell_type": "code",
      "source": [
        "from sklearn import metrics\n",
        "from sklearn.metrics import confusion_matrix, accuracy_score, precision_score, recall_score\n",
        "\n",
        "accuracy = round(accuracy_score(yt, pred_cluster4), 3)\n",
        "precision = round(precision_score(yt,pred_cluster4, average='micro'), 3)\n",
        "recall = round(recall_score(yt, pred_cluster4, average='micro'), 3)\n",
        "f1_score = 2 * (precision * recall) / (precision + recall)\n",
        "print(f\"Exactitud (Accuracy): {accuracy}\")\n",
        "print(f\"Precisión: {precision}\")\n",
        "print(f\"Exhaustividad (Recall): {recall}\")\n",
        "print(f\"F1-Score: {f1_score}\")\n",
        "confusion_matrix(yt,pred_cluster4)"
      ],
      "metadata": {
        "id": "7HvJrWanMbjY"
      },
      "execution_count": null,
      "outputs": []
    },
    {
      "cell_type": "code",
      "source": [
        "mostrar_resultados(yt, pred_cluster4)"
      ],
      "metadata": {
        "id": "-CGe7YAtTxT5"
      },
      "execution_count": null,
      "outputs": []
    },
    {
      "cell_type": "markdown",
      "source": [
        "##Entrenamiento(2) 0,1,2,4 y testeo en 3"
      ],
      "metadata": {
        "id": "wfz-sXqTI1X-"
      }
    },
    {
      "cell_type": "code",
      "source": [
        "cluster0= total_entrenamiento[total_entrenamiento[\"Cluster_PCA\"]==0]\n",
        "cluster1= total_entrenamiento[total_entrenamiento[\"Cluster_PCA\"]==1]\n",
        "cluster2= total_entrenamiento[total_entrenamiento[\"Cluster_PCA\"]==2]\n",
        "cluster3= total_entrenamiento[total_entrenamiento[\"Cluster_PCA\"]==3]\n",
        "cluster4= total_entrenamiento[total_entrenamiento[\"Cluster_PCA\"]==4]"
      ],
      "metadata": {
        "id": "uL8cFjnI34iE"
      },
      "execution_count": null,
      "outputs": []
    },
    {
      "cell_type": "code",
      "source": [
        "entrenamiento2= pd.concat([cluster0,cluster1,cluster2,cluster4])\n",
        "testeo2= cluster3\n",
        "\n"
      ],
      "metadata": {
        "id": "dabJqLXIJ68d"
      },
      "execution_count": null,
      "outputs": []
    },
    {
      "cell_type": "code",
      "source": [
        "entrenamiento2[\"Activity\"].value_counts()"
      ],
      "metadata": {
        "id": "-M5Ua9JFhr0k"
      },
      "execution_count": null,
      "outputs": []
    },
    {
      "cell_type": "code",
      "source": [
        "entrenamiento2['Activity'] = entrenamiento2['Activity'].map({'Active': 1, 'Inactive': 0})"
      ],
      "metadata": {
        "id": "_KxKlJaN4CdE"
      },
      "execution_count": null,
      "outputs": []
    },
    {
      "cell_type": "code",
      "source": [
        "# filtrar SMILES que no den error\n",
        "SMILES2= []\n",
        "for i in range(len(entrenamiento2['canonical_smiles'])):\n",
        "  try:\n",
        "    cs = Chem.CanonSmiles(entrenamiento2['canonical_smiles'].iloc[i])\n",
        "    SMILES2.append(cs)\n",
        "\n",
        "  except:\n",
        "    print('Invalid SMILES:',entrenamiento2['canonical_smiles'].iloc[i],i)\n",
        "\n",
        "# molecules from smiles\n",
        "ms = [Chem.MolFromSmiles(smile) for smile in SMILES2]\n",
        "# number of atoms per molecule\n",
        "numb = [mol.GetNumAtoms() for mol in ms]\n",
        "# different atoms:\n",
        "C = [] # carbon\n",
        "O = [] # oxigen\n",
        "N = [] # nitrogen\n",
        "Cl=[]\n",
        "F=[]\n",
        "Br=[]\n",
        "I=[]\n",
        "\n",
        "nh2_pattern = Chem.MolFromSmarts(\"[NH2]\")\n",
        "nh2_counts = [len(mol.GetSubstructMatches(nh2_pattern)) for mol in ms]\n",
        "\n",
        "ring5_counts = []\n",
        "ring6_counts=[]\n",
        "\n",
        "\n",
        "for mol in ms:\n",
        "  c = 0\n",
        "  o = 0\n",
        "  n = 0\n",
        "  cl=0\n",
        "  f=0\n",
        "  br=0\n",
        "  i=0\n",
        "  nh2_count = 0\n",
        "  ring_info = mol.GetRingInfo()# Obtener sistemas de anillos saturados\n",
        "  ring5_count = sum(1 for ring in ring_info.AtomRings() if len(ring) == 5)  # Contar anillos de 5 carbonos\n",
        "  ring5_counts.append(ring5_count)\n",
        "  ring6= sum(1 for ring in ring_info.AtomRings()if len(ring) == 6)  # Contar anillos de 5 carbonos\n",
        "  ring6_counts.append(ring6)\n",
        "  for atom in mol.GetAtoms():\n",
        "    if atom.GetAtomicNum() == 6:\n",
        "      c += 1\n",
        "    if atom.GetAtomicNum() == 7:\n",
        "      n += 1\n",
        "    if atom.GetAtomicNum() == 8:\n",
        "      o += 1\n",
        "    if atom.GetAtomicNum() == 9:\n",
        "      f += 1\n",
        "    if atom.GetAtomicNum() == 17:\n",
        "      cl += 1\n",
        "    if atom.GetAtomicNum() == 35:\n",
        "      br += 1\n",
        "    if atom.GetAtomicNum() == 53:\n",
        "      i += 1\n",
        "\n",
        "  C.append(c)\n",
        "  O.append(o)\n",
        "  N.append(n)\n",
        "  Cl.append(cl)\n",
        "  F.append(f)\n",
        "  Br.append(br)\n",
        "  I.append(i)\n",
        "\n",
        "# molecular weight\n",
        "MolWeight = [Descriptors.ExactMolWt(mol) for mol in ms]\n",
        "# rings\n",
        "Rings = [Descriptors.RingCount(mol) for mol in ms]\n",
        "# Total polar surface area\n",
        "TPSA = [Descriptors.TPSA(mol) for mol in ms]\n",
        "# Density Morgan FP\n",
        "FpDM1 = [Descriptors.FpDensityMorgan1(mol) for mol in ms]\n",
        "# rotatable bonds\n",
        "RotBonds = [Descriptors.NumRotatableBonds(mol) for mol in ms]\n",
        "# Obtener la carga formal de la molécula\n",
        "formal_charge =[Chem.rdmolops.GetFormalCharge(mol) for mol in ms]\n",
        "# Calcular el logP (coeficiente de partición octanol-agua) de la molécula\n",
        "logp =[Descriptors.MolLogP(mol) for mol in ms]\n",
        "\n",
        "\n",
        "descriptors2 = pd.DataFrame(list(zip(numb, C, O, N,F,Br,I,Cl, nh2_counts,ring5_counts,ring6_counts,MolWeight, Rings, TPSA, FpDM1, RotBonds,logp,formal_charge)))\n",
        "\n",
        "Activity2= entrenamiento2['Activity']"
      ],
      "metadata": {
        "id": "_znAvDQKUjqt"
      },
      "execution_count": null,
      "outputs": []
    },
    {
      "cell_type": "code",
      "source": [
        "X2 = np.array(descriptors2)\n",
        "y2 = np.array(Activity2)\n",
        "\n",
        "from sklearn.model_selection import GridSearchCV\n",
        "from sklearn.pipeline import Pipeline\n",
        "from sklearn.svm import SVC\n",
        "from xgboost import XGBClassifier\n",
        "\n",
        "xgb_model = XGBClassifier(random_state=42)\n",
        "\n",
        "param_grid = {\n",
        "    'n_estimators': [50, 100, 200],\n",
        "    'learning_rate': [0.01, 0.1, 0.2],\n",
        "    'max_depth': [3, 4, 5],}\n",
        "\n",
        "grid_search = GridSearchCV(estimator=xgb_model, param_grid=param_grid, scoring='accuracy', cv=5)\n",
        "\n",
        "grid_search.fit(X2, y2)\n",
        "\n",
        "# Obtener los mejores hiperparámetros y la mejor puntuación\n",
        "best_params = grid_search.best_params_\n",
        "best_score = grid_search.best_score_\n",
        "\n",
        "print(\"Mejores hiperparámetros:\", best_params)\n",
        "print(\"Mejor Accuracy:\", best_score)\n",
        "\n",
        "# Evaluar el modelo con los mejores hiperparámetros en los datos de prueba\n",
        "best_model2 = grid_search.best_estimator_\n",
        "\n"
      ],
      "metadata": {
        "id": "oQUEUYEzU62d"
      },
      "execution_count": null,
      "outputs": []
    },
    {
      "cell_type": "markdown",
      "source": [
        "Testeo"
      ],
      "metadata": {
        "id": "R7bjUX4HVGki"
      }
    },
    {
      "cell_type": "code",
      "source": [],
      "metadata": {
        "id": "SO4T2EVg4pXE"
      },
      "execution_count": null,
      "outputs": []
    },
    {
      "cell_type": "code",
      "source": [
        "testeo2[\"Activity\"]=testeo2[\"Activity\"].map({'Active': 1, 'Inactive': 0})\n",
        "# filtrar SMILES que no den error\n",
        "SMILESt2 = []\n",
        "for i in range(len(testeo2['canonical_smiles'])):\n",
        "  try:\n",
        "    cs = Chem.CanonSmiles(testeo2['canonical_smiles'].iloc[i])\n",
        "    SMILESt2.append(cs)\n",
        "\n",
        "  except:\n",
        "    print('Invalid SMILES:',testeo2['canonical_smiles'].iloc[i],i)\n",
        "\n",
        "\n",
        "# molecules from smiles\n",
        "ms = [Chem.MolFromSmiles(smile) for smile in SMILESt2]\n",
        "# number of atoms per molecule\n",
        "numb = [mol.GetNumAtoms() for mol in ms]\n",
        "# different atoms:\n",
        "C = [] # carbon\n",
        "O = [] # oxigen\n",
        "N = [] # nitrogen\n",
        "Cl=[]\n",
        "F=[]\n",
        "Br=[]\n",
        "I=[]\n",
        "\n",
        "nh2_pattern = Chem.MolFromSmarts(\"[NH2]\")\n",
        "nh2_counts = [len(mol.GetSubstructMatches(nh2_pattern)) for mol in ms]\n",
        "\n",
        "ring5_counts = []\n",
        "ring6_counts=[]\n",
        "\n",
        "\n",
        "for mol in ms:\n",
        "  c = 0\n",
        "  o = 0\n",
        "  n = 0\n",
        "  cl=0\n",
        "  f=0\n",
        "  br=0\n",
        "  i=0\n",
        "  nh2_count = 0\n",
        "  ring_info = mol.GetRingInfo()# Obtener sistemas de anillos saturados\n",
        "  ring5_count = sum(1 for ring in ring_info.AtomRings() if len(ring) == 5)  # Contar anillos de 5 carbonos\n",
        "  ring5_counts.append(ring5_count)\n",
        "  ring6= sum(1 for ring in ring_info.AtomRings()if len(ring) == 6)  # Contar anillos de 5 carbonos\n",
        "  ring6_counts.append(ring6)\n",
        "  for atom in mol.GetAtoms():\n",
        "    if atom.GetAtomicNum() == 6:\n",
        "      c += 1\n",
        "    if atom.GetAtomicNum() == 7:\n",
        "      n += 1\n",
        "    if atom.GetAtomicNum() == 8:\n",
        "      o += 1\n",
        "    if atom.GetAtomicNum() == 9:\n",
        "      f += 1\n",
        "    if atom.GetAtomicNum() == 17:\n",
        "      cl += 1\n",
        "    if atom.GetAtomicNum() == 35:\n",
        "      br += 1\n",
        "    if atom.GetAtomicNum() == 53:\n",
        "      i += 1\n",
        "\n",
        "  C.append(c)\n",
        "  O.append(o)\n",
        "  N.append(n)\n",
        "  Cl.append(cl)\n",
        "  F.append(f)\n",
        "  Br.append(br)\n",
        "  I.append(i)\n",
        "\n",
        "# molecular weight\n",
        "MolWeight = [Descriptors.ExactMolWt(mol) for mol in ms]\n",
        "# rings\n",
        "Rings = [Descriptors.RingCount(mol) for mol in ms]\n",
        "# Total polar surface area\n",
        "TPSA = [Descriptors.TPSA(mol) for mol in ms]\n",
        "# Density Morgan FP\n",
        "FpDM1 = [Descriptors.FpDensityMorgan1(mol) for mol in ms]\n",
        "# rotatable bonds\n",
        "RotBonds = [Descriptors.NumRotatableBonds(mol) for mol in ms]\n",
        "# Obtener la carga formal de la molécula\n",
        "formal_charge =[Chem.rdmolops.GetFormalCharge(mol) for mol in ms]\n",
        "# Calcular el logP (coeficiente de partición octanol-agua) de la molécula\n",
        "logp =[Descriptors.MolLogP(mol) for mol in ms]\n",
        "\n",
        "descriptorst2 = pd.DataFrame(list(zip(numb, C, O, N,F,Br,I,Cl, nh2_counts,ring5_counts,ring6_counts,MolWeight, Rings, TPSA, FpDM1, RotBonds,logp,formal_charge)))\n",
        "\n",
        "Activityt2= testeo2['Activity']"
      ],
      "metadata": {
        "id": "W6SoOQMyVHwS"
      },
      "execution_count": null,
      "outputs": []
    },
    {
      "cell_type": "code",
      "source": [
        "Xt2 = np.array(descriptorst2)\n",
        "yt2 = np.array(Activityt2)\n",
        "\n",
        "pred_cluster3= best_model2.predict(Xt2)"
      ],
      "metadata": {
        "id": "T3IwkgFsVRJB"
      },
      "execution_count": null,
      "outputs": []
    },
    {
      "cell_type": "markdown",
      "source": [
        "###Restultados 2"
      ],
      "metadata": {
        "id": "8S51T94QVVXh"
      }
    },
    {
      "cell_type": "code",
      "source": [
        "\n",
        "from sklearn import metrics\n",
        "from sklearn.metrics import confusion_matrix, accuracy_score, precision_score, recall_score\n",
        "\n",
        "accuracy = round(accuracy_score(yt2, pred_cluster3), 3)\n",
        "precision = round(precision_score(yt2,pred_cluster3, average='micro'), 3)\n",
        "recall = round(recall_score(yt2, pred_cluster3, average='micro'), 3)\n",
        "f1_score = 2 * (precision * recall) / (precision + recall)\n",
        "print(f\"Exactitud (Accuracy): {accuracy}\")\n",
        "print(f\"Precisión: {precision}\")\n",
        "print(f\"Exhaustividad (Recall): {recall}\")\n",
        "print(f\"F1-Score: {f1_score}\")\n",
        "confusion_matrix(yt2,pred_cluster3)"
      ],
      "metadata": {
        "id": "YW4QEQU8VUvi"
      },
      "execution_count": null,
      "outputs": []
    },
    {
      "cell_type": "code",
      "source": [
        "mostrar_resultados(yt2, pred_cluster3)"
      ],
      "metadata": {
        "id": "Fdo_JpcDWLxq"
      },
      "execution_count": null,
      "outputs": []
    },
    {
      "cell_type": "markdown",
      "source": [
        "##Entrenamiento(3) 0,1,3,4 y testeo en 2"
      ],
      "metadata": {
        "id": "knqe4BdMI1uK"
      }
    },
    {
      "cell_type": "code",
      "source": [
        "cluster0= total_entrenamiento[total_entrenamiento[\"Cluster_PCA\"]==0]\n",
        "cluster1= total_entrenamiento[total_entrenamiento[\"Cluster_PCA\"]==1]\n",
        "cluster2= total_entrenamiento[total_entrenamiento[\"Cluster_PCA\"]==2]\n",
        "cluster3= total_entrenamiento[total_entrenamiento[\"Cluster_PCA\"]==3]\n",
        "cluster4= total_entrenamiento[total_entrenamiento[\"Cluster_PCA\"]==4]"
      ],
      "metadata": {
        "id": "rMoNLEfg6P16"
      },
      "execution_count": null,
      "outputs": []
    },
    {
      "cell_type": "code",
      "source": [
        "entrenamiento3= pd.concat([cluster0,cluster1,cluster4,cluster3])\n",
        "testeo3= cluster2"
      ],
      "metadata": {
        "id": "r2yqSrMqJ7bg"
      },
      "execution_count": null,
      "outputs": []
    },
    {
      "cell_type": "code",
      "source": [
        "entrenamiento3[\"Activity\"].value_counts()"
      ],
      "metadata": {
        "id": "UUwbFoKjXK9R"
      },
      "execution_count": null,
      "outputs": []
    },
    {
      "cell_type": "code",
      "source": [
        "entrenamiento3['Activity'] = entrenamiento3['Activity'].map({'Active': 1, 'Inactive': 0})"
      ],
      "metadata": {
        "id": "VI1UTmSK6U5c"
      },
      "execution_count": null,
      "outputs": []
    },
    {
      "cell_type": "code",
      "source": [
        "# filtrar SMILES que no den error\n",
        "SMILES3= []\n",
        "for i in range(len(entrenamiento3['canonical_smiles'])):\n",
        "  try:\n",
        "    cs = Chem.CanonSmiles(entrenamiento3['canonical_smiles'].iloc[i])\n",
        "    SMILES3.append(cs)\n",
        "\n",
        "  except:\n",
        "    print('Invalid SMILES:',entrenamiento3['canonical_smiles'].iloc[i],i)\n",
        "\n",
        "# molecules from smiles\n",
        "ms = [Chem.MolFromSmiles(smile) for smile in SMILES3]\n",
        "# number of atoms per molecule\n",
        "numb = [mol.GetNumAtoms() for mol in ms]\n",
        "# different atoms:\n",
        "C = [] # carbon\n",
        "O = [] # oxigen\n",
        "N = [] # nitrogen\n",
        "Cl=[]\n",
        "F=[]\n",
        "Br=[]\n",
        "I=[]\n",
        "\n",
        "nh2_pattern = Chem.MolFromSmarts(\"[NH2]\")\n",
        "nh2_counts = [len(mol.GetSubstructMatches(nh2_pattern)) for mol in ms]\n",
        "\n",
        "ring5_counts = []\n",
        "ring6_counts=[]\n",
        "\n",
        "\n",
        "for mol in ms:\n",
        "  c = 0\n",
        "  o = 0\n",
        "  n = 0\n",
        "  cl=0\n",
        "  f=0\n",
        "  br=0\n",
        "  i=0\n",
        "  nh2_count = 0\n",
        "  ring_info = mol.GetRingInfo()# Obtener sistemas de anillos saturados\n",
        "  ring5_count = sum(1 for ring in ring_info.AtomRings() if len(ring) == 5)  # Contar anillos de 5 carbonos\n",
        "  ring5_counts.append(ring5_count)\n",
        "  ring6= sum(1 for ring in ring_info.AtomRings()if len(ring) == 6)  # Contar anillos de 5 carbonos\n",
        "  ring6_counts.append(ring6)\n",
        "  for atom in mol.GetAtoms():\n",
        "    if atom.GetAtomicNum() == 6:\n",
        "      c += 1\n",
        "    if atom.GetAtomicNum() == 7:\n",
        "      n += 1\n",
        "    if atom.GetAtomicNum() == 8:\n",
        "      o += 1\n",
        "    if atom.GetAtomicNum() == 9:\n",
        "      f += 1\n",
        "    if atom.GetAtomicNum() == 17:\n",
        "      cl += 1\n",
        "    if atom.GetAtomicNum() == 35:\n",
        "      br += 1\n",
        "    if atom.GetAtomicNum() == 53:\n",
        "      i += 1\n",
        "\n",
        "  C.append(c)\n",
        "  O.append(o)\n",
        "  N.append(n)\n",
        "  Cl.append(cl)\n",
        "  F.append(f)\n",
        "  Br.append(br)\n",
        "  I.append(i)\n",
        "\n",
        "# molecular weight\n",
        "MolWeight = [Descriptors.ExactMolWt(mol) for mol in ms]\n",
        "# rings\n",
        "Rings = [Descriptors.RingCount(mol) for mol in ms]\n",
        "# Total polar surface area\n",
        "TPSA = [Descriptors.TPSA(mol) for mol in ms]\n",
        "# Density Morgan FP\n",
        "FpDM1 = [Descriptors.FpDensityMorgan1(mol) for mol in ms]\n",
        "# rotatable bonds\n",
        "RotBonds = [Descriptors.NumRotatableBonds(mol) for mol in ms]\n",
        "# Obtener la carga formal de la molécula\n",
        "formal_charge =[Chem.rdmolops.GetFormalCharge(mol) for mol in ms]\n",
        "# Calcular el logP (coeficiente de partición octanol-agua) de la molécula\n",
        "logp =[Descriptors.MolLogP(mol) for mol in ms]\n",
        "\n",
        "\n",
        "descriptors3 = pd.DataFrame(list(zip(numb, C, O, N,F,Br,I,Cl, nh2_counts,ring5_counts,ring6_counts,MolWeight, Rings, TPSA, FpDM1, RotBonds,logp,formal_charge)))\n",
        "\n",
        "Activity3= entrenamiento3['Activity']"
      ],
      "metadata": {
        "id": "_VVReIKzXLOh"
      },
      "execution_count": null,
      "outputs": []
    },
    {
      "cell_type": "code",
      "source": [
        "X3 = np.array(descriptors3)\n",
        "y3 = np.array(Activity3)\n",
        "\n",
        "from sklearn.model_selection import GridSearchCV\n",
        "from sklearn.pipeline import Pipeline\n",
        "from sklearn.svm import SVC\n",
        "from xgboost import XGBClassifier\n",
        "\n",
        "xgb_model = XGBClassifier(random_state=42)\n",
        "\n",
        "param_grid = {\n",
        "    'n_estimators': [50, 100, 200],\n",
        "    'learning_rate': [0.01, 0.1, 0.2],\n",
        "    'max_depth': [3, 4, 5],}\n",
        "\n",
        "grid_search = GridSearchCV(estimator=xgb_model, param_grid=param_grid, scoring='accuracy', cv=5)\n",
        "\n",
        "grid_search.fit(X3, y3)\n",
        "\n",
        "# Obtener los mejores hiperparámetros y la mejor puntuación\n",
        "best_params = grid_search.best_params_\n",
        "best_score = grid_search.best_score_\n",
        "\n",
        "print(\"Mejores hiperparámetros:\", best_params)\n",
        "print(\"Mejor Accuracy:\", best_score)\n",
        "\n",
        "# Evaluar el modelo con los mejores hiperparámetros en los datos de prueba\n",
        "best_model3 = grid_search.best_estimator_\n"
      ],
      "metadata": {
        "id": "x-974F1OXW6v"
      },
      "execution_count": null,
      "outputs": []
    },
    {
      "cell_type": "markdown",
      "source": [
        "Testeo"
      ],
      "metadata": {
        "id": "lpx5QmRUXqCd"
      }
    },
    {
      "cell_type": "code",
      "source": [
        "testeo3[\"Activity\"]=testeo3[\"Activity\"].map({'Active': 1, 'Inactive': 0})"
      ],
      "metadata": {
        "id": "E3ftpNGiXrl9"
      },
      "execution_count": null,
      "outputs": []
    },
    {
      "cell_type": "code",
      "source": [
        "# filtrar SMILES que no den error\n",
        "SMILESt3 = []\n",
        "for i in range(len(testeo3['canonical_smiles'])):\n",
        "  try:\n",
        "    cs = Chem.CanonSmiles(testeo3['canonical_smiles'].iloc[i])\n",
        "    SMILESt3.append(cs)\n",
        "\n",
        "  except:\n",
        "    print('Invalid SMILES:',testeo3['canonical_smiles'].iloc[i],i)\n",
        "\n",
        "\n",
        "# molecules from smiles\n",
        "ms = [Chem.MolFromSmiles(smile) for smile in SMILESt3]\n",
        "# number of atoms per molecule\n",
        "numb = [mol.GetNumAtoms() for mol in ms]\n",
        "# different atoms:\n",
        "C = [] # carbon\n",
        "O = [] # oxigen\n",
        "N = [] # nitrogen\n",
        "Cl=[]\n",
        "F=[]\n",
        "Br=[]\n",
        "I=[]\n",
        "\n",
        "nh2_pattern = Chem.MolFromSmarts(\"[NH2]\")\n",
        "nh2_counts = [len(mol.GetSubstructMatches(nh2_pattern)) for mol in ms]\n",
        "\n",
        "ring5_counts = []\n",
        "ring6_counts=[]\n",
        "\n",
        "\n",
        "for mol in ms:\n",
        "  c = 0\n",
        "  o = 0\n",
        "  n = 0\n",
        "  cl=0\n",
        "  f=0\n",
        "  br=0\n",
        "  i=0\n",
        "  nh2_count = 0\n",
        "  ring_info = mol.GetRingInfo()# Obtener sistemas de anillos saturados\n",
        "  ring5_count = sum(1 for ring in ring_info.AtomRings() if len(ring) == 5)  # Contar anillos de 5 carbonos\n",
        "  ring5_counts.append(ring5_count)\n",
        "  ring6= sum(1 for ring in ring_info.AtomRings()if len(ring) == 6)  # Contar anillos de 5 carbonos\n",
        "  ring6_counts.append(ring6)\n",
        "  for atom in mol.GetAtoms():\n",
        "    if atom.GetAtomicNum() == 6:\n",
        "      c += 1\n",
        "    if atom.GetAtomicNum() == 7:\n",
        "      n += 1\n",
        "    if atom.GetAtomicNum() == 8:\n",
        "      o += 1\n",
        "    if atom.GetAtomicNum() == 9:\n",
        "      f += 1\n",
        "    if atom.GetAtomicNum() == 17:\n",
        "      cl += 1\n",
        "    if atom.GetAtomicNum() == 35:\n",
        "      br += 1\n",
        "    if atom.GetAtomicNum() == 53:\n",
        "      i += 1\n",
        "\n",
        "  C.append(c)\n",
        "  O.append(o)\n",
        "  N.append(n)\n",
        "  Cl.append(cl)\n",
        "  F.append(f)\n",
        "  Br.append(br)\n",
        "  I.append(i)\n",
        "\n",
        "# molecular weight\n",
        "MolWeight = [Descriptors.ExactMolWt(mol) for mol in ms]\n",
        "# rings\n",
        "Rings = [Descriptors.RingCount(mol) for mol in ms]\n",
        "# Total polar surface area\n",
        "TPSA = [Descriptors.TPSA(mol) for mol in ms]\n",
        "# Density Morgan FP\n",
        "FpDM1 = [Descriptors.FpDensityMorgan1(mol) for mol in ms]\n",
        "# rotatable bonds\n",
        "RotBonds = [Descriptors.NumRotatableBonds(mol) for mol in ms]\n",
        "# Obtener la carga formal de la molécula\n",
        "formal_charge =[Chem.rdmolops.GetFormalCharge(mol) for mol in ms]\n",
        "# Calcular el logP (coeficiente de partición octanol-agua) de la molécula\n",
        "logp =[Descriptors.MolLogP(mol) for mol in ms]\n",
        "\n",
        "descriptorst3 = pd.DataFrame(list(zip(numb, C, O, N,F,Br,I,Cl, nh2_counts,ring5_counts,ring6_counts,MolWeight, Rings, TPSA, FpDM1, RotBonds,logp,formal_charge)))\n",
        "\n",
        "Activityt3= testeo3['Activity']"
      ],
      "metadata": {
        "id": "wyqjaNpbXr0r"
      },
      "execution_count": null,
      "outputs": []
    },
    {
      "cell_type": "code",
      "source": [
        "Xt3 = np.array(descriptorst3)\n",
        "yt3 = np.array(Activityt3)\n",
        "\n",
        "pred_cluster2= best_model3.predict(Xt3)"
      ],
      "metadata": {
        "id": "LM-GVLN0YA6D"
      },
      "execution_count": null,
      "outputs": []
    },
    {
      "cell_type": "code",
      "source": [
        "\n",
        "from sklearn import metrics\n",
        "from sklearn.metrics import confusion_matrix, accuracy_score, precision_score, recall_score\n",
        "\n",
        "accuracy = round(accuracy_score(yt3,pred_cluster2), 3)\n",
        "precision = round(precision_score(yt3,pred_cluster2, average='micro'), 3)\n",
        "recall = round(recall_score(yt3, pred_cluster2, average='micro'), 3)\n",
        "f1_score = 2 * (precision * recall) / (precision + recall)\n",
        "print(f\"Exactitud (Accuracy): {accuracy}\")\n",
        "print(f\"Precisión: {precision}\")\n",
        "print(f\"Exhaustividad (Recall): {recall}\")\n",
        "print(f\"F1-Score: {f1_score}\")\n",
        "confusion_matrix(yt3,pred_cluster2)"
      ],
      "metadata": {
        "id": "YBFS59f-YKU2"
      },
      "execution_count": null,
      "outputs": []
    },
    {
      "cell_type": "markdown",
      "source": [
        "### Restultados 3"
      ],
      "metadata": {
        "id": "7mvijLdCYw_J"
      }
    },
    {
      "cell_type": "code",
      "source": [
        "mostrar_resultados(yt3, pred_cluster2)"
      ],
      "metadata": {
        "id": "DSTA4tOKYzJ9"
      },
      "execution_count": null,
      "outputs": []
    },
    {
      "cell_type": "markdown",
      "source": [
        "##Entrenamiento (4) 0,2,3,4 y testeo en 1"
      ],
      "metadata": {
        "id": "mapf1VoXI17_"
      }
    },
    {
      "cell_type": "code",
      "source": [
        "cluster0= total_entrenamiento[total_entrenamiento[\"Cluster_PCA\"]==0]\n",
        "cluster1= total_entrenamiento[total_entrenamiento[\"Cluster_PCA\"]==1]\n",
        "cluster2= total_entrenamiento[total_entrenamiento[\"Cluster_PCA\"]==2]\n",
        "cluster3= total_entrenamiento[total_entrenamiento[\"Cluster_PCA\"]==3]\n",
        "cluster4= total_entrenamiento[total_entrenamiento[\"Cluster_PCA\"]==4]"
      ],
      "metadata": {
        "id": "8mhsWkiw7uR_"
      },
      "execution_count": null,
      "outputs": []
    },
    {
      "cell_type": "code",
      "source": [
        "entrenamiento4= pd.concat([cluster0,cluster4,cluster2,cluster3])\n",
        "testeo4= cluster1"
      ],
      "metadata": {
        "id": "Gtja21JxJ76I"
      },
      "execution_count": null,
      "outputs": []
    },
    {
      "cell_type": "code",
      "source": [
        "entrenamiento4[\"Activity\"].value_counts()"
      ],
      "metadata": {
        "id": "fgeayQVWZOHs"
      },
      "execution_count": null,
      "outputs": []
    },
    {
      "cell_type": "code",
      "source": [
        "entrenamiento4['Activity'] = entrenamiento4['Activity'].map({'Active': 1, 'Inactive': 0})"
      ],
      "metadata": {
        "id": "x_jhYqMk8MGG"
      },
      "execution_count": null,
      "outputs": []
    },
    {
      "cell_type": "code",
      "source": [
        "# filtrar SMILES que no den error\n",
        "SMILES4= []\n",
        "for i in range(len(entrenamiento4['canonical_smiles'])):\n",
        "  try:\n",
        "    cs = Chem.CanonSmiles(entrenamiento4['canonical_smiles'].iloc[i])\n",
        "    SMILES4.append(cs)\n",
        "\n",
        "  except:\n",
        "    print('Invalid SMILES:',entrenamiento4['canonical_smiles'].iloc[i],i)\n",
        "\n",
        "# molecules from smiles\n",
        "ms = [Chem.MolFromSmiles(smile) for smile in SMILES4]\n",
        "# number of atoms per molecule\n",
        "numb = [mol.GetNumAtoms() for mol in ms]\n",
        "# different atoms:\n",
        "C = [] # carbon\n",
        "O = [] # oxigen\n",
        "N = [] # nitrogen\n",
        "Cl=[]\n",
        "F=[]\n",
        "Br=[]\n",
        "I=[]\n",
        "\n",
        "nh2_pattern = Chem.MolFromSmarts(\"[NH2]\")\n",
        "nh2_counts = [len(mol.GetSubstructMatches(nh2_pattern)) for mol in ms]\n",
        "\n",
        "ring5_counts = []\n",
        "ring6_counts=[]\n",
        "\n",
        "\n",
        "for mol in ms:\n",
        "  c = 0\n",
        "  o = 0\n",
        "  n = 0\n",
        "  cl=0\n",
        "  f=0\n",
        "  br=0\n",
        "  i=0\n",
        "  nh2_count = 0\n",
        "  ring_info = mol.GetRingInfo()# Obtener sistemas de anillos saturados\n",
        "  ring5_count = sum(1 for ring in ring_info.AtomRings() if len(ring) == 5)  # Contar anillos de 5 carbonos\n",
        "  ring5_counts.append(ring5_count)\n",
        "  ring6= sum(1 for ring in ring_info.AtomRings()if len(ring) == 6)  # Contar anillos de 5 carbonos\n",
        "  ring6_counts.append(ring6)\n",
        "  for atom in mol.GetAtoms():\n",
        "    if atom.GetAtomicNum() == 6:\n",
        "      c += 1\n",
        "    if atom.GetAtomicNum() == 7:\n",
        "      n += 1\n",
        "    if atom.GetAtomicNum() == 8:\n",
        "      o += 1\n",
        "    if atom.GetAtomicNum() == 9:\n",
        "      f += 1\n",
        "    if atom.GetAtomicNum() == 17:\n",
        "      cl += 1\n",
        "    if atom.GetAtomicNum() == 35:\n",
        "      br += 1\n",
        "    if atom.GetAtomicNum() == 53:\n",
        "      i += 1\n",
        "\n",
        "  C.append(c)\n",
        "  O.append(o)\n",
        "  N.append(n)\n",
        "  Cl.append(cl)\n",
        "  F.append(f)\n",
        "  Br.append(br)\n",
        "  I.append(i)\n",
        "\n",
        "# molecular weight\n",
        "MolWeight = [Descriptors.ExactMolWt(mol) for mol in ms]\n",
        "# rings\n",
        "Rings = [Descriptors.RingCount(mol) for mol in ms]\n",
        "# Total polar surface area\n",
        "TPSA = [Descriptors.TPSA(mol) for mol in ms]\n",
        "# Density Morgan FP\n",
        "FpDM1 = [Descriptors.FpDensityMorgan1(mol) for mol in ms]\n",
        "# rotatable bonds\n",
        "RotBonds = [Descriptors.NumRotatableBonds(mol) for mol in ms]\n",
        "# Obtener la carga formal de la molécula\n",
        "formal_charge =[Chem.rdmolops.GetFormalCharge(mol) for mol in ms]\n",
        "# Calcular el logP (coeficiente de partición octanol-agua) de la molécula\n",
        "logp =[Descriptors.MolLogP(mol) for mol in ms]\n",
        "\n",
        "\n",
        "descriptors4 = pd.DataFrame(list(zip(numb, C, O, N,F,Br,I,Cl, nh2_counts,ring5_counts,ring6_counts,MolWeight, Rings, TPSA, FpDM1, RotBonds,logp,formal_charge)))\n",
        "\n",
        "Activity4= entrenamiento4['Activity']"
      ],
      "metadata": {
        "id": "8ypKt5EEZObT"
      },
      "execution_count": null,
      "outputs": []
    },
    {
      "cell_type": "code",
      "source": [],
      "metadata": {
        "id": "XsGdRHjYZgJv"
      },
      "execution_count": null,
      "outputs": []
    },
    {
      "cell_type": "code",
      "source": [
        "X4 = np.array(descriptors4)\n",
        "y4 = np.array(Activity4)\n",
        "\n",
        "from sklearn.model_selection import GridSearchCV\n",
        "from sklearn.pipeline import Pipeline\n",
        "from sklearn.svm import SVC\n",
        "from xgboost import XGBClassifier\n",
        "\n",
        "xgb_model = XGBClassifier(random_state=42)\n",
        "\n",
        "param_grid = {\n",
        "    'n_estimators': [50, 100, 200],\n",
        "    'learning_rate': [0.01, 0.1, 0.2],\n",
        "    'max_depth': [3, 4, 5],}\n",
        "\n",
        "grid_search = GridSearchCV(estimator=xgb_model, param_grid=param_grid, scoring='accuracy', cv=5)\n",
        "\n",
        "grid_search.fit(X4, y4)\n",
        "\n",
        "# Obtener los mejores hiperparámetros y la mejor puntuación\n",
        "best_params = grid_search.best_params_\n",
        "best_score = grid_search.best_score_\n",
        "\n",
        "print(\"Mejores hiperparámetros:\", best_params)\n",
        "print(\"Mejor Accuracy:\", best_score)\n",
        "\n",
        "# Evaluar el modelo con los mejores hiperparámetros en los datos de prueba\n",
        "best_model4 = grid_search.best_estimator_\n"
      ],
      "metadata": {
        "id": "4lb3ILcGZgfN"
      },
      "execution_count": null,
      "outputs": []
    },
    {
      "cell_type": "markdown",
      "source": [
        "Testeo"
      ],
      "metadata": {
        "id": "Rd1-mFQbZyi4"
      }
    },
    {
      "cell_type": "code",
      "source": [
        "testeo4[\"Activity\"]=testeo4[\"Activity\"].map({'Active': 1, 'Inactive': 0})"
      ],
      "metadata": {
        "id": "9DX3WnQXZzy9"
      },
      "execution_count": null,
      "outputs": []
    },
    {
      "cell_type": "code",
      "source": [
        "# filtrar SMILES que no den error\n",
        "SMILESt4 = []\n",
        "for i in range(len(testeo4['canonical_smiles'])):\n",
        "  try:\n",
        "    cs = Chem.CanonSmiles(testeo4['canonical_smiles'].iloc[i])\n",
        "    SMILESt4.append(cs)\n",
        "\n",
        "  except:\n",
        "    print('Invalid SMILES:',testeo4['canonical_smiles'].iloc[i],i)\n",
        "\n",
        "\n",
        "# molecules from smiles\n",
        "ms = [Chem.MolFromSmiles(smile) for smile in SMILESt4]\n",
        "# number of atoms per molecule\n",
        "numb = [mol.GetNumAtoms() for mol in ms]\n",
        "# different atoms:\n",
        "C = [] # carbon\n",
        "O = [] # oxigen\n",
        "N = [] # nitrogen\n",
        "Cl=[]\n",
        "F=[]\n",
        "Br=[]\n",
        "I=[]\n",
        "\n",
        "nh2_pattern = Chem.MolFromSmarts(\"[NH2]\")\n",
        "nh2_counts = [len(mol.GetSubstructMatches(nh2_pattern)) for mol in ms]\n",
        "\n",
        "ring5_counts = []\n",
        "ring6_counts=[]\n",
        "\n",
        "\n",
        "for mol in ms:\n",
        "  c = 0\n",
        "  o = 0\n",
        "  n = 0\n",
        "  cl=0\n",
        "  f=0\n",
        "  br=0\n",
        "  i=0\n",
        "  nh2_count = 0\n",
        "  ring_info = mol.GetRingInfo()# Obtener sistemas de anillos saturados\n",
        "  ring5_count = sum(1 for ring in ring_info.AtomRings() if len(ring) == 5)  # Contar anillos de 5 carbonos\n",
        "  ring5_counts.append(ring5_count)\n",
        "  ring6= sum(1 for ring in ring_info.AtomRings()if len(ring) == 6)  # Contar anillos de 5 carbonos\n",
        "  ring6_counts.append(ring6)\n",
        "  for atom in mol.GetAtoms():\n",
        "    if atom.GetAtomicNum() == 6:\n",
        "      c += 1\n",
        "    if atom.GetAtomicNum() == 7:\n",
        "      n += 1\n",
        "    if atom.GetAtomicNum() == 8:\n",
        "      o += 1\n",
        "    if atom.GetAtomicNum() == 9:\n",
        "      f += 1\n",
        "    if atom.GetAtomicNum() == 17:\n",
        "      cl += 1\n",
        "    if atom.GetAtomicNum() == 35:\n",
        "      br += 1\n",
        "    if atom.GetAtomicNum() == 53:\n",
        "      i += 1\n",
        "\n",
        "  C.append(c)\n",
        "  O.append(o)\n",
        "  N.append(n)\n",
        "  Cl.append(cl)\n",
        "  F.append(f)\n",
        "  Br.append(br)\n",
        "  I.append(i)\n",
        "\n",
        "# molecular weight\n",
        "MolWeight = [Descriptors.ExactMolWt(mol) for mol in ms]\n",
        "# rings\n",
        "Rings = [Descriptors.RingCount(mol) for mol in ms]\n",
        "# Total polar surface area\n",
        "TPSA = [Descriptors.TPSA(mol) for mol in ms]\n",
        "# Density Morgan FP\n",
        "FpDM1 = [Descriptors.FpDensityMorgan1(mol) for mol in ms]\n",
        "# rotatable bonds\n",
        "RotBonds = [Descriptors.NumRotatableBonds(mol) for mol in ms]\n",
        "# Obtener la carga formal de la molécula\n",
        "formal_charge =[Chem.rdmolops.GetFormalCharge(mol) for mol in ms]\n",
        "# Calcular el logP (coeficiente de partición octanol-agua) de la molécula\n",
        "logp =[Descriptors.MolLogP(mol) for mol in ms]\n",
        "\n",
        "descriptorst4= pd.DataFrame(list(zip(numb, C, O, N,F,Br,I,Cl, nh2_counts,ring5_counts,ring6_counts,MolWeight, Rings, TPSA, FpDM1, RotBonds,logp,formal_charge)))\n",
        "\n",
        "Activityt4= testeo4['Activity']"
      ],
      "metadata": {
        "id": "mzdQ-zYXZ0Bl"
      },
      "execution_count": null,
      "outputs": []
    },
    {
      "cell_type": "code",
      "source": [
        "Xt4 = np.array(descriptorst4)\n",
        "yt4 = np.array(Activityt4)\n",
        "\n",
        "pred_cluster1= best_model4.predict(Xt4)"
      ],
      "metadata": {
        "id": "wqkxWvN6aD3j"
      },
      "execution_count": null,
      "outputs": []
    },
    {
      "cell_type": "code",
      "source": [
        "\n",
        "from sklearn import metrics\n",
        "from sklearn.metrics import confusion_matrix, accuracy_score, precision_score, recall_score\n",
        "\n",
        "accuracy = round(accuracy_score(yt4,pred_cluster1), 3)\n",
        "precision = round(precision_score(yt4,pred_cluster1, average='micro'), 3)\n",
        "recall = round(recall_score(yt4, pred_cluster1, average='micro'), 3)\n",
        "f1_score = 2 * (precision * recall) / (precision + recall)\n",
        "print(f\"Exactitud (Accuracy): {accuracy}\")\n",
        "print(f\"Precisión: {precision}\")\n",
        "print(f\"Exhaustividad (Recall): {recall}\")\n",
        "print(f\"F1-Score: {f1_score}\")\n",
        "confusion_matrix(yt4,pred_cluster1)"
      ],
      "metadata": {
        "id": "PLK73KSJaN2l"
      },
      "execution_count": null,
      "outputs": []
    },
    {
      "cell_type": "markdown",
      "source": [
        "###Resutados 4"
      ],
      "metadata": {
        "id": "7h4nde_HanmK"
      }
    },
    {
      "cell_type": "code",
      "source": [
        "mostrar_resultados(yt4, pred_cluster1)"
      ],
      "metadata": {
        "id": "mgldmFgkaRFy"
      },
      "execution_count": null,
      "outputs": []
    },
    {
      "cell_type": "markdown",
      "source": [
        "##Entrenamiento (5) 1,2,3,4 y testeo en 0\n"
      ],
      "metadata": {
        "id": "poA9srSwI2IG"
      }
    },
    {
      "cell_type": "code",
      "source": [
        "cluster0= total_entrenamiento[total_entrenamiento[\"Cluster_PCA\"]==0]\n",
        "cluster1= total_entrenamiento[total_entrenamiento[\"Cluster_PCA\"]==1]\n",
        "cluster2= total_entrenamiento[total_entrenamiento[\"Cluster_PCA\"]==2]\n",
        "cluster3= total_entrenamiento[total_entrenamiento[\"Cluster_PCA\"]==3]\n",
        "cluster4= total_entrenamiento[total_entrenamiento[\"Cluster_PCA\"]==4]"
      ],
      "metadata": {
        "id": "tqp1caEs-IV9"
      },
      "execution_count": null,
      "outputs": []
    },
    {
      "cell_type": "code",
      "source": [
        "entrenamiento5= pd.concat([cluster4,cluster1,cluster2,cluster3])\n",
        "testeo5= cluster0"
      ],
      "metadata": {
        "id": "tLQVwDSZJ8df"
      },
      "execution_count": null,
      "outputs": []
    },
    {
      "cell_type": "code",
      "source": [
        "entrenamiento5[\"Activity\"].value_counts()"
      ],
      "metadata": {
        "id": "S3Aj9EKtjBxq"
      },
      "execution_count": null,
      "outputs": []
    },
    {
      "cell_type": "code",
      "source": [
        "entrenamiento5['Activity'] = entrenamiento5['Activity'].map({'Active': 1, 'Inactive': 0})"
      ],
      "metadata": {
        "id": "ZVMkXfWJ-LNF"
      },
      "execution_count": null,
      "outputs": []
    },
    {
      "cell_type": "code",
      "source": [
        "# filtrar SMILES que no den error\n",
        "SMILES5= []\n",
        "for i in range(len(entrenamiento5['canonical_smiles'])):\n",
        "  try:\n",
        "    cs = Chem.CanonSmiles(entrenamiento5['canonical_smiles'].iloc[i])\n",
        "    SMILES5.append(cs)\n",
        "\n",
        "  except:\n",
        "    print('Invalid SMILES:',entrenamiento5['canonical_smiles'].iloc[i],i)\n",
        "\n",
        "# molecules from smiles\n",
        "ms = [Chem.MolFromSmiles(smile) for smile in SMILES5]\n",
        "# number of atoms per molecule\n",
        "numb = [mol.GetNumAtoms() for mol in ms]\n",
        "# different atoms:\n",
        "C = [] # carbon\n",
        "O = [] # oxigen\n",
        "N = [] # nitrogen\n",
        "Cl=[]\n",
        "F=[]\n",
        "Br=[]\n",
        "I=[]\n",
        "\n",
        "nh2_pattern = Chem.MolFromSmarts(\"[NH2]\")\n",
        "nh2_counts = [len(mol.GetSubstructMatches(nh2_pattern)) for mol in ms]\n",
        "\n",
        "ring5_counts = []\n",
        "ring6_counts=[]\n",
        "\n",
        "\n",
        "for mol in ms:\n",
        "  c = 0\n",
        "  o = 0\n",
        "  n = 0\n",
        "  cl=0\n",
        "  f=0\n",
        "  br=0\n",
        "  i=0\n",
        "  nh2_count = 0\n",
        "  ring_info = mol.GetRingInfo()# Obtener sistemas de anillos saturados\n",
        "  ring5_count = sum(1 for ring in ring_info.AtomRings() if len(ring) == 5)  # Contar anillos de 5 carbonos\n",
        "  ring5_counts.append(ring5_count)\n",
        "  ring6= sum(1 for ring in ring_info.AtomRings()if len(ring) == 6)  # Contar anillos de 5 carbonos\n",
        "  ring6_counts.append(ring6)\n",
        "  for atom in mol.GetAtoms():\n",
        "    if atom.GetAtomicNum() == 6:\n",
        "      c += 1\n",
        "    if atom.GetAtomicNum() == 7:\n",
        "      n += 1\n",
        "    if atom.GetAtomicNum() == 8:\n",
        "      o += 1\n",
        "    if atom.GetAtomicNum() == 9:\n",
        "      f += 1\n",
        "    if atom.GetAtomicNum() == 17:\n",
        "      cl += 1\n",
        "    if atom.GetAtomicNum() == 35:\n",
        "      br += 1\n",
        "    if atom.GetAtomicNum() == 53:\n",
        "      i += 1\n",
        "\n",
        "  C.append(c)\n",
        "  O.append(o)\n",
        "  N.append(n)\n",
        "  Cl.append(cl)\n",
        "  F.append(f)\n",
        "  Br.append(br)\n",
        "  I.append(i)\n",
        "\n",
        "# molecular weight\n",
        "MolWeight = [Descriptors.ExactMolWt(mol) for mol in ms]\n",
        "# rings\n",
        "Rings = [Descriptors.RingCount(mol) for mol in ms]\n",
        "# Total polar surface area\n",
        "TPSA = [Descriptors.TPSA(mol) for mol in ms]\n",
        "# Density Morgan FP\n",
        "FpDM1 = [Descriptors.FpDensityMorgan1(mol) for mol in ms]\n",
        "# rotatable bonds\n",
        "RotBonds = [Descriptors.NumRotatableBonds(mol) for mol in ms]\n",
        "# Obtener la carga formal de la molécula\n",
        "formal_charge =[Chem.rdmolops.GetFormalCharge(mol) for mol in ms]\n",
        "# Calcular el logP (coeficiente de partición octanol-agua) de la molécula\n",
        "logp =[Descriptors.MolLogP(mol) for mol in ms]\n",
        "\n",
        "\n",
        "descriptors5 = pd.DataFrame(list(zip(numb, C, O, N,F,Br,I,Cl, nh2_counts,ring5_counts,ring6_counts,MolWeight, Rings, TPSA, FpDM1, RotBonds,logp,formal_charge)))\n",
        "\n",
        "Activity5= entrenamiento5['Activity']"
      ],
      "metadata": {
        "id": "j4JKB9vTbBD6"
      },
      "execution_count": null,
      "outputs": []
    },
    {
      "cell_type": "code",
      "source": [
        "X5 = np.array(descriptors5)\n",
        "y5 = np.array(Activity5)\n",
        "\n",
        "from sklearn.model_selection import GridSearchCV\n",
        "from sklearn.pipeline import Pipeline\n",
        "from sklearn.svm import SVC\n",
        "from xgboost import XGBClassifier\n",
        "\n",
        "xgb_model = XGBClassifier(random_state=42)\n",
        "\n",
        "param_grid = {\n",
        "    'n_estimators': [50, 100, 200],\n",
        "    'learning_rate': [0.01, 0.1, 0.2],\n",
        "    'max_depth': [3, 4, 5],}\n",
        "\n",
        "grid_search = GridSearchCV(estimator=xgb_model, param_grid=param_grid, scoring='accuracy', cv=5)\n",
        "\n",
        "grid_search.fit(X5, y5)\n",
        "\n",
        "# Obtener los mejores hiperparámetros y la mejor puntuación\n",
        "best_params = grid_search.best_params_\n",
        "best_score = grid_search.best_score_\n",
        "\n",
        "print(\"Mejores hiperparámetros:\", best_params)\n",
        "print(\"Mejor Accuracy:\", best_score)\n",
        "\n",
        "# Evaluar el modelo con los mejores hiperparámetros en los datos de prueba\n",
        "best_model5 = grid_search.best_estimator_"
      ],
      "metadata": {
        "id": "1OC7bVHIbZTx"
      },
      "execution_count": null,
      "outputs": []
    },
    {
      "cell_type": "markdown",
      "source": [
        "Testeo"
      ],
      "metadata": {
        "id": "M4pZdkIAbmLH"
      }
    },
    {
      "cell_type": "code",
      "source": [
        "testeo5[\"Activity\"]=testeo5[\"Activity\"].map({'Active': 1, 'Inactive': 0})"
      ],
      "metadata": {
        "id": "jV9V-ABgbn7w"
      },
      "execution_count": null,
      "outputs": []
    },
    {
      "cell_type": "code",
      "source": [
        "# filtrar SMILES que no den error\n",
        "SMILESt5 = []\n",
        "for i in range(len(testeo5['canonical_smiles'])):\n",
        "  try:\n",
        "    cs = Chem.CanonSmiles(testeo5['canonical_smiles'].iloc[i])\n",
        "    SMILESt5.append(cs)\n",
        "\n",
        "  except:\n",
        "    print('Invalid SMILES:',testeo5['canonical_smiles'].iloc[i],i)\n",
        "\n",
        "\n",
        "# molecules from smiles\n",
        "ms = [Chem.MolFromSmiles(smile) for smile in SMILESt5]\n",
        "# number of atoms per molecule\n",
        "numb = [mol.GetNumAtoms() for mol in ms]\n",
        "# different atoms:\n",
        "C = [] # carbon\n",
        "O = [] # oxigen\n",
        "N = [] # nitrogen\n",
        "Cl=[]\n",
        "F=[]\n",
        "Br=[]\n",
        "I=[]\n",
        "\n",
        "nh2_pattern = Chem.MolFromSmarts(\"[NH2]\")\n",
        "nh2_counts = [len(mol.GetSubstructMatches(nh2_pattern)) for mol in ms]\n",
        "\n",
        "ring5_counts = []\n",
        "ring6_counts=[]\n",
        "\n",
        "\n",
        "for mol in ms:\n",
        "  c = 0\n",
        "  o = 0\n",
        "  n = 0\n",
        "  cl=0\n",
        "  f=0\n",
        "  br=0\n",
        "  i=0\n",
        "  nh2_count = 0\n",
        "  ring_info = mol.GetRingInfo()# Obtener sistemas de anillos saturados\n",
        "  ring5_count = sum(1 for ring in ring_info.AtomRings() if len(ring) == 5)  # Contar anillos de 5 carbonos\n",
        "  ring5_counts.append(ring5_count)\n",
        "  ring6= sum(1 for ring in ring_info.AtomRings()if len(ring) == 6)  # Contar anillos de 5 carbonos\n",
        "  ring6_counts.append(ring6)\n",
        "  for atom in mol.GetAtoms():\n",
        "    if atom.GetAtomicNum() == 6:\n",
        "      c += 1\n",
        "    if atom.GetAtomicNum() == 7:\n",
        "      n += 1\n",
        "    if atom.GetAtomicNum() == 8:\n",
        "      o += 1\n",
        "    if atom.GetAtomicNum() == 9:\n",
        "      f += 1\n",
        "    if atom.GetAtomicNum() == 17:\n",
        "      cl += 1\n",
        "    if atom.GetAtomicNum() == 35:\n",
        "      br += 1\n",
        "    if atom.GetAtomicNum() == 53:\n",
        "      i += 1\n",
        "\n",
        "  C.append(c)\n",
        "  O.append(o)\n",
        "  N.append(n)\n",
        "  Cl.append(cl)\n",
        "  F.append(f)\n",
        "  Br.append(br)\n",
        "  I.append(i)\n",
        "\n",
        "# molecular weight\n",
        "MolWeight = [Descriptors.ExactMolWt(mol) for mol in ms]\n",
        "# rings\n",
        "Rings = [Descriptors.RingCount(mol) for mol in ms]\n",
        "# Total polar surface area\n",
        "TPSA = [Descriptors.TPSA(mol) for mol in ms]\n",
        "# Density Morgan FP\n",
        "FpDM1 = [Descriptors.FpDensityMorgan1(mol) for mol in ms]\n",
        "# rotatable bonds\n",
        "RotBonds = [Descriptors.NumRotatableBonds(mol) for mol in ms]\n",
        "# Obtener la carga formal de la molécula\n",
        "formal_charge =[Chem.rdmolops.GetFormalCharge(mol) for mol in ms]\n",
        "# Calcular el logP (coeficiente de partición octanol-agua) de la molécula\n",
        "logp =[Descriptors.MolLogP(mol) for mol in ms]\n",
        "\n",
        "descriptorst5= pd.DataFrame(list(zip(numb, C, O, N,F,Br,I,Cl, nh2_counts,ring5_counts,ring6_counts,MolWeight, Rings, TPSA, FpDM1, RotBonds,logp,formal_charge)))\n",
        "\n",
        "Activityt5= testeo5['Activity']"
      ],
      "metadata": {
        "id": "Wb10pbYFboDq"
      },
      "execution_count": null,
      "outputs": []
    },
    {
      "cell_type": "code",
      "source": [
        "Xt5 = np.array(descriptorst5)\n",
        "yt5 = np.array(Activityt5)\n",
        "\n",
        "pred_cluster0= best_model5.predict(Xt5)"
      ],
      "metadata": {
        "id": "9k6aNJsOb2Tz"
      },
      "execution_count": null,
      "outputs": []
    },
    {
      "cell_type": "code",
      "source": [
        "\n",
        "from sklearn import metrics\n",
        "from sklearn.metrics import confusion_matrix, accuracy_score, precision_score, recall_score\n",
        "\n",
        "accuracy = round(accuracy_score(yt5,pred_cluster0), 3)\n",
        "precision = round(precision_score(yt5,pred_cluster0, average='micro'), 3)\n",
        "recall = round(recall_score(yt5, pred_cluster0, average='micro'), 3)\n",
        "f1_score = 2 * (precision * recall) / (precision + recall)\n",
        "print(f\"Exactitud (Accuracy): {accuracy}\")\n",
        "print(f\"Precisión: {precision}\")\n",
        "print(f\"Exhaustividad (Recall): {recall}\")\n",
        "print(f\"F1-Score: {f1_score}\")\n",
        "confusion_matrix(yt5,pred_cluster0)"
      ],
      "metadata": {
        "id": "7UKN15ztcGCs"
      },
      "execution_count": null,
      "outputs": []
    },
    {
      "cell_type": "markdown",
      "source": [
        "### Resultados 5"
      ],
      "metadata": {
        "id": "SddKgjqWcnxo"
      }
    },
    {
      "cell_type": "code",
      "source": [
        "mostrar_resultados(yt5, pred_cluster0)"
      ],
      "metadata": {
        "id": "jqmPQLKdcU-P"
      },
      "execution_count": null,
      "outputs": []
    },
    {
      "cell_type": "markdown",
      "source": [
        "##Prueba en testeo"
      ],
      "metadata": {
        "id": "TnqeT_pkjh99"
      }
    },
    {
      "cell_type": "code",
      "source": [
        "#use el modelo 3 para probar creoque es el que mejor predijo ambos"
      ],
      "metadata": {
        "id": "XMGYolW1jmbg"
      },
      "execution_count": null,
      "outputs": []
    },
    {
      "cell_type": "code",
      "source": [
        "total_prueba"
      ],
      "metadata": {
        "id": "FMUOixKHjvSM"
      },
      "execution_count": null,
      "outputs": []
    },
    {
      "cell_type": "code",
      "source": [
        "total_prueba[\"Activity\"]=total_prueba[\"Activity\"].map({'Active': 1, 'Inactive': 0})"
      ],
      "metadata": {
        "id": "qqWLU_tW-4EB"
      },
      "execution_count": null,
      "outputs": []
    },
    {
      "cell_type": "code",
      "source": [
        "# filtrar SMILES que no den error\n",
        "SMILESs= []\n",
        "for i in range(len(total_prueba['canonical_smiles'])):\n",
        "  try:\n",
        "    cs = Chem.CanonSmiles(total_prueba['canonical_smiles'].iloc[i])\n",
        "    SMILESs.append(cs)\n",
        "\n",
        "  except:\n",
        "    print('Invalid SMILES:',total_prueba['canonical_smiles'].iloc[i],i)\n",
        "\n",
        "# molecules from smiles\n",
        "ms = [Chem.MolFromSmiles(smile) for smile in SMILESs]\n",
        "# number of atoms per molecule\n",
        "numb = [mol.GetNumAtoms() for mol in ms]\n",
        "# different atoms:\n",
        "C = [] # carbon\n",
        "O = [] # oxigen\n",
        "N = [] # nitrogen\n",
        "Cl=[]\n",
        "F=[]\n",
        "Br=[]\n",
        "I=[]\n",
        "\n",
        "nh2_pattern = Chem.MolFromSmarts(\"[NH2]\")\n",
        "nh2_counts = [len(mol.GetSubstructMatches(nh2_pattern)) for mol in ms]\n",
        "\n",
        "ring5_counts = []\n",
        "ring6_counts=[]\n",
        "\n",
        "\n",
        "for mol in ms:\n",
        "  c = 0\n",
        "  o = 0\n",
        "  n = 0\n",
        "  cl=0\n",
        "  f=0\n",
        "  br=0\n",
        "  i=0\n",
        "  nh2_count = 0\n",
        "  ring_info = mol.GetRingInfo()# Obtener sistemas de anillos saturados\n",
        "  ring5_count = sum(1 for ring in ring_info.AtomRings() if len(ring) == 5)  # Contar anillos de 5 carbonos\n",
        "  ring5_counts.append(ring5_count)\n",
        "  ring6= sum(1 for ring in ring_info.AtomRings()if len(ring) == 6)  # Contar anillos de 5 carbonos\n",
        "  ring6_counts.append(ring6)\n",
        "  for atom in mol.GetAtoms():\n",
        "    if atom.GetAtomicNum() == 6:\n",
        "      c += 1\n",
        "    if atom.GetAtomicNum() == 7:\n",
        "      n += 1\n",
        "    if atom.GetAtomicNum() == 8:\n",
        "      o += 1\n",
        "    if atom.GetAtomicNum() == 9:\n",
        "      f += 1\n",
        "    if atom.GetAtomicNum() == 17:\n",
        "      cl += 1\n",
        "    if atom.GetAtomicNum() == 35:\n",
        "      br += 1\n",
        "    if atom.GetAtomicNum() == 53:\n",
        "      i += 1\n",
        "\n",
        "  C.append(c)\n",
        "  O.append(o)\n",
        "  N.append(n)\n",
        "  Cl.append(cl)\n",
        "  F.append(f)\n",
        "  Br.append(br)\n",
        "  I.append(i)\n",
        "\n",
        "# molecular weight\n",
        "MolWeight = [Descriptors.ExactMolWt(mol) for mol in ms]\n",
        "# rings\n",
        "Rings = [Descriptors.RingCount(mol) for mol in ms]\n",
        "# Total polar surface area\n",
        "TPSA = [Descriptors.TPSA(mol) for mol in ms]\n",
        "# Density Morgan FP\n",
        "FpDM1 = [Descriptors.FpDensityMorgan1(mol) for mol in ms]\n",
        "# rotatable bonds\n",
        "RotBonds = [Descriptors.NumRotatableBonds(mol) for mol in ms]\n",
        "# Obtener la carga formal de la molécula\n",
        "formal_charge =[Chem.rdmolops.GetFormalCharge(mol) for mol in ms]\n",
        "# Calcular el logP (coeficiente de partición octanol-agua) de la molécula\n",
        "logp =[Descriptors.MolLogP(mol) for mol in ms]\n",
        "\n",
        "\n",
        "descriptorss = pd.DataFrame(list(zip(numb, C, O, N,F,Br,I,Cl, nh2_counts,ring5_counts,ring6_counts,MolWeight, Rings, TPSA, FpDM1, RotBonds,logp,formal_charge)))\n",
        "\n",
        "Activitys= total_prueba['Activity']"
      ],
      "metadata": {
        "id": "_R4UOzGXj5rD"
      },
      "execution_count": null,
      "outputs": []
    },
    {
      "cell_type": "code",
      "source": [
        "Xts = np.array(descriptorss)\n",
        "yts = np.array(Activitys)\n",
        "\n",
        "pred_prueba= best_model4.predict(Xts)"
      ],
      "metadata": {
        "id": "ZrtZ08TBkN9J"
      },
      "execution_count": null,
      "outputs": []
    },
    {
      "cell_type": "code",
      "source": [
        "total_prueba['Activity'].value_counts()"
      ],
      "metadata": {
        "id": "1hkT3wt9kgS4"
      },
      "execution_count": null,
      "outputs": []
    },
    {
      "cell_type": "code",
      "source": [
        "\n",
        "from sklearn import metrics\n",
        "from sklearn.metrics import confusion_matrix, accuracy_score, precision_score, recall_score\n",
        "\n",
        "accuracy = round(accuracy_score(yts,pred_prueba), 3)\n",
        "precision = round(precision_score(yts,pred_prueba, average='micro'), 3)\n",
        "recall = round(recall_score(yts, pred_prueba, average='micro'), 3)\n",
        "f1_score = 2 * (precision * recall) / (precision + recall)\n",
        "print(f\"Exactitud (Accuracy): {accuracy}\")\n",
        "print(f\"Precisión: {precision}\")\n",
        "print(f\"Exhaustividad (Recall): {recall}\")\n",
        "print(f\"F1-Score: {f1_score}\")\n",
        "confusion_matrix(yts,pred_prueba)"
      ],
      "metadata": {
        "id": "ipzfKQIFkc-K"
      },
      "execution_count": null,
      "outputs": []
    },
    {
      "cell_type": "code",
      "source": [
        "mostrar_resultados(yts,pred_prueba)"
      ],
      "metadata": {
        "id": "A_7odJKwkz0Q"
      },
      "execution_count": null,
      "outputs": []
    }
  ]
}