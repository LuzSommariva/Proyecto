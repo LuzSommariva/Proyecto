{
  "cells": [
    {
      "cell_type": "markdown",
      "metadata": {
        "id": "-lz5yadqkxeR"
      },
      "source": [
        "#Instalacion librerias\n"
      ]
    },
    {
      "cell_type": "code",
      "execution_count": null,
      "metadata": {
        "colab": {
          "base_uri": "https://localhost:8080/"
        },
        "id": "4xgfzTS3fGsm",
        "outputId": "3a4ac925-1810-46f3-a58c-b9577ebc06b6"
      },
      "outputs": [
        {
          "name": "stdout",
          "output_type": "stream",
          "text": [
            "Collecting git+https://github.com/ikmckenz/adme-pred-py.git\n",
            "  Cloning https://github.com/ikmckenz/adme-pred-py.git to /tmp/pip-req-build-5g7d2kar\n",
            "  Running command git clone --filter=blob:none --quiet https://github.com/ikmckenz/adme-pred-py.git /tmp/pip-req-build-5g7d2kar\n",
            "  Resolved https://github.com/ikmckenz/adme-pred-py.git to commit 8091a02fe5998b8ba237760ade7ff3400abbbcdd\n",
            "  Preparing metadata (setup.py) ... \u001b[?25l\u001b[?25hdone\n",
            "Requirement already satisfied: pandas in /usr/local/lib/python3.10/dist-packages (1.5.3)\n",
            "Requirement already satisfied: rdkit in /usr/local/lib/python3.10/dist-packages (2023.9.1)\n",
            "Requirement already satisfied: tqdm in /usr/local/lib/python3.10/dist-packages (4.66.1)\n",
            "Requirement already satisfied: chembl_webresource_client in /usr/local/lib/python3.10/dist-packages (0.10.8)\n",
            "Requirement already satisfied: python-dateutil>=2.8.1 in /usr/local/lib/python3.10/dist-packages (from pandas) (2.8.2)\n",
            "Requirement already satisfied: pytz>=2020.1 in /usr/local/lib/python3.10/dist-packages (from pandas) (2023.3.post1)\n",
            "Requirement already satisfied: numpy>=1.21.0 in /usr/local/lib/python3.10/dist-packages (from pandas) (1.23.5)\n",
            "Requirement already satisfied: Pillow in /usr/local/lib/python3.10/dist-packages (from rdkit) (9.4.0)\n",
            "Requirement already satisfied: urllib3 in /usr/local/lib/python3.10/dist-packages (from chembl_webresource_client) (2.0.7)\n",
            "Requirement already satisfied: requests>=2.18.4 in /usr/local/lib/python3.10/dist-packages (from chembl_webresource_client) (2.31.0)\n",
            "Requirement already satisfied: requests-cache~=0.7.0 in /usr/local/lib/python3.10/dist-packages (from chembl_webresource_client) (0.7.5)\n",
            "Requirement already satisfied: easydict in /usr/local/lib/python3.10/dist-packages (from chembl_webresource_client) (1.11)\n",
            "Requirement already satisfied: six>=1.5 in /usr/local/lib/python3.10/dist-packages (from python-dateutil>=2.8.1->pandas) (1.16.0)\n",
            "Requirement already satisfied: charset-normalizer<4,>=2 in /usr/local/lib/python3.10/dist-packages (from requests>=2.18.4->chembl_webresource_client) (3.3.1)\n",
            "Requirement already satisfied: idna<4,>=2.5 in /usr/local/lib/python3.10/dist-packages (from requests>=2.18.4->chembl_webresource_client) (3.4)\n",
            "Requirement already satisfied: certifi>=2017.4.17 in /usr/local/lib/python3.10/dist-packages (from requests>=2.18.4->chembl_webresource_client) (2023.7.22)\n",
            "Requirement already satisfied: attrs<22.0,>=21.2 in /usr/local/lib/python3.10/dist-packages (from requests-cache~=0.7.0->chembl_webresource_client) (21.4.0)\n",
            "Requirement already satisfied: itsdangerous>=2.0.1 in /usr/local/lib/python3.10/dist-packages (from requests-cache~=0.7.0->chembl_webresource_client) (2.1.2)\n",
            "Requirement already satisfied: pyyaml>=5.4 in /usr/local/lib/python3.10/dist-packages (from requests-cache~=0.7.0->chembl_webresource_client) (6.0.1)\n",
            "Requirement already satisfied: url-normalize<2.0,>=1.4 in /usr/local/lib/python3.10/dist-packages (from requests-cache~=0.7.0->chembl_webresource_client) (1.4.3)\n"
          ]
        }
      ],
      "source": [
        "# Instalar las librerias\n",
        "!pip install pandas rdkit tqdm chembl_webresource_client git+https://github.com/ikmckenz/adme-pred-py.git"
      ]
    },
    {
      "cell_type": "code",
      "execution_count": null,
      "metadata": {
        "colab": {
          "base_uri": "https://localhost:8080/"
        },
        "id": "A8ZRkH_yk1pW",
        "outputId": "44393484-5c6c-4575-ba6b-2456fa0058aa"
      },
      "outputs": [
        {
          "name": "stdout",
          "output_type": "stream",
          "text": [
            "Requirement already satisfied: pandas in /usr/local/lib/python3.10/dist-packages (1.5.3)\n",
            "Requirement already satisfied: rdkit in /usr/local/lib/python3.10/dist-packages (2023.9.1)\n",
            "Requirement already satisfied: tqdm in /usr/local/lib/python3.10/dist-packages (4.66.1)\n",
            "Requirement already satisfied: useful_rdkit_utils in /usr/local/lib/python3.10/dist-packages (0.3.12)\n",
            "Requirement already satisfied: seaborn in /usr/local/lib/python3.10/dist-packages (0.12.2)\n",
            "Requirement already satisfied: scikit-posthocs in /usr/local/lib/python3.10/dist-packages (0.7.0)\n",
            "Requirement already satisfied: chembl_downloader in /usr/local/lib/python3.10/dist-packages (0.4.4)\n",
            "Requirement already satisfied: chembl_webresource_client in /usr/local/lib/python3.10/dist-packages (0.10.8)\n",
            "Requirement already satisfied: pubchempy in /usr/local/lib/python3.10/dist-packages (1.0.4)\n",
            "Requirement already satisfied: python-dateutil>=2.8.1 in /usr/local/lib/python3.10/dist-packages (from pandas) (2.8.2)\n",
            "Requirement already satisfied: pytz>=2020.1 in /usr/local/lib/python3.10/dist-packages (from pandas) (2023.3.post1)\n",
            "Requirement already satisfied: numpy>=1.21.0 in /usr/local/lib/python3.10/dist-packages (from pandas) (1.23.5)\n",
            "Requirement already satisfied: Pillow in /usr/local/lib/python3.10/dist-packages (from rdkit) (9.4.0)\n",
            "Requirement already satisfied: pyarrow in /usr/local/lib/python3.10/dist-packages (from useful_rdkit_utils) (9.0.0)\n",
            "Requirement already satisfied: pystow in /usr/local/lib/python3.10/dist-packages (from useful_rdkit_utils) (0.5.0)\n",
            "Requirement already satisfied: matplotlib!=3.6.1,>=3.1 in /usr/local/lib/python3.10/dist-packages (from seaborn) (3.7.1)\n",
            "Requirement already satisfied: scipy in /usr/local/lib/python3.10/dist-packages (from scikit-posthocs) (1.11.3)\n",
            "Requirement already satisfied: statsmodels in /usr/local/lib/python3.10/dist-packages (from scikit-posthocs) (0.14.0)\n",
            "Requirement already satisfied: click in /usr/local/lib/python3.10/dist-packages (from chembl_downloader) (8.1.7)\n",
            "Requirement already satisfied: more-click in /usr/local/lib/python3.10/dist-packages (from chembl_downloader) (0.1.2)\n",
            "Requirement already satisfied: typing-extensions in /usr/local/lib/python3.10/dist-packages (from chembl_downloader) (4.5.0)\n",
            "Requirement already satisfied: urllib3 in /usr/local/lib/python3.10/dist-packages (from chembl_webresource_client) (2.0.7)\n",
            "Requirement already satisfied: requests>=2.18.4 in /usr/local/lib/python3.10/dist-packages (from chembl_webresource_client) (2.31.0)\n",
            "Requirement already satisfied: requests-cache~=0.7.0 in /usr/local/lib/python3.10/dist-packages (from chembl_webresource_client) (0.7.5)\n",
            "Requirement already satisfied: easydict in /usr/local/lib/python3.10/dist-packages (from chembl_webresource_client) (1.11)\n",
            "Requirement already satisfied: contourpy>=1.0.1 in /usr/local/lib/python3.10/dist-packages (from matplotlib!=3.6.1,>=3.1->seaborn) (1.1.1)\n",
            "Requirement already satisfied: cycler>=0.10 in /usr/local/lib/python3.10/dist-packages (from matplotlib!=3.6.1,>=3.1->seaborn) (0.12.1)\n",
            "Requirement already satisfied: fonttools>=4.22.0 in /usr/local/lib/python3.10/dist-packages (from matplotlib!=3.6.1,>=3.1->seaborn) (4.43.1)\n",
            "Requirement already satisfied: kiwisolver>=1.0.1 in /usr/local/lib/python3.10/dist-packages (from matplotlib!=3.6.1,>=3.1->seaborn) (1.4.5)\n",
            "Requirement already satisfied: packaging>=20.0 in /usr/local/lib/python3.10/dist-packages (from matplotlib!=3.6.1,>=3.1->seaborn) (23.2)\n",
            "Requirement already satisfied: pyparsing>=2.3.1 in /usr/local/lib/python3.10/dist-packages (from matplotlib!=3.6.1,>=3.1->seaborn) (3.1.1)\n",
            "Requirement already satisfied: six>=1.5 in /usr/local/lib/python3.10/dist-packages (from python-dateutil>=2.8.1->pandas) (1.16.0)\n",
            "Requirement already satisfied: charset-normalizer<4,>=2 in /usr/local/lib/python3.10/dist-packages (from requests>=2.18.4->chembl_webresource_client) (3.3.1)\n",
            "Requirement already satisfied: idna<4,>=2.5 in /usr/local/lib/python3.10/dist-packages (from requests>=2.18.4->chembl_webresource_client) (3.4)\n",
            "Requirement already satisfied: certifi>=2017.4.17 in /usr/local/lib/python3.10/dist-packages (from requests>=2.18.4->chembl_webresource_client) (2023.7.22)\n",
            "Requirement already satisfied: attrs<22.0,>=21.2 in /usr/local/lib/python3.10/dist-packages (from requests-cache~=0.7.0->chembl_webresource_client) (21.4.0)\n",
            "Requirement already satisfied: itsdangerous>=2.0.1 in /usr/local/lib/python3.10/dist-packages (from requests-cache~=0.7.0->chembl_webresource_client) (2.1.2)\n",
            "Requirement already satisfied: pyyaml>=5.4 in /usr/local/lib/python3.10/dist-packages (from requests-cache~=0.7.0->chembl_webresource_client) (6.0.1)\n",
            "Requirement already satisfied: url-normalize<2.0,>=1.4 in /usr/local/lib/python3.10/dist-packages (from requests-cache~=0.7.0->chembl_webresource_client) (1.4.3)\n",
            "Requirement already satisfied: patsy>=0.5.2 in /usr/local/lib/python3.10/dist-packages (from statsmodels->scikit-posthocs) (0.5.3)\n"
          ]
        }
      ],
      "source": [
        "# Instalar las librerias\n",
        "!pip install pandas rdkit tqdm useful_rdkit_utils seaborn scikit-posthocs chembl_downloader chembl_webresource_client  pubchempy"
      ]
    },
    {
      "cell_type": "markdown",
      "metadata": {
        "id": "7Sbocg3yk7oJ"
      },
      "source": [
        "#Importacion"
      ]
    },
    {
      "cell_type": "code",
      "execution_count": null,
      "metadata": {
        "id": "l3YVr0dzk9hA"
      },
      "outputs": [],
      "source": [
        "import os\n",
        "\n",
        "# Importar libreria para guardar trabajar con tablas\n",
        "import pandas as pd\n",
        "import numpy as np\n",
        "\n",
        "# Importar las librerias de RDKit\n",
        "from rdkit import Chem, DataStructs\n",
        "from rdkit.Chem import Draw\n",
        "from rdkit.Chem import rdMolDescriptors\n",
        "from rdkit.Chem import Descriptors\n",
        "from rdkit.Chem import PandasTools\n",
        "from rdkit.Chem.Draw import rdMolDraw2D\n",
        "from rdkit.Chem.Fingerprints import FingerprintMols\n",
        "\n",
        "# Importar las librerias para graficar\n",
        "import matplotlib.pyplot as plt\n",
        "import matplotlib.cm as cm\n",
        "import matplotlib.gridspec as gridspec\n",
        "import seaborn as sns\n",
        "\n",
        "# Importar las funciones de 'scipy'\n",
        "from scipy.cluster.hierarchy import dendrogram, linkage, is_valid_linkage, cut_tree\n",
        "\n",
        "# Importar las funciones de 'sklearn'\n",
        "from sklearn.cluster import KMeans\n",
        "from sklearn.metrics import silhouette_samples, silhouette_score\n",
        "from sklearn.preprocessing import StandardScaler\n",
        "from sklearn.decomposition import PCA\n",
        "from sklearn.cluster import AgglomerativeClustering\n",
        "\n",
        "# Importar libreria de ChEMBL\n",
        "from chembl_webresource_client.new_client import new_client\n",
        "\n",
        "# Importar libreria de PubChem\n",
        "import pubchempy as pcp\n",
        "\n",
        "# Importar libreria para ver una barra con el progreso de cada comando\n",
        "from tqdm.auto import tqdm\n",
        "tqdm.pandas()\n",
        "\n",
        "# Importar el módulo de advertencias\n",
        "import warnings\n",
        "\n",
        "# Importar el módulo sys\n",
        "import sys\n",
        "np.set_printoptions(threshold=sys.maxsize)\n",
        "\n",
        "\n",
        "from rdkit import Chem, DataStructs\n",
        "from rdkit.Chem import Draw\n",
        "from rdkit.Chem import rdMolDescriptors\n",
        "from rdkit.Chem import Descriptors\n",
        "from rdkit.Chem import PandasTools\n",
        "from rdkit.Chem.Draw import rdMolDraw2D\n",
        "from rdkit.Chem.Fingerprints import FingerprintMols\n",
        "\n",
        "\n",
        "# Importar libreria de RDKit\n",
        "from rdkit import Chem\n",
        "from rdkit.Chem import AllChem\n",
        "from rdkit.Chem import Draw\n",
        "from rdkit.Chem.Draw import rdMolDraw2D\n",
        "from rdkit.Chem import PandasTools\n",
        "from rdkit.Chem import rdMolDescriptors\n",
        "from rdkit.Chem import Descriptors\n",
        "\n",
        "# Importar libreria para cambiar el directorio y guardar archivos\n",
        "import os\n",
        "\n",
        "# Importar libreria para ver una barra con el progreso de cada comando\n",
        "from tqdm.auto import tqdm\n",
        "tqdm.pandas()\n",
        "\n",
        "import pandas as pd\n",
        "\n",
        "from chembl_webresource_client.new_client import new_client\n",
        "\n",
        "# Importar libreria de ADME\n",
        "from adme_pred import ADME\n",
        "\n",
        "# Importar las librerias para graficar\n",
        "import matplotlib.pyplot as plt\n",
        "import matplotlib.cm as cm\n",
        "import matplotlib.gridspec as gridspec\n",
        "import seaborn as sns\n",
        "\n",
        "from sklearn.metrics import confusion_matrix\n",
        "from sklearn.metrics import classification_report\n",
        "from sklearn.model_selection import train_test_split\n",
        "from sklearn.linear_model import LogisticRegression\n",
        "from sklearn.decomposition import PCA\n",
        "from sklearn.tree import DecisionTreeClassifier\n",
        "\n",
        "from pylab import rcParams\n",
        "\n",
        "from imblearn.under_sampling import NearMiss\n",
        "from imblearn.over_sampling import RandomOverSampler\n",
        "from imblearn.combine import SMOTETomek\n",
        "from imblearn.ensemble import BalancedBaggingClassifier\n",
        "\n",
        "from collections import Counter\n",
        "\n",
        "#set up graphic style in this case I am using the color scheme from xkcd.com\n",
        "rcParams['figure.figsize'] = 14, 8.7 # Golden Mean\n",
        "LABELS = [\"Active\",\"Inactive\"]\n",
        "#col_list = [\"cerulean\",\"scarlet\"]# https://xkcd.com/color/rgb/\n",
        "#sns.set(style='white', font_scale=1.75, palette=sns.xkcd_palette(col_list))\n",
        "\n",
        "%matplotlib inline"
      ]
    },
    {
      "cell_type": "code",
      "execution_count": null,
      "metadata": {
        "id": "mI_sKaCplAs8"
      },
      "outputs": [],
      "source": [
        "def mostrar_resultados(y_test, pred_y):\n",
        "    conf_matrix = confusion_matrix(y_test, pred_y)\n",
        "    plt.figure(figsize=(8, 8))\n",
        "    sns.heatmap(conf_matrix, xticklabels=LABELS, yticklabels=LABELS, annot=True, fmt=\"d\");\n",
        "    plt.title(\"Confusion matrix\")\n",
        "    plt.ylabel('True class')\n",
        "    plt.xlabel('Predicted class')\n",
        "    plt.show()\n",
        "    print (classification_report(y_test, pred_y))"
      ]
    },
    {
      "cell_type": "markdown",
      "metadata": {
        "id": "kOvNvYCflCmD"
      },
      "source": [
        "#Google"
      ]
    },
    {
      "cell_type": "code",
      "execution_count": null,
      "metadata": {
        "id": "zEE03wPTlFHj"
      },
      "outputs": [],
      "source": [
        "from google.colab import drive\n",
        "drive.mount('/content/drive')"
      ]
    },
    {
      "cell_type": "code",
      "execution_count": null,
      "metadata": {
        "id": "d_JqRqIplFYO"
      },
      "outputs": [],
      "source": [
        "# Indicar la carpeta de trabajo\n",
        "#path_luz = '/content/drive/MyDrive/Proyecto análisis Lysil tRNA Sintetasa/Analisis_compuestos'\n",
        "path_luz = \"/content/drive/MyDrive/Proyecto análisis Lysil tRNA Sintetasa/Analisis_compuestos/Activos_contra_Lys\"\n",
        "path_mer = '/content/drive/Shareddrives/Doctorado/Proyecto análisis Lysil tRNA Sintetasa/Analisis_compuestos/Activos_contra_Lys'\n",
        "os.chdir(path_luz)"
      ]
    },
    {
      "cell_type": "markdown",
      "metadata": {
        "id": "G2B6hGU5lOX2"
      },
      "source": [
        "#Modelo"
      ]
    },
    {
      "cell_type": "code",
      "execution_count": null,
      "metadata": {
        "id": "ADiofz-E7dgo"
      },
      "outputs": [],
      "source": [
        "total=pd.read_csv(\"Resultados_compuestos_lys_con_kmeans.csv\")"
      ]
    },
    {
      "cell_type": "code",
      "execution_count": null,
      "metadata": {
        "id": "nXeDYWqv8EqZ",
        "colab": {
          "base_uri": "https://localhost:8080/",
          "height": 808
        },
        "outputId": "9498a602-9c91-4bab-c646-70e85cbcf8a2"
      },
      "outputs": [
        {
          "output_type": "execute_result",
          "data": {
            "text/plain": [
              "       Unnamed: 0  level_0  index  \\\n",
              "0               0        0      0   \n",
              "1               1        1      1   \n",
              "2               2        4      4   \n",
              "3               3        5      5   \n",
              "4               4        6      6   \n",
              "...           ...      ...    ...   \n",
              "69114       69114    69832  68973   \n",
              "69115       69115    69833  68974   \n",
              "69116       69116    69834  68975   \n",
              "69117       69117    69835  68976   \n",
              "69118       69118    69836  68977   \n",
              "\n",
              "                                        canonical_smiles  \\\n",
              "0      COc1cc(N2CCC(N3CCN(C)CC3)CC2)ccc1Nc1ncc(Cl)c(N...   \n",
              "1      Cc1ccc(NC(=O)c2cccc(C(F)(F)F)c2)cc1N1Cc2cnc(N)...   \n",
              "2                 CN(C)c1ccc(-c2cc3ncccc3c(NCCCCN)n2)cc1   \n",
              "3      CN[C@@H]1C[C@H]2O[C@@](C)([C@@H]1OC)n1c3ccccc3...   \n",
              "4      COc1cc(Nc2nc(N[C@H]3CCCC[C@H]3N)n3nc(-c4ccccc4...   \n",
              "...                                                  ...   \n",
              "69114  Cc1noc([C@@H]2C[C@@H]3CCN(c4nnc(C)s4)C[C@H]3O2...   \n",
              "69115  N#Cc1cccc(CN2C[C@@H]3CN(c4ncccn4)C[C@@H]3C2)c1...   \n",
              "69116  Cc1ccc(N2CC[C@H](OCC3CC3)[C@@H]2Cc2cccnc2)nn1....   \n",
              "69117  O=C(O)C(F)(F)F.c1cnc(N2CCO[C@@H]3CN(Cc4ccoc4)C...   \n",
              "69118  Cc1csc(NC(=O)[C@@H]2C[C@H]3[C@H](CCN3c3ncccn3)...   \n",
              "\n",
              "                                                  ROMol  \\\n",
              "0      <rdkit.Chem.rdchem.Mol object at 0x7fdb8df5b3e0>   \n",
              "1      <rdkit.Chem.rdchem.Mol object at 0x7fdb8df5ba70>   \n",
              "2      <rdkit.Chem.rdchem.Mol object at 0x7fdb8df5b1b0>   \n",
              "3      <rdkit.Chem.rdchem.Mol object at 0x7fdb8df5b4c0>   \n",
              "4      <rdkit.Chem.rdchem.Mol object at 0x7fdb8df5aab0>   \n",
              "...                                                 ...   \n",
              "69114  <rdkit.Chem.rdchem.Mol object at 0x7fdb8a59af80>   \n",
              "69115  <rdkit.Chem.rdchem.Mol object at 0x7fdb8a59aff0>   \n",
              "69116  <rdkit.Chem.rdchem.Mol object at 0x7fdb8a59b060>   \n",
              "69117  <rdkit.Chem.rdchem.Mol object at 0x7fdb8a59b0d0>   \n",
              "69118  <rdkit.Chem.rdchem.Mol object at 0x7fdb8a59b140>   \n",
              "\n",
              "                          InchiKey  Activity   Organismo assay_chembl_id  \\\n",
              "0      QQWUGDVOUVUTOY-UHFFFAOYSA-N    Active       Human   CHEMBL1006347   \n",
              "1      ZWVLMQTXUWMUII-UHFFFAOYSA-N    Active       Human    CHEMBL974011   \n",
              "2      SBGMPUIVPOGTGN-UHFFFAOYSA-N    Active       Human   CHEMBL1025770   \n",
              "3      HKSZLNNOFSGOKW-FYTWVXJKSA-N    Active       Human    CHEMBL981176   \n",
              "4      VLHKHLQNVJKAHG-UXHICEINSA-N    Active       Human    CHEMBL981176   \n",
              "...                            ...       ...         ...             ...   \n",
              "69114  CLBBZXBSDYSJQO-PBDVDRNWSA-N  Inactive  Plasmodium             NaN   \n",
              "69115  QXUBWQVELITOIY-OKZTUQRJSA-N  Inactive  Plasmodium             NaN   \n",
              "69116  NZIAYXBYYLQTQI-APTPAJQOSA-N  Inactive  Plasmodium             NaN   \n",
              "69117  KQPDTOXIHCTWNQ-CTHHTMFSSA-N  Inactive  Plasmodium             NaN   \n",
              "69118  TXIXAMVGDAEWNX-LFELFHSZSA-N  Inactive  Plasmodium             NaN   \n",
              "\n",
              "       type Activity_metric  \n",
              "0      IC50             low  \n",
              "1      EC50             low  \n",
              "2      IC50            high  \n",
              "3      IC50            high  \n",
              "4      IC50            high  \n",
              "...     ...             ...  \n",
              "69114   NaN             NaN  \n",
              "69115   NaN             NaN  \n",
              "69116   NaN             NaN  \n",
              "69117   NaN             NaN  \n",
              "69118   NaN             NaN  \n",
              "\n",
              "[69119 rows x 11 columns]"
            ],
            "text/html": [
              "\n",
              "  <div id=\"df-ededda52-6b4c-4619-a732-faa31699e199\" class=\"colab-df-container\">\n",
              "    <div>\n",
              "<style scoped>\n",
              "    .dataframe tbody tr th:only-of-type {\n",
              "        vertical-align: middle;\n",
              "    }\n",
              "\n",
              "    .dataframe tbody tr th {\n",
              "        vertical-align: top;\n",
              "    }\n",
              "\n",
              "    .dataframe thead th {\n",
              "        text-align: right;\n",
              "    }\n",
              "</style>\n",
              "<table border=\"1\" class=\"dataframe\">\n",
              "  <thead>\n",
              "    <tr style=\"text-align: right;\">\n",
              "      <th></th>\n",
              "      <th>Unnamed: 0</th>\n",
              "      <th>level_0</th>\n",
              "      <th>index</th>\n",
              "      <th>canonical_smiles</th>\n",
              "      <th>ROMol</th>\n",
              "      <th>InchiKey</th>\n",
              "      <th>Activity</th>\n",
              "      <th>Organismo</th>\n",
              "      <th>assay_chembl_id</th>\n",
              "      <th>type</th>\n",
              "      <th>Activity_metric</th>\n",
              "    </tr>\n",
              "  </thead>\n",
              "  <tbody>\n",
              "    <tr>\n",
              "      <th>0</th>\n",
              "      <td>0</td>\n",
              "      <td>0</td>\n",
              "      <td>0</td>\n",
              "      <td>COc1cc(N2CCC(N3CCN(C)CC3)CC2)ccc1Nc1ncc(Cl)c(N...</td>\n",
              "      <td>&lt;rdkit.Chem.rdchem.Mol object at 0x7fdb8df5b3e0&gt;</td>\n",
              "      <td>QQWUGDVOUVUTOY-UHFFFAOYSA-N</td>\n",
              "      <td>Active</td>\n",
              "      <td>Human</td>\n",
              "      <td>CHEMBL1006347</td>\n",
              "      <td>IC50</td>\n",
              "      <td>low</td>\n",
              "    </tr>\n",
              "    <tr>\n",
              "      <th>1</th>\n",
              "      <td>1</td>\n",
              "      <td>1</td>\n",
              "      <td>1</td>\n",
              "      <td>Cc1ccc(NC(=O)c2cccc(C(F)(F)F)c2)cc1N1Cc2cnc(N)...</td>\n",
              "      <td>&lt;rdkit.Chem.rdchem.Mol object at 0x7fdb8df5ba70&gt;</td>\n",
              "      <td>ZWVLMQTXUWMUII-UHFFFAOYSA-N</td>\n",
              "      <td>Active</td>\n",
              "      <td>Human</td>\n",
              "      <td>CHEMBL974011</td>\n",
              "      <td>EC50</td>\n",
              "      <td>low</td>\n",
              "    </tr>\n",
              "    <tr>\n",
              "      <th>2</th>\n",
              "      <td>2</td>\n",
              "      <td>4</td>\n",
              "      <td>4</td>\n",
              "      <td>CN(C)c1ccc(-c2cc3ncccc3c(NCCCCN)n2)cc1</td>\n",
              "      <td>&lt;rdkit.Chem.rdchem.Mol object at 0x7fdb8df5b1b0&gt;</td>\n",
              "      <td>SBGMPUIVPOGTGN-UHFFFAOYSA-N</td>\n",
              "      <td>Active</td>\n",
              "      <td>Human</td>\n",
              "      <td>CHEMBL1025770</td>\n",
              "      <td>IC50</td>\n",
              "      <td>high</td>\n",
              "    </tr>\n",
              "    <tr>\n",
              "      <th>3</th>\n",
              "      <td>3</td>\n",
              "      <td>5</td>\n",
              "      <td>5</td>\n",
              "      <td>CN[C@@H]1C[C@H]2O[C@@](C)([C@@H]1OC)n1c3ccccc3...</td>\n",
              "      <td>&lt;rdkit.Chem.rdchem.Mol object at 0x7fdb8df5b4c0&gt;</td>\n",
              "      <td>HKSZLNNOFSGOKW-FYTWVXJKSA-N</td>\n",
              "      <td>Active</td>\n",
              "      <td>Human</td>\n",
              "      <td>CHEMBL981176</td>\n",
              "      <td>IC50</td>\n",
              "      <td>high</td>\n",
              "    </tr>\n",
              "    <tr>\n",
              "      <th>4</th>\n",
              "      <td>4</td>\n",
              "      <td>6</td>\n",
              "      <td>6</td>\n",
              "      <td>COc1cc(Nc2nc(N[C@H]3CCCC[C@H]3N)n3nc(-c4ccccc4...</td>\n",
              "      <td>&lt;rdkit.Chem.rdchem.Mol object at 0x7fdb8df5aab0&gt;</td>\n",
              "      <td>VLHKHLQNVJKAHG-UXHICEINSA-N</td>\n",
              "      <td>Active</td>\n",
              "      <td>Human</td>\n",
              "      <td>CHEMBL981176</td>\n",
              "      <td>IC50</td>\n",
              "      <td>high</td>\n",
              "    </tr>\n",
              "    <tr>\n",
              "      <th>...</th>\n",
              "      <td>...</td>\n",
              "      <td>...</td>\n",
              "      <td>...</td>\n",
              "      <td>...</td>\n",
              "      <td>...</td>\n",
              "      <td>...</td>\n",
              "      <td>...</td>\n",
              "      <td>...</td>\n",
              "      <td>...</td>\n",
              "      <td>...</td>\n",
              "      <td>...</td>\n",
              "    </tr>\n",
              "    <tr>\n",
              "      <th>69114</th>\n",
              "      <td>69114</td>\n",
              "      <td>69832</td>\n",
              "      <td>68973</td>\n",
              "      <td>Cc1noc([C@@H]2C[C@@H]3CCN(c4nnc(C)s4)C[C@H]3O2...</td>\n",
              "      <td>&lt;rdkit.Chem.rdchem.Mol object at 0x7fdb8a59af80&gt;</td>\n",
              "      <td>CLBBZXBSDYSJQO-PBDVDRNWSA-N</td>\n",
              "      <td>Inactive</td>\n",
              "      <td>Plasmodium</td>\n",
              "      <td>NaN</td>\n",
              "      <td>NaN</td>\n",
              "      <td>NaN</td>\n",
              "    </tr>\n",
              "    <tr>\n",
              "      <th>69115</th>\n",
              "      <td>69115</td>\n",
              "      <td>69833</td>\n",
              "      <td>68974</td>\n",
              "      <td>N#Cc1cccc(CN2C[C@@H]3CN(c4ncccn4)C[C@@H]3C2)c1...</td>\n",
              "      <td>&lt;rdkit.Chem.rdchem.Mol object at 0x7fdb8a59aff0&gt;</td>\n",
              "      <td>QXUBWQVELITOIY-OKZTUQRJSA-N</td>\n",
              "      <td>Inactive</td>\n",
              "      <td>Plasmodium</td>\n",
              "      <td>NaN</td>\n",
              "      <td>NaN</td>\n",
              "      <td>NaN</td>\n",
              "    </tr>\n",
              "    <tr>\n",
              "      <th>69116</th>\n",
              "      <td>69116</td>\n",
              "      <td>69834</td>\n",
              "      <td>68975</td>\n",
              "      <td>Cc1ccc(N2CC[C@H](OCC3CC3)[C@@H]2Cc2cccnc2)nn1....</td>\n",
              "      <td>&lt;rdkit.Chem.rdchem.Mol object at 0x7fdb8a59b060&gt;</td>\n",
              "      <td>NZIAYXBYYLQTQI-APTPAJQOSA-N</td>\n",
              "      <td>Inactive</td>\n",
              "      <td>Plasmodium</td>\n",
              "      <td>NaN</td>\n",
              "      <td>NaN</td>\n",
              "      <td>NaN</td>\n",
              "    </tr>\n",
              "    <tr>\n",
              "      <th>69117</th>\n",
              "      <td>69117</td>\n",
              "      <td>69835</td>\n",
              "      <td>68976</td>\n",
              "      <td>O=C(O)C(F)(F)F.c1cnc(N2CCO[C@@H]3CN(Cc4ccoc4)C...</td>\n",
              "      <td>&lt;rdkit.Chem.rdchem.Mol object at 0x7fdb8a59b0d0&gt;</td>\n",
              "      <td>KQPDTOXIHCTWNQ-CTHHTMFSSA-N</td>\n",
              "      <td>Inactive</td>\n",
              "      <td>Plasmodium</td>\n",
              "      <td>NaN</td>\n",
              "      <td>NaN</td>\n",
              "      <td>NaN</td>\n",
              "    </tr>\n",
              "    <tr>\n",
              "      <th>69118</th>\n",
              "      <td>69118</td>\n",
              "      <td>69836</td>\n",
              "      <td>68977</td>\n",
              "      <td>Cc1csc(NC(=O)[C@@H]2C[C@H]3[C@H](CCN3c3ncccn3)...</td>\n",
              "      <td>&lt;rdkit.Chem.rdchem.Mol object at 0x7fdb8a59b140&gt;</td>\n",
              "      <td>TXIXAMVGDAEWNX-LFELFHSZSA-N</td>\n",
              "      <td>Inactive</td>\n",
              "      <td>Plasmodium</td>\n",
              "      <td>NaN</td>\n",
              "      <td>NaN</td>\n",
              "      <td>NaN</td>\n",
              "    </tr>\n",
              "  </tbody>\n",
              "</table>\n",
              "<p>69119 rows × 11 columns</p>\n",
              "</div>\n",
              "    <div class=\"colab-df-buttons\">\n",
              "\n",
              "  <div class=\"colab-df-container\">\n",
              "    <button class=\"colab-df-convert\" onclick=\"convertToInteractive('df-ededda52-6b4c-4619-a732-faa31699e199')\"\n",
              "            title=\"Convert this dataframe to an interactive table.\"\n",
              "            style=\"display:none;\">\n",
              "\n",
              "  <svg xmlns=\"http://www.w3.org/2000/svg\" height=\"24px\" viewBox=\"0 -960 960 960\">\n",
              "    <path d=\"M120-120v-720h720v720H120Zm60-500h600v-160H180v160Zm220 220h160v-160H400v160Zm0 220h160v-160H400v160ZM180-400h160v-160H180v160Zm440 0h160v-160H620v160ZM180-180h160v-160H180v160Zm440 0h160v-160H620v160Z\"/>\n",
              "  </svg>\n",
              "    </button>\n",
              "\n",
              "  <style>\n",
              "    .colab-df-container {\n",
              "      display:flex;\n",
              "      gap: 12px;\n",
              "    }\n",
              "\n",
              "    .colab-df-convert {\n",
              "      background-color: #E8F0FE;\n",
              "      border: none;\n",
              "      border-radius: 50%;\n",
              "      cursor: pointer;\n",
              "      display: none;\n",
              "      fill: #1967D2;\n",
              "      height: 32px;\n",
              "      padding: 0 0 0 0;\n",
              "      width: 32px;\n",
              "    }\n",
              "\n",
              "    .colab-df-convert:hover {\n",
              "      background-color: #E2EBFA;\n",
              "      box-shadow: 0px 1px 2px rgba(60, 64, 67, 0.3), 0px 1px 3px 1px rgba(60, 64, 67, 0.15);\n",
              "      fill: #174EA6;\n",
              "    }\n",
              "\n",
              "    .colab-df-buttons div {\n",
              "      margin-bottom: 4px;\n",
              "    }\n",
              "\n",
              "    [theme=dark] .colab-df-convert {\n",
              "      background-color: #3B4455;\n",
              "      fill: #D2E3FC;\n",
              "    }\n",
              "\n",
              "    [theme=dark] .colab-df-convert:hover {\n",
              "      background-color: #434B5C;\n",
              "      box-shadow: 0px 1px 3px 1px rgba(0, 0, 0, 0.15);\n",
              "      filter: drop-shadow(0px 1px 2px rgba(0, 0, 0, 0.3));\n",
              "      fill: #FFFFFF;\n",
              "    }\n",
              "  </style>\n",
              "\n",
              "    <script>\n",
              "      const buttonEl =\n",
              "        document.querySelector('#df-ededda52-6b4c-4619-a732-faa31699e199 button.colab-df-convert');\n",
              "      buttonEl.style.display =\n",
              "        google.colab.kernel.accessAllowed ? 'block' : 'none';\n",
              "\n",
              "      async function convertToInteractive(key) {\n",
              "        const element = document.querySelector('#df-ededda52-6b4c-4619-a732-faa31699e199');\n",
              "        const dataTable =\n",
              "          await google.colab.kernel.invokeFunction('convertToInteractive',\n",
              "                                                    [key], {});\n",
              "        if (!dataTable) return;\n",
              "\n",
              "        const docLinkHtml = 'Like what you see? Visit the ' +\n",
              "          '<a target=\"_blank\" href=https://colab.research.google.com/notebooks/data_table.ipynb>data table notebook</a>'\n",
              "          + ' to learn more about interactive tables.';\n",
              "        element.innerHTML = '';\n",
              "        dataTable['output_type'] = 'display_data';\n",
              "        await google.colab.output.renderOutput(dataTable, element);\n",
              "        const docLink = document.createElement('div');\n",
              "        docLink.innerHTML = docLinkHtml;\n",
              "        element.appendChild(docLink);\n",
              "      }\n",
              "    </script>\n",
              "  </div>\n",
              "\n",
              "\n",
              "<div id=\"df-b57a3afd-dd72-4f29-b6c7-7cd356ffb700\">\n",
              "  <button class=\"colab-df-quickchart\" onclick=\"quickchart('df-b57a3afd-dd72-4f29-b6c7-7cd356ffb700')\"\n",
              "            title=\"Suggest charts.\"\n",
              "            style=\"display:none;\">\n",
              "\n",
              "<svg xmlns=\"http://www.w3.org/2000/svg\" height=\"24px\"viewBox=\"0 0 24 24\"\n",
              "     width=\"24px\">\n",
              "    <g>\n",
              "        <path d=\"M19 3H5c-1.1 0-2 .9-2 2v14c0 1.1.9 2 2 2h14c1.1 0 2-.9 2-2V5c0-1.1-.9-2-2-2zM9 17H7v-7h2v7zm4 0h-2V7h2v10zm4 0h-2v-4h2v4z\"/>\n",
              "    </g>\n",
              "</svg>\n",
              "  </button>\n",
              "\n",
              "<style>\n",
              "  .colab-df-quickchart {\n",
              "      --bg-color: #E8F0FE;\n",
              "      --fill-color: #1967D2;\n",
              "      --hover-bg-color: #E2EBFA;\n",
              "      --hover-fill-color: #174EA6;\n",
              "      --disabled-fill-color: #AAA;\n",
              "      --disabled-bg-color: #DDD;\n",
              "  }\n",
              "\n",
              "  [theme=dark] .colab-df-quickchart {\n",
              "      --bg-color: #3B4455;\n",
              "      --fill-color: #D2E3FC;\n",
              "      --hover-bg-color: #434B5C;\n",
              "      --hover-fill-color: #FFFFFF;\n",
              "      --disabled-bg-color: #3B4455;\n",
              "      --disabled-fill-color: #666;\n",
              "  }\n",
              "\n",
              "  .colab-df-quickchart {\n",
              "    background-color: var(--bg-color);\n",
              "    border: none;\n",
              "    border-radius: 50%;\n",
              "    cursor: pointer;\n",
              "    display: none;\n",
              "    fill: var(--fill-color);\n",
              "    height: 32px;\n",
              "    padding: 0;\n",
              "    width: 32px;\n",
              "  }\n",
              "\n",
              "  .colab-df-quickchart:hover {\n",
              "    background-color: var(--hover-bg-color);\n",
              "    box-shadow: 0 1px 2px rgba(60, 64, 67, 0.3), 0 1px 3px 1px rgba(60, 64, 67, 0.15);\n",
              "    fill: var(--button-hover-fill-color);\n",
              "  }\n",
              "\n",
              "  .colab-df-quickchart-complete:disabled,\n",
              "  .colab-df-quickchart-complete:disabled:hover {\n",
              "    background-color: var(--disabled-bg-color);\n",
              "    fill: var(--disabled-fill-color);\n",
              "    box-shadow: none;\n",
              "  }\n",
              "\n",
              "  .colab-df-spinner {\n",
              "    border: 2px solid var(--fill-color);\n",
              "    border-color: transparent;\n",
              "    border-bottom-color: var(--fill-color);\n",
              "    animation:\n",
              "      spin 1s steps(1) infinite;\n",
              "  }\n",
              "\n",
              "  @keyframes spin {\n",
              "    0% {\n",
              "      border-color: transparent;\n",
              "      border-bottom-color: var(--fill-color);\n",
              "      border-left-color: var(--fill-color);\n",
              "    }\n",
              "    20% {\n",
              "      border-color: transparent;\n",
              "      border-left-color: var(--fill-color);\n",
              "      border-top-color: var(--fill-color);\n",
              "    }\n",
              "    30% {\n",
              "      border-color: transparent;\n",
              "      border-left-color: var(--fill-color);\n",
              "      border-top-color: var(--fill-color);\n",
              "      border-right-color: var(--fill-color);\n",
              "    }\n",
              "    40% {\n",
              "      border-color: transparent;\n",
              "      border-right-color: var(--fill-color);\n",
              "      border-top-color: var(--fill-color);\n",
              "    }\n",
              "    60% {\n",
              "      border-color: transparent;\n",
              "      border-right-color: var(--fill-color);\n",
              "    }\n",
              "    80% {\n",
              "      border-color: transparent;\n",
              "      border-right-color: var(--fill-color);\n",
              "      border-bottom-color: var(--fill-color);\n",
              "    }\n",
              "    90% {\n",
              "      border-color: transparent;\n",
              "      border-bottom-color: var(--fill-color);\n",
              "    }\n",
              "  }\n",
              "</style>\n",
              "\n",
              "  <script>\n",
              "    async function quickchart(key) {\n",
              "      const quickchartButtonEl =\n",
              "        document.querySelector('#' + key + ' button');\n",
              "      quickchartButtonEl.disabled = true;  // To prevent multiple clicks.\n",
              "      quickchartButtonEl.classList.add('colab-df-spinner');\n",
              "      try {\n",
              "        const charts = await google.colab.kernel.invokeFunction(\n",
              "            'suggestCharts', [key], {});\n",
              "      } catch (error) {\n",
              "        console.error('Error during call to suggestCharts:', error);\n",
              "      }\n",
              "      quickchartButtonEl.classList.remove('colab-df-spinner');\n",
              "      quickchartButtonEl.classList.add('colab-df-quickchart-complete');\n",
              "    }\n",
              "    (() => {\n",
              "      let quickchartButtonEl =\n",
              "        document.querySelector('#df-b57a3afd-dd72-4f29-b6c7-7cd356ffb700 button');\n",
              "      quickchartButtonEl.style.display =\n",
              "        google.colab.kernel.accessAllowed ? 'block' : 'none';\n",
              "    })();\n",
              "  </script>\n",
              "</div>\n",
              "    </div>\n",
              "  </div>\n"
            ]
          },
          "metadata": {},
          "execution_count": 31
        }
      ],
      "source": [
        "total\n"
      ]
    },
    {
      "cell_type": "code",
      "source": [
        "total[\"Activity_metric\"]=total[\"Activity_metric\"].fillna(\"I\")"
      ],
      "metadata": {
        "id": "-k0zGKf7u-JQ"
      },
      "execution_count": null,
      "outputs": []
    },
    {
      "cell_type": "code",
      "source": [
        "train_df, test_df = train_test_split(total, test_size=0.2, random_state=42, stratify=total[[\"Activity_metric\"]])"
      ],
      "metadata": {
        "id": "1inuj46A2T02"
      },
      "execution_count": null,
      "outputs": []
    },
    {
      "cell_type": "code",
      "source": [
        "train_df.Activity_metric.value_counts()"
      ],
      "metadata": {
        "colab": {
          "base_uri": "https://localhost:8080/"
        },
        "id": "2nBDiks42yiu",
        "outputId": "ae9367e5-6e00-4717-f3c9-bc702634886b"
      },
      "execution_count": null,
      "outputs": [
        {
          "output_type": "execute_result",
          "data": {
            "text/plain": [
              "I       55234\n",
              "high       42\n",
              "low        19\n",
              "Name: Activity_metric, dtype: int64"
            ]
          },
          "metadata": {},
          "execution_count": 34
        }
      ]
    },
    {
      "cell_type": "code",
      "source": [
        "test_df.Activity_metric.value_counts()"
      ],
      "metadata": {
        "colab": {
          "base_uri": "https://localhost:8080/"
        },
        "id": "emQNJKnm20-G",
        "outputId": "7c84a865-3b7d-4f5b-a9e4-24fab8ed66f0"
      },
      "execution_count": null,
      "outputs": [
        {
          "output_type": "execute_result",
          "data": {
            "text/plain": [
              "I       13809\n",
              "high       10\n",
              "low         5\n",
              "Name: Activity_metric, dtype: int64"
            ]
          },
          "metadata": {},
          "execution_count": 35
        }
      ]
    },
    {
      "cell_type": "markdown",
      "metadata": {
        "id": "9BJhqFEDdvEG"
      },
      "source": [
        "#GRID SEARCH AUTOMATCO"
      ]
    },
    {
      "cell_type": "code",
      "execution_count": null,
      "metadata": {
        "id": "DFg9Ybvld8nS"
      },
      "outputs": [],
      "source": [
        "# filtrar SMILES que no den error\n",
        "SMILES = []\n",
        "for i in range(len(total['canonical_smiles'])):\n",
        "  try:\n",
        "    cs = Chem.CanonSmiles(total['canonical_smiles'].iloc[i])\n",
        "    SMILES.append(cs)\n",
        "  except:\n",
        "    print('Invalid SMILES:',total['canonical_smiles'].iloc[i],i)"
      ]
    },
    {
      "cell_type": "code",
      "execution_count": null,
      "metadata": {
        "id": "HsItnUaL03L5"
      },
      "outputs": [],
      "source": [
        "indices_a_eliminar = [69119]\n",
        "total = total.drop(indices_a_eliminar)"
      ]
    },
    {
      "cell_type": "code",
      "execution_count": null,
      "metadata": {
        "id": "X8nbha-O8yTm"
      },
      "outputs": [],
      "source": [
        "# molecules from smiles\n",
        "ms = [Chem.MolFromSmiles(smile) for smile in SMILES]\n",
        "# number of atoms per molecule\n",
        "numb = [mol.GetNumAtoms() for mol in ms]\n",
        "# different atoms:\n",
        "C = [] # carbon\n",
        "O = [] # oxigen\n",
        "N = [] # nitrogen\n",
        "Cl=[]\n",
        "F=[]\n",
        "Br=[]\n",
        "I=[]\n",
        "\n",
        "nh2_pattern = Chem.MolFromSmarts(\"[NH2]\")\n",
        "nh2_counts = [len(mol.GetSubstructMatches(nh2_pattern)) for mol in ms]\n",
        "\n",
        "ring5_counts = []\n",
        "ring6_counts=[]\n",
        "\n",
        "\n",
        "for mol in ms:\n",
        "  c = 0\n",
        "  o = 0\n",
        "  n = 0\n",
        "  cl=0\n",
        "  f=0\n",
        "  br=0\n",
        "  i=0\n",
        "  nh2_count = 0\n",
        "  ring_info = mol.GetRingInfo()# Obtener sistemas de anillos saturados\n",
        "  ring5_count = sum(1 for ring in ring_info.AtomRings() if len(ring) == 5)  # Contar anillos de 5 carbonos\n",
        "  ring5_counts.append(ring5_count)\n",
        "  ring6= sum(1 for ring in ring_info.AtomRings()if len(ring) == 6)  # Contar anillos de 5 carbonos\n",
        "  ring6_counts.append(ring6)\n",
        "  for atom in mol.GetAtoms():\n",
        "    if atom.GetAtomicNum() == 6:\n",
        "      c += 1\n",
        "    if atom.GetAtomicNum() == 7:\n",
        "      n += 1\n",
        "    if atom.GetAtomicNum() == 8:\n",
        "      o += 1\n",
        "    if atom.GetAtomicNum() == 9:\n",
        "      f += 1\n",
        "    if atom.GetAtomicNum() == 17:\n",
        "      cl += 1\n",
        "    if atom.GetAtomicNum() == 35:\n",
        "      br += 1\n",
        "    if atom.GetAtomicNum() == 53:\n",
        "      i += 1\n",
        "\n",
        "  C.append(c)\n",
        "  O.append(o)\n",
        "  N.append(n)\n",
        "  Cl.append(cl)\n",
        "  F.append(f)\n",
        "  Br.append(br)\n",
        "  I.append(i)\n",
        "\n",
        "# molecular weight\n",
        "MolWeight = [Descriptors.ExactMolWt(mol) for mol in ms]\n",
        "# rings\n",
        "Rings = [Descriptors.RingCount(mol) for mol in ms]\n",
        "# Total polar surface area\n",
        "TPSA = [Descriptors.TPSA(mol) for mol in ms]\n",
        "# Density Morgan FP\n",
        "FpDM1 = [Descriptors.FpDensityMorgan1(mol) for mol in ms]\n",
        "# rotatable bonds\n",
        "RotBonds = [Descriptors.NumRotatableBonds(mol) for mol in ms]\n",
        "# Obtener la carga formal de la molécula\n",
        "formal_charge =[Chem.rdmolops.GetFormalCharge(mol) for mol in ms]\n",
        "# Calcular el logP (coeficiente de partición octanol-agua) de la molécula\n",
        "logp =[Descriptors.MolLogP(mol) for mol in ms]\n",
        "\n",
        "descriptors = pd.DataFrame(list(zip(numb, C, O, N,F,Br,I,Cl, nh2_counts,ring5_counts,ring6_counts,MolWeight, Rings, TPSA, FpDM1, RotBonds,logp,formal_charge)))\n",
        "\n",
        "Activity= total[\"Activity\"].tolist()"
      ]
    },
    {
      "cell_type": "code",
      "execution_count": null,
      "metadata": {
        "id": "TC_1n1ChpBV0"
      },
      "outputs": [],
      "source": [
        "import statistics\n",
        "\n",
        "lista_descriptores = [numb, C, O, N,F,Br,I,Cl, nh2_counts,ring5_counts,ring6_counts,MolWeight, Rings, TPSA, FpDM1, RotBonds,logp,formal_charge]\n",
        "lista_descriptores_transformada = []\n",
        "# Supongamos que tienes una lista llamada \"mi_lista\"\n",
        "\n",
        "for i in range(len(lista_descriptores)):\n",
        "  lista_un_descriptor = lista_descriptores[i]\n",
        "  # Calcula la media y la desviación estándar de la lista\n",
        "  media = statistics.mean(lista_un_descriptor)\n",
        "  desviacion_estandar = statistics.stdev(lista_un_descriptor)\n",
        "\n",
        "  # Aplica la transformación a cada valor en la lista\n",
        "  if desviacion_estandar == 0:\n",
        "    lista_un_descriptor_transformada = [(x - media) for x in lista_un_descriptor]\n",
        "    lista_descriptores_transformada.append(lista_un_descriptor_transformada)\n",
        "  else:\n",
        "    lista_un_descriptor_transformada = [(x - media) / desviacion_estandar for x in lista_un_descriptor]\n",
        "    lista_descriptores_transformada.append(lista_un_descriptor_transformada)\n",
        "\n",
        "#print(lista_descriptores_transformada)"
      ]
    },
    {
      "cell_type": "code",
      "execution_count": null,
      "metadata": {
        "id": "sY_cjZ1ipFAS"
      },
      "outputs": [],
      "source": [
        "descriptors_transformados = pd.DataFrame(lista_descriptores_transformada)\n",
        "Activity= total['Activity']\n",
        "descriptors_transformados = descriptors_transformados.transpose()"
      ]
    },
    {
      "cell_type": "code",
      "execution_count": null,
      "metadata": {
        "id": "goH9_zAkeJVo"
      },
      "outputs": [],
      "source": [
        " # Columna que indica los grupos de validación\n",
        "#X = np.array(descriptors) #osea a partir de todas estas caracteritias de los compuestos predecir la y\n",
        "X = np.array(descriptors_transformados)\n",
        "y = np.array(Activity)"
      ]
    },
    {
      "cell_type": "code",
      "execution_count": null,
      "metadata": {
        "id": "pQFur9YMfoTg"
      },
      "outputs": [],
      "source": [
        "from sklearn.model_selection import train_test_split\n",
        "from sklearn.metrics import accuracy_score, recall_score, precision_score, f1_score, confusion_matrix, roc_auc_score\n",
        "from sklearn.model_selection import StratifiedKFold\n",
        "from sklearn.ensemble import RandomForestClassifier\n",
        "from sklearn.model_selection import cross_val_score\n",
        "from sklearn.model_selection import GridSearchCV\n",
        "from sklearn.pipeline import Pipeline\n",
        "from sklearn.svm import SVC\n",
        "import xgboost as xgb\n",
        "from xgboost import XGBClassifier\n",
        "from sklearn.metrics import accuracy_score, recall_score, precision_score, f1_score, confusion_matrix, roc_auc_score\n",
        "from sklearn.model_selection import train_test_split\n",
        "from sklearn.preprocessing import LabelBinarizer\n",
        "from sklearn.svm import SVC\n",
        "from sklearn.metrics import make_scorer, f1_score"
      ]
    },
    {
      "cell_type": "markdown",
      "metadata": {
        "id": "ML2sG-K-erxJ"
      },
      "source": [
        "##Sin cross validation"
      ]
    },
    {
      "cell_type": "code",
      "execution_count": null,
      "metadata": {
        "colab": {
          "background_save": true
        },
        "id": "IdfmMBg7e5RB",
        "outputId": "1f336635-be83-437c-b2b3-34c4553dfa29"
      },
      "outputs": [
        {
          "name": "stdout",
          "output_type": "stream",
          "text": [
            "Mejores hiperparámetros: {'max_depth': 9, 'min_samples_split': 2, 'n_estimators': 50}\n",
            "Mejor f1 0.5508333333333333\n"
          ]
        }
      ],
      "source": [
        "from sklearn.model_selection import GridSearchCV\n",
        "from sklearn.pipeline import Pipeline\n",
        "from sklearn.svm import SVC\n",
        "from sklearn.ensemble import RandomForestClassifier\n",
        "# otro modelo, variando hiperparámetros\n",
        "\n",
        "X_train1, X_test1, y_train1, y_test1 = train_test_split(X, y, test_size=0.2, random_state=42)\n",
        "\n",
        "\n",
        "model = RandomForestClassifier(oob_score=True, random_state=42)\n",
        "\n",
        "f1_scorer = make_scorer(f1_score, pos_label='Active')\n",
        "\n",
        "rfcv = GridSearchCV(estimator=model,\n",
        "                      param_grid={'max_depth': [2, 3, 4, 5, 6, 7,8,9], 'min_samples_split': [2, 3, 4, 5], 'n_estimators': [ 50,100,150,200,300]},\n",
        "                      cv=2,\n",
        "                      scoring=f1_scorer)\n",
        "\n",
        "# Ajusto\n",
        "rfcv.fit(X_train1,y_train1)\n",
        "\n",
        "print(\"Mejores hiperparámetros:\", rfcv.best_params_)\n",
        "print(\"Mejor f1\", rfcv.best_score_)\n",
        "\n",
        "mejor_modelo=rfcv.best_estimator_"
      ]
    },
    {
      "cell_type": "code",
      "execution_count": null,
      "metadata": {
        "id": "-HT4ePHJ1o5p"
      },
      "outputs": [],
      "source": [
        "y_pred_sincross= mejor_modelo.predict(X_test1)"
      ]
    },
    {
      "cell_type": "code",
      "execution_count": null,
      "metadata": {
        "id": "dJnenK-gfiCI",
        "colab": {
          "base_uri": "https://localhost:8080/",
          "height": 858
        },
        "outputId": "bcc3c6a7-fe6a-45ed-f1d2-7439adc75837"
      },
      "outputs": [
        {
          "output_type": "stream",
          "name": "stdout",
          "text": [
            "SVM Metrics:\n",
            "Accuracy: 0.9993489583333334\n",
            "Recall: 0.1111111111111111\n",
            "Precision: 0.5\n",
            "F1-Score: 0.1818181818181818\n",
            "Confusion Matrix:\n",
            " Axes(0.125,0.11;0.62x0.77)\n"
          ]
        },
        {
          "output_type": "display_data",
          "data": {
            "text/plain": [
              "<Figure size 1400x870 with 2 Axes>"
            ],
            "image/png": "[encoded data removed]"
          },
          "metadata": {}
        }
      ],
      "source": [
        "# Calcular métricas para SVM\n",
        "accuracy_svm = accuracy_score(y_test1,y_pred_sincross)\n",
        "recall_svm = recall_score(y_test1, y_pred_sincross, pos_label=\"Active\")\n",
        "precision_svm = precision_score(y_test1, y_pred_sincross,pos_label=\"Active\")\n",
        "f1_svm = f1_score(y_test1, y_pred_sincross,pos_label=\"Active\")\n",
        "conf_matrix_svm = confusion_matrix(y_test1,y_pred_sincross)\n",
        "#roc_auc_svm = roc_auc_score(y_test,y_svm_pred_sincross)\n",
        "\n",
        "\n",
        "# Imprimir métricas para SVM\n",
        "print(\"SVM Metrics:\")\n",
        "print(\"Accuracy:\", accuracy_svm)\n",
        "print(\"Recall:\", recall_svm)\n",
        "print(\"Precision:\", precision_svm)\n",
        "print(\"F1-Score:\", f1_svm)\n",
        "print(\"Confusion Matrix:\\n\", sns.heatmap(conf_matrix_svm,annot=True))"
      ]
    },
    {
      "cell_type": "code",
      "source": [
        "importance = mejor_modelo.feature_importances_"
      ],
      "metadata": {
        "id": "Gs6WzNgmTx8G"
      },
      "execution_count": null,
      "outputs": []
    },
    {
      "cell_type": "code",
      "source": [
        "from sklearn.feature_selection import SelectFromModel\n",
        "import matplotlib.pyplot as plt\n",
        "\n",
        "# Supongamos que tienes una lista de nombres de características\n",
        "nombres_caracteristicas = [\"numb\",\"C\",\"O\",\"N\",\"Cl\",\"F\",\"Br\",\"I\",\"nh2_pattern\",\"ring5_counts \",\"ring6_counts\",\"MolWeight\",\"Rings\",\"TPSA\",\"FpDM1\",\"RotBonds\",\"formal_charge\",\"logp \"]\n",
        "\n",
        "\n",
        "importance = mejor_modelo.feature_importances_\n",
        "\n",
        "# Sintetiza la importancia de las características\n",
        "for i, v in enumerate(importance):\n",
        "    print('Feature: %s, Score: %.5f' % (nombres_caracteristicas[i], v))\n",
        "\n",
        "# Grafica de la importancia de las características\n",
        "plt.bar([x for x in range(len(importance))], importance,color= \"navy\")\n",
        "plt.xticks(range(len(importance)), nombres_caracteristicas, rotation=90)  # Agrega etiquetas al eje x\n",
        "plt.xlabel(\"Características\")\n",
        "plt.ylabel(\"Importancia\")\n",
        "plt.show()\n"
      ],
      "metadata": {
        "colab": {
          "base_uri": "https://localhost:8080/",
          "height": 1000
        },
        "id": "RuO3kvUhT2Q7",
        "outputId": "c4c4cb4c-3f22-45e3-dc66-477305d5d538"
      },
      "execution_count": null,
      "outputs": [
        {
          "output_type": "stream",
          "name": "stdout",
          "text": [
            "Feature: numb, Score: 0.05706\n",
            "Feature: C, Score: 0.05602\n",
            "Feature: O, Score: 0.05554\n",
            "Feature: N, Score: 0.23215\n",
            "Feature: Cl, Score: 0.01499\n",
            "Feature: F, Score: 0.00018\n",
            "Feature: Br, Score: 0.00000\n",
            "Feature: I, Score: 0.00284\n",
            "Feature: nh2_pattern, Score: 0.09586\n",
            "Feature: ring5_counts , Score: 0.02156\n",
            "Feature: ring6_counts, Score: 0.05041\n",
            "Feature: MolWeight, Score: 0.07617\n",
            "Feature: Rings, Score: 0.02918\n",
            "Feature: TPSA, Score: 0.11004\n",
            "Feature: FpDM1, Score: 0.06288\n",
            "Feature: RotBonds, Score: 0.06188\n",
            "Feature: formal_charge, Score: 0.07325\n",
            "Feature: logp , Score: 0.00000\n"
          ]
        },
        {
          "output_type": "display_data",
          "data": {
            "text/plain": [
              "<Figure size 1400x870 with 1 Axes>"
            ],
            "image/png": "[encoded data removed]"
          },
          "metadata": {}
        }
      ]
    },
    {
      "cell_type": "markdown",
      "metadata": {
        "id": "A5DuGXqQeuY6"
      },
      "source": [
        "##con cross validation al azar"
      ]
    },
    {
      "cell_type": "code",
      "execution_count": null,
      "metadata": {
        "id": "lujHJ939if10",
        "colab": {
          "base_uri": "https://localhost:8080/"
        },
        "outputId": "03d212af-9058-4ed7-b37c-d6dae9040c72"
      },
      "outputs": [
        {
          "output_type": "stream",
          "name": "stdout",
          "text": [
            "Mejores hiperparámetros: {'max_depth': 9, 'min_samples_split': 2, 'n_estimators': 100}\n",
            "Mejor f1 0.6113192071086808\n"
          ]
        }
      ],
      "source": [
        "from sklearn.model_selection import GridSearchCV\n",
        "from sklearn.pipeline import Pipeline\n",
        "from sklearn.svm import SVC\n",
        "from sklearn.ensemble import RandomForestClassifier\n",
        "from sklearn.metrics import make_scorer, f1_score\n",
        "# otro modelo, variando hiperparámetros\n",
        "\n",
        "model = RandomForestClassifier(oob_score=True, random_state=42)\n",
        "\n",
        "f1_scorer = make_scorer(f1_score, pos_label='Active')\n",
        "\n",
        "rfcv = GridSearchCV(estimator=model,\n",
        "                      param_grid={'max_depth': [2, 3, 4, 5, 6, 7,8,9], 'min_samples_split': [2, 3, 4, 5], 'n_estimators': [ 50,100,150,200,300]},\n",
        "                      cv=2,\n",
        "                      scoring=f1_scorer)\n",
        "\n",
        "# Ajusto\n",
        "rfcv.fit(X_train1,y_train1)\n",
        "\n",
        "# los mejores parámetros son\n",
        "\n",
        "print(\"Mejores hiperparámetros:\", rfcv.best_params_)\n",
        "print(\"Mejor f1\", rfcv.best_score_)\n",
        "\n",
        "mejor_modelo=rfcv.best_estimator_"
      ]
    },
    {
      "cell_type": "code",
      "execution_count": null,
      "metadata": {
        "id": "l8k_erhHjJaL"
      },
      "outputs": [],
      "source": [
        "y_pred = mejor_modelo.predict(X_test1)"
      ]
    },
    {
      "cell_type": "code",
      "execution_count": null,
      "metadata": {
        "id": "GwrxUZxZjSx7",
        "colab": {
          "base_uri": "https://localhost:8080/",
          "height": 406
        },
        "outputId": "b5b44b50-db57-47aa-d5bf-1ecc53ca8db7"
      },
      "outputs": [
        {
          "output_type": "error",
          "ename": "ValueError",
          "evalue": "ignored",
          "traceback": [
            "\u001b[0;31m---------------------------------------------------------------------------\u001b[0m",
            "\u001b[0;31mValueError\u001b[0m                                Traceback (most recent call last)",
            "\u001b[0;32m<ipython-input-30-c7ab417d64a1>\u001b[0m in \u001b[0;36m<cell line: 6>\u001b[0;34m()\u001b[0m\n\u001b[1;32m      4\u001b[0m \u001b[0mf1\u001b[0m \u001b[0;34m=\u001b[0m \u001b[0mf1_score\u001b[0m\u001b[0;34m(\u001b[0m\u001b[0my_test1\u001b[0m\u001b[0;34m,\u001b[0m \u001b[0my_pred\u001b[0m\u001b[0;34m,\u001b[0m \u001b[0mpos_label\u001b[0m\u001b[0;34m=\u001b[0m\u001b[0;34m\"Active\"\u001b[0m\u001b[0;34m)\u001b[0m\u001b[0;34m\u001b[0m\u001b[0;34m\u001b[0m\u001b[0m\n\u001b[1;32m      5\u001b[0m \u001b[0mconf_matrix_xgb\u001b[0m \u001b[0;34m=\u001b[0m \u001b[0mconfusion_matrix\u001b[0m\u001b[0;34m(\u001b[0m\u001b[0my_test1\u001b[0m\u001b[0;34m,\u001b[0m \u001b[0my_pred\u001b[0m\u001b[0;34m)\u001b[0m\u001b[0;34m\u001b[0m\u001b[0;34m\u001b[0m\u001b[0m\n\u001b[0;32m----> 6\u001b[0;31m \u001b[0mroc_auc_xgb\u001b[0m \u001b[0;34m=\u001b[0m \u001b[0mroc_auc_score\u001b[0m\u001b[0;34m(\u001b[0m\u001b[0my_test1\u001b[0m\u001b[0;34m,\u001b[0m \u001b[0my_pred\u001b[0m\u001b[0;34m)\u001b[0m\u001b[0;34m\u001b[0m\u001b[0;34m\u001b[0m\u001b[0m\n\u001b[0m\u001b[1;32m      7\u001b[0m \u001b[0;34m\u001b[0m\u001b[0m\n\u001b[1;32m      8\u001b[0m \u001b[0;31m# Imprimir métricas para XGBoost\u001b[0m\u001b[0;34m\u001b[0m\u001b[0;34m\u001b[0m\u001b[0m\n",
            "\u001b[0;32m/usr/local/lib/python3.10/dist-packages/sklearn/metrics/_ranking.py\u001b[0m in \u001b[0;36mroc_auc_score\u001b[0;34m(y_true, y_score, average, sample_weight, max_fpr, multi_class, labels)\u001b[0m\n\u001b[1;32m    549\u001b[0m     \u001b[0my_type\u001b[0m \u001b[0;34m=\u001b[0m \u001b[0mtype_of_target\u001b[0m\u001b[0;34m(\u001b[0m\u001b[0my_true\u001b[0m\u001b[0;34m,\u001b[0m \u001b[0minput_name\u001b[0m\u001b[0;34m=\u001b[0m\u001b[0;34m\"y_true\"\u001b[0m\u001b[0;34m)\u001b[0m\u001b[0;34m\u001b[0m\u001b[0;34m\u001b[0m\u001b[0m\n\u001b[1;32m    550\u001b[0m     \u001b[0my_true\u001b[0m \u001b[0;34m=\u001b[0m \u001b[0mcheck_array\u001b[0m\u001b[0;34m(\u001b[0m\u001b[0my_true\u001b[0m\u001b[0;34m,\u001b[0m \u001b[0mensure_2d\u001b[0m\u001b[0;34m=\u001b[0m\u001b[0;32mFalse\u001b[0m\u001b[0;34m,\u001b[0m \u001b[0mdtype\u001b[0m\u001b[0;34m=\u001b[0m\u001b[0;32mNone\u001b[0m\u001b[0;34m)\u001b[0m\u001b[0;34m\u001b[0m\u001b[0;34m\u001b[0m\u001b[0m\n\u001b[0;32m--> 551\u001b[0;31m     \u001b[0my_score\u001b[0m \u001b[0;34m=\u001b[0m \u001b[0mcheck_array\u001b[0m\u001b[0;34m(\u001b[0m\u001b[0my_score\u001b[0m\u001b[0;34m,\u001b[0m \u001b[0mensure_2d\u001b[0m\u001b[0;34m=\u001b[0m\u001b[0;32mFalse\u001b[0m\u001b[0;34m)\u001b[0m\u001b[0;34m\u001b[0m\u001b[0;34m\u001b[0m\u001b[0m\n\u001b[0m\u001b[1;32m    552\u001b[0m \u001b[0;34m\u001b[0m\u001b[0m\n\u001b[1;32m    553\u001b[0m     if y_type == \"multiclass\" or (\n",
            "\u001b[0;32m/usr/local/lib/python3.10/dist-packages/sklearn/utils/validation.py\u001b[0m in \u001b[0;36mcheck_array\u001b[0;34m(array, accept_sparse, accept_large_sparse, dtype, order, copy, force_all_finite, ensure_2d, allow_nd, ensure_min_samples, ensure_min_features, estimator, input_name)\u001b[0m\n\u001b[1;32m    877\u001b[0m                     \u001b[0marray\u001b[0m \u001b[0;34m=\u001b[0m \u001b[0mxp\u001b[0m\u001b[0;34m.\u001b[0m\u001b[0mastype\u001b[0m\u001b[0;34m(\u001b[0m\u001b[0marray\u001b[0m\u001b[0;34m,\u001b[0m \u001b[0mdtype\u001b[0m\u001b[0;34m,\u001b[0m \u001b[0mcopy\u001b[0m\u001b[0;34m=\u001b[0m\u001b[0;32mFalse\u001b[0m\u001b[0;34m)\u001b[0m\u001b[0;34m\u001b[0m\u001b[0;34m\u001b[0m\u001b[0m\n\u001b[1;32m    878\u001b[0m                 \u001b[0;32melse\u001b[0m\u001b[0;34m:\u001b[0m\u001b[0;34m\u001b[0m\u001b[0;34m\u001b[0m\u001b[0m\n\u001b[0;32m--> 879\u001b[0;31m                     \u001b[0marray\u001b[0m \u001b[0;34m=\u001b[0m \u001b[0m_asarray_with_order\u001b[0m\u001b[0;34m(\u001b[0m\u001b[0marray\u001b[0m\u001b[0;34m,\u001b[0m \u001b[0morder\u001b[0m\u001b[0;34m=\u001b[0m\u001b[0morder\u001b[0m\u001b[0;34m,\u001b[0m \u001b[0mdtype\u001b[0m\u001b[0;34m=\u001b[0m\u001b[0mdtype\u001b[0m\u001b[0;34m,\u001b[0m \u001b[0mxp\u001b[0m\u001b[0;34m=\u001b[0m\u001b[0mxp\u001b[0m\u001b[0;34m)\u001b[0m\u001b[0;34m\u001b[0m\u001b[0;34m\u001b[0m\u001b[0m\n\u001b[0m\u001b[1;32m    880\u001b[0m             \u001b[0;32mexcept\u001b[0m \u001b[0mComplexWarning\u001b[0m \u001b[0;32mas\u001b[0m \u001b[0mcomplex_warning\u001b[0m\u001b[0;34m:\u001b[0m\u001b[0;34m\u001b[0m\u001b[0;34m\u001b[0m\u001b[0m\n\u001b[1;32m    881\u001b[0m                 raise ValueError(\n",
            "\u001b[0;32m/usr/local/lib/python3.10/dist-packages/sklearn/utils/_array_api.py\u001b[0m in \u001b[0;36m_asarray_with_order\u001b[0;34m(array, dtype, order, copy, xp)\u001b[0m\n\u001b[1;32m    183\u001b[0m     \u001b[0;32mif\u001b[0m \u001b[0mxp\u001b[0m\u001b[0;34m.\u001b[0m\u001b[0m__name__\u001b[0m \u001b[0;32min\u001b[0m \u001b[0;34m{\u001b[0m\u001b[0;34m\"numpy\"\u001b[0m\u001b[0;34m,\u001b[0m \u001b[0;34m\"numpy.array_api\"\u001b[0m\u001b[0;34m}\u001b[0m\u001b[0;34m:\u001b[0m\u001b[0;34m\u001b[0m\u001b[0;34m\u001b[0m\u001b[0m\n\u001b[1;32m    184\u001b[0m         \u001b[0;31m# Use NumPy API to support order\u001b[0m\u001b[0;34m\u001b[0m\u001b[0;34m\u001b[0m\u001b[0m\n\u001b[0;32m--> 185\u001b[0;31m         \u001b[0marray\u001b[0m \u001b[0;34m=\u001b[0m \u001b[0mnumpy\u001b[0m\u001b[0;34m.\u001b[0m\u001b[0masarray\u001b[0m\u001b[0;34m(\u001b[0m\u001b[0marray\u001b[0m\u001b[0;34m,\u001b[0m \u001b[0morder\u001b[0m\u001b[0;34m=\u001b[0m\u001b[0morder\u001b[0m\u001b[0;34m,\u001b[0m \u001b[0mdtype\u001b[0m\u001b[0;34m=\u001b[0m\u001b[0mdtype\u001b[0m\u001b[0;34m)\u001b[0m\u001b[0;34m\u001b[0m\u001b[0;34m\u001b[0m\u001b[0m\n\u001b[0m\u001b[1;32m    186\u001b[0m         \u001b[0;32mreturn\u001b[0m \u001b[0mxp\u001b[0m\u001b[0;34m.\u001b[0m\u001b[0masarray\u001b[0m\u001b[0;34m(\u001b[0m\u001b[0marray\u001b[0m\u001b[0;34m,\u001b[0m \u001b[0mcopy\u001b[0m\u001b[0;34m=\u001b[0m\u001b[0mcopy\u001b[0m\u001b[0;34m)\u001b[0m\u001b[0;34m\u001b[0m\u001b[0;34m\u001b[0m\u001b[0m\n\u001b[1;32m    187\u001b[0m     \u001b[0;32melse\u001b[0m\u001b[0;34m:\u001b[0m\u001b[0;34m\u001b[0m\u001b[0;34m\u001b[0m\u001b[0m\n",
            "\u001b[0;31mValueError\u001b[0m: could not convert string to float: 'Inactive'"
          ]
        }
      ],
      "source": [
        "\n",
        "accuracy = accuracy_score(y_test1, y_pred)\n",
        "recall = recall_score(y_test1, y_pred, pos_label=\"Active\")\n",
        "precision = precision_score(y_test1, y_pred, pos_label=\"Active\")\n",
        "f1 = f1_score(y_test1, y_pred, pos_label=\"Active\")\n",
        "conf_matrix_xgb = confusion_matrix(y_test1, y_pred)\n",
        "roc_auc_xgb = roc_auc_score(y_test1, y_pred)\n",
        "\n",
        "# Imprimir métricas para XGBoost\n",
        "print(\"XGBoost Metrics:\")\n",
        "print(\"Accuracy:\", accuracy)\n",
        "print(\"Recall:\", recall)\n",
        "print(\"Precision:\", precision)\n",
        "print(\"F1-Score:\", f1)\n",
        "print(\"Confusion Matrix:\\n\", sns.heatmap(conf_matrix_xgb,annot=True))\n",
        "print(\"ROC AUC Score:\", roc_auc_xgb)"
      ]
    },
    {
      "cell_type": "code",
      "source": [
        "importance = mejor_modelo.feature_importances_"
      ],
      "metadata": {
        "id": "Yw8OsmNzUosT"
      },
      "execution_count": null,
      "outputs": []
    },
    {
      "cell_type": "code",
      "source": [
        "from sklearn.feature_selection import SelectFromModel\n",
        "import matplotlib.pyplot as plt\n",
        "\n",
        "# Supongamos que tienes una lista de nombres de características\n",
        "nombres_caracteristicas = [\"numb\",\"C\",\"O\",\"N\",\"Cl\",\"F\",\"Br\",\"I\",\"nh2_pattern\",\"ring5_counts \",\"ring6_counts\",\"MolWeight\",\"Rings\",\"TPSA\",\"FpDM1\",\"RotBonds\",\"formal_charge\",\"logp \"]\n",
        "\n",
        "\n",
        "importance = mejor_modelo.feature_importances_\n",
        "\n",
        "# Sintetiza la importancia de las características\n",
        "for i, v in enumerate(importance):\n",
        "    print('Feature: %s, Score: %.5f' % (nombres_caracteristicas[i], v))\n",
        "\n",
        "# Grafica de la importancia de las características\n",
        "plt.bar([x for x in range(len(importance))], importance,color= \"navy\")\n",
        "plt.xticks(range(len(importance)), nombres_caracteristicas, rotation=90)  # Agrega etiquetas al eje x\n",
        "plt.xlabel(\"Características\")\n",
        "plt.ylabel(\"Importancia\")\n",
        "plt.show()"
      ],
      "metadata": {
        "id": "z6RNuBueUsmJ"
      },
      "execution_count": null,
      "outputs": []
    },
    {
      "cell_type": "markdown",
      "metadata": {
        "id": "ZtdQUl3veyH9"
      },
      "source": [
        "##con cross validation por clster"
      ]
    },
    {
      "cell_type": "code",
      "execution_count": null,
      "metadata": {
        "id": "goQt8Rnui5Tq"
      },
      "outputs": [],
      "source": [
        "#FALTARIA VER LO DE KFOLD STRATIFIER O COM SE HACE\n",
        "#Y SI CAMBIA DIVIDIR LOS GRUPOS CON STRATIFIER"
      ]
    },
    {
      "cell_type": "code",
      "execution_count": null,
      "metadata": {
        "id": "APUk8gUJ4u0t"
      },
      "outputs": [],
      "source": [
        "# Divide los datos en conjuntos de entrenamiento y prueba\n",
        "grupos = descriptors[\"Cluster_PCA_5\"]\n",
        "\n",
        "X_train, X_test, y_train, y_test, grupos_train, grupos_test = train_test_split(X, y, grupos, test_size=0.2, random_state=42)"
      ]
    },
    {
      "cell_type": "markdown",
      "metadata": {
        "id": "gtDdFCPdIV3O"
      },
      "source": [
        "#GRID SEARCH MANUAL"
      ]
    },
    {
      "cell_type": "code",
      "execution_count": null,
      "metadata": {
        "id": "xcHoYApRIYgG"
      },
      "outputs": [],
      "source": [
        "cluster0= total_entrenamiento[total_entrenamiento[\"Cluster_PCA\"]==0]\n",
        "cluster1= total_entrenamiento[total_entrenamiento[\"Cluster_PCA\"]==1]\n",
        "cluster2= total_entrenamiento[total_entrenamiento[\"Cluster_PCA\"]==2]\n",
        "cluster3= total_entrenamiento[total_entrenamiento[\"Cluster_PCA\"]==3]\n",
        "cluster4= total_entrenamiento[total_entrenamiento[\"Cluster_PCA\"]==4]"
      ]
    },
    {
      "cell_type": "markdown",
      "metadata": {
        "id": "orHwpDCYIwGn"
      },
      "source": [
        "##Entrenamiento (1) 0,1,2,3 y testeo en 4"
      ]
    },
    {
      "cell_type": "code",
      "execution_count": null,
      "metadata": {
        "id": "qZGkMlrKJsdD"
      },
      "outputs": [],
      "source": [
        "entrenamiento1= pd.concat([cluster0,cluster1,cluster2,cluster3])\n",
        "testeo1= cluster4"
      ]
    },
    {
      "cell_type": "code",
      "execution_count": null,
      "metadata": {
        "id": "N0tufD2iheA0"
      },
      "outputs": [],
      "source": [
        "entrenamiento1[\"Activity\"].value_counts()"
      ]
    },
    {
      "cell_type": "code",
      "execution_count": null,
      "metadata": {
        "id": "ZIoRSRQtKae_"
      },
      "outputs": [],
      "source": [
        "# filtrar SMILES que no den error\n",
        "SMILES1 = []\n",
        "for i in range(len(entrenamiento1['canonical_smiles'])):\n",
        "  try:\n",
        "    cs = Chem.CanonSmiles(entrenamiento1['canonical_smiles'].iloc[i])\n",
        "    SMILES1.append(cs)\n",
        "\n",
        "  except:\n",
        "    print('Invalid SMILES:',entrenamiento1['canonical_smiles'].iloc[i],i)"
      ]
    },
    {
      "cell_type": "code",
      "execution_count": null,
      "metadata": {
        "id": "Kje89f27Kfcg"
      },
      "outputs": [],
      "source": [
        "# molecules from smiles\n",
        "ms = [Chem.MolFromSmiles(smile) for smile in SMILES1]\n",
        "# number of atoms per molecule\n",
        "numb = [mol.GetNumAtoms() for mol in ms]\n",
        "# different atoms:\n",
        "C = [] # carbon\n",
        "O = [] # oxigen\n",
        "N = [] # nitrogen\n",
        "Cl=[]\n",
        "F=[]\n",
        "Br=[]\n",
        "I=[]\n",
        "\n",
        "nh2_pattern = Chem.MolFromSmarts(\"[NH2]\")\n",
        "nh2_counts = [len(mol.GetSubstructMatches(nh2_pattern)) for mol in ms]\n",
        "\n",
        "ring5_counts = []\n",
        "ring6_counts=[]\n",
        "\n",
        "\n",
        "for mol in ms:\n",
        "  c = 0\n",
        "  o = 0\n",
        "  n = 0\n",
        "  cl=0\n",
        "  f=0\n",
        "  br=0\n",
        "  i=0\n",
        "  nh2_count = 0\n",
        "  ring_info = mol.GetRingInfo()# Obtener sistemas de anillos saturados\n",
        "  ring5_count = sum(1 for ring in ring_info.AtomRings() if len(ring) == 5)  # Contar anillos de 5 carbonos\n",
        "  ring5_counts.append(ring5_count)\n",
        "  ring6= sum(1 for ring in ring_info.AtomRings()if len(ring) == 6)  # Contar anillos de 5 carbonos\n",
        "  ring6_counts.append(ring6)\n",
        "  for atom in mol.GetAtoms():\n",
        "    if atom.GetAtomicNum() == 6:\n",
        "      c += 1\n",
        "    if atom.GetAtomicNum() == 7:\n",
        "      n += 1\n",
        "    if atom.GetAtomicNum() == 8:\n",
        "      o += 1\n",
        "    if atom.GetAtomicNum() == 9:\n",
        "      f += 1\n",
        "    if atom.GetAtomicNum() == 17:\n",
        "      cl += 1\n",
        "    if atom.GetAtomicNum() == 35:\n",
        "      br += 1\n",
        "    if atom.GetAtomicNum() == 53:\n",
        "      i += 1\n",
        "\n",
        "  C.append(c)\n",
        "  O.append(o)\n",
        "  N.append(n)\n",
        "  Cl.append(cl)\n",
        "  F.append(f)\n",
        "  Br.append(br)\n",
        "  I.append(i)\n",
        "\n",
        "# molecular weight\n",
        "MolWeight = [Descriptors.ExactMolWt(mol) for mol in ms]\n",
        "# rings\n",
        "Rings = [Descriptors.RingCount(mol) for mol in ms]\n",
        "# Total polar surface area\n",
        "TPSA = [Descriptors.TPSA(mol) for mol in ms]\n",
        "# Density Morgan FP\n",
        "FpDM1 = [Descriptors.FpDensityMorgan1(mol) for mol in ms]\n",
        "# rotatable bonds\n",
        "RotBonds = [Descriptors.NumRotatableBonds(mol) for mol in ms]\n",
        "# Obtener la carga formal de la molécula\n",
        "formal_charge =[Chem.rdmolops.GetFormalCharge(mol) for mol in ms]\n",
        "# Calcular el logP (coeficiente de partición octanol-agua) de la molécula\n",
        "logp =[Descriptors.MolLogP(mol) for mol in ms]"
      ]
    },
    {
      "cell_type": "markdown",
      "metadata": {
        "id": "DuDHlYPxTLPI"
      },
      "source": [
        "Entrenamiento"
      ]
    },
    {
      "cell_type": "code",
      "execution_count": null,
      "metadata": {
        "id": "0aNQP5KXLXPe"
      },
      "outputs": [],
      "source": [
        "descriptors1 = pd.DataFrame(list(zip(numb, C, O, N,F,Br,I,Cl, nh2_counts,ring5_counts,ring6_counts,MolWeight, Rings, TPSA, FpDM1, RotBonds,logp,formal_charge)))\n",
        "\n",
        "Activity1= entrenamiento1['Activity'].tolist()"
      ]
    },
    {
      "cell_type": "code",
      "execution_count": null,
      "metadata": {
        "id": "MfmOPDT6JXLH"
      },
      "outputs": [],
      "source": [
        "from sklearn.model_selection import train_test_split\n",
        "\n",
        "X1 = np.array(descriptors1)\n",
        "y1 = np.array(Activity1)\n"
      ]
    },
    {
      "cell_type": "code",
      "execution_count": null,
      "metadata": {
        "id": "d7ytzMAOJJrD"
      },
      "outputs": [],
      "source": [
        "from sklearn.model_selection import GridSearchCV\n",
        "from sklearn.pipeline import Pipeline\n",
        "from sklearn.svm import SVC\n",
        "from sklearn.ensemble import RandomForestClassifier\n",
        "# otro modelo, variando hiperparámetros\n",
        "\n",
        "model = RandomForestClassifier(oob_score=True, random_state=42)\n",
        "\n",
        "from sklearn.model_selection import GridSearchCV\n",
        "rfcv = GridSearchCV(estimator=model,\n",
        "                      param_grid={'max_depth': [2, 3, 4, 5, 6, 7,8,9], 'min_samples_split': [2, 3, 4, 5], 'n_estimators': [ 50,100,150,200,300,500]},\n",
        "                      cv=5,\n",
        "                      scoring='accuracy')\n",
        "\n",
        "# Ajusto\n",
        "rfcv.fit(X1,y1)\n",
        "\n",
        "# los mejores parámetros son\n",
        "\n",
        "print(\"Mejores hiperparámetros:\", rfcv.best_params_)\n",
        "print(\"Mejor Accuracy\", rfcv.best_score_)\n",
        "\n",
        "mejor_modelo=rfcv.best_estimator_"
      ]
    },
    {
      "cell_type": "markdown",
      "metadata": {
        "id": "k_vBx3oZTPJV"
      },
      "source": [
        "Testeo"
      ]
    },
    {
      "cell_type": "code",
      "execution_count": null,
      "metadata": {
        "id": "71sZVTZzNUhQ"
      },
      "outputs": [],
      "source": [
        "# filtrar SMILES que no den error\n",
        "SMILESt = []\n",
        "for i in range(len(testeo1['canonical_smiles'])):\n",
        "  try:\n",
        "    cs = Chem.CanonSmiles(testeo1['canonical_smiles'].iloc[i])\n",
        "    SMILESt.append(cs)\n",
        "\n",
        "  except:\n",
        "    print('Invalid SMILES:',testeo1['canonical_smiles'].iloc[i],i)\n",
        "\n",
        "\n",
        "# molecules from smiles\n",
        "ms = [Chem.MolFromSmiles(smile) for smile in SMILESt]\n",
        "# number of atoms per molecule\n",
        "numb = [mol.GetNumAtoms() for mol in ms]\n",
        "# different atoms:\n",
        "C = [] # carbon\n",
        "O = [] # oxigen\n",
        "N = [] # nitrogen\n",
        "Cl=[]\n",
        "F=[]\n",
        "Br=[]\n",
        "I=[]\n",
        "\n",
        "nh2_pattern = Chem.MolFromSmarts(\"[NH2]\")\n",
        "nh2_counts = [len(mol.GetSubstructMatches(nh2_pattern)) for mol in ms]\n",
        "\n",
        "ring5_counts = []\n",
        "ring6_counts=[]\n",
        "\n",
        "\n",
        "for mol in ms:\n",
        "  c = 0\n",
        "  o = 0\n",
        "  n = 0\n",
        "  cl=0\n",
        "  f=0\n",
        "  br=0\n",
        "  i=0\n",
        "  nh2_count = 0\n",
        "  ring_info = mol.GetRingInfo()# Obtener sistemas de anillos saturados\n",
        "  ring5_count = sum(1 for ring in ring_info.AtomRings() if len(ring) == 5)  # Contar anillos de 5 carbonos\n",
        "  ring5_counts.append(ring5_count)\n",
        "  ring6= sum(1 for ring in ring_info.AtomRings()if len(ring) == 6)  # Contar anillos de 5 carbonos\n",
        "  ring6_counts.append(ring6)\n",
        "  for atom in mol.GetAtoms():\n",
        "    if atom.GetAtomicNum() == 6:\n",
        "      c += 1\n",
        "    if atom.GetAtomicNum() == 7:\n",
        "      n += 1\n",
        "    if atom.GetAtomicNum() == 8:\n",
        "      o += 1\n",
        "    if atom.GetAtomicNum() == 9:\n",
        "      f += 1\n",
        "    if atom.GetAtomicNum() == 17:\n",
        "      cl += 1\n",
        "    if atom.GetAtomicNum() == 35:\n",
        "      br += 1\n",
        "    if atom.GetAtomicNum() == 53:\n",
        "      i += 1\n",
        "\n",
        "  C.append(c)\n",
        "  O.append(o)\n",
        "  N.append(n)\n",
        "  Cl.append(cl)\n",
        "  F.append(f)\n",
        "  Br.append(br)\n",
        "  I.append(i)\n",
        "\n",
        "# molecular weight\n",
        "MolWeight = [Descriptors.ExactMolWt(mol) for mol in ms]\n",
        "# rings\n",
        "Rings = [Descriptors.RingCount(mol) for mol in ms]\n",
        "# Total polar surface area\n",
        "TPSA = [Descriptors.TPSA(mol) for mol in ms]\n",
        "# Density Morgan FP\n",
        "FpDM1 = [Descriptors.FpDensityMorgan1(mol) for mol in ms]\n",
        "# rotatable bonds\n",
        "RotBonds = [Descriptors.NumRotatableBonds(mol) for mol in ms]\n",
        "# Obtener la carga formal de la molécula\n",
        "formal_charge =[Chem.rdmolops.GetFormalCharge(mol) for mol in ms]\n",
        "# Calcular el logP (coeficiente de partición octanol-agua) de la molécula\n",
        "logp =[Descriptors.MolLogP(mol) for mol in ms]\n",
        "\n",
        "descriptorst = pd.DataFrame(list(zip(numb, C, O, N,F,Br,I,Cl, nh2_counts,ring5_counts,ring6_counts,MolWeight, Rings, TPSA, FpDM1, RotBonds,logp,formal_charge)))\n",
        "\n",
        "Activityt= testeo1['Activity'].tolist()"
      ]
    },
    {
      "cell_type": "code",
      "execution_count": null,
      "metadata": {
        "id": "jIBAligbNPFT"
      },
      "outputs": [],
      "source": [
        "Xt = np.array(descriptorst)\n",
        "yt = np.array(Activityt)\n",
        "\n",
        "pred_cluster4 = mejor_modelo.predict(Xt)"
      ]
    },
    {
      "cell_type": "markdown",
      "metadata": {
        "id": "85T2QL5OTl2c"
      },
      "source": [
        "###Resultados 1"
      ]
    },
    {
      "cell_type": "code",
      "execution_count": null,
      "metadata": {
        "id": "7HvJrWanMbjY"
      },
      "outputs": [],
      "source": [
        "\n",
        "from sklearn import metrics\n",
        "from sklearn.metrics import confusion_matrix, accuracy_score, precision_score, recall_score\n",
        "\n",
        "accuracy = round(accuracy_score(yt, pred_cluster4), 3)\n",
        "precision = round(precision_score(yt,pred_cluster4, average='micro'), 3)\n",
        "recall = round(recall_score(yt, pred_cluster4, average='micro'), 3)\n",
        "f1_score = 2 * (precision * recall) / (precision + recall)\n",
        "print(f\"Exactitud (Accuracy): {accuracy}\")\n",
        "print(f\"Precisión: {precision}\")\n",
        "print(f\"Exhaustividad (Recall): {recall}\")\n",
        "print(f\"F1-Score: {f1_score}\")\n",
        "confusion_matrix(yt,pred_cluster4)"
      ]
    },
    {
      "cell_type": "code",
      "execution_count": null,
      "metadata": {
        "id": "-CGe7YAtTxT5"
      },
      "outputs": [],
      "source": [
        "mostrar_resultados(yt, pred_cluster4)"
      ]
    },
    {
      "cell_type": "markdown",
      "metadata": {
        "id": "wfz-sXqTI1X-"
      },
      "source": [
        "##Entrenamiento(2) 0,1,2,4 y testeo en 3"
      ]
    },
    {
      "cell_type": "code",
      "execution_count": null,
      "metadata": {
        "id": "dabJqLXIJ68d"
      },
      "outputs": [],
      "source": [
        "entrenamiento2= pd.concat([cluster0,cluster1,cluster2,cluster4])\n",
        "testeo2= cluster3"
      ]
    },
    {
      "cell_type": "code",
      "execution_count": null,
      "metadata": {
        "id": "-M5Ua9JFhr0k"
      },
      "outputs": [],
      "source": [
        "entrenamiento2[\"Activity\"].value_counts()"
      ]
    },
    {
      "cell_type": "code",
      "execution_count": null,
      "metadata": {
        "id": "_znAvDQKUjqt"
      },
      "outputs": [],
      "source": [
        "# filtrar SMILES que no den error\n",
        "SMILES2= []\n",
        "for i in range(len(entrenamiento2['canonical_smiles'])):\n",
        "  try:\n",
        "    cs = Chem.CanonSmiles(entrenamiento2['canonical_smiles'].iloc[i])\n",
        "    SMILES2.append(cs)\n",
        "\n",
        "  except:\n",
        "    print('Invalid SMILES:',entrenamiento2['canonical_smiles'].iloc[i],i)\n",
        "\n",
        "# molecules from smiles\n",
        "ms = [Chem.MolFromSmiles(smile) for smile in SMILES2]\n",
        "# number of atoms per molecule\n",
        "numb = [mol.GetNumAtoms() for mol in ms]\n",
        "# different atoms:\n",
        "C = [] # carbon\n",
        "O = [] # oxigen\n",
        "N = [] # nitrogen\n",
        "Cl=[]\n",
        "F=[]\n",
        "Br=[]\n",
        "I=[]\n",
        "\n",
        "nh2_pattern = Chem.MolFromSmarts(\"[NH2]\")\n",
        "nh2_counts = [len(mol.GetSubstructMatches(nh2_pattern)) for mol in ms]\n",
        "\n",
        "ring5_counts = []\n",
        "ring6_counts=[]\n",
        "\n",
        "\n",
        "for mol in ms:\n",
        "  c = 0\n",
        "  o = 0\n",
        "  n = 0\n",
        "  cl=0\n",
        "  f=0\n",
        "  br=0\n",
        "  i=0\n",
        "  nh2_count = 0\n",
        "  ring_info = mol.GetRingInfo()# Obtener sistemas de anillos saturados\n",
        "  ring5_count = sum(1 for ring in ring_info.AtomRings() if len(ring) == 5)  # Contar anillos de 5 carbonos\n",
        "  ring5_counts.append(ring5_count)\n",
        "  ring6= sum(1 for ring in ring_info.AtomRings()if len(ring) == 6)  # Contar anillos de 5 carbonos\n",
        "  ring6_counts.append(ring6)\n",
        "  for atom in mol.GetAtoms():\n",
        "    if atom.GetAtomicNum() == 6:\n",
        "      c += 1\n",
        "    if atom.GetAtomicNum() == 7:\n",
        "      n += 1\n",
        "    if atom.GetAtomicNum() == 8:\n",
        "      o += 1\n",
        "    if atom.GetAtomicNum() == 9:\n",
        "      f += 1\n",
        "    if atom.GetAtomicNum() == 17:\n",
        "      cl += 1\n",
        "    if atom.GetAtomicNum() == 35:\n",
        "      br += 1\n",
        "    if atom.GetAtomicNum() == 53:\n",
        "      i += 1\n",
        "\n",
        "  C.append(c)\n",
        "  O.append(o)\n",
        "  N.append(n)\n",
        "  Cl.append(cl)\n",
        "  F.append(f)\n",
        "  Br.append(br)\n",
        "  I.append(i)\n",
        "\n",
        "# molecular weight\n",
        "MolWeight = [Descriptors.ExactMolWt(mol) for mol in ms]\n",
        "# rings\n",
        "Rings = [Descriptors.RingCount(mol) for mol in ms]\n",
        "# Total polar surface area\n",
        "TPSA = [Descriptors.TPSA(mol) for mol in ms]\n",
        "# Density Morgan FP\n",
        "FpDM1 = [Descriptors.FpDensityMorgan1(mol) for mol in ms]\n",
        "# rotatable bonds\n",
        "RotBonds = [Descriptors.NumRotatableBonds(mol) for mol in ms]\n",
        "# Obtener la carga formal de la molécula\n",
        "formal_charge =[Chem.rdmolops.GetFormalCharge(mol) for mol in ms]\n",
        "# Calcular el logP (coeficiente de partición octanol-agua) de la molécula\n",
        "logp =[Descriptors.MolLogP(mol) for mol in ms]\n",
        "\n",
        "\n",
        "descriptors2 = pd.DataFrame(list(zip(numb, C, O, N,F,Br,I,Cl, nh2_counts,ring5_counts,ring6_counts,MolWeight, Rings, TPSA, FpDM1, RotBonds,logp,formal_charge)))\n",
        "\n",
        "Activity2= entrenamiento2['Activity'].tolist()"
      ]
    },
    {
      "cell_type": "code",
      "execution_count": null,
      "metadata": {
        "id": "oQUEUYEzU62d"
      },
      "outputs": [],
      "source": [
        "from sklearn.model_selection import train_test_split\n",
        "\n",
        "X2= np.array(descriptors2)\n",
        "y2 = np.array(Activity2)\n",
        "\n",
        "from sklearn.model_selection import GridSearchCV\n",
        "from sklearn.pipeline import Pipeline\n",
        "from sklearn.svm import SVC\n",
        "\n",
        "model = RandomForestClassifier(oob_score=True, random_state=42)\n",
        "\n",
        "from sklearn.model_selection import GridSearchCV\n",
        "rfcv = GridSearchCV(estimator=model,\n",
        "                      param_grid={'max_depth': [2, 3, 4, 5, 6, 7,8,9], 'min_samples_split': [2, 3, 4, 5], 'n_estimators': [ 50,100,150,200,300]},\n",
        "                      cv=5,\n",
        "                      scoring='accuracy')\n",
        "\n",
        "# Ajusto\n",
        "rfcv.fit(X2,y2)\n",
        "\n",
        "# los mejores parámetros son\n",
        "\n",
        "print(\"Mejores hiperparámetros:\", rfcv.best_params_)\n",
        "print(\"Mejor Accuracy\", rfcv.best_score_)\n",
        "\n",
        "mejor_modelo2=rfcv.best_estimator_"
      ]
    },
    {
      "cell_type": "markdown",
      "metadata": {
        "id": "R7bjUX4HVGki"
      },
      "source": [
        "Testeo"
      ]
    },
    {
      "cell_type": "code",
      "execution_count": null,
      "metadata": {
        "id": "W6SoOQMyVHwS"
      },
      "outputs": [],
      "source": [
        "# filtrar SMILES que no den error\n",
        "SMILESt2 = []\n",
        "for i in range(len(testeo2['canonical_smiles'])):\n",
        "  try:\n",
        "    cs = Chem.CanonSmiles(testeo2['canonical_smiles'].iloc[i])\n",
        "    SMILESt2.append(cs)\n",
        "\n",
        "  except:\n",
        "    print('Invalid SMILES:',testeo2['canonical_smiles'].iloc[i],i)\n",
        "\n",
        "\n",
        "# molecules from smiles\n",
        "ms = [Chem.MolFromSmiles(smile) for smile in SMILESt2]\n",
        "# number of atoms per molecule\n",
        "numb = [mol.GetNumAtoms() for mol in ms]\n",
        "# different atoms:\n",
        "C = [] # carbon\n",
        "O = [] # oxigen\n",
        "N = [] # nitrogen\n",
        "Cl=[]\n",
        "F=[]\n",
        "Br=[]\n",
        "I=[]\n",
        "\n",
        "nh2_pattern = Chem.MolFromSmarts(\"[NH2]\")\n",
        "nh2_counts = [len(mol.GetSubstructMatches(nh2_pattern)) for mol in ms]\n",
        "\n",
        "ring5_counts = []\n",
        "ring6_counts=[]\n",
        "\n",
        "\n",
        "for mol in ms:\n",
        "  c = 0\n",
        "  o = 0\n",
        "  n = 0\n",
        "  cl=0\n",
        "  f=0\n",
        "  br=0\n",
        "  i=0\n",
        "  nh2_count = 0\n",
        "  ring_info = mol.GetRingInfo()# Obtener sistemas de anillos saturados\n",
        "  ring5_count = sum(1 for ring in ring_info.AtomRings() if len(ring) == 5)  # Contar anillos de 5 carbonos\n",
        "  ring5_counts.append(ring5_count)\n",
        "  ring6= sum(1 for ring in ring_info.AtomRings()if len(ring) == 6)  # Contar anillos de 5 carbonos\n",
        "  ring6_counts.append(ring6)\n",
        "  for atom in mol.GetAtoms():\n",
        "    if atom.GetAtomicNum() == 6:\n",
        "      c += 1\n",
        "    if atom.GetAtomicNum() == 7:\n",
        "      n += 1\n",
        "    if atom.GetAtomicNum() == 8:\n",
        "      o += 1\n",
        "    if atom.GetAtomicNum() == 9:\n",
        "      f += 1\n",
        "    if atom.GetAtomicNum() == 17:\n",
        "      cl += 1\n",
        "    if atom.GetAtomicNum() == 35:\n",
        "      br += 1\n",
        "    if atom.GetAtomicNum() == 53:\n",
        "      i += 1\n",
        "\n",
        "  C.append(c)\n",
        "  O.append(o)\n",
        "  N.append(n)\n",
        "  Cl.append(cl)\n",
        "  F.append(f)\n",
        "  Br.append(br)\n",
        "  I.append(i)\n",
        "\n",
        "# molecular weight\n",
        "MolWeight = [Descriptors.ExactMolWt(mol) for mol in ms]\n",
        "# rings\n",
        "Rings = [Descriptors.RingCount(mol) for mol in ms]\n",
        "# Total polar surface area\n",
        "TPSA = [Descriptors.TPSA(mol) for mol in ms]\n",
        "# Density Morgan FP\n",
        "FpDM1 = [Descriptors.FpDensityMorgan1(mol) for mol in ms]\n",
        "# rotatable bonds\n",
        "RotBonds = [Descriptors.NumRotatableBonds(mol) for mol in ms]\n",
        "# Obtener la carga formal de la molécula\n",
        "formal_charge =[Chem.rdmolops.GetFormalCharge(mol) for mol in ms]\n",
        "# Calcular el logP (coeficiente de partición octanol-agua) de la molécula\n",
        "logp =[Descriptors.MolLogP(mol) for mol in ms]\n",
        "\n",
        "descriptorst2 = pd.DataFrame(list(zip(numb, C, O, N,F,Br,I,Cl, nh2_counts,ring5_counts,ring6_counts,MolWeight, Rings, TPSA, FpDM1, RotBonds,logp,formal_charge)))\n",
        "\n",
        "Activityt2= testeo2['Activity'].tolist()"
      ]
    },
    {
      "cell_type": "code",
      "execution_count": null,
      "metadata": {
        "id": "T3IwkgFsVRJB"
      },
      "outputs": [],
      "source": [
        "Xt2 = np.array(descriptorst2)\n",
        "yt2 = np.array(Activityt2)\n",
        "\n",
        "pred_cluster3= mejor_modelo2.predict(Xt2)"
      ]
    },
    {
      "cell_type": "markdown",
      "metadata": {
        "id": "8S51T94QVVXh"
      },
      "source": [
        "###Restultados 2"
      ]
    },
    {
      "cell_type": "code",
      "execution_count": null,
      "metadata": {
        "id": "YW4QEQU8VUvi"
      },
      "outputs": [],
      "source": [
        "\n",
        "from sklearn import metrics\n",
        "from sklearn.metrics import confusion_matrix, accuracy_score, precision_score, recall_score\n",
        "\n",
        "accuracy = round(accuracy_score(yt2, pred_cluster3), 3)\n",
        "precision = round(precision_score(yt2,pred_cluster3, average='micro'), 3)\n",
        "recall = round(recall_score(yt2, pred_cluster3, average='micro'), 3)\n",
        "f1_score = 2 * (precision * recall) / (precision + recall)\n",
        "print(f\"Exactitud (Accuracy): {accuracy}\")\n",
        "print(f\"Precisión: {precision}\")\n",
        "print(f\"Exhaustividad (Recall): {recall}\")\n",
        "print(f\"F1-Score: {f1_score}\")\n",
        "confusion_matrix(yt2,pred_cluster3)"
      ]
    },
    {
      "cell_type": "code",
      "execution_count": null,
      "metadata": {
        "id": "Fdo_JpcDWLxq"
      },
      "outputs": [],
      "source": [
        "mostrar_resultados(yt2, pred_cluster3)"
      ]
    },
    {
      "cell_type": "markdown",
      "metadata": {
        "id": "knqe4BdMI1uK"
      },
      "source": [
        "##Entrenamiento(3) 0,1,3,4 y testeo en 2"
      ]
    },
    {
      "cell_type": "code",
      "execution_count": null,
      "metadata": {
        "id": "r2yqSrMqJ7bg"
      },
      "outputs": [],
      "source": [
        "entrenamiento3= pd.concat([cluster0,cluster1,cluster4,cluster3])\n",
        "testeo3= cluster2"
      ]
    },
    {
      "cell_type": "code",
      "execution_count": null,
      "metadata": {
        "id": "UUwbFoKjXK9R"
      },
      "outputs": [],
      "source": [
        "entrenamiento3[\"Activity\"].value_counts()"
      ]
    },
    {
      "cell_type": "code",
      "execution_count": null,
      "metadata": {
        "id": "_VVReIKzXLOh"
      },
      "outputs": [],
      "source": [
        "# filtrar SMILES que no den error\n",
        "SMILES3= []\n",
        "for i in range(len(entrenamiento3['canonical_smiles'])):\n",
        "  try:\n",
        "    cs = Chem.CanonSmiles(entrenamiento3['canonical_smiles'].iloc[i])\n",
        "    SMILES3.append(cs)\n",
        "\n",
        "  except:\n",
        "    print('Invalid SMILES:',entrenamiento3['canonical_smiles'].iloc[i],i)\n",
        "\n",
        "# molecules from smiles\n",
        "ms = [Chem.MolFromSmiles(smile) for smile in SMILES3]\n",
        "# number of atoms per molecule\n",
        "numb = [mol.GetNumAtoms() for mol in ms]\n",
        "# different atoms:\n",
        "C = [] # carbon\n",
        "O = [] # oxigen\n",
        "N = [] # nitrogen\n",
        "Cl=[]\n",
        "F=[]\n",
        "Br=[]\n",
        "I=[]\n",
        "\n",
        "nh2_pattern = Chem.MolFromSmarts(\"[NH2]\")\n",
        "nh2_counts = [len(mol.GetSubstructMatches(nh2_pattern)) for mol in ms]\n",
        "\n",
        "ring5_counts = []\n",
        "ring6_counts=[]\n",
        "\n",
        "\n",
        "for mol in ms:\n",
        "  c = 0\n",
        "  o = 0\n",
        "  n = 0\n",
        "  cl=0\n",
        "  f=0\n",
        "  br=0\n",
        "  i=0\n",
        "  nh2_count = 0\n",
        "  ring_info = mol.GetRingInfo()# Obtener sistemas de anillos saturados\n",
        "  ring5_count = sum(1 for ring in ring_info.AtomRings() if len(ring) == 5)  # Contar anillos de 5 carbonos\n",
        "  ring5_counts.append(ring5_count)\n",
        "  ring6= sum(1 for ring in ring_info.AtomRings()if len(ring) == 6)  # Contar anillos de 5 carbonos\n",
        "  ring6_counts.append(ring6)\n",
        "  for atom in mol.GetAtoms():\n",
        "    if atom.GetAtomicNum() == 6:\n",
        "      c += 1\n",
        "    if atom.GetAtomicNum() == 7:\n",
        "      n += 1\n",
        "    if atom.GetAtomicNum() == 8:\n",
        "      o += 1\n",
        "    if atom.GetAtomicNum() == 9:\n",
        "      f += 1\n",
        "    if atom.GetAtomicNum() == 17:\n",
        "      cl += 1\n",
        "    if atom.GetAtomicNum() == 35:\n",
        "      br += 1\n",
        "    if atom.GetAtomicNum() == 53:\n",
        "      i += 1\n",
        "\n",
        "  C.append(c)\n",
        "  O.append(o)\n",
        "  N.append(n)\n",
        "  Cl.append(cl)\n",
        "  F.append(f)\n",
        "  Br.append(br)\n",
        "  I.append(i)\n",
        "\n",
        "# molecular weight\n",
        "MolWeight = [Descriptors.ExactMolWt(mol) for mol in ms]\n",
        "# rings\n",
        "Rings = [Descriptors.RingCount(mol) for mol in ms]\n",
        "# Total polar surface area\n",
        "TPSA = [Descriptors.TPSA(mol) for mol in ms]\n",
        "# Density Morgan FP\n",
        "FpDM1 = [Descriptors.FpDensityMorgan1(mol) for mol in ms]\n",
        "# rotatable bonds\n",
        "RotBonds = [Descriptors.NumRotatableBonds(mol) for mol in ms]\n",
        "# Obtener la carga formal de la molécula\n",
        "formal_charge =[Chem.rdmolops.GetFormalCharge(mol) for mol in ms]\n",
        "# Calcular el logP (coeficiente de partición octanol-agua) de la molécula\n",
        "logp =[Descriptors.MolLogP(mol) for mol in ms]\n",
        "\n",
        "\n",
        "descriptors3 = pd.DataFrame(list(zip(numb, C, O, N,F,Br,I,Cl, nh2_counts,ring5_counts,ring6_counts,MolWeight, Rings, TPSA, FpDM1, RotBonds,logp,formal_charge)))\n",
        "\n",
        "Activity3= entrenamiento3['Activity'].tolist()"
      ]
    },
    {
      "cell_type": "code",
      "execution_count": null,
      "metadata": {
        "id": "x-974F1OXW6v"
      },
      "outputs": [],
      "source": [
        "from sklearn.model_selection import train_test_split\n",
        "\n",
        "X3= np.array(descriptors3)\n",
        "y3 = np.array(Activity3)\n",
        "\n",
        "from sklearn.model_selection import GridSearchCV\n",
        "from sklearn.pipeline import Pipeline\n",
        "from sklearn.svm import SVC\n",
        "\n",
        "model = RandomForestClassifier(oob_score=True, random_state=42)\n",
        "\n",
        "from sklearn.model_selection import GridSearchCV\n",
        "rfcv = GridSearchCV(estimator=model,\n",
        "                      param_grid={'max_depth': [2, 3, 4, 5, 6, 7,8,9], 'min_samples_split': [2, 3, 4, 5], 'n_estimators': [ 50,100,150,200,300]},\n",
        "                      cv=5,\n",
        "                      scoring='accuracy')\n",
        "\n",
        "# Ajusto\n",
        "rfcv.fit(X3,y3)\n",
        "\n",
        "# los mejores parámetros son\n",
        "\n",
        "print(\"Mejores hiperparámetros:\", rfcv.best_params_)\n",
        "print(\"Mejor Accuracy\", rfcv.best_score_)\n",
        "\n",
        "mejor_modelo3=rfcv.best_estimator_"
      ]
    },
    {
      "cell_type": "markdown",
      "metadata": {
        "id": "lpx5QmRUXqCd"
      },
      "source": [
        "Testeo"
      ]
    },
    {
      "cell_type": "code",
      "execution_count": null,
      "metadata": {
        "id": "E3ftpNGiXrl9"
      },
      "outputs": [],
      "source": []
    },
    {
      "cell_type": "code",
      "execution_count": null,
      "metadata": {
        "id": "wyqjaNpbXr0r"
      },
      "outputs": [],
      "source": [
        "# filtrar SMILES que no den error\n",
        "SMILESt3 = []\n",
        "for i in range(len(testeo3['canonical_smiles'])):\n",
        "  try:\n",
        "    cs = Chem.CanonSmiles(testeo3['canonical_smiles'].iloc[i])\n",
        "    SMILESt3.append(cs)\n",
        "\n",
        "  except:\n",
        "    print('Invalid SMILES:',testeo3['canonical_smiles'].iloc[i],i)\n",
        "\n",
        "\n",
        "# molecules from smiles\n",
        "ms = [Chem.MolFromSmiles(smile) for smile in SMILESt3]\n",
        "# number of atoms per molecule\n",
        "numb = [mol.GetNumAtoms() for mol in ms]\n",
        "# different atoms:\n",
        "C = [] # carbon\n",
        "O = [] # oxigen\n",
        "N = [] # nitrogen\n",
        "Cl=[]\n",
        "F=[]\n",
        "Br=[]\n",
        "I=[]\n",
        "\n",
        "nh2_pattern = Chem.MolFromSmarts(\"[NH2]\")\n",
        "nh2_counts = [len(mol.GetSubstructMatches(nh2_pattern)) for mol in ms]\n",
        "\n",
        "ring5_counts = []\n",
        "ring6_counts=[]\n",
        "\n",
        "\n",
        "for mol in ms:\n",
        "  c = 0\n",
        "  o = 0\n",
        "  n = 0\n",
        "  cl=0\n",
        "  f=0\n",
        "  br=0\n",
        "  i=0\n",
        "  nh2_count = 0\n",
        "  ring_info = mol.GetRingInfo()# Obtener sistemas de anillos saturados\n",
        "  ring5_count = sum(1 for ring in ring_info.AtomRings() if len(ring) == 5)  # Contar anillos de 5 carbonos\n",
        "  ring5_counts.append(ring5_count)\n",
        "  ring6= sum(1 for ring in ring_info.AtomRings()if len(ring) == 6)  # Contar anillos de 5 carbonos\n",
        "  ring6_counts.append(ring6)\n",
        "  for atom in mol.GetAtoms():\n",
        "    if atom.GetAtomicNum() == 6:\n",
        "      c += 1\n",
        "    if atom.GetAtomicNum() == 7:\n",
        "      n += 1\n",
        "    if atom.GetAtomicNum() == 8:\n",
        "      o += 1\n",
        "    if atom.GetAtomicNum() == 9:\n",
        "      f += 1\n",
        "    if atom.GetAtomicNum() == 17:\n",
        "      cl += 1\n",
        "    if atom.GetAtomicNum() == 35:\n",
        "      br += 1\n",
        "    if atom.GetAtomicNum() == 53:\n",
        "      i += 1\n",
        "\n",
        "  C.append(c)\n",
        "  O.append(o)\n",
        "  N.append(n)\n",
        "  Cl.append(cl)\n",
        "  F.append(f)\n",
        "  Br.append(br)\n",
        "  I.append(i)\n",
        "\n",
        "# molecular weight\n",
        "MolWeight = [Descriptors.ExactMolWt(mol) for mol in ms]\n",
        "# rings\n",
        "Rings = [Descriptors.RingCount(mol) for mol in ms]\n",
        "# Total polar surface area\n",
        "TPSA = [Descriptors.TPSA(mol) for mol in ms]\n",
        "# Density Morgan FP\n",
        "FpDM1 = [Descriptors.FpDensityMorgan1(mol) for mol in ms]\n",
        "# rotatable bonds\n",
        "RotBonds = [Descriptors.NumRotatableBonds(mol) for mol in ms]\n",
        "# Obtener la carga formal de la molécula\n",
        "formal_charge =[Chem.rdmolops.GetFormalCharge(mol) for mol in ms]\n",
        "# Calcular el logP (coeficiente de partición octanol-agua) de la molécula\n",
        "logp =[Descriptors.MolLogP(mol) for mol in ms]\n",
        "\n",
        "descriptorst3 = pd.DataFrame(list(zip(numb, C, O, N,F,Br,I,Cl, nh2_counts,ring5_counts,ring6_counts,MolWeight, Rings, TPSA, FpDM1, RotBonds,logp,formal_charge)))\n",
        "\n",
        "Activityt3= testeo3['Activity'].tolist()"
      ]
    },
    {
      "cell_type": "code",
      "execution_count": null,
      "metadata": {
        "id": "LM-GVLN0YA6D"
      },
      "outputs": [],
      "source": [
        "Xt3 = np.array(descriptorst3)\n",
        "yt3 = np.array(Activityt3)\n",
        "\n",
        "pred_cluster2= mejor_modelo3.predict(Xt3)"
      ]
    },
    {
      "cell_type": "code",
      "execution_count": null,
      "metadata": {
        "id": "YBFS59f-YKU2"
      },
      "outputs": [],
      "source": [
        "\n",
        "from sklearn import metrics\n",
        "from sklearn.metrics import confusion_matrix, accuracy_score, precision_score, recall_score\n",
        "\n",
        "accuracy = round(accuracy_score(yt3,pred_cluster2), 3)\n",
        "precision = round(precision_score(yt3,pred_cluster2, average='micro'), 3)\n",
        "recall = round(recall_score(yt3, pred_cluster2, average='micro'), 3)\n",
        "f1_score = 2 * (precision * recall) / (precision + recall)\n",
        "print(f\"Exactitud (Accuracy): {accuracy}\")\n",
        "print(f\"Precisión: {precision}\")\n",
        "print(f\"Exhaustividad (Recall): {recall}\")\n",
        "print(f\"F1-Score: {f1_score}\")\n",
        "confusion_matrix(yt3,pred_cluster2)"
      ]
    },
    {
      "cell_type": "markdown",
      "metadata": {
        "id": "7mvijLdCYw_J"
      },
      "source": [
        "### Restultados 3"
      ]
    },
    {
      "cell_type": "code",
      "execution_count": null,
      "metadata": {
        "id": "DSTA4tOKYzJ9"
      },
      "outputs": [],
      "source": [
        "mostrar_resultados(yt3, pred_cluster2)"
      ]
    },
    {
      "cell_type": "markdown",
      "metadata": {
        "id": "mapf1VoXI17_"
      },
      "source": [
        "##Entrenamiento (4) 0,2,3,4 y testeo en 1"
      ]
    },
    {
      "cell_type": "code",
      "execution_count": null,
      "metadata": {
        "id": "Gtja21JxJ76I"
      },
      "outputs": [],
      "source": [
        "entrenamiento4= pd.concat([cluster0,cluster4,cluster2,cluster3])\n",
        "testeo4= cluster1"
      ]
    },
    {
      "cell_type": "code",
      "execution_count": null,
      "metadata": {
        "id": "fgeayQVWZOHs"
      },
      "outputs": [],
      "source": [
        "entrenamiento4[\"Activity\"].value_counts()"
      ]
    },
    {
      "cell_type": "code",
      "execution_count": null,
      "metadata": {
        "id": "8ypKt5EEZObT"
      },
      "outputs": [],
      "source": [
        "# filtrar SMILES que no den error\n",
        "SMILES4= []\n",
        "for i in range(len(entrenamiento4['canonical_smiles'])):\n",
        "  try:\n",
        "    cs = Chem.CanonSmiles(entrenamiento4['canonical_smiles'].iloc[i])\n",
        "    SMILES4.append(cs)\n",
        "\n",
        "  except:\n",
        "    print('Invalid SMILES:',entrenamiento4['canonical_smiles'].iloc[i],i)\n",
        "\n",
        "# molecules from smiles\n",
        "ms = [Chem.MolFromSmiles(smile) for smile in SMILES4]\n",
        "# number of atoms per molecule\n",
        "numb = [mol.GetNumAtoms() for mol in ms]\n",
        "# different atoms:\n",
        "C = [] # carbon\n",
        "O = [] # oxigen\n",
        "N = [] # nitrogen\n",
        "Cl=[]\n",
        "F=[]\n",
        "Br=[]\n",
        "I=[]\n",
        "\n",
        "nh2_pattern = Chem.MolFromSmarts(\"[NH2]\")\n",
        "nh2_counts = [len(mol.GetSubstructMatches(nh2_pattern)) for mol in ms]\n",
        "\n",
        "ring5_counts = []\n",
        "ring6_counts=[]\n",
        "\n",
        "\n",
        "for mol in ms:\n",
        "  c = 0\n",
        "  o = 0\n",
        "  n = 0\n",
        "  cl=0\n",
        "  f=0\n",
        "  br=0\n",
        "  i=0\n",
        "  nh2_count = 0\n",
        "  ring_info = mol.GetRingInfo()# Obtener sistemas de anillos saturados\n",
        "  ring5_count = sum(1 for ring in ring_info.AtomRings() if len(ring) == 5)  # Contar anillos de 5 carbonos\n",
        "  ring5_counts.append(ring5_count)\n",
        "  ring6= sum(1 for ring in ring_info.AtomRings()if len(ring) == 6)  # Contar anillos de 5 carbonos\n",
        "  ring6_counts.append(ring6)\n",
        "  for atom in mol.GetAtoms():\n",
        "    if atom.GetAtomicNum() == 6:\n",
        "      c += 1\n",
        "    if atom.GetAtomicNum() == 7:\n",
        "      n += 1\n",
        "    if atom.GetAtomicNum() == 8:\n",
        "      o += 1\n",
        "    if atom.GetAtomicNum() == 9:\n",
        "      f += 1\n",
        "    if atom.GetAtomicNum() == 17:\n",
        "      cl += 1\n",
        "    if atom.GetAtomicNum() == 35:\n",
        "      br += 1\n",
        "    if atom.GetAtomicNum() == 53:\n",
        "      i += 1\n",
        "\n",
        "  C.append(c)\n",
        "  O.append(o)\n",
        "  N.append(n)\n",
        "  Cl.append(cl)\n",
        "  F.append(f)\n",
        "  Br.append(br)\n",
        "  I.append(i)\n",
        "\n",
        "# molecular weight\n",
        "MolWeight = [Descriptors.ExactMolWt(mol) for mol in ms]\n",
        "# rings\n",
        "Rings = [Descriptors.RingCount(mol) for mol in ms]\n",
        "# Total polar surface area\n",
        "TPSA = [Descriptors.TPSA(mol) for mol in ms]\n",
        "# Density Morgan FP\n",
        "FpDM1 = [Descriptors.FpDensityMorgan1(mol) for mol in ms]\n",
        "# rotatable bonds\n",
        "RotBonds = [Descriptors.NumRotatableBonds(mol) for mol in ms]\n",
        "# Obtener la carga formal de la molécula\n",
        "formal_charge =[Chem.rdmolops.GetFormalCharge(mol) for mol in ms]\n",
        "# Calcular el logP (coeficiente de partición octanol-agua) de la molécula\n",
        "logp =[Descriptors.MolLogP(mol) for mol in ms]\n",
        "\n",
        "\n",
        "descriptors4 = pd.DataFrame(list(zip(numb, C, O, N,F,Br,I,Cl, nh2_counts,ring5_counts,ring6_counts,MolWeight, Rings, TPSA, FpDM1, RotBonds,logp,formal_charge)))\n",
        "\n",
        "Activity4= entrenamiento4['Activity'].tolist()"
      ]
    },
    {
      "cell_type": "code",
      "execution_count": null,
      "metadata": {
        "id": "XsGdRHjYZgJv"
      },
      "outputs": [],
      "source": []
    },
    {
      "cell_type": "code",
      "execution_count": null,
      "metadata": {
        "id": "4lb3ILcGZgfN"
      },
      "outputs": [],
      "source": [
        "from sklearn.model_selection import train_test_split\n",
        "\n",
        "X4= np.array(descriptors4)\n",
        "y4 = np.array(Activity4)\n",
        "\n",
        "from sklearn.model_selection import GridSearchCV\n",
        "from sklearn.pipeline import Pipeline\n",
        "from sklearn.svm import SVC\n",
        "\n",
        "model = RandomForestClassifier(oob_score=True, random_state=42)\n",
        "\n",
        "from sklearn.model_selection import GridSearchCV\n",
        "rfcv = GridSearchCV(estimator=model,\n",
        "                      param_grid={'max_depth': [2, 3, 4, 5, 6, 7,8,9], 'min_samples_split': [2, 3, 4, 5], 'n_estimators': [ 50,100,150,200,300]},\n",
        "                      cv=5,\n",
        "                      scoring='accuracy')\n",
        "\n",
        "# Ajusto\n",
        "rfcv.fit(X4,y4)\n",
        "\n",
        "# los mejores parámetros son\n",
        "\n",
        "print(\"Mejores hiperparámetros:\", rfcv.best_params_)\n",
        "print(\"Mejor Accuracy\", rfcv.best_score_)\n",
        "\n",
        "mejor_modelo4=rfcv.best_estimator_"
      ]
    },
    {
      "cell_type": "markdown",
      "metadata": {
        "id": "Rd1-mFQbZyi4"
      },
      "source": [
        "Testeo"
      ]
    },
    {
      "cell_type": "code",
      "execution_count": null,
      "metadata": {
        "id": "9DX3WnQXZzy9"
      },
      "outputs": [],
      "source": []
    },
    {
      "cell_type": "code",
      "execution_count": null,
      "metadata": {
        "id": "mzdQ-zYXZ0Bl"
      },
      "outputs": [],
      "source": [
        "# filtrar SMILES que no den error\n",
        "SMILESt4 = []\n",
        "for i in range(len(testeo4['canonical_smiles'])):\n",
        "  try:\n",
        "    cs = Chem.CanonSmiles(testeo4['canonical_smiles'].iloc[i])\n",
        "    SMILESt4.append(cs)\n",
        "\n",
        "  except:\n",
        "    print('Invalid SMILES:',testeo4['canonical_smiles'].iloc[i],i)\n",
        "\n",
        "\n",
        "# molecules from smiles\n",
        "ms = [Chem.MolFromSmiles(smile) for smile in SMILESt4]\n",
        "# number of atoms per molecule\n",
        "numb = [mol.GetNumAtoms() for mol in ms]\n",
        "# different atoms:\n",
        "C = [] # carbon\n",
        "O = [] # oxigen\n",
        "N = [] # nitrogen\n",
        "Cl=[]\n",
        "F=[]\n",
        "Br=[]\n",
        "I=[]\n",
        "\n",
        "nh2_pattern = Chem.MolFromSmarts(\"[NH2]\")\n",
        "nh2_counts = [len(mol.GetSubstructMatches(nh2_pattern)) for mol in ms]\n",
        "\n",
        "ring5_counts = []\n",
        "ring6_counts=[]\n",
        "\n",
        "\n",
        "for mol in ms:\n",
        "  c = 0\n",
        "  o = 0\n",
        "  n = 0\n",
        "  cl=0\n",
        "  f=0\n",
        "  br=0\n",
        "  i=0\n",
        "  nh2_count = 0\n",
        "  ring_info = mol.GetRingInfo()# Obtener sistemas de anillos saturados\n",
        "  ring5_count = sum(1 for ring in ring_info.AtomRings() if len(ring) == 5)  # Contar anillos de 5 carbonos\n",
        "  ring5_counts.append(ring5_count)\n",
        "  ring6= sum(1 for ring in ring_info.AtomRings()if len(ring) == 6)  # Contar anillos de 5 carbonos\n",
        "  ring6_counts.append(ring6)\n",
        "  for atom in mol.GetAtoms():\n",
        "    if atom.GetAtomicNum() == 6:\n",
        "      c += 1\n",
        "    if atom.GetAtomicNum() == 7:\n",
        "      n += 1\n",
        "    if atom.GetAtomicNum() == 8:\n",
        "      o += 1\n",
        "    if atom.GetAtomicNum() == 9:\n",
        "      f += 1\n",
        "    if atom.GetAtomicNum() == 17:\n",
        "      cl += 1\n",
        "    if atom.GetAtomicNum() == 35:\n",
        "      br += 1\n",
        "    if atom.GetAtomicNum() == 53:\n",
        "      i += 1\n",
        "\n",
        "  C.append(c)\n",
        "  O.append(o)\n",
        "  N.append(n)\n",
        "  Cl.append(cl)\n",
        "  F.append(f)\n",
        "  Br.append(br)\n",
        "  I.append(i)\n",
        "\n",
        "# molecular weight\n",
        "MolWeight = [Descriptors.ExactMolWt(mol) for mol in ms]\n",
        "# rings\n",
        "Rings = [Descriptors.RingCount(mol) for mol in ms]\n",
        "# Total polar surface area\n",
        "TPSA = [Descriptors.TPSA(mol) for mol in ms]\n",
        "# Density Morgan FP\n",
        "FpDM1 = [Descriptors.FpDensityMorgan1(mol) for mol in ms]\n",
        "# rotatable bonds\n",
        "RotBonds = [Descriptors.NumRotatableBonds(mol) for mol in ms]\n",
        "# Obtener la carga formal de la molécula\n",
        "formal_charge =[Chem.rdmolops.GetFormalCharge(mol) for mol in ms]\n",
        "# Calcular el logP (coeficiente de partición octanol-agua) de la molécula\n",
        "logp =[Descriptors.MolLogP(mol) for mol in ms]\n",
        "\n",
        "descriptorst4= pd.DataFrame(list(zip(numb, C, O, N,F,Br,I,Cl, nh2_counts,ring5_counts,ring6_counts,MolWeight, Rings, TPSA, FpDM1, RotBonds,logp,formal_charge)))\n",
        "\n",
        "Activityt4= testeo4['Activity'].tolist()"
      ]
    },
    {
      "cell_type": "code",
      "execution_count": null,
      "metadata": {
        "id": "wqkxWvN6aD3j"
      },
      "outputs": [],
      "source": [
        "Xt4 = np.array(descriptorst4)\n",
        "yt4 = np.array(Activityt4)\n",
        "\n",
        "pred_cluster1= mejor_modelo3.predict(Xt4)"
      ]
    },
    {
      "cell_type": "code",
      "execution_count": null,
      "metadata": {
        "id": "PLK73KSJaN2l"
      },
      "outputs": [],
      "source": [
        "\n",
        "from sklearn import metrics\n",
        "from sklearn.metrics import confusion_matrix, accuracy_score, precision_score, recall_score\n",
        "\n",
        "accuracy = round(accuracy_score(yt4,pred_cluster1), 3)\n",
        "precision = round(precision_score(yt4,pred_cluster1, average='micro'), 3)\n",
        "recall = round(recall_score(yt4, pred_cluster1, average='micro'), 3)\n",
        "f1_score = 2 * (precision * recall) / (precision + recall)\n",
        "print(f\"Exactitud (Accuracy): {accuracy}\")\n",
        "print(f\"Precisión: {precision}\")\n",
        "print(f\"Exhaustividad (Recall): {recall}\")\n",
        "print(f\"F1-Score: {f1_score}\")\n",
        "confusion_matrix(yt4,pred_cluster1)"
      ]
    },
    {
      "cell_type": "markdown",
      "metadata": {
        "id": "7h4nde_HanmK"
      },
      "source": [
        "###Resutados 4"
      ]
    },
    {
      "cell_type": "code",
      "execution_count": null,
      "metadata": {
        "id": "mgldmFgkaRFy"
      },
      "outputs": [],
      "source": [
        "mostrar_resultados(yt4, pred_cluster1)"
      ]
    },
    {
      "cell_type": "markdown",
      "metadata": {
        "id": "poA9srSwI2IG"
      },
      "source": [
        "##Entrenamiento (5) 1,2,3,4 y testeo en 0\n"
      ]
    },
    {
      "cell_type": "code",
      "execution_count": null,
      "metadata": {
        "id": "tLQVwDSZJ8df"
      },
      "outputs": [],
      "source": [
        "entrenamiento5= pd.concat([cluster4,cluster1,cluster2,cluster3])\n",
        "testeo5= cluster0"
      ]
    },
    {
      "cell_type": "code",
      "execution_count": null,
      "metadata": {
        "id": "S3Aj9EKtjBxq"
      },
      "outputs": [],
      "source": [
        "entrenamiento5[\"Activity\"].value_counts()"
      ]
    },
    {
      "cell_type": "code",
      "execution_count": null,
      "metadata": {
        "id": "j4JKB9vTbBD6"
      },
      "outputs": [],
      "source": [
        "# filtrar SMILES que no den error\n",
        "SMILES5= []\n",
        "for i in range(len(entrenamiento5['canonical_smiles'])):\n",
        "  try:\n",
        "    cs = Chem.CanonSmiles(entrenamiento5['canonical_smiles'].iloc[i])\n",
        "    SMILES5.append(cs)\n",
        "\n",
        "  except:\n",
        "    print('Invalid SMILES:',entrenamiento5['canonical_smiles'].iloc[i],i)\n",
        "\n",
        "# molecules from smiles\n",
        "ms = [Chem.MolFromSmiles(smile) for smile in SMILES5]\n",
        "# number of atoms per molecule\n",
        "numb = [mol.GetNumAtoms() for mol in ms]\n",
        "# different atoms:\n",
        "C = [] # carbon\n",
        "O = [] # oxigen\n",
        "N = [] # nitrogen\n",
        "Cl=[]\n",
        "F=[]\n",
        "Br=[]\n",
        "I=[]\n",
        "\n",
        "nh2_pattern = Chem.MolFromSmarts(\"[NH2]\")\n",
        "nh2_counts = [len(mol.GetSubstructMatches(nh2_pattern)) for mol in ms]\n",
        "\n",
        "ring5_counts = []\n",
        "ring6_counts=[]\n",
        "\n",
        "\n",
        "for mol in ms:\n",
        "  c = 0\n",
        "  o = 0\n",
        "  n = 0\n",
        "  cl=0\n",
        "  f=0\n",
        "  br=0\n",
        "  i=0\n",
        "  nh2_count = 0\n",
        "  ring_info = mol.GetRingInfo()# Obtener sistemas de anillos saturados\n",
        "  ring5_count = sum(1 for ring in ring_info.AtomRings() if len(ring) == 5)  # Contar anillos de 5 carbonos\n",
        "  ring5_counts.append(ring5_count)\n",
        "  ring6= sum(1 for ring in ring_info.AtomRings()if len(ring) == 6)  # Contar anillos de 5 carbonos\n",
        "  ring6_counts.append(ring6)\n",
        "  for atom in mol.GetAtoms():\n",
        "    if atom.GetAtomicNum() == 6:\n",
        "      c += 1\n",
        "    if atom.GetAtomicNum() == 7:\n",
        "      n += 1\n",
        "    if atom.GetAtomicNum() == 8:\n",
        "      o += 1\n",
        "    if atom.GetAtomicNum() == 9:\n",
        "      f += 1\n",
        "    if atom.GetAtomicNum() == 17:\n",
        "      cl += 1\n",
        "    if atom.GetAtomicNum() == 35:\n",
        "      br += 1\n",
        "    if atom.GetAtomicNum() == 53:\n",
        "      i += 1\n",
        "\n",
        "  C.append(c)\n",
        "  O.append(o)\n",
        "  N.append(n)\n",
        "  Cl.append(cl)\n",
        "  F.append(f)\n",
        "  Br.append(br)\n",
        "  I.append(i)\n",
        "\n",
        "# molecular weight\n",
        "MolWeight = [Descriptors.ExactMolWt(mol) for mol in ms]\n",
        "# rings\n",
        "Rings = [Descriptors.RingCount(mol) for mol in ms]\n",
        "# Total polar surface area\n",
        "TPSA = [Descriptors.TPSA(mol) for mol in ms]\n",
        "# Density Morgan FP\n",
        "FpDM1 = [Descriptors.FpDensityMorgan1(mol) for mol in ms]\n",
        "# rotatable bonds\n",
        "RotBonds = [Descriptors.NumRotatableBonds(mol) for mol in ms]\n",
        "# Obtener la carga formal de la molécula\n",
        "formal_charge =[Chem.rdmolops.GetFormalCharge(mol) for mol in ms]\n",
        "# Calcular el logP (coeficiente de partición octanol-agua) de la molécula\n",
        "logp =[Descriptors.MolLogP(mol) for mol in ms]\n",
        "\n",
        "\n",
        "descriptors5 = pd.DataFrame(list(zip(numb, C, O, N,F,Br,I,Cl, nh2_counts,ring5_counts,ring6_counts,MolWeight, Rings, TPSA, FpDM1, RotBonds,logp,formal_charge)))\n",
        "\n",
        "Activity5= entrenamiento5['Activity'].tolist()"
      ]
    },
    {
      "cell_type": "code",
      "execution_count": null,
      "metadata": {
        "id": "1OC7bVHIbZTx"
      },
      "outputs": [],
      "source": [
        "from sklearn.model_selection import train_test_split\n",
        "\n",
        "X5= np.array(descriptors5)\n",
        "y5 = np.array(Activity5)\n",
        "\n",
        "from sklearn.model_selection import GridSearchCV\n",
        "from sklearn.pipeline import Pipeline\n",
        "from sklearn.svm import SVC\n",
        "\n",
        "model = RandomForestClassifier(oob_score=True, random_state=42)\n",
        "\n",
        "from sklearn.model_selection import GridSearchCV\n",
        "rfcv = GridSearchCV(estimator=model,\n",
        "                      param_grid={'max_depth': [2, 3, 4, 5, 6, 7,8,9], 'min_samples_split': [2, 3, 4, 5], 'n_estimators': [ 50,100,150,200,300]},\n",
        "                      cv=5,\n",
        "                      scoring='accuracy')\n",
        "\n",
        "# Ajusto\n",
        "rfcv.fit(X5,y5)\n",
        "\n",
        "# los mejores parámetros son\n",
        "\n",
        "print(\"Mejores hiperparámetros:\", rfcv.best_params_)\n",
        "print(\"Mejor Accuracy\", rfcv.best_score_)\n",
        "\n",
        "mejor_modelo5=rfcv.best_estimator_"
      ]
    },
    {
      "cell_type": "markdown",
      "metadata": {
        "id": "M4pZdkIAbmLH"
      },
      "source": [
        "Testeo"
      ]
    },
    {
      "cell_type": "code",
      "execution_count": null,
      "metadata": {
        "id": "jV9V-ABgbn7w"
      },
      "outputs": [],
      "source": []
    },
    {
      "cell_type": "code",
      "execution_count": null,
      "metadata": {
        "id": "Wb10pbYFboDq"
      },
      "outputs": [],
      "source": [
        "# filtrar SMILES que no den error\n",
        "SMILESt5 = []\n",
        "for i in range(len(testeo5['canonical_smiles'])):\n",
        "  try:\n",
        "    cs = Chem.CanonSmiles(testeo5['canonical_smiles'].iloc[i])\n",
        "    SMILESt5.append(cs)\n",
        "\n",
        "  except:\n",
        "    print('Invalid SMILES:',testeo5['canonical_smiles'].iloc[i],i)\n",
        "\n",
        "\n",
        "# molecules from smiles\n",
        "ms = [Chem.MolFromSmiles(smile) for smile in SMILESt5]\n",
        "# number of atoms per molecule\n",
        "numb = [mol.GetNumAtoms() for mol in ms]\n",
        "# different atoms:\n",
        "C = [] # carbon\n",
        "O = [] # oxigen\n",
        "N = [] # nitrogen\n",
        "Cl=[]\n",
        "F=[]\n",
        "Br=[]\n",
        "I=[]\n",
        "\n",
        "nh2_pattern = Chem.MolFromSmarts(\"[NH2]\")\n",
        "nh2_counts = [len(mol.GetSubstructMatches(nh2_pattern)) for mol in ms]\n",
        "\n",
        "ring5_counts = []\n",
        "ring6_counts=[]\n",
        "\n",
        "\n",
        "for mol in ms:\n",
        "  c = 0\n",
        "  o = 0\n",
        "  n = 0\n",
        "  cl=0\n",
        "  f=0\n",
        "  br=0\n",
        "  i=0\n",
        "  nh2_count = 0\n",
        "  ring_info = mol.GetRingInfo()# Obtener sistemas de anillos saturados\n",
        "  ring5_count = sum(1 for ring in ring_info.AtomRings() if len(ring) == 5)  # Contar anillos de 5 carbonos\n",
        "  ring5_counts.append(ring5_count)\n",
        "  ring6= sum(1 for ring in ring_info.AtomRings()if len(ring) == 6)  # Contar anillos de 5 carbonos\n",
        "  ring6_counts.append(ring6)\n",
        "  for atom in mol.GetAtoms():\n",
        "    if atom.GetAtomicNum() == 6:\n",
        "      c += 1\n",
        "    if atom.GetAtomicNum() == 7:\n",
        "      n += 1\n",
        "    if atom.GetAtomicNum() == 8:\n",
        "      o += 1\n",
        "    if atom.GetAtomicNum() == 9:\n",
        "      f += 1\n",
        "    if atom.GetAtomicNum() == 17:\n",
        "      cl += 1\n",
        "    if atom.GetAtomicNum() == 35:\n",
        "      br += 1\n",
        "    if atom.GetAtomicNum() == 53:\n",
        "      i += 1\n",
        "\n",
        "  C.append(c)\n",
        "  O.append(o)\n",
        "  N.append(n)\n",
        "  Cl.append(cl)\n",
        "  F.append(f)\n",
        "  Br.append(br)\n",
        "  I.append(i)\n",
        "\n",
        "# molecular weight\n",
        "MolWeight = [Descriptors.ExactMolWt(mol) for mol in ms]\n",
        "# rings\n",
        "Rings = [Descriptors.RingCount(mol) for mol in ms]\n",
        "# Total polar surface area\n",
        "TPSA = [Descriptors.TPSA(mol) for mol in ms]\n",
        "# Density Morgan FP\n",
        "FpDM1 = [Descriptors.FpDensityMorgan1(mol) for mol in ms]\n",
        "# rotatable bonds\n",
        "RotBonds = [Descriptors.NumRotatableBonds(mol) for mol in ms]\n",
        "# Obtener la carga formal de la molécula\n",
        "formal_charge =[Chem.rdmolops.GetFormalCharge(mol) for mol in ms]\n",
        "# Calcular el logP (coeficiente de partición octanol-agua) de la molécula\n",
        "logp =[Descriptors.MolLogP(mol) for mol in ms]\n",
        "\n",
        "descriptorst5= pd.DataFrame(list(zip(numb, C, O, N,F,Br,I,Cl, nh2_counts,ring5_counts,ring6_counts,MolWeight, Rings, TPSA, FpDM1, RotBonds,logp,formal_charge)))\n",
        "\n",
        "Activityt5= testeo5['Activity'].tolist()"
      ]
    },
    {
      "cell_type": "code",
      "execution_count": null,
      "metadata": {
        "id": "9k6aNJsOb2Tz"
      },
      "outputs": [],
      "source": [
        "Xt5 = np.array(descriptorst5)\n",
        "yt5 = np.array(Activityt5)\n",
        "\n",
        "pred_cluster0= mejor_modelo3.predict(Xt5)"
      ]
    },
    {
      "cell_type": "code",
      "execution_count": null,
      "metadata": {
        "id": "7UKN15ztcGCs"
      },
      "outputs": [],
      "source": [
        "\n",
        "from sklearn import metrics\n",
        "from sklearn.metrics import confusion_matrix, accuracy_score, precision_score, recall_score\n",
        "\n",
        "accuracy = round(accuracy_score(yt5,pred_cluster0), 3)\n",
        "precision = round(precision_score(yt5,pred_cluster0, average='micro'), 3)\n",
        "recall = round(recall_score(yt5, pred_cluster0, average='micro'), 3)\n",
        "f1_score = 2 * (precision * recall) / (precision + recall)\n",
        "print(f\"Exactitud (Accuracy): {accuracy}\")\n",
        "print(f\"Precisión: {precision}\")\n",
        "print(f\"Exhaustividad (Recall): {recall}\")\n",
        "print(f\"F1-Score: {f1_score}\")\n",
        "confusion_matrix(yt5,pred_cluster0)"
      ]
    },
    {
      "cell_type": "markdown",
      "metadata": {
        "id": "SddKgjqWcnxo"
      },
      "source": [
        "### Resultados 5"
      ]
    },
    {
      "cell_type": "code",
      "execution_count": null,
      "metadata": {
        "id": "jqmPQLKdcU-P"
      },
      "outputs": [],
      "source": [
        "mostrar_resultados(yt5, pred_cluster0)"
      ]
    },
    {
      "cell_type": "markdown",
      "metadata": {
        "id": "TnqeT_pkjh99"
      },
      "source": [
        "##Prueba en testeo"
      ]
    },
    {
      "cell_type": "code",
      "execution_count": null,
      "metadata": {
        "id": "XMGYolW1jmbg"
      },
      "outputs": [],
      "source": [
        "#use el modelo 3 para probar creoque es el que mejor predijo ambos"
      ]
    },
    {
      "cell_type": "code",
      "execution_count": null,
      "metadata": {
        "id": "FMUOixKHjvSM"
      },
      "outputs": [],
      "source": [
        "total_prueba"
      ]
    },
    {
      "cell_type": "code",
      "execution_count": null,
      "metadata": {
        "id": "_R4UOzGXj5rD"
      },
      "outputs": [],
      "source": [
        "# filtrar SMILES que no den error\n",
        "SMILESs= []\n",
        "for i in range(len(total_prueba['canonical_smiles'])):\n",
        "  try:\n",
        "    cs = Chem.CanonSmiles(total_prueba['canonical_smiles'].iloc[i])\n",
        "    SMILESs.append(cs)\n",
        "\n",
        "  except:\n",
        "    print('Invalid SMILES:',total_prueba['canonical_smiles'].iloc[i],i)\n",
        "\n",
        "# molecules from smiles\n",
        "ms = [Chem.MolFromSmiles(smile) for smile in SMILESs]\n",
        "# number of atoms per molecule\n",
        "numb = [mol.GetNumAtoms() for mol in ms]\n",
        "# different atoms:\n",
        "C = [] # carbon\n",
        "O = [] # oxigen\n",
        "N = [] # nitrogen\n",
        "Cl=[]\n",
        "F=[]\n",
        "Br=[]\n",
        "I=[]\n",
        "\n",
        "nh2_pattern = Chem.MolFromSmarts(\"[NH2]\")\n",
        "nh2_counts = [len(mol.GetSubstructMatches(nh2_pattern)) for mol in ms]\n",
        "\n",
        "ring5_counts = []\n",
        "ring6_counts=[]\n",
        "\n",
        "\n",
        "for mol in ms:\n",
        "  c = 0\n",
        "  o = 0\n",
        "  n = 0\n",
        "  cl=0\n",
        "  f=0\n",
        "  br=0\n",
        "  i=0\n",
        "  nh2_count = 0\n",
        "  ring_info = mol.GetRingInfo()# Obtener sistemas de anillos saturados\n",
        "  ring5_count = sum(1 for ring in ring_info.AtomRings() if len(ring) == 5)  # Contar anillos de 5 carbonos\n",
        "  ring5_counts.append(ring5_count)\n",
        "  ring6= sum(1 for ring in ring_info.AtomRings()if len(ring) == 6)  # Contar anillos de 5 carbonos\n",
        "  ring6_counts.append(ring6)\n",
        "  for atom in mol.GetAtoms():\n",
        "    if atom.GetAtomicNum() == 6:\n",
        "      c += 1\n",
        "    if atom.GetAtomicNum() == 7:\n",
        "      n += 1\n",
        "    if atom.GetAtomicNum() == 8:\n",
        "      o += 1\n",
        "    if atom.GetAtomicNum() == 9:\n",
        "      f += 1\n",
        "    if atom.GetAtomicNum() == 17:\n",
        "      cl += 1\n",
        "    if atom.GetAtomicNum() == 35:\n",
        "      br += 1\n",
        "    if atom.GetAtomicNum() == 53:\n",
        "      i += 1\n",
        "\n",
        "  C.append(c)\n",
        "  O.append(o)\n",
        "  N.append(n)\n",
        "  Cl.append(cl)\n",
        "  F.append(f)\n",
        "  Br.append(br)\n",
        "  I.append(i)\n",
        "\n",
        "# molecular weight\n",
        "MolWeight = [Descriptors.ExactMolWt(mol) for mol in ms]\n",
        "# rings\n",
        "Rings = [Descriptors.RingCount(mol) for mol in ms]\n",
        "# Total polar surface area\n",
        "TPSA = [Descriptors.TPSA(mol) for mol in ms]\n",
        "# Density Morgan FP\n",
        "FpDM1 = [Descriptors.FpDensityMorgan1(mol) for mol in ms]\n",
        "# rotatable bonds\n",
        "RotBonds = [Descriptors.NumRotatableBonds(mol) for mol in ms]\n",
        "# Obtener la carga formal de la molécula\n",
        "formal_charge =[Chem.rdmolops.GetFormalCharge(mol) for mol in ms]\n",
        "# Calcular el logP (coeficiente de partición octanol-agua) de la molécula\n",
        "logp =[Descriptors.MolLogP(mol) for mol in ms]\n",
        "\n",
        "\n",
        "descriptorss = pd.DataFrame(list(zip(numb, C, O, N,F,Br,I,Cl, nh2_counts,ring5_counts,ring6_counts,MolWeight, Rings, TPSA, FpDM1, RotBonds,logp,formal_charge)))\n",
        "\n",
        "Activitys= total_prueba['Activity'].tolist()"
      ]
    },
    {
      "cell_type": "code",
      "execution_count": null,
      "metadata": {
        "id": "ZrtZ08TBkN9J"
      },
      "outputs": [],
      "source": [
        "Xts = np.array(descriptorss)\n",
        "yts = np.array(Activitys)\n",
        "\n",
        "pred_prueba= mejor_modelo3.predict(Xts)"
      ]
    },
    {
      "cell_type": "code",
      "execution_count": null,
      "metadata": {
        "id": "1hkT3wt9kgS4"
      },
      "outputs": [],
      "source": [
        "total_prueba['Activity'].value_counts()"
      ]
    },
    {
      "cell_type": "code",
      "execution_count": null,
      "metadata": {
        "id": "ipzfKQIFkc-K"
      },
      "outputs": [],
      "source": [
        "\n",
        "from sklearn import metrics\n",
        "from sklearn.metrics import confusion_matrix, accuracy_score, precision_score, recall_score\n",
        "\n",
        "accuracy = round(accuracy_score(yts,pred_prueba), 3)\n",
        "precision = round(precision_score(yts,pred_prueba, average='micro'), 3)\n",
        "recall = round(recall_score(yts, pred_prueba, average='micro'), 3)\n",
        "f1_score = 2 * (precision * recall) / (precision + recall)\n",
        "print(f\"Exactitud (Accuracy): {accuracy}\")\n",
        "print(f\"Precisión: {precision}\")\n",
        "print(f\"Exhaustividad (Recall): {recall}\")\n",
        "print(f\"F1-Score: {f1_score}\")\n",
        "confusion_matrix(yts,pred_prueba)"
      ]
    },
    {
      "cell_type": "code",
      "execution_count": null,
      "metadata": {
        "id": "A_7odJKwkz0Q"
      },
      "outputs": [],
      "source": [
        "mostrar_resultados(yts,pred_prueba)"
      ]
    }
  ],
  "metadata": {
    "colab": {
      "provenance": []
    },
    "kernelspec": {
      "display_name": "Python 3",
      "name": "python3"
    },
    "language_info": {
      "name": "python"
    }
  },
  "nbformat": 4,
  "nbformat_minor": 0
}