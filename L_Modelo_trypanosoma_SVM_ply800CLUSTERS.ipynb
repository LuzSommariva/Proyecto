{
  "nbformat": 4,
  "nbformat_minor": 0,
  "metadata": {
    "colab": {
      "provenance": [],
      "toc_visible": true
    },
    "kernelspec": {
      "name": "python3",
      "display_name": "Python 3"
    },
    "language_info": {
      "name": "python"
    }
  },
  "cells": [
    {
      "cell_type": "markdown",
      "source": [
        "#Instalacion librerias\n"
      ],
      "metadata": {
        "id": "-lz5yadqkxeR"
      }
    },
    {
      "cell_type": "code",
      "execution_count": null,
      "metadata": {
        "id": "4xgfzTS3fGsm",
        "colab": {
          "base_uri": "https://localhost:8080/"
        },
        "outputId": "c8e03cd3-7f6b-46f5-ed62-2709588528ff"
      },
      "outputs": [
        {
          "output_type": "stream",
          "name": "stdout",
          "text": [
            "Collecting git+https://github.com/ikmckenz/adme-pred-py.git\n",
            "  Cloning https://github.com/ikmckenz/adme-pred-py.git to /tmp/pip-req-build-atns6s1l\n",
            "  Running command git clone --filter=blob:none --quiet https://github.com/ikmckenz/adme-pred-py.git /tmp/pip-req-build-atns6s1l\n",
            "  Resolved https://github.com/ikmckenz/adme-pred-py.git to commit 8091a02fe5998b8ba237760ade7ff3400abbbcdd\n",
            "  Preparing metadata (setup.py) ... \u001b[?25l\u001b[?25hdone\n",
            "Requirement already satisfied: pandas in /usr/local/lib/python3.10/dist-packages (1.5.3)\n",
            "Collecting rdkit\n",
            "  Downloading rdkit-2023.9.1-cp310-cp310-manylinux_2_17_x86_64.manylinux2014_x86_64.whl (30.5 MB)\n",
            "\u001b[2K     \u001b[90m━━━━━━━━━━━━━━━━━━━━━━━━━━━━━━━━━━━━━━━━\u001b[0m \u001b[32m30.5/30.5 MB\u001b[0m \u001b[31m37.0 MB/s\u001b[0m eta \u001b[36m0:00:00\u001b[0m\n",
            "\u001b[?25hRequirement already satisfied: tqdm in /usr/local/lib/python3.10/dist-packages (4.66.1)\n",
            "Collecting chembl_webresource_client\n",
            "  Downloading chembl_webresource_client-0.10.8-py3-none-any.whl (55 kB)\n",
            "\u001b[2K     \u001b[90m━━━━━━━━━━━━━━━━━━━━━━━━━━━━━━━━━━━━━━━━\u001b[0m \u001b[32m55.2/55.2 kB\u001b[0m \u001b[31m6.0 MB/s\u001b[0m eta \u001b[36m0:00:00\u001b[0m\n",
            "\u001b[?25hRequirement already satisfied: python-dateutil>=2.8.1 in /usr/local/lib/python3.10/dist-packages (from pandas) (2.8.2)\n",
            "Requirement already satisfied: pytz>=2020.1 in /usr/local/lib/python3.10/dist-packages (from pandas) (2023.3.post1)\n",
            "Requirement already satisfied: numpy>=1.21.0 in /usr/local/lib/python3.10/dist-packages (from pandas) (1.23.5)\n",
            "Requirement already satisfied: Pillow in /usr/local/lib/python3.10/dist-packages (from rdkit) (9.4.0)\n",
            "Requirement already satisfied: urllib3 in /usr/local/lib/python3.10/dist-packages (from chembl_webresource_client) (2.0.7)\n",
            "Requirement already satisfied: requests>=2.18.4 in /usr/local/lib/python3.10/dist-packages (from chembl_webresource_client) (2.31.0)\n",
            "Collecting requests-cache~=0.7.0 (from chembl_webresource_client)\n",
            "  Downloading requests_cache-0.7.5-py3-none-any.whl (39 kB)\n",
            "Requirement already satisfied: easydict in /usr/local/lib/python3.10/dist-packages (from chembl_webresource_client) (1.10)\n",
            "Requirement already satisfied: six>=1.5 in /usr/local/lib/python3.10/dist-packages (from python-dateutil>=2.8.1->pandas) (1.16.0)\n",
            "Requirement already satisfied: charset-normalizer<4,>=2 in /usr/local/lib/python3.10/dist-packages (from requests>=2.18.4->chembl_webresource_client) (3.3.0)\n",
            "Requirement already satisfied: idna<4,>=2.5 in /usr/local/lib/python3.10/dist-packages (from requests>=2.18.4->chembl_webresource_client) (3.4)\n",
            "Requirement already satisfied: certifi>=2017.4.17 in /usr/local/lib/python3.10/dist-packages (from requests>=2.18.4->chembl_webresource_client) (2023.7.22)\n",
            "Collecting attrs<22.0,>=21.2 (from requests-cache~=0.7.0->chembl_webresource_client)\n",
            "  Downloading attrs-21.4.0-py2.py3-none-any.whl (60 kB)\n",
            "\u001b[2K     \u001b[90m━━━━━━━━━━━━━━━━━━━━━━━━━━━━━━━━━━━━━━━━\u001b[0m \u001b[32m60.6/60.6 kB\u001b[0m \u001b[31m6.7 MB/s\u001b[0m eta \u001b[36m0:00:00\u001b[0m\n",
            "\u001b[?25hRequirement already satisfied: itsdangerous>=2.0.1 in /usr/local/lib/python3.10/dist-packages (from requests-cache~=0.7.0->chembl_webresource_client) (2.1.2)\n",
            "Requirement already satisfied: pyyaml>=5.4 in /usr/local/lib/python3.10/dist-packages (from requests-cache~=0.7.0->chembl_webresource_client) (6.0.1)\n",
            "Collecting url-normalize<2.0,>=1.4 (from requests-cache~=0.7.0->chembl_webresource_client)\n",
            "  Downloading url_normalize-1.4.3-py2.py3-none-any.whl (6.8 kB)\n",
            "Building wheels for collected packages: adme-pred\n",
            "  Building wheel for adme-pred (setup.py) ... \u001b[?25l\u001b[?25hdone\n",
            "  Created wheel for adme-pred: filename=adme_pred-0.0.2-py3-none-any.whl size=18561 sha256=25302c5dbb20b4203eec908b1dab4fde6f494145ca7632cce9928d8891355cfd\n",
            "  Stored in directory: /tmp/pip-ephem-wheel-cache-gcq3xnnh/wheels/0b/cd/8f/5b6314f4393bde6a8e1378ff709adf4c3a59e4ee2f4ef88256\n",
            "Successfully built adme-pred\n",
            "Installing collected packages: adme-pred, url-normalize, rdkit, attrs, requests-cache, chembl_webresource_client\n",
            "  Attempting uninstall: attrs\n",
            "    Found existing installation: attrs 23.1.0\n",
            "    Uninstalling attrs-23.1.0:\n",
            "      Successfully uninstalled attrs-23.1.0\n",
            "\u001b[31mERROR: pip's dependency resolver does not currently take into account all the packages that are installed. This behaviour is the source of the following dependency conflicts.\n",
            "lida 0.0.10 requires fastapi, which is not installed.\n",
            "lida 0.0.10 requires kaleido, which is not installed.\n",
            "lida 0.0.10 requires python-multipart, which is not installed.\n",
            "lida 0.0.10 requires uvicorn, which is not installed.\n",
            "jsonschema 4.19.1 requires attrs>=22.2.0, but you have attrs 21.4.0 which is incompatible.\n",
            "referencing 0.30.2 requires attrs>=22.2.0, but you have attrs 21.4.0 which is incompatible.\u001b[0m\u001b[31m\n",
            "\u001b[0mSuccessfully installed adme-pred-0.0.2 attrs-21.4.0 chembl_webresource_client-0.10.8 rdkit-2023.9.1 requests-cache-0.7.5 url-normalize-1.4.3\n"
          ]
        }
      ],
      "source": [
        "# Instalar las librerias\n",
        "!pip install pandas rdkit tqdm chembl_webresource_client git+https://github.com/ikmckenz/adme-pred-py.git"
      ]
    },
    {
      "cell_type": "code",
      "source": [
        "# Instalar las librerias\n",
        "!pip install pandas rdkit tqdm useful_rdkit_utils seaborn scikit-posthocs chembl_downloader chembl_webresource_client  pubchempy"
      ],
      "metadata": {
        "colab": {
          "base_uri": "https://localhost:8080/"
        },
        "id": "A8ZRkH_yk1pW",
        "outputId": "4315a73c-f615-42cd-b12a-ed2c7b242dfb"
      },
      "execution_count": null,
      "outputs": [
        {
          "output_type": "stream",
          "name": "stdout",
          "text": [
            "Requirement already satisfied: pandas in /usr/local/lib/python3.10/dist-packages (1.5.3)\n",
            "Requirement already satisfied: rdkit in /usr/local/lib/python3.10/dist-packages (2023.9.1)\n",
            "Requirement already satisfied: tqdm in /usr/local/lib/python3.10/dist-packages (4.66.1)\n",
            "Collecting useful_rdkit_utils\n",
            "  Downloading useful_rdkit_utils-0.3.12-py3-none-any.whl (1.1 MB)\n",
            "\u001b[2K     \u001b[90m━━━━━━━━━━━━━━━━━━━━━━━━━━━━━━━━━━━━━━━━\u001b[0m \u001b[32m1.1/1.1 MB\u001b[0m \u001b[31m7.9 MB/s\u001b[0m eta \u001b[36m0:00:00\u001b[0m\n",
            "\u001b[?25hRequirement already satisfied: seaborn in /usr/local/lib/python3.10/dist-packages (0.12.2)\n",
            "Collecting scikit-posthocs\n",
            "  Downloading scikit_posthocs-0.7.0-py3-none-any.whl (38 kB)\n",
            "Collecting chembl_downloader\n",
            "  Downloading chembl_downloader-0.4.4-py3-none-any.whl (16 kB)\n",
            "Requirement already satisfied: chembl_webresource_client in /usr/local/lib/python3.10/dist-packages (0.10.8)\n",
            "Collecting pubchempy\n",
            "  Downloading PubChemPy-1.0.4.tar.gz (29 kB)\n",
            "  Preparing metadata (setup.py) ... \u001b[?25l\u001b[?25hdone\n",
            "Requirement already satisfied: python-dateutil>=2.8.1 in /usr/local/lib/python3.10/dist-packages (from pandas) (2.8.2)\n",
            "Requirement already satisfied: pytz>=2020.1 in /usr/local/lib/python3.10/dist-packages (from pandas) (2023.3.post1)\n",
            "Requirement already satisfied: numpy>=1.21.0 in /usr/local/lib/python3.10/dist-packages (from pandas) (1.23.5)\n",
            "Requirement already satisfied: Pillow in /usr/local/lib/python3.10/dist-packages (from rdkit) (9.4.0)\n",
            "Requirement already satisfied: pyarrow in /usr/local/lib/python3.10/dist-packages (from useful_rdkit_utils) (9.0.0)\n",
            "Collecting pystow (from useful_rdkit_utils)\n",
            "  Downloading pystow-0.5.0-py3-none-any.whl (37 kB)\n",
            "Requirement already satisfied: matplotlib!=3.6.1,>=3.1 in /usr/local/lib/python3.10/dist-packages (from seaborn) (3.7.1)\n",
            "Requirement already satisfied: scipy in /usr/local/lib/python3.10/dist-packages (from scikit-posthocs) (1.11.3)\n",
            "Requirement already satisfied: statsmodels in /usr/local/lib/python3.10/dist-packages (from scikit-posthocs) (0.14.0)\n",
            "Requirement already satisfied: click in /usr/local/lib/python3.10/dist-packages (from chembl_downloader) (8.1.7)\n",
            "Collecting more-click (from chembl_downloader)\n",
            "  Downloading more_click-0.1.2-py3-none-any.whl (6.7 kB)\n",
            "Requirement already satisfied: typing-extensions in /usr/local/lib/python3.10/dist-packages (from chembl_downloader) (4.5.0)\n",
            "Requirement already satisfied: urllib3 in /usr/local/lib/python3.10/dist-packages (from chembl_webresource_client) (2.0.7)\n",
            "Requirement already satisfied: requests>=2.18.4 in /usr/local/lib/python3.10/dist-packages (from chembl_webresource_client) (2.31.0)\n",
            "Requirement already satisfied: requests-cache~=0.7.0 in /usr/local/lib/python3.10/dist-packages (from chembl_webresource_client) (0.7.5)\n",
            "Requirement already satisfied: easydict in /usr/local/lib/python3.10/dist-packages (from chembl_webresource_client) (1.10)\n",
            "Requirement already satisfied: contourpy>=1.0.1 in /usr/local/lib/python3.10/dist-packages (from matplotlib!=3.6.1,>=3.1->seaborn) (1.1.1)\n",
            "Requirement already satisfied: cycler>=0.10 in /usr/local/lib/python3.10/dist-packages (from matplotlib!=3.6.1,>=3.1->seaborn) (0.12.1)\n",
            "Requirement already satisfied: fonttools>=4.22.0 in /usr/local/lib/python3.10/dist-packages (from matplotlib!=3.6.1,>=3.1->seaborn) (4.43.1)\n",
            "Requirement already satisfied: kiwisolver>=1.0.1 in /usr/local/lib/python3.10/dist-packages (from matplotlib!=3.6.1,>=3.1->seaborn) (1.4.5)\n",
            "Requirement already satisfied: packaging>=20.0 in /usr/local/lib/python3.10/dist-packages (from matplotlib!=3.6.1,>=3.1->seaborn) (23.2)\n",
            "Requirement already satisfied: pyparsing>=2.3.1 in /usr/local/lib/python3.10/dist-packages (from matplotlib!=3.6.1,>=3.1->seaborn) (3.1.1)\n",
            "Requirement already satisfied: six>=1.5 in /usr/local/lib/python3.10/dist-packages (from python-dateutil>=2.8.1->pandas) (1.16.0)\n",
            "Requirement already satisfied: charset-normalizer<4,>=2 in /usr/local/lib/python3.10/dist-packages (from requests>=2.18.4->chembl_webresource_client) (3.3.0)\n",
            "Requirement already satisfied: idna<4,>=2.5 in /usr/local/lib/python3.10/dist-packages (from requests>=2.18.4->chembl_webresource_client) (3.4)\n",
            "Requirement already satisfied: certifi>=2017.4.17 in /usr/local/lib/python3.10/dist-packages (from requests>=2.18.4->chembl_webresource_client) (2023.7.22)\n",
            "Requirement already satisfied: attrs<22.0,>=21.2 in /usr/local/lib/python3.10/dist-packages (from requests-cache~=0.7.0->chembl_webresource_client) (21.4.0)\n",
            "Requirement already satisfied: itsdangerous>=2.0.1 in /usr/local/lib/python3.10/dist-packages (from requests-cache~=0.7.0->chembl_webresource_client) (2.1.2)\n",
            "Requirement already satisfied: pyyaml>=5.4 in /usr/local/lib/python3.10/dist-packages (from requests-cache~=0.7.0->chembl_webresource_client) (6.0.1)\n",
            "Requirement already satisfied: url-normalize<2.0,>=1.4 in /usr/local/lib/python3.10/dist-packages (from requests-cache~=0.7.0->chembl_webresource_client) (1.4.3)\n",
            "Requirement already satisfied: patsy>=0.5.2 in /usr/local/lib/python3.10/dist-packages (from statsmodels->scikit-posthocs) (0.5.3)\n",
            "Building wheels for collected packages: pubchempy\n",
            "  Building wheel for pubchempy (setup.py) ... \u001b[?25l\u001b[?25hdone\n",
            "  Created wheel for pubchempy: filename=PubChemPy-1.0.4-py3-none-any.whl size=13820 sha256=01817512dd76dc9cf457377f4506b6ad95912c5b6b86097c70b32fb932c51e70\n",
            "  Stored in directory: /root/.cache/pip/wheels/90/7c/45/18a0671e3c3316966ef7ed9ad2b3f3300a7e41d3421a44e799\n",
            "Successfully built pubchempy\n",
            "Installing collected packages: pubchempy, more-click, pystow, useful_rdkit_utils, chembl_downloader, scikit-posthocs\n",
            "Successfully installed chembl_downloader-0.4.4 more-click-0.1.2 pubchempy-1.0.4 pystow-0.5.0 scikit-posthocs-0.7.0 useful_rdkit_utils-0.3.12\n"
          ]
        }
      ]
    },
    {
      "cell_type": "markdown",
      "source": [
        "#Importacion"
      ],
      "metadata": {
        "id": "7Sbocg3yk7oJ"
      }
    },
    {
      "cell_type": "code",
      "source": [
        "import os\n",
        "\n",
        "# Importar libreria para guardar trabajar con tablas\n",
        "import pandas as pd\n",
        "import numpy as np\n",
        "\n",
        "# Importar las librerias de RDKit\n",
        "from rdkit import Chem, DataStructs\n",
        "from rdkit.Chem import Draw\n",
        "from rdkit.Chem import rdMolDescriptors\n",
        "from rdkit.Chem import Descriptors\n",
        "from rdkit.Chem import PandasTools\n",
        "from rdkit.Chem.Draw import rdMolDraw2D\n",
        "from rdkit.Chem.Fingerprints import FingerprintMols\n",
        "\n",
        "# Importar las librerias para graficar\n",
        "import matplotlib.pyplot as plt\n",
        "import matplotlib.cm as cm\n",
        "import matplotlib.gridspec as gridspec\n",
        "import seaborn as sns\n",
        "\n",
        "# Importar las funciones de 'scipy'\n",
        "from scipy.cluster.hierarchy import dendrogram, linkage, is_valid_linkage, cut_tree\n",
        "\n",
        "# Importar las funciones de 'sklearn'\n",
        "from sklearn.cluster import KMeans\n",
        "from sklearn.metrics import silhouette_samples, silhouette_score\n",
        "from sklearn.preprocessing import StandardScaler\n",
        "from sklearn.decomposition import PCA\n",
        "from sklearn.cluster import AgglomerativeClustering\n",
        "\n",
        "# Importar libreria de ChEMBL\n",
        "from chembl_webresource_client.new_client import new_client\n",
        "\n",
        "# Importar libreria de PubChem\n",
        "import pubchempy as pcp\n",
        "\n",
        "# Importar libreria para ver una barra con el progreso de cada comando\n",
        "from tqdm.auto import tqdm\n",
        "tqdm.pandas()\n",
        "\n",
        "# Importar el módulo de advertencias\n",
        "import warnings\n",
        "\n",
        "# Importar el módulo sys\n",
        "import sys\n",
        "np.set_printoptions(threshold=sys.maxsize)\n",
        "\n",
        "\n",
        "from rdkit import Chem, DataStructs\n",
        "from rdkit.Chem import Draw\n",
        "from rdkit.Chem import rdMolDescriptors\n",
        "from rdkit.Chem import Descriptors\n",
        "from rdkit.Chem import PandasTools\n",
        "from rdkit.Chem.Draw import rdMolDraw2D\n",
        "from rdkit.Chem.Fingerprints import FingerprintMols\n",
        "\n",
        "\n",
        "# Importar libreria de RDKit\n",
        "from rdkit import Chem\n",
        "from rdkit.Chem import AllChem\n",
        "from rdkit.Chem import Draw\n",
        "from rdkit.Chem.Draw import rdMolDraw2D\n",
        "from rdkit.Chem import PandasTools\n",
        "from rdkit.Chem import rdMolDescriptors\n",
        "from rdkit.Chem import Descriptors\n",
        "\n",
        "# Importar libreria para cambiar el directorio y guardar archivos\n",
        "import os\n",
        "\n",
        "# Importar libreria para ver una barra con el progreso de cada comando\n",
        "from tqdm.auto import tqdm\n",
        "tqdm.pandas()\n",
        "\n",
        "import pandas as pd\n",
        "\n",
        "from chembl_webresource_client.new_client import new_client\n",
        "\n",
        "# Importar libreria de ADME\n",
        "from adme_pred import ADME\n",
        "\n",
        "# Importar las librerias para graficar\n",
        "import matplotlib.pyplot as plt\n",
        "import matplotlib.cm as cm\n",
        "import matplotlib.gridspec as gridspec\n",
        "import seaborn as sns\n",
        "\n",
        "from sklearn.metrics import confusion_matrix\n",
        "from sklearn.metrics import classification_report\n",
        "from sklearn.model_selection import train_test_split\n",
        "from sklearn.linear_model import LogisticRegression\n",
        "from sklearn.decomposition import PCA\n",
        "from sklearn.tree import DecisionTreeClassifier\n",
        "\n",
        "from pylab import rcParams\n",
        "\n",
        "from imblearn.under_sampling import NearMiss\n",
        "from imblearn.over_sampling import RandomOverSampler\n",
        "from imblearn.combine import SMOTETomek\n",
        "from imblearn.ensemble import BalancedBaggingClassifier\n",
        "\n",
        "from collections import Counter\n",
        "\n",
        "#set up graphic style in this case I am using the color scheme from xkcd.com\n",
        "rcParams['figure.figsize'] = 14, 8.7 # Golden Mean\n",
        "LABELS = [\"Active\",\"Inactive\"]\n",
        "#col_list = [\"cerulean\",\"scarlet\"]# https://xkcd.com/color/rgb/\n",
        "#sns.set(style='white', font_scale=1.75, palette=sns.xkcd_palette(col_list))\n",
        "\n",
        "%matplotlib inline"
      ],
      "metadata": {
        "id": "l3YVr0dzk9hA"
      },
      "execution_count": null,
      "outputs": []
    },
    {
      "cell_type": "code",
      "source": [
        "def mostrar_resultados(y_test, pred_y):\n",
        "    conf_matrix = confusion_matrix(y_true, y_pred, labels=['Active', 'Inactive'], pos_label='Active')\n",
        "    plt.figure(figsize=(8, 8))\n",
        "    sns.heatmap(conf_matrix, xticklabels=LABELS, yticklabels=LABELS, annot=True, fmt=\"d\");\n",
        "    plt.title(\"Confusion matrix\")\n",
        "    plt.ylabel('True class')\n",
        "    plt.xlabel('Predicted class')\n",
        "    plt.show()\n",
        "    print (classification_report(y_test, pred_y))"
      ],
      "metadata": {
        "id": "mI_sKaCplAs8"
      },
      "execution_count": null,
      "outputs": []
    },
    {
      "cell_type": "markdown",
      "source": [
        "#Google"
      ],
      "metadata": {
        "id": "kOvNvYCflCmD"
      }
    },
    {
      "cell_type": "code",
      "source": [
        "from google.colab import drive\n",
        "drive.mount('/content/drive')"
      ],
      "metadata": {
        "id": "zEE03wPTlFHj",
        "colab": {
          "base_uri": "https://localhost:8080/"
        },
        "outputId": "5cf9fa6b-c02d-4412-e584-35b6ff3e8dbb"
      },
      "execution_count": null,
      "outputs": [
        {
          "output_type": "stream",
          "name": "stdout",
          "text": [
            "Mounted at /content/drive\n"
          ]
        }
      ]
    },
    {
      "cell_type": "code",
      "source": [
        "# Indicar la carpeta de trabajo\n",
        "#path_luz = '/content/drive/MyDrive/Proyecto análisis Lysil tRNA Sintetasa/Analisis_compuestos'\n",
        "path_luz = \"/content/drive/MyDrive/Proyecto análisis Lysil tRNA Sintetasa/Analisis_compuestos/Activos_contra_Lys\"\n",
        "path_mer = '/content/drive/Shareddrives/Doctorado/Proyecto análisis Lysil tRNA Sintetasa/Analisis_compuestos/Activos_contra_Lys'\n",
        "os.chdir(path_luz)"
      ],
      "metadata": {
        "id": "d_JqRqIplFYO"
      },
      "execution_count": null,
      "outputs": []
    },
    {
      "cell_type": "markdown",
      "source": [
        "#Modelo"
      ],
      "metadata": {
        "id": "G2B6hGU5lOX2"
      }
    },
    {
      "cell_type": "code",
      "source": [
        "total=pd.read_csv(\"Resultados_compuestos_lys_con_kmeans.csv\")"
      ],
      "metadata": {
        "id": "ADiofz-E7dgo"
      },
      "execution_count": null,
      "outputs": []
    },
    {
      "cell_type": "code",
      "source": [
        "total\n"
      ],
      "metadata": {
        "colab": {
          "base_uri": "https://localhost:8080/",
          "height": 808
        },
        "id": "nXeDYWqv8EqZ",
        "outputId": "6063e5d7-c3df-4201-edc1-fe1606bcaa37"
      },
      "execution_count": null,
      "outputs": [
        {
          "output_type": "execute_result",
          "data": {
            "text/plain": [
              "     Unnamed: 0  index                                   canonical_smiles  \\\n",
              "0             0      0  COc1cc(N2CCC(N3CCN(C)CC3)CC2)ccc1Nc1ncc(Cl)c(N...   \n",
              "1             1      1  Cc1ccc(NC(=O)c2cccc(C(F)(F)F)c2)cc1N1Cc2cnc(N)...   \n",
              "2             2      4             CN(C)c1ccc(-c2cc3ncccc3c(NCCCCN)n2)cc1   \n",
              "3             3      5  CN[C@@H]1C[C@H]2O[C@@](C)([C@@H]1OC)n1c3ccccc3...   \n",
              "4             4      6  COc1cc(Nc2nc(N[C@H]3CCCC[C@H]3N)n3nc(-c4ccccc4...   \n",
              "..          ...    ...                                                ...   \n",
              "858         858  69385           COc1cccc(C(=O)N(C)Cc2ncc(C)c(OC)c2C)c1OC   \n",
              "859         859  69386               Cc1nc(NC(=O)CN2CCOC(Cn3cccn3)C2)sc1C   \n",
              "860         860  69387                Cc1nnc(NC(=O)CN2CCOC(Cn3cccn3)C2)s1   \n",
              "861         861  69388            Cc1nn(C)c(C)c1NC(=O)CN1CCOC(Cn2cccn2)C1   \n",
              "862         862  69389               Cn1nc2c(cc1=O)CN(Cc1nnc(C3CC3)o1)CC2   \n",
              "\n",
              "                                                ROMol  \\\n",
              "0    <rdkit.Chem.rdchem.Mol object at 0x78af47ae3ca0>   \n",
              "1    <rdkit.Chem.rdchem.Mol object at 0x78af47ae3f40>   \n",
              "2    <rdkit.Chem.rdchem.Mol object at 0x78af46be06d0>   \n",
              "3    <rdkit.Chem.rdchem.Mol object at 0x78af46be0270>   \n",
              "4    <rdkit.Chem.rdchem.Mol object at 0x78af46be02e0>   \n",
              "..                                                ...   \n",
              "858  <rdkit.Chem.rdchem.Mol object at 0x78af464eaea0>   \n",
              "859  <rdkit.Chem.rdchem.Mol object at 0x78af464eaf10>   \n",
              "860  <rdkit.Chem.rdchem.Mol object at 0x78af464eaf80>   \n",
              "861  <rdkit.Chem.rdchem.Mol object at 0x78af464eaff0>   \n",
              "862  <rdkit.Chem.rdchem.Mol object at 0x78af464eb060>   \n",
              "\n",
              "                        InchiKey  Activity   Organismo assay_chembl_id   type  \\\n",
              "0    QQWUGDVOUVUTOY-UHFFFAOYSA-N    Active       Human   CHEMBL1006347   IC50   \n",
              "1    ZWVLMQTXUWMUII-UHFFFAOYSA-N    Active       Human    CHEMBL974011   EC50   \n",
              "2    SBGMPUIVPOGTGN-UHFFFAOYSA-N    Active       Human   CHEMBL1025770   IC50   \n",
              "3    HKSZLNNOFSGOKW-FYTWVXJKSA-N    Active       Human    CHEMBL981176   IC50   \n",
              "4    VLHKHLQNVJKAHG-UXHICEINSA-N    Active       Human    CHEMBL981176   IC50   \n",
              "..                           ...       ...         ...             ...    ...   \n",
              "858  CIRJDJPKZVILCS-UHFFFAOYSA-N  Inactive  Plasmodium   CHEMBL4649943  pIC50   \n",
              "859  NZPZSVJYQCXJJP-UHFFFAOYSA-N  Inactive  Plasmodium   CHEMBL4649943  pIC50   \n",
              "860  HXDHRJAZKRSGOC-UHFFFAOYSA-N  Inactive  Plasmodium   CHEMBL4649943  pIC50   \n",
              "861  FSRYXQIGIYUPBA-UHFFFAOYSA-N  Inactive  Plasmodium   CHEMBL4649943  pIC50   \n",
              "862  OSEBDEHQUIPSDR-UHFFFAOYSA-N  Inactive  Plasmodium   CHEMBL4649943  pIC50   \n",
              "\n",
              "     Cluster_PCA_5  Cluster_PCA_3  \n",
              "0                1              2  \n",
              "1                4              2  \n",
              "2                2              0  \n",
              "3                1              2  \n",
              "4                4              2  \n",
              "..             ...            ...  \n",
              "858              0              0  \n",
              "859              2              0  \n",
              "860              2              0  \n",
              "861              2              0  \n",
              "862              2              0  \n",
              "\n",
              "[863 rows x 11 columns]"
            ],
            "text/html": [
              "\n",
              "  <div id=\"df-054338da-a2c8-45f8-943e-83e76f650ee0\" class=\"colab-df-container\">\n",
              "    <div>\n",
              "<style scoped>\n",
              "    .dataframe tbody tr th:only-of-type {\n",
              "        vertical-align: middle;\n",
              "    }\n",
              "\n",
              "    .dataframe tbody tr th {\n",
              "        vertical-align: top;\n",
              "    }\n",
              "\n",
              "    .dataframe thead th {\n",
              "        text-align: right;\n",
              "    }\n",
              "</style>\n",
              "<table border=\"1\" class=\"dataframe\">\n",
              "  <thead>\n",
              "    <tr style=\"text-align: right;\">\n",
              "      <th></th>\n",
              "      <th>Unnamed: 0</th>\n",
              "      <th>index</th>\n",
              "      <th>canonical_smiles</th>\n",
              "      <th>ROMol</th>\n",
              "      <th>InchiKey</th>\n",
              "      <th>Activity</th>\n",
              "      <th>Organismo</th>\n",
              "      <th>assay_chembl_id</th>\n",
              "      <th>type</th>\n",
              "      <th>Cluster_PCA_5</th>\n",
              "      <th>Cluster_PCA_3</th>\n",
              "    </tr>\n",
              "  </thead>\n",
              "  <tbody>\n",
              "    <tr>\n",
              "      <th>0</th>\n",
              "      <td>0</td>\n",
              "      <td>0</td>\n",
              "      <td>COc1cc(N2CCC(N3CCN(C)CC3)CC2)ccc1Nc1ncc(Cl)c(N...</td>\n",
              "      <td>&lt;rdkit.Chem.rdchem.Mol object at 0x78af47ae3ca0&gt;</td>\n",
              "      <td>QQWUGDVOUVUTOY-UHFFFAOYSA-N</td>\n",
              "      <td>Active</td>\n",
              "      <td>Human</td>\n",
              "      <td>CHEMBL1006347</td>\n",
              "      <td>IC50</td>\n",
              "      <td>1</td>\n",
              "      <td>2</td>\n",
              "    </tr>\n",
              "    <tr>\n",
              "      <th>1</th>\n",
              "      <td>1</td>\n",
              "      <td>1</td>\n",
              "      <td>Cc1ccc(NC(=O)c2cccc(C(F)(F)F)c2)cc1N1Cc2cnc(N)...</td>\n",
              "      <td>&lt;rdkit.Chem.rdchem.Mol object at 0x78af47ae3f40&gt;</td>\n",
              "      <td>ZWVLMQTXUWMUII-UHFFFAOYSA-N</td>\n",
              "      <td>Active</td>\n",
              "      <td>Human</td>\n",
              "      <td>CHEMBL974011</td>\n",
              "      <td>EC50</td>\n",
              "      <td>4</td>\n",
              "      <td>2</td>\n",
              "    </tr>\n",
              "    <tr>\n",
              "      <th>2</th>\n",
              "      <td>2</td>\n",
              "      <td>4</td>\n",
              "      <td>CN(C)c1ccc(-c2cc3ncccc3c(NCCCCN)n2)cc1</td>\n",
              "      <td>&lt;rdkit.Chem.rdchem.Mol object at 0x78af46be06d0&gt;</td>\n",
              "      <td>SBGMPUIVPOGTGN-UHFFFAOYSA-N</td>\n",
              "      <td>Active</td>\n",
              "      <td>Human</td>\n",
              "      <td>CHEMBL1025770</td>\n",
              "      <td>IC50</td>\n",
              "      <td>2</td>\n",
              "      <td>0</td>\n",
              "    </tr>\n",
              "    <tr>\n",
              "      <th>3</th>\n",
              "      <td>3</td>\n",
              "      <td>5</td>\n",
              "      <td>CN[C@@H]1C[C@H]2O[C@@](C)([C@@H]1OC)n1c3ccccc3...</td>\n",
              "      <td>&lt;rdkit.Chem.rdchem.Mol object at 0x78af46be0270&gt;</td>\n",
              "      <td>HKSZLNNOFSGOKW-FYTWVXJKSA-N</td>\n",
              "      <td>Active</td>\n",
              "      <td>Human</td>\n",
              "      <td>CHEMBL981176</td>\n",
              "      <td>IC50</td>\n",
              "      <td>1</td>\n",
              "      <td>2</td>\n",
              "    </tr>\n",
              "    <tr>\n",
              "      <th>4</th>\n",
              "      <td>4</td>\n",
              "      <td>6</td>\n",
              "      <td>COc1cc(Nc2nc(N[C@H]3CCCC[C@H]3N)n3nc(-c4ccccc4...</td>\n",
              "      <td>&lt;rdkit.Chem.rdchem.Mol object at 0x78af46be02e0&gt;</td>\n",
              "      <td>VLHKHLQNVJKAHG-UXHICEINSA-N</td>\n",
              "      <td>Active</td>\n",
              "      <td>Human</td>\n",
              "      <td>CHEMBL981176</td>\n",
              "      <td>IC50</td>\n",
              "      <td>4</td>\n",
              "      <td>2</td>\n",
              "    </tr>\n",
              "    <tr>\n",
              "      <th>...</th>\n",
              "      <td>...</td>\n",
              "      <td>...</td>\n",
              "      <td>...</td>\n",
              "      <td>...</td>\n",
              "      <td>...</td>\n",
              "      <td>...</td>\n",
              "      <td>...</td>\n",
              "      <td>...</td>\n",
              "      <td>...</td>\n",
              "      <td>...</td>\n",
              "      <td>...</td>\n",
              "    </tr>\n",
              "    <tr>\n",
              "      <th>858</th>\n",
              "      <td>858</td>\n",
              "      <td>69385</td>\n",
              "      <td>COc1cccc(C(=O)N(C)Cc2ncc(C)c(OC)c2C)c1OC</td>\n",
              "      <td>&lt;rdkit.Chem.rdchem.Mol object at 0x78af464eaea0&gt;</td>\n",
              "      <td>CIRJDJPKZVILCS-UHFFFAOYSA-N</td>\n",
              "      <td>Inactive</td>\n",
              "      <td>Plasmodium</td>\n",
              "      <td>CHEMBL4649943</td>\n",
              "      <td>pIC50</td>\n",
              "      <td>0</td>\n",
              "      <td>0</td>\n",
              "    </tr>\n",
              "    <tr>\n",
              "      <th>859</th>\n",
              "      <td>859</td>\n",
              "      <td>69386</td>\n",
              "      <td>Cc1nc(NC(=O)CN2CCOC(Cn3cccn3)C2)sc1C</td>\n",
              "      <td>&lt;rdkit.Chem.rdchem.Mol object at 0x78af464eaf10&gt;</td>\n",
              "      <td>NZPZSVJYQCXJJP-UHFFFAOYSA-N</td>\n",
              "      <td>Inactive</td>\n",
              "      <td>Plasmodium</td>\n",
              "      <td>CHEMBL4649943</td>\n",
              "      <td>pIC50</td>\n",
              "      <td>2</td>\n",
              "      <td>0</td>\n",
              "    </tr>\n",
              "    <tr>\n",
              "      <th>860</th>\n",
              "      <td>860</td>\n",
              "      <td>69387</td>\n",
              "      <td>Cc1nnc(NC(=O)CN2CCOC(Cn3cccn3)C2)s1</td>\n",
              "      <td>&lt;rdkit.Chem.rdchem.Mol object at 0x78af464eaf80&gt;</td>\n",
              "      <td>HXDHRJAZKRSGOC-UHFFFAOYSA-N</td>\n",
              "      <td>Inactive</td>\n",
              "      <td>Plasmodium</td>\n",
              "      <td>CHEMBL4649943</td>\n",
              "      <td>pIC50</td>\n",
              "      <td>2</td>\n",
              "      <td>0</td>\n",
              "    </tr>\n",
              "    <tr>\n",
              "      <th>861</th>\n",
              "      <td>861</td>\n",
              "      <td>69388</td>\n",
              "      <td>Cc1nn(C)c(C)c1NC(=O)CN1CCOC(Cn2cccn2)C1</td>\n",
              "      <td>&lt;rdkit.Chem.rdchem.Mol object at 0x78af464eaff0&gt;</td>\n",
              "      <td>FSRYXQIGIYUPBA-UHFFFAOYSA-N</td>\n",
              "      <td>Inactive</td>\n",
              "      <td>Plasmodium</td>\n",
              "      <td>CHEMBL4649943</td>\n",
              "      <td>pIC50</td>\n",
              "      <td>2</td>\n",
              "      <td>0</td>\n",
              "    </tr>\n",
              "    <tr>\n",
              "      <th>862</th>\n",
              "      <td>862</td>\n",
              "      <td>69389</td>\n",
              "      <td>Cn1nc2c(cc1=O)CN(Cc1nnc(C3CC3)o1)CC2</td>\n",
              "      <td>&lt;rdkit.Chem.rdchem.Mol object at 0x78af464eb060&gt;</td>\n",
              "      <td>OSEBDEHQUIPSDR-UHFFFAOYSA-N</td>\n",
              "      <td>Inactive</td>\n",
              "      <td>Plasmodium</td>\n",
              "      <td>CHEMBL4649943</td>\n",
              "      <td>pIC50</td>\n",
              "      <td>2</td>\n",
              "      <td>0</td>\n",
              "    </tr>\n",
              "  </tbody>\n",
              "</table>\n",
              "<p>863 rows × 11 columns</p>\n",
              "</div>\n",
              "    <div class=\"colab-df-buttons\">\n",
              "\n",
              "  <div class=\"colab-df-container\">\n",
              "    <button class=\"colab-df-convert\" onclick=\"convertToInteractive('df-054338da-a2c8-45f8-943e-83e76f650ee0')\"\n",
              "            title=\"Convert this dataframe to an interactive table.\"\n",
              "            style=\"display:none;\">\n",
              "\n",
              "  <svg xmlns=\"http://www.w3.org/2000/svg\" height=\"24px\" viewBox=\"0 -960 960 960\">\n",
              "    <path d=\"M120-120v-720h720v720H120Zm60-500h600v-160H180v160Zm220 220h160v-160H400v160Zm0 220h160v-160H400v160ZM180-400h160v-160H180v160Zm440 0h160v-160H620v160ZM180-180h160v-160H180v160Zm440 0h160v-160H620v160Z\"/>\n",
              "  </svg>\n",
              "    </button>\n",
              "\n",
              "  <style>\n",
              "    .colab-df-container {\n",
              "      display:flex;\n",
              "      gap: 12px;\n",
              "    }\n",
              "\n",
              "    .colab-df-convert {\n",
              "      background-color: #E8F0FE;\n",
              "      border: none;\n",
              "      border-radius: 50%;\n",
              "      cursor: pointer;\n",
              "      display: none;\n",
              "      fill: #1967D2;\n",
              "      height: 32px;\n",
              "      padding: 0 0 0 0;\n",
              "      width: 32px;\n",
              "    }\n",
              "\n",
              "    .colab-df-convert:hover {\n",
              "      background-color: #E2EBFA;\n",
              "      box-shadow: 0px 1px 2px rgba(60, 64, 67, 0.3), 0px 1px 3px 1px rgba(60, 64, 67, 0.15);\n",
              "      fill: #174EA6;\n",
              "    }\n",
              "\n",
              "    .colab-df-buttons div {\n",
              "      margin-bottom: 4px;\n",
              "    }\n",
              "\n",
              "    [theme=dark] .colab-df-convert {\n",
              "      background-color: #3B4455;\n",
              "      fill: #D2E3FC;\n",
              "    }\n",
              "\n",
              "    [theme=dark] .colab-df-convert:hover {\n",
              "      background-color: #434B5C;\n",
              "      box-shadow: 0px 1px 3px 1px rgba(0, 0, 0, 0.15);\n",
              "      filter: drop-shadow(0px 1px 2px rgba(0, 0, 0, 0.3));\n",
              "      fill: #FFFFFF;\n",
              "    }\n",
              "  </style>\n",
              "\n",
              "    <script>\n",
              "      const buttonEl =\n",
              "        document.querySelector('#df-054338da-a2c8-45f8-943e-83e76f650ee0 button.colab-df-convert');\n",
              "      buttonEl.style.display =\n",
              "        google.colab.kernel.accessAllowed ? 'block' : 'none';\n",
              "\n",
              "      async function convertToInteractive(key) {\n",
              "        const element = document.querySelector('#df-054338da-a2c8-45f8-943e-83e76f650ee0');\n",
              "        const dataTable =\n",
              "          await google.colab.kernel.invokeFunction('convertToInteractive',\n",
              "                                                    [key], {});\n",
              "        if (!dataTable) return;\n",
              "\n",
              "        const docLinkHtml = 'Like what you see? Visit the ' +\n",
              "          '<a target=\"_blank\" href=https://colab.research.google.com/notebooks/data_table.ipynb>data table notebook</a>'\n",
              "          + ' to learn more about interactive tables.';\n",
              "        element.innerHTML = '';\n",
              "        dataTable['output_type'] = 'display_data';\n",
              "        await google.colab.output.renderOutput(dataTable, element);\n",
              "        const docLink = document.createElement('div');\n",
              "        docLink.innerHTML = docLinkHtml;\n",
              "        element.appendChild(docLink);\n",
              "      }\n",
              "    </script>\n",
              "  </div>\n",
              "\n",
              "\n",
              "<div id=\"df-5400a402-a580-4deb-a5c1-d2576d0da2b7\">\n",
              "  <button class=\"colab-df-quickchart\" onclick=\"quickchart('df-5400a402-a580-4deb-a5c1-d2576d0da2b7')\"\n",
              "            title=\"Suggest charts.\"\n",
              "            style=\"display:none;\">\n",
              "\n",
              "<svg xmlns=\"http://www.w3.org/2000/svg\" height=\"24px\"viewBox=\"0 0 24 24\"\n",
              "     width=\"24px\">\n",
              "    <g>\n",
              "        <path d=\"M19 3H5c-1.1 0-2 .9-2 2v14c0 1.1.9 2 2 2h14c1.1 0 2-.9 2-2V5c0-1.1-.9-2-2-2zM9 17H7v-7h2v7zm4 0h-2V7h2v10zm4 0h-2v-4h2v4z\"/>\n",
              "    </g>\n",
              "</svg>\n",
              "  </button>\n",
              "\n",
              "<style>\n",
              "  .colab-df-quickchart {\n",
              "      --bg-color: #E8F0FE;\n",
              "      --fill-color: #1967D2;\n",
              "      --hover-bg-color: #E2EBFA;\n",
              "      --hover-fill-color: #174EA6;\n",
              "      --disabled-fill-color: #AAA;\n",
              "      --disabled-bg-color: #DDD;\n",
              "  }\n",
              "\n",
              "  [theme=dark] .colab-df-quickchart {\n",
              "      --bg-color: #3B4455;\n",
              "      --fill-color: #D2E3FC;\n",
              "      --hover-bg-color: #434B5C;\n",
              "      --hover-fill-color: #FFFFFF;\n",
              "      --disabled-bg-color: #3B4455;\n",
              "      --disabled-fill-color: #666;\n",
              "  }\n",
              "\n",
              "  .colab-df-quickchart {\n",
              "    background-color: var(--bg-color);\n",
              "    border: none;\n",
              "    border-radius: 50%;\n",
              "    cursor: pointer;\n",
              "    display: none;\n",
              "    fill: var(--fill-color);\n",
              "    height: 32px;\n",
              "    padding: 0;\n",
              "    width: 32px;\n",
              "  }\n",
              "\n",
              "  .colab-df-quickchart:hover {\n",
              "    background-color: var(--hover-bg-color);\n",
              "    box-shadow: 0 1px 2px rgba(60, 64, 67, 0.3), 0 1px 3px 1px rgba(60, 64, 67, 0.15);\n",
              "    fill: var(--button-hover-fill-color);\n",
              "  }\n",
              "\n",
              "  .colab-df-quickchart-complete:disabled,\n",
              "  .colab-df-quickchart-complete:disabled:hover {\n",
              "    background-color: var(--disabled-bg-color);\n",
              "    fill: var(--disabled-fill-color);\n",
              "    box-shadow: none;\n",
              "  }\n",
              "\n",
              "  .colab-df-spinner {\n",
              "    border: 2px solid var(--fill-color);\n",
              "    border-color: transparent;\n",
              "    border-bottom-color: var(--fill-color);\n",
              "    animation:\n",
              "      spin 1s steps(1) infinite;\n",
              "  }\n",
              "\n",
              "  @keyframes spin {\n",
              "    0% {\n",
              "      border-color: transparent;\n",
              "      border-bottom-color: var(--fill-color);\n",
              "      border-left-color: var(--fill-color);\n",
              "    }\n",
              "    20% {\n",
              "      border-color: transparent;\n",
              "      border-left-color: var(--fill-color);\n",
              "      border-top-color: var(--fill-color);\n",
              "    }\n",
              "    30% {\n",
              "      border-color: transparent;\n",
              "      border-left-color: var(--fill-color);\n",
              "      border-top-color: var(--fill-color);\n",
              "      border-right-color: var(--fill-color);\n",
              "    }\n",
              "    40% {\n",
              "      border-color: transparent;\n",
              "      border-right-color: var(--fill-color);\n",
              "      border-top-color: var(--fill-color);\n",
              "    }\n",
              "    60% {\n",
              "      border-color: transparent;\n",
              "      border-right-color: var(--fill-color);\n",
              "    }\n",
              "    80% {\n",
              "      border-color: transparent;\n",
              "      border-right-color: var(--fill-color);\n",
              "      border-bottom-color: var(--fill-color);\n",
              "    }\n",
              "    90% {\n",
              "      border-color: transparent;\n",
              "      border-bottom-color: var(--fill-color);\n",
              "    }\n",
              "  }\n",
              "</style>\n",
              "\n",
              "  <script>\n",
              "    async function quickchart(key) {\n",
              "      const quickchartButtonEl =\n",
              "        document.querySelector('#' + key + ' button');\n",
              "      quickchartButtonEl.disabled = true;  // To prevent multiple clicks.\n",
              "      quickchartButtonEl.classList.add('colab-df-spinner');\n",
              "      try {\n",
              "        const charts = await google.colab.kernel.invokeFunction(\n",
              "            'suggestCharts', [key], {});\n",
              "      } catch (error) {\n",
              "        console.error('Error during call to suggestCharts:', error);\n",
              "      }\n",
              "      quickchartButtonEl.classList.remove('colab-df-spinner');\n",
              "      quickchartButtonEl.classList.add('colab-df-quickchart-complete');\n",
              "    }\n",
              "    (() => {\n",
              "      let quickchartButtonEl =\n",
              "        document.querySelector('#df-5400a402-a580-4deb-a5c1-d2576d0da2b7 button');\n",
              "      quickchartButtonEl.style.display =\n",
              "        google.colab.kernel.accessAllowed ? 'block' : 'none';\n",
              "    })();\n",
              "  </script>\n",
              "</div>\n",
              "    </div>\n",
              "  </div>\n"
            ]
          },
          "metadata": {},
          "execution_count": 8
        }
      ]
    },
    {
      "cell_type": "code",
      "source": [
        "total[\"Activity_metric\"]=total[\"Activity_metric\"].fillna(\"I\")"
      ],
      "metadata": {
        "id": "vpjRe9LLvHvW"
      },
      "execution_count": null,
      "outputs": []
    },
    {
      "cell_type": "markdown",
      "source": [
        "#GRID SEARCH AUTOMATCO"
      ],
      "metadata": {
        "id": "G1w5QnJGXES-"
      }
    },
    {
      "cell_type": "code",
      "source": [
        "# filtrar SMILES que no den error\n",
        "SMILES = []\n",
        "for i in range(len(total['canonical_smiles'])):\n",
        "  try:\n",
        "    cs = Chem.CanonSmiles(total['canonical_smiles'].iloc[i])\n",
        "    SMILES.append(cs)\n",
        "  except:\n",
        "    print('Invalid SMILES:',total['canonical_smiles'].iloc[i],i)"
      ],
      "metadata": {
        "id": "ARcQ1e4y-D57"
      },
      "execution_count": null,
      "outputs": []
    },
    {
      "cell_type": "code",
      "source": [
        "# molecules from smiles\n",
        "ms = [Chem.MolFromSmiles(smile) for smile in SMILES]\n",
        "# number of atoms per molecule\n",
        "numb = [mol.GetNumAtoms() for mol in ms]\n",
        "# different atoms:\n",
        "C = [] # carbon\n",
        "O = [] # oxigen\n",
        "N = [] # nitrogen\n",
        "Cl=[]\n",
        "F=[]\n",
        "Br=[]\n",
        "I=[]\n",
        "\n",
        "nh2_pattern = Chem.MolFromSmarts(\"[NH2]\")\n",
        "nh2_counts = [len(mol.GetSubstructMatches(nh2_pattern)) for mol in ms]\n",
        "\n",
        "ring5_counts = []\n",
        "ring6_counts=[]\n",
        "\n",
        "\n",
        "for mol in ms:\n",
        "  c = 0\n",
        "  o = 0\n",
        "  n = 0\n",
        "  cl=0\n",
        "  f=0\n",
        "  br=0\n",
        "  i=0\n",
        "  nh2_count = 0\n",
        "  ring_info = mol.GetRingInfo()# Obtener sistemas de anillos saturados\n",
        "  ring5_count = sum(1 for ring in ring_info.AtomRings() if len(ring) == 5)  # Contar anillos de 5 carbonos\n",
        "  ring5_counts.append(ring5_count)\n",
        "  ring6= sum(1 for ring in ring_info.AtomRings()if len(ring) == 6)  # Contar anillos de 5 carbonos\n",
        "  ring6_counts.append(ring6)\n",
        "  for atom in mol.GetAtoms():\n",
        "    if atom.GetAtomicNum() == 6:\n",
        "      c += 1\n",
        "    if atom.GetAtomicNum() == 7:\n",
        "      n += 1\n",
        "    if atom.GetAtomicNum() == 8:\n",
        "      o += 1\n",
        "    if atom.GetAtomicNum() == 9:\n",
        "      f += 1\n",
        "    if atom.GetAtomicNum() == 17:\n",
        "      cl += 1\n",
        "    if atom.GetAtomicNum() == 35:\n",
        "      br += 1\n",
        "    if atom.GetAtomicNum() == 53:\n",
        "      i += 1\n",
        "\n",
        "  C.append(c)\n",
        "  O.append(o)\n",
        "  N.append(n)\n",
        "  Cl.append(cl)\n",
        "  F.append(f)\n",
        "  Br.append(br)\n",
        "  I.append(i)\n",
        "\n",
        "# molecular weight\n",
        "MolWeight = [Descriptors.ExactMolWt(mol) for mol in ms]\n",
        "# rings\n",
        "Rings = [Descriptors.RingCount(mol) for mol in ms]\n",
        "# Total polar surface area\n",
        "TPSA = [Descriptors.TPSA(mol) for mol in ms]\n",
        "# Density Morgan FP\n",
        "FpDM1 = [Descriptors.FpDensityMorgan1(mol) for mol in ms]\n",
        "# rotatable bonds\n",
        "RotBonds = [Descriptors.NumRotatableBonds(mol) for mol in ms]\n",
        "# Obtener la carga formal de la molécula\n",
        "formal_charge =[Chem.rdmolops.GetFormalCharge(mol) for mol in ms]\n",
        "# Calcular el logP (coeficiente de partición octanol-agua) de la molécula\n",
        "logp =[Descriptors.MolLogP(mol) for mol in ms]\n",
        "\n",
        "descriptors = pd.DataFrame(list(zip(numb, C, O, N,F,Br,I,Cl, nh2_counts,ring5_counts,ring6_counts,MolWeight, Rings, TPSA, FpDM1, RotBonds,logp,formal_charge)))\n",
        "\n",
        "Activity= total[\"Activity\"].tolist()"
      ],
      "metadata": {
        "id": "X8nbha-O8yTm"
      },
      "execution_count": null,
      "outputs": []
    },
    {
      "cell_type": "code",
      "source": [
        "X = np.array(descriptors)\n",
        "y = np.array(Activity)"
      ],
      "metadata": {
        "id": "Nj7x5LFx-Ll6"
      },
      "execution_count": null,
      "outputs": []
    },
    {
      "cell_type": "code",
      "source": [
        "from sklearn.model_selection import train_test_split\n",
        "from sklearn.metrics import accuracy_score, recall_score, precision_score, f1_score, confusion_matrix, roc_auc_score\n",
        "from sklearn.model_selection import StratifiedKFold\n",
        "from sklearn.ensemble import RandomForestClassifier\n",
        "from sklearn.model_selection import cross_val_score\n",
        "from sklearn.model_selection import GridSearchCV\n",
        "from sklearn.pipeline import Pipeline\n",
        "from sklearn.svm import SVC\n",
        "import xgboost as xgb\n",
        "from xgboost import XGBClassifier\n",
        "from sklearn.metrics import accuracy_score, recall_score, precision_score, f1_score, confusion_matrix, roc_auc_score\n",
        "from sklearn.model_selection import train_test_split\n",
        "from sklearn.preprocessing import LabelBinarizer\n",
        "from sklearn.svm import SVC"
      ],
      "metadata": {
        "id": "VVmF31mw-bJS"
      },
      "execution_count": null,
      "outputs": []
    },
    {
      "cell_type": "markdown",
      "source": [
        "##sin cross validation"
      ],
      "metadata": {
        "id": "o4OU6-vTXJ5k"
      }
    },
    {
      "cell_type": "code",
      "source": [
        "X_train, X_test, y_train, y_test = train_test_split(X, y, test_size=0.2, random_state=42)"
      ],
      "metadata": {
        "id": "o_ObqJ1rmMye"
      },
      "execution_count": null,
      "outputs": []
    },
    {
      "cell_type": "code",
      "source": [
        "model_poly = Pipeline([('scaler', StandardScaler()),\n",
        "                      ('svm', SVC(kernel='poly',C= 0.1, coef0= 0,degree= 2,random_state=42))\n",
        "                    ])\n",
        "\n",
        "model_poly.fit(X_train, y_train)\n",
        "\n",
        "\n",
        "y_svm_pred_sincross= model_poly.predict(X_test)"
      ],
      "metadata": {
        "id": "ym-SrPSoXMkk"
      },
      "execution_count": null,
      "outputs": []
    },
    {
      "cell_type": "code",
      "source": [
        "# Calcular métricas para SVM\n",
        "accuracy_svm = accuracy_score(y_test,y_svm_pred_sincross)\n",
        "recall_svm = recall_score(y_test, y_svm_pred_sincross, pos_label=\"Active\")\n",
        "precision_svm = precision_score(y_test, y_svm_pred_sincross,pos_label=\"Active\")\n",
        "f1_svm = f1_score(y_test, y_svm_pred_sincross,pos_label=\"Active\")\n",
        "conf_matrix_svm = confusion_matrix(y_test,y_svm_pred_sincross)\n",
        "#roc_auc_svm = roc_auc_score(y_test,y_svm_pred_sincross)\n",
        "\n",
        "\n",
        "# Imprimir métricas para SVM\n",
        "print(\"SVM Metrics:\")\n",
        "print(\"Accuracy:\", accuracy_svm)\n",
        "print(\"Recall:\", recall_svm)\n",
        "print(\"Precision:\", precision_svm)\n",
        "print(\"F1-Score:\", f1_svm)\n",
        "print(\"Confusion Matrix:\\n\", sns.heatmap(conf_matrix_svm,annot=True))"
      ],
      "metadata": {
        "colab": {
          "base_uri": "https://localhost:8080/",
          "height": 843
        },
        "id": "bVfIrayDcQ8l",
        "outputId": "16a42aae-39cf-4e6a-9462-2c80c894fef7"
      },
      "execution_count": null,
      "outputs": [
        {
          "output_type": "stream",
          "name": "stdout",
          "text": [
            "SVM Metrics:\n",
            "Accuracy: 0.9364161849710982\n",
            "Recall: 0.3125\n",
            "Precision: 1.0\n",
            "F1-Score: 0.47619047619047616\n",
            "Confusion Matrix:\n",
            " Axes(0.125,0.11;0.62x0.77)\n"
          ]
        },
        {
          "output_type": "display_data",
          "data": {
            "text/plain": [
              "<Figure size 1400x870 with 2 Axes>"
            ],
            "image/png": "[encoded data removed]"
          },
          "metadata": {}
        }
      ]
    },
    {
      "cell_type": "markdown",
      "source": [
        "##con cross validation a azar"
      ],
      "metadata": {
        "id": "93YV-niuXNOM"
      }
    },
    {
      "cell_type": "code",
      "source": [
        "from sklearn.model_selection import GridSearchCV\n",
        "from sklearn.pipeline import Pipeline\n",
        "from sklearn.svm import SVC\n",
        "from sklearn.metrics import make_scorer, f1_score\n",
        "\n",
        "\n",
        "model_poly = Pipeline([('scaler', StandardScaler()),\n",
        "                      ('svm', SVC(kernel='poly'))\n",
        "                       ])\n",
        "f1_scorer = make_scorer(f1_score, pos_label='Active')\n",
        "\n",
        "\n",
        "svm_cv_poly = GridSearchCV(model_poly,\n",
        "                      param_grid = {'svm__degree': [2, 3, 4, 5, 6], 'svm__C': [0.025, 0.05, 0.1, 1, 10, 12],'svm__coef0': [0, 1, 1.5, 2, 3]},\n",
        "                      cv=2,\n",
        "                      scoring=f1_scorer)\n",
        "\n",
        "\n",
        "\n",
        "svm_cv_poly.fit(X_train, y_train)\n",
        "\n",
        "print(\"Mejores hiperparámetros:\", svm_cv_poly.best_params_)\n",
        "print(\"Mejor Accuracy\", svm_cv_poly.best_score_)\n",
        "\n",
        "\n",
        "mejor_modelo=svm_cv_poly.best_estimator_\n",
        "\n",
        "\n",
        "\n",
        "\n",
        "# Realizar predicciones con SVM\n",
        "y_svm_pred = mejor_modelo.predict(X_test)\n",
        "\n"
      ],
      "metadata": {
        "colab": {
          "base_uri": "https://localhost:8080/"
        },
        "id": "Fvh3tK1V-g-k",
        "outputId": "1e872e5d-4a8b-4392-faa8-511d7c1c92dd"
      },
      "execution_count": null,
      "outputs": [
        {
          "output_type": "stream",
          "name": "stdout",
          "text": [
            "Mejores hiperparámetros: {'svm__C': 0.025, 'svm__coef0': 3, 'svm__degree': 5}\n",
            "Mejor Accuracy 0.750116139621387\n"
          ]
        }
      ]
    },
    {
      "cell_type": "code",
      "source": [
        "# Calcular métricas para SVM\n",
        "accuracy_svm = accuracy_score(y_test,y_svm_pred)\n",
        "recall_svm = recall_score(y_test, y_svm_pred, pos_label=\"Active\")\n",
        "precision_svm = precision_score(y_test, y_svm_pred,pos_label=\"Active\")\n",
        "f1_svm = f1_score(y_test, y_svm_pred,pos_label=\"Active\")\n",
        "conf_matrix_svm = confusion_matrix(y_test,y_svm_pred)\n",
        "#roc_auc_svm = roc_auc_score(y_test,y_svm_pred_sincross)\n",
        "\n",
        "\n",
        "# Imprimir métricas para SVM\n",
        "print(\"SVM Metrics:\")\n",
        "print(\"Accuracy:\", accuracy_svm)\n",
        "print(\"Recall:\", recall_svm)\n",
        "print(\"Precision:\", precision_svm)\n",
        "print(\"F1-Score:\", f1_svm)\n",
        "print(\"Confusion Matrix:\\n\", sns.heatmap(conf_matrix_svm,annot=True))"
      ],
      "metadata": {
        "colab": {
          "base_uri": "https://localhost:8080/",
          "height": 843
        },
        "id": "11iM9DBo_gce",
        "outputId": "af27709d-a12d-4afa-cf3d-06a963d43a2f"
      },
      "execution_count": null,
      "outputs": [
        {
          "output_type": "stream",
          "name": "stdout",
          "text": [
            "SVM Metrics:\n",
            "Accuracy: 0.9190751445086706\n",
            "Recall: 0.125\n",
            "Precision: 1.0\n",
            "F1-Score: 0.2222222222222222\n",
            "Confusion Matrix:\n",
            " Axes(0.125,0.11;0.62x0.77)\n"
          ]
        },
        {
          "output_type": "display_data",
          "data": {
            "text/plain": [
              "<Figure size 1400x870 with 2 Axes>"
            ],
            "image/png": "[encoded data removed]"
          },
          "metadata": {}
        }
      ]
    },
    {
      "cell_type": "markdown",
      "source": [
        "##con cross validation por clusters"
      ],
      "metadata": {
        "id": "ouLGGMl3XTWY"
      }
    },
    {
      "cell_type": "code",
      "source": [
        "clusters = total[\"Cluster_PCA_5\"].tolist()\n",
        "descriptors[\"Cluster_PCA_5\"]= clusters"
      ],
      "metadata": {
        "id": "DMkcZDmemRcr"
      },
      "execution_count": null,
      "outputs": []
    },
    {
      "cell_type": "markdown",
      "source": [
        "#GRID SEARCH MANUAL"
      ],
      "metadata": {
        "id": "gtDdFCPdIV3O"
      }
    },
    {
      "cell_type": "code",
      "source": [
        "total[\"Activity\"].value_counts()"
      ],
      "metadata": {
        "colab": {
          "base_uri": "https://localhost:8080/"
        },
        "id": "V-RTy5mp8Zjm",
        "outputId": "a191f4a9-fdbb-4a49-c811-2f6470581863"
      },
      "execution_count": null,
      "outputs": [
        {
          "output_type": "execute_result",
          "data": {
            "text/plain": [
              "Inactive    784\n",
              "Active       79\n",
              "Name: Activity, dtype: int64"
            ]
          },
          "metadata": {},
          "execution_count": 9
        }
      ]
    },
    {
      "cell_type": "code",
      "source": [
        "import pandas as pd\n",
        "from sklearn.model_selection import train_test_split\n",
        "\n",
        "total_entrenamiento, total_prueba = train_test_split(total, test_size=0.2, random_state=42)"
      ],
      "metadata": {
        "id": "JFx1PspAfXdR"
      },
      "execution_count": null,
      "outputs": []
    },
    {
      "cell_type": "code",
      "source": [
        "cluster0= total_entrenamiento[total_entrenamiento[\"Cluster_PCA\"]==0]\n",
        "cluster1= total_entrenamiento[total_entrenamiento[\"Cluster_PCA\"]==1]\n",
        "cluster2= total_entrenamiento[total_entrenamiento[\"Cluster_PCA\"]==2]\n",
        "cluster3= total_entrenamiento[total_entrenamiento[\"Cluster_PCA\"]==3]\n",
        "cluster4= total_entrenamiento[total_entrenamiento[\"Cluster_PCA\"]==4]"
      ],
      "metadata": {
        "id": "xcHoYApRIYgG"
      },
      "execution_count": null,
      "outputs": []
    },
    {
      "cell_type": "markdown",
      "source": [
        "##Entrenamiento (1) 0,1,2,3 y testeo en 4"
      ],
      "metadata": {
        "id": "orHwpDCYIwGn"
      }
    },
    {
      "cell_type": "code",
      "source": [
        "entrenamiento1= pd.concat([cluster0,cluster1,cluster2,cluster3])\n",
        "testeo1= cluster4"
      ],
      "metadata": {
        "id": "qZGkMlrKJsdD"
      },
      "execution_count": null,
      "outputs": []
    },
    {
      "cell_type": "code",
      "source": [
        "entrenamiento1[\"Activity\"].value_counts()"
      ],
      "metadata": {
        "colab": {
          "base_uri": "https://localhost:8080/"
        },
        "id": "N0tufD2iheA0",
        "outputId": "56243c21-754d-47f4-ab3a-b65892247f1c"
      },
      "execution_count": null,
      "outputs": [
        {
          "output_type": "execute_result",
          "data": {
            "text/plain": [
              "Inactive    600\n",
              "Active       33\n",
              "Name: Activity, dtype: int64"
            ]
          },
          "metadata": {},
          "execution_count": 27
        }
      ]
    },
    {
      "cell_type": "code",
      "source": [
        "# filtrar SMILES que no den error\n",
        "SMILES1 = []\n",
        "for i in range(len(entrenamiento1['canonical_smiles'])):\n",
        "  try:\n",
        "    cs = Chem.CanonSmiles(entrenamiento1['canonical_smiles'].iloc[i])\n",
        "    SMILES1.append(cs)\n",
        "\n",
        "  except:\n",
        "    print('Invalid SMILES:',entrenamiento1['canonical_smiles'].iloc[i],i)"
      ],
      "metadata": {
        "id": "ZIoRSRQtKae_"
      },
      "execution_count": null,
      "outputs": []
    },
    {
      "cell_type": "code",
      "source": [
        "# molecules from smiles\n",
        "ms = [Chem.MolFromSmiles(smile) for smile in SMILES1]\n",
        "# number of atoms per molecule\n",
        "numb = [mol.GetNumAtoms() for mol in ms]\n",
        "# different atoms:\n",
        "C = [] # carbon\n",
        "O = [] # oxigen\n",
        "N = [] # nitrogen\n",
        "Cl=[]\n",
        "F=[]\n",
        "Br=[]\n",
        "I=[]\n",
        "\n",
        "nh2_pattern = Chem.MolFromSmarts(\"[NH2]\")\n",
        "nh2_counts = [len(mol.GetSubstructMatches(nh2_pattern)) for mol in ms]\n",
        "\n",
        "ring5_counts = []\n",
        "ring6_counts=[]\n",
        "\n",
        "\n",
        "for mol in ms:\n",
        "  c = 0\n",
        "  o = 0\n",
        "  n = 0\n",
        "  cl=0\n",
        "  f=0\n",
        "  br=0\n",
        "  i=0\n",
        "  nh2_count = 0\n",
        "  ring_info = mol.GetRingInfo()# Obtener sistemas de anillos saturados\n",
        "  ring5_count = sum(1 for ring in ring_info.AtomRings() if len(ring) == 5)  # Contar anillos de 5 carbonos\n",
        "  ring5_counts.append(ring5_count)\n",
        "  ring6= sum(1 for ring in ring_info.AtomRings()if len(ring) == 6)  # Contar anillos de 5 carbonos\n",
        "  ring6_counts.append(ring6)\n",
        "  for atom in mol.GetAtoms():\n",
        "    if atom.GetAtomicNum() == 6:\n",
        "      c += 1\n",
        "    if atom.GetAtomicNum() == 7:\n",
        "      n += 1\n",
        "    if atom.GetAtomicNum() == 8:\n",
        "      o += 1\n",
        "    if atom.GetAtomicNum() == 9:\n",
        "      f += 1\n",
        "    if atom.GetAtomicNum() == 17:\n",
        "      cl += 1\n",
        "    if atom.GetAtomicNum() == 35:\n",
        "      br += 1\n",
        "    if atom.GetAtomicNum() == 53:\n",
        "      i += 1\n",
        "\n",
        "  C.append(c)\n",
        "  O.append(o)\n",
        "  N.append(n)\n",
        "  Cl.append(cl)\n",
        "  F.append(f)\n",
        "  Br.append(br)\n",
        "  I.append(i)\n",
        "\n",
        "# molecular weight\n",
        "MolWeight = [Descriptors.ExactMolWt(mol) for mol in ms]\n",
        "# rings\n",
        "Rings = [Descriptors.RingCount(mol) for mol in ms]\n",
        "# Total polar surface area\n",
        "TPSA = [Descriptors.TPSA(mol) for mol in ms]\n",
        "# Density Morgan FP\n",
        "FpDM1 = [Descriptors.FpDensityMorgan1(mol) for mol in ms]\n",
        "# rotatable bonds\n",
        "RotBonds = [Descriptors.NumRotatableBonds(mol) for mol in ms]\n",
        "# Obtener la carga formal de la molécula\n",
        "formal_charge =[Chem.rdmolops.GetFormalCharge(mol) for mol in ms]\n",
        "# Calcular el logP (coeficiente de partición octanol-agua) de la molécula\n",
        "logp =[Descriptors.MolLogP(mol) for mol in ms]"
      ],
      "metadata": {
        "id": "Kje89f27Kfcg"
      },
      "execution_count": null,
      "outputs": []
    },
    {
      "cell_type": "markdown",
      "source": [
        "Entrenamiento"
      ],
      "metadata": {
        "id": "DuDHlYPxTLPI"
      }
    },
    {
      "cell_type": "code",
      "source": [
        "descriptors1 = pd.DataFrame(list(zip(numb, C, O, N,F,Br,I,Cl, nh2_counts,ring5_counts,ring6_counts,MolWeight, Rings, TPSA, FpDM1, RotBonds,logp,formal_charge)))\n",
        "\n",
        "Activity1= entrenamiento1['Activity'].tolist()"
      ],
      "metadata": {
        "id": "0aNQP5KXLXPe"
      },
      "execution_count": null,
      "outputs": []
    },
    {
      "cell_type": "code",
      "source": [
        "from sklearn.model_selection import train_test_split\n",
        "\n",
        "X1 = np.array(descriptors1)\n",
        "y1 = np.array(Activity1)\n"
      ],
      "metadata": {
        "id": "MfmOPDT6JXLH"
      },
      "execution_count": null,
      "outputs": []
    },
    {
      "cell_type": "code",
      "source": [
        "from sklearn.model_selection import GridSearchCV\n",
        "from sklearn.pipeline import Pipeline\n",
        "from sklearn.svm import SVC\n",
        "\n",
        "model_poly = Pipeline([('scaler', StandardScaler()),\n",
        "                      ('svm', SVC(kernel='poly'))\n",
        "                    ])\n",
        "\n",
        "\n",
        "# empecé buscando algunos hiperparámetros genéricos y fui agregando para que los seleccionados no me queden en el borde\n",
        "# Para poder usar el gridsearch con el pipeline, tienen que usar nombreestimador__parámetro para poder usar la grilla\n",
        "svm_cv_poly = GridSearchCV(model_poly,\n",
        "                      param_grid = {'svm__degree': [2, 3, 4, 5, 6], 'svm__C': [0.025, 0.05, 0.1, 1, 10, 12],'svm__coef0': [0, 1, 1.5, 2, 3]},\n",
        "                      cv=5,\n",
        "                      scoring='accuracy')\n",
        "\n",
        "\n",
        "svm_cv_poly.fit(X1, y1)\n",
        "print(\"Mejores hiperparámetros:\", svm_cv_poly.best_params_)\n",
        "print(\"Mejor Accuracy\", svm_cv_poly.best_score_)\n",
        "\n",
        "mejor_modelo=svm_cv_poly.best_estimator_"
      ],
      "metadata": {
        "id": "d7ytzMAOJJrD",
        "colab": {
          "base_uri": "https://localhost:8080/"
        },
        "outputId": "3d08a138-039a-4d11-c40a-aff6ef3c2a7e"
      },
      "execution_count": null,
      "outputs": [
        {
          "output_type": "stream",
          "name": "stdout",
          "text": [
            "Mejores hiperparámetros: {'svm__C': 0.05, 'svm__coef0': 3, 'svm__degree': 4}\n",
            "Mejor Accuracy 0.9700037495313086\n"
          ]
        }
      ]
    },
    {
      "cell_type": "markdown",
      "source": [
        "Testeo"
      ],
      "metadata": {
        "id": "k_vBx3oZTPJV"
      }
    },
    {
      "cell_type": "code",
      "source": [
        "# filtrar SMILES que no den error\n",
        "SMILESt = []\n",
        "for i in range(len(testeo1['canonical_smiles'])):\n",
        "  try:\n",
        "    cs = Chem.CanonSmiles(testeo1['canonical_smiles'].iloc[i])\n",
        "    SMILESt.append(cs)\n",
        "\n",
        "  except:\n",
        "    print('Invalid SMILES:',testeo1['canonical_smiles'].iloc[i],i)\n",
        "\n",
        "\n",
        "# molecules from smiles\n",
        "ms = [Chem.MolFromSmiles(smile) for smile in SMILESt]\n",
        "# number of atoms per molecule\n",
        "numb = [mol.GetNumAtoms() for mol in ms]\n",
        "# different atoms:\n",
        "C = [] # carbon\n",
        "O = [] # oxigen\n",
        "N = [] # nitrogen\n",
        "Cl=[]\n",
        "F=[]\n",
        "Br=[]\n",
        "I=[]\n",
        "\n",
        "nh2_pattern = Chem.MolFromSmarts(\"[NH2]\")\n",
        "nh2_counts = [len(mol.GetSubstructMatches(nh2_pattern)) for mol in ms]\n",
        "\n",
        "ring5_counts = []\n",
        "ring6_counts=[]\n",
        "\n",
        "\n",
        "for mol in ms:\n",
        "  c = 0\n",
        "  o = 0\n",
        "  n = 0\n",
        "  cl=0\n",
        "  f=0\n",
        "  br=0\n",
        "  i=0\n",
        "  nh2_count = 0\n",
        "  ring_info = mol.GetRingInfo()# Obtener sistemas de anillos saturados\n",
        "  ring5_count = sum(1 for ring in ring_info.AtomRings() if len(ring) == 5)  # Contar anillos de 5 carbonos\n",
        "  ring5_counts.append(ring5_count)\n",
        "  ring6= sum(1 for ring in ring_info.AtomRings()if len(ring) == 6)  # Contar anillos de 5 carbonos\n",
        "  ring6_counts.append(ring6)\n",
        "  for atom in mol.GetAtoms():\n",
        "    if atom.GetAtomicNum() == 6:\n",
        "      c += 1\n",
        "    if atom.GetAtomicNum() == 7:\n",
        "      n += 1\n",
        "    if atom.GetAtomicNum() == 8:\n",
        "      o += 1\n",
        "    if atom.GetAtomicNum() == 9:\n",
        "      f += 1\n",
        "    if atom.GetAtomicNum() == 17:\n",
        "      cl += 1\n",
        "    if atom.GetAtomicNum() == 35:\n",
        "      br += 1\n",
        "    if atom.GetAtomicNum() == 53:\n",
        "      i += 1\n",
        "\n",
        "  C.append(c)\n",
        "  O.append(o)\n",
        "  N.append(n)\n",
        "  Cl.append(cl)\n",
        "  F.append(f)\n",
        "  Br.append(br)\n",
        "  I.append(i)\n",
        "\n",
        "# molecular weight\n",
        "MolWeight = [Descriptors.ExactMolWt(mol) for mol in ms]\n",
        "# rings\n",
        "Rings = [Descriptors.RingCount(mol) for mol in ms]\n",
        "# Total polar surface area\n",
        "TPSA = [Descriptors.TPSA(mol) for mol in ms]\n",
        "# Density Morgan FP\n",
        "FpDM1 = [Descriptors.FpDensityMorgan1(mol) for mol in ms]\n",
        "# rotatable bonds\n",
        "RotBonds = [Descriptors.NumRotatableBonds(mol) for mol in ms]\n",
        "# Obtener la carga formal de la molécula\n",
        "formal_charge =[Chem.rdmolops.GetFormalCharge(mol) for mol in ms]\n",
        "# Calcular el logP (coeficiente de partición octanol-agua) de la molécula\n",
        "logp =[Descriptors.MolLogP(mol) for mol in ms]\n",
        "\n",
        "descriptorst = pd.DataFrame(list(zip(numb, C, O, N,F,Br,I,Cl, nh2_counts,ring5_counts,ring6_counts,MolWeight, Rings, TPSA, FpDM1, RotBonds,logp,formal_charge)))\n",
        "\n",
        "Activityt= testeo1['Activity'].tolist()"
      ],
      "metadata": {
        "id": "71sZVTZzNUhQ"
      },
      "execution_count": null,
      "outputs": []
    },
    {
      "cell_type": "code",
      "source": [
        "Xt = np.array(descriptorst)\n",
        "yt = np.array(Activityt)\n",
        "\n",
        "pred_cluster4 = mejor_modelo.predict(Xt)"
      ],
      "metadata": {
        "id": "jIBAligbNPFT"
      },
      "execution_count": null,
      "outputs": []
    },
    {
      "cell_type": "markdown",
      "source": [
        "###Resultados 1"
      ],
      "metadata": {
        "id": "85T2QL5OTl2c"
      }
    },
    {
      "cell_type": "code",
      "source": [
        "\n",
        "from sklearn import metrics\n",
        "from sklearn.metrics import confusion_matrix, accuracy_score, precision_score, recall_score\n",
        "\n",
        "accuracy = round(accuracy_score(yt, pred_cluster4), 3)\n",
        "precision = round(precision_score(yt,pred_cluster4, average='micro'), 3)\n",
        "recall = round(recall_score(yt, pred_cluster4, average='micro'), 3)\n",
        "f1_score = 2 * (precision * recall) / (precision + recall)\n",
        "print(f\"Exactitud (Accuracy): {accuracy}\")\n",
        "print(f\"Precisión: {precision}\")\n",
        "print(f\"Exhaustividad (Recall): {recall}\")\n",
        "print(f\"F1-Score: {f1_score}\")\n",
        "confusion_matrix(yt,pred_cluster4)"
      ],
      "metadata": {
        "id": "7HvJrWanMbjY",
        "colab": {
          "base_uri": "https://localhost:8080/"
        },
        "outputId": "0ae85879-886f-4c68-fae3-e5ec532203b8"
      },
      "execution_count": null,
      "outputs": [
        {
          "output_type": "stream",
          "name": "stdout",
          "text": [
            "Exactitud (Accuracy): 0.544\n",
            "Precisión: 0.544\n",
            "Exhaustividad (Recall): 0.544\n",
            "F1-Score: 0.544\n"
          ]
        },
        {
          "output_type": "execute_result",
          "data": {
            "text/plain": [
              "array([[14, 16],\n",
              "       [10, 17]])"
            ]
          },
          "metadata": {},
          "execution_count": 23
        }
      ]
    },
    {
      "cell_type": "code",
      "source": [
        "mostrar_resultados(yt, pred_cluster4)"
      ],
      "metadata": {
        "colab": {
          "base_uri": "https://localhost:8080/",
          "height": 882
        },
        "id": "-CGe7YAtTxT5",
        "outputId": "c38048d9-4430-4b27-dc34-187068933f2d"
      },
      "execution_count": null,
      "outputs": [
        {
          "output_type": "display_data",
          "data": {
            "text/plain": [
              "<Figure size 800x800 with 2 Axes>"
            ],
            "image/png": "[encoded data removed]"
          },
          "metadata": {}
        },
        {
          "output_type": "stream",
          "name": "stdout",
          "text": [
            "              precision    recall  f1-score   support\n",
            "\n",
            "      Active       0.58      0.47      0.52        30\n",
            "    Inactive       0.52      0.63      0.57        27\n",
            "\n",
            "    accuracy                           0.54        57\n",
            "   macro avg       0.55      0.55      0.54        57\n",
            "weighted avg       0.55      0.54      0.54        57\n",
            "\n"
          ]
        }
      ]
    },
    {
      "cell_type": "markdown",
      "source": [
        "##Entrenamiento(2) 0,1,2,4 y testeo en 3"
      ],
      "metadata": {
        "id": "wfz-sXqTI1X-"
      }
    },
    {
      "cell_type": "code",
      "source": [
        "entrenamiento2= pd.concat([cluster0,cluster1,cluster2,cluster4])\n",
        "testeo2= cluster3"
      ],
      "metadata": {
        "id": "dabJqLXIJ68d"
      },
      "execution_count": null,
      "outputs": []
    },
    {
      "cell_type": "code",
      "source": [
        "entrenamiento2[\"Activity\"].value_counts()"
      ],
      "metadata": {
        "colab": {
          "base_uri": "https://localhost:8080/"
        },
        "id": "-M5Ua9JFhr0k",
        "outputId": "0d1026f9-a41d-42a1-a0a0-c068e9ee9161"
      },
      "execution_count": null,
      "outputs": [
        {
          "output_type": "execute_result",
          "data": {
            "text/plain": [
              "Inactive    499\n",
              "Active       58\n",
              "Name: Activity, dtype: int64"
            ]
          },
          "metadata": {},
          "execution_count": 29
        }
      ]
    },
    {
      "cell_type": "code",
      "source": [
        "# filtrar SMILES que no den error\n",
        "SMILES2= []\n",
        "for i in range(len(entrenamiento2['canonical_smiles'])):\n",
        "  try:\n",
        "    cs = Chem.CanonSmiles(entrenamiento2['canonical_smiles'].iloc[i])\n",
        "    SMILES2.append(cs)\n",
        "\n",
        "  except:\n",
        "    print('Invalid SMILES:',entrenamiento2['canonical_smiles'].iloc[i],i)\n",
        "\n",
        "# molecules from smiles\n",
        "ms = [Chem.MolFromSmiles(smile) for smile in SMILES2]\n",
        "# number of atoms per molecule\n",
        "numb = [mol.GetNumAtoms() for mol in ms]\n",
        "# different atoms:\n",
        "C = [] # carbon\n",
        "O = [] # oxigen\n",
        "N = [] # nitrogen\n",
        "Cl=[]\n",
        "F=[]\n",
        "Br=[]\n",
        "I=[]\n",
        "\n",
        "nh2_pattern = Chem.MolFromSmarts(\"[NH2]\")\n",
        "nh2_counts = [len(mol.GetSubstructMatches(nh2_pattern)) for mol in ms]\n",
        "\n",
        "ring5_counts = []\n",
        "ring6_counts=[]\n",
        "\n",
        "\n",
        "for mol in ms:\n",
        "  c = 0\n",
        "  o = 0\n",
        "  n = 0\n",
        "  cl=0\n",
        "  f=0\n",
        "  br=0\n",
        "  i=0\n",
        "  nh2_count = 0\n",
        "  ring_info = mol.GetRingInfo()# Obtener sistemas de anillos saturados\n",
        "  ring5_count = sum(1 for ring in ring_info.AtomRings() if len(ring) == 5)  # Contar anillos de 5 carbonos\n",
        "  ring5_counts.append(ring5_count)\n",
        "  ring6= sum(1 for ring in ring_info.AtomRings()if len(ring) == 6)  # Contar anillos de 5 carbonos\n",
        "  ring6_counts.append(ring6)\n",
        "  for atom in mol.GetAtoms():\n",
        "    if atom.GetAtomicNum() == 6:\n",
        "      c += 1\n",
        "    if atom.GetAtomicNum() == 7:\n",
        "      n += 1\n",
        "    if atom.GetAtomicNum() == 8:\n",
        "      o += 1\n",
        "    if atom.GetAtomicNum() == 9:\n",
        "      f += 1\n",
        "    if atom.GetAtomicNum() == 17:\n",
        "      cl += 1\n",
        "    if atom.GetAtomicNum() == 35:\n",
        "      br += 1\n",
        "    if atom.GetAtomicNum() == 53:\n",
        "      i += 1\n",
        "\n",
        "  C.append(c)\n",
        "  O.append(o)\n",
        "  N.append(n)\n",
        "  Cl.append(cl)\n",
        "  F.append(f)\n",
        "  Br.append(br)\n",
        "  I.append(i)\n",
        "\n",
        "# molecular weight\n",
        "MolWeight = [Descriptors.ExactMolWt(mol) for mol in ms]\n",
        "# rings\n",
        "Rings = [Descriptors.RingCount(mol) for mol in ms]\n",
        "# Total polar surface area\n",
        "TPSA = [Descriptors.TPSA(mol) for mol in ms]\n",
        "# Density Morgan FP\n",
        "FpDM1 = [Descriptors.FpDensityMorgan1(mol) for mol in ms]\n",
        "# rotatable bonds\n",
        "RotBonds = [Descriptors.NumRotatableBonds(mol) for mol in ms]\n",
        "# Obtener la carga formal de la molécula\n",
        "formal_charge =[Chem.rdmolops.GetFormalCharge(mol) for mol in ms]\n",
        "# Calcular el logP (coeficiente de partición octanol-agua) de la molécula\n",
        "logp =[Descriptors.MolLogP(mol) for mol in ms]\n",
        "\n",
        "\n",
        "descriptors2 = pd.DataFrame(list(zip(numb, C, O, N,F,Br,I,Cl, nh2_counts,ring5_counts,ring6_counts,MolWeight, Rings, TPSA, FpDM1, RotBonds,logp,formal_charge)))\n",
        "\n",
        "Activity2= entrenamiento2['Activity'].tolist()"
      ],
      "metadata": {
        "id": "_znAvDQKUjqt"
      },
      "execution_count": null,
      "outputs": []
    },
    {
      "cell_type": "code",
      "source": [
        "from sklearn.model_selection import train_test_split\n",
        "\n",
        "X2= np.array(descriptors2)\n",
        "y2 = np.array(Activity2)\n",
        "\n",
        "from sklearn.model_selection import GridSearchCV\n",
        "from sklearn.pipeline import Pipeline\n",
        "from sklearn.svm import SVC\n",
        "\n",
        "model_poly = Pipeline([('scaler', StandardScaler()),\n",
        "                      ('svm', SVC(kernel='poly'))\n",
        "                    ])\n",
        "\n",
        "\n",
        "# empecé buscando algunos hiperparámetros genéricos y fui agregando para que los seleccionados no me queden en el borde\n",
        "# Para poder usar el gridsearch con el pipeline, tienen que usar nombreestimador__parámetro para poder usar la grilla\n",
        "svm_cv_poly = GridSearchCV(model_poly,\n",
        "                      param_grid = {'svm__degree': [2, 3, 4, 5, 6], 'svm__C': [0.025, 0.05, 0.1, 1, 10, 12],'svm__coef0': [0, 1, 1.5, 2, 3]},\n",
        "                      cv=5,\n",
        "                      scoring='accuracy')\n",
        "\n",
        "\n",
        "svm_cv_poly.fit(X2, y2)\n",
        "print(\"Mejores hiperparámetros:\", svm_cv_poly.best_params_)\n",
        "print(\"Mejor Accuracy\", svm_cv_poly.best_score_)\n",
        "\n",
        "mejor_modelo2=svm_cv_poly.best_estimator_"
      ],
      "metadata": {
        "colab": {
          "base_uri": "https://localhost:8080/"
        },
        "id": "oQUEUYEzU62d",
        "outputId": "fcd6c591-8cb5-44cb-ac4e-f821f93ddacb"
      },
      "execution_count": null,
      "outputs": [
        {
          "output_type": "stream",
          "name": "stdout",
          "text": [
            "Mejores hiperparámetros: {'svm__C': 1, 'svm__coef0': 1.5, 'svm__degree': 6}\n",
            "Mejor Accuracy 0.9048262548262549\n"
          ]
        }
      ]
    },
    {
      "cell_type": "markdown",
      "source": [
        "Testeo"
      ],
      "metadata": {
        "id": "R7bjUX4HVGki"
      }
    },
    {
      "cell_type": "code",
      "source": [
        "# filtrar SMILES que no den error\n",
        "SMILESt2 = []\n",
        "for i in range(len(testeo2['canonical_smiles'])):\n",
        "  try:\n",
        "    cs = Chem.CanonSmiles(testeo2['canonical_smiles'].iloc[i])\n",
        "    SMILESt2.append(cs)\n",
        "\n",
        "  except:\n",
        "    print('Invalid SMILES:',testeo2['canonical_smiles'].iloc[i],i)\n",
        "\n",
        "\n",
        "# molecules from smiles\n",
        "ms = [Chem.MolFromSmiles(smile) for smile in SMILESt2]\n",
        "# number of atoms per molecule\n",
        "numb = [mol.GetNumAtoms() for mol in ms]\n",
        "# different atoms:\n",
        "C = [] # carbon\n",
        "O = [] # oxigen\n",
        "N = [] # nitrogen\n",
        "Cl=[]\n",
        "F=[]\n",
        "Br=[]\n",
        "I=[]\n",
        "\n",
        "nh2_pattern = Chem.MolFromSmarts(\"[NH2]\")\n",
        "nh2_counts = [len(mol.GetSubstructMatches(nh2_pattern)) for mol in ms]\n",
        "\n",
        "ring5_counts = []\n",
        "ring6_counts=[]\n",
        "\n",
        "\n",
        "for mol in ms:\n",
        "  c = 0\n",
        "  o = 0\n",
        "  n = 0\n",
        "  cl=0\n",
        "  f=0\n",
        "  br=0\n",
        "  i=0\n",
        "  nh2_count = 0\n",
        "  ring_info = mol.GetRingInfo()# Obtener sistemas de anillos saturados\n",
        "  ring5_count = sum(1 for ring in ring_info.AtomRings() if len(ring) == 5)  # Contar anillos de 5 carbonos\n",
        "  ring5_counts.append(ring5_count)\n",
        "  ring6= sum(1 for ring in ring_info.AtomRings()if len(ring) == 6)  # Contar anillos de 5 carbonos\n",
        "  ring6_counts.append(ring6)\n",
        "  for atom in mol.GetAtoms():\n",
        "    if atom.GetAtomicNum() == 6:\n",
        "      c += 1\n",
        "    if atom.GetAtomicNum() == 7:\n",
        "      n += 1\n",
        "    if atom.GetAtomicNum() == 8:\n",
        "      o += 1\n",
        "    if atom.GetAtomicNum() == 9:\n",
        "      f += 1\n",
        "    if atom.GetAtomicNum() == 17:\n",
        "      cl += 1\n",
        "    if atom.GetAtomicNum() == 35:\n",
        "      br += 1\n",
        "    if atom.GetAtomicNum() == 53:\n",
        "      i += 1\n",
        "\n",
        "  C.append(c)\n",
        "  O.append(o)\n",
        "  N.append(n)\n",
        "  Cl.append(cl)\n",
        "  F.append(f)\n",
        "  Br.append(br)\n",
        "  I.append(i)\n",
        "\n",
        "# molecular weight\n",
        "MolWeight = [Descriptors.ExactMolWt(mol) for mol in ms]\n",
        "# rings\n",
        "Rings = [Descriptors.RingCount(mol) for mol in ms]\n",
        "# Total polar surface area\n",
        "TPSA = [Descriptors.TPSA(mol) for mol in ms]\n",
        "# Density Morgan FP\n",
        "FpDM1 = [Descriptors.FpDensityMorgan1(mol) for mol in ms]\n",
        "# rotatable bonds\n",
        "RotBonds = [Descriptors.NumRotatableBonds(mol) for mol in ms]\n",
        "# Obtener la carga formal de la molécula\n",
        "formal_charge =[Chem.rdmolops.GetFormalCharge(mol) for mol in ms]\n",
        "# Calcular el logP (coeficiente de partición octanol-agua) de la molécula\n",
        "logp =[Descriptors.MolLogP(mol) for mol in ms]\n",
        "\n",
        "descriptorst2 = pd.DataFrame(list(zip(numb, C, O, N,F,Br,I,Cl, nh2_counts,ring5_counts,ring6_counts,MolWeight, Rings, TPSA, FpDM1, RotBonds,logp,formal_charge)))\n",
        "\n",
        "Activityt2= testeo2['Activity'].tolist()"
      ],
      "metadata": {
        "id": "W6SoOQMyVHwS"
      },
      "execution_count": null,
      "outputs": []
    },
    {
      "cell_type": "code",
      "source": [
        "Xt2 = np.array(descriptorst2)\n",
        "yt2 = np.array(Activityt2)\n",
        "\n",
        "pred_cluster3= mejor_modelo2.predict(Xt2)"
      ],
      "metadata": {
        "id": "T3IwkgFsVRJB"
      },
      "execution_count": null,
      "outputs": []
    },
    {
      "cell_type": "markdown",
      "source": [
        "###Restultados 2"
      ],
      "metadata": {
        "id": "8S51T94QVVXh"
      }
    },
    {
      "cell_type": "code",
      "source": [
        "\n",
        "from sklearn import metrics\n",
        "from sklearn.metrics import confusion_matrix, accuracy_score, precision_score, recall_score\n",
        "\n",
        "accuracy = round(accuracy_score(yt2, pred_cluster3), 3)\n",
        "precision = round(precision_score(yt2,pred_cluster3, average='micro'), 3)\n",
        "recall = round(recall_score(yt2, pred_cluster3, average='micro'), 3)\n",
        "f1_score = 2 * (precision * recall) / (precision + recall)\n",
        "print(f\"Exactitud (Accuracy): {accuracy}\")\n",
        "print(f\"Precisión: {precision}\")\n",
        "print(f\"Exhaustividad (Recall): {recall}\")\n",
        "print(f\"F1-Score: {f1_score}\")\n",
        "confusion_matrix(yt2,pred_cluster3)"
      ],
      "metadata": {
        "colab": {
          "base_uri": "https://localhost:8080/"
        },
        "id": "YW4QEQU8VUvi",
        "outputId": "854474a4-6562-448c-f6b4-787cc39112f6"
      },
      "execution_count": null,
      "outputs": [
        {
          "output_type": "stream",
          "name": "stdout",
          "text": [
            "Exactitud (Accuracy): 0.985\n",
            "Precisión: 0.985\n",
            "Exhaustividad (Recall): 0.985\n",
            "F1-Score: 0.985\n"
          ]
        },
        {
          "output_type": "execute_result",
          "data": {
            "text/plain": [
              "array([[  5,   0],\n",
              "       [  2, 126]])"
            ]
          },
          "metadata": {},
          "execution_count": 34
        }
      ]
    },
    {
      "cell_type": "code",
      "source": [
        "mostrar_resultados(yt2, pred_cluster3)"
      ],
      "metadata": {
        "colab": {
          "base_uri": "https://localhost:8080/",
          "height": 882
        },
        "id": "Fdo_JpcDWLxq",
        "outputId": "c41a53d1-b553-4549-eb75-17c71f12a78a"
      },
      "execution_count": null,
      "outputs": [
        {
          "output_type": "display_data",
          "data": {
            "text/plain": [
              "<Figure size 800x800 with 2 Axes>"
            ],
            "image/png": "[encoded data removed]"
          },
          "metadata": {}
        },
        {
          "output_type": "stream",
          "name": "stdout",
          "text": [
            "              precision    recall  f1-score   support\n",
            "\n",
            "      Active       0.71      1.00      0.83         5\n",
            "    Inactive       1.00      0.98      0.99       128\n",
            "\n",
            "    accuracy                           0.98       133\n",
            "   macro avg       0.86      0.99      0.91       133\n",
            "weighted avg       0.99      0.98      0.99       133\n",
            "\n"
          ]
        }
      ]
    },
    {
      "cell_type": "markdown",
      "source": [
        "##Entrenamiento(3) 0,1,3,4 y testeo en 2"
      ],
      "metadata": {
        "id": "knqe4BdMI1uK"
      }
    },
    {
      "cell_type": "code",
      "source": [
        "entrenamiento3= pd.concat([cluster0,cluster1,cluster4,cluster3])\n",
        "testeo3= cluster2"
      ],
      "metadata": {
        "id": "r2yqSrMqJ7bg"
      },
      "execution_count": null,
      "outputs": []
    },
    {
      "cell_type": "code",
      "source": [
        "entrenamiento3[\"Activity\"].value_counts()"
      ],
      "metadata": {
        "id": "UUwbFoKjXK9R",
        "colab": {
          "base_uri": "https://localhost:8080/"
        },
        "outputId": "d37ae166-19b5-4617-b682-c7af387f41a6"
      },
      "execution_count": null,
      "outputs": [
        {
          "output_type": "execute_result",
          "data": {
            "text/plain": [
              "Inactive    452\n",
              "Active       54\n",
              "Name: Activity, dtype: int64"
            ]
          },
          "metadata": {},
          "execution_count": 37
        }
      ]
    },
    {
      "cell_type": "code",
      "source": [
        "# filtrar SMILES que no den error\n",
        "SMILES3= []\n",
        "for i in range(len(entrenamiento3['canonical_smiles'])):\n",
        "  try:\n",
        "    cs = Chem.CanonSmiles(entrenamiento3['canonical_smiles'].iloc[i])\n",
        "    SMILES3.append(cs)\n",
        "\n",
        "  except:\n",
        "    print('Invalid SMILES:',entrenamiento3['canonical_smiles'].iloc[i],i)\n",
        "\n",
        "# molecules from smiles\n",
        "ms = [Chem.MolFromSmiles(smile) for smile in SMILES3]\n",
        "# number of atoms per molecule\n",
        "numb = [mol.GetNumAtoms() for mol in ms]\n",
        "# different atoms:\n",
        "C = [] # carbon\n",
        "O = [] # oxigen\n",
        "N = [] # nitrogen\n",
        "Cl=[]\n",
        "F=[]\n",
        "Br=[]\n",
        "I=[]\n",
        "\n",
        "nh2_pattern = Chem.MolFromSmarts(\"[NH2]\")\n",
        "nh2_counts = [len(mol.GetSubstructMatches(nh2_pattern)) for mol in ms]\n",
        "\n",
        "ring5_counts = []\n",
        "ring6_counts=[]\n",
        "\n",
        "\n",
        "for mol in ms:\n",
        "  c = 0\n",
        "  o = 0\n",
        "  n = 0\n",
        "  cl=0\n",
        "  f=0\n",
        "  br=0\n",
        "  i=0\n",
        "  nh2_count = 0\n",
        "  ring_info = mol.GetRingInfo()# Obtener sistemas de anillos saturados\n",
        "  ring5_count = sum(1 for ring in ring_info.AtomRings() if len(ring) == 5)  # Contar anillos de 5 carbonos\n",
        "  ring5_counts.append(ring5_count)\n",
        "  ring6= sum(1 for ring in ring_info.AtomRings()if len(ring) == 6)  # Contar anillos de 5 carbonos\n",
        "  ring6_counts.append(ring6)\n",
        "  for atom in mol.GetAtoms():\n",
        "    if atom.GetAtomicNum() == 6:\n",
        "      c += 1\n",
        "    if atom.GetAtomicNum() == 7:\n",
        "      n += 1\n",
        "    if atom.GetAtomicNum() == 8:\n",
        "      o += 1\n",
        "    if atom.GetAtomicNum() == 9:\n",
        "      f += 1\n",
        "    if atom.GetAtomicNum() == 17:\n",
        "      cl += 1\n",
        "    if atom.GetAtomicNum() == 35:\n",
        "      br += 1\n",
        "    if atom.GetAtomicNum() == 53:\n",
        "      i += 1\n",
        "\n",
        "  C.append(c)\n",
        "  O.append(o)\n",
        "  N.append(n)\n",
        "  Cl.append(cl)\n",
        "  F.append(f)\n",
        "  Br.append(br)\n",
        "  I.append(i)\n",
        "\n",
        "# molecular weight\n",
        "MolWeight = [Descriptors.ExactMolWt(mol) for mol in ms]\n",
        "# rings\n",
        "Rings = [Descriptors.RingCount(mol) for mol in ms]\n",
        "# Total polar surface area\n",
        "TPSA = [Descriptors.TPSA(mol) for mol in ms]\n",
        "# Density Morgan FP\n",
        "FpDM1 = [Descriptors.FpDensityMorgan1(mol) for mol in ms]\n",
        "# rotatable bonds\n",
        "RotBonds = [Descriptors.NumRotatableBonds(mol) for mol in ms]\n",
        "# Obtener la carga formal de la molécula\n",
        "formal_charge =[Chem.rdmolops.GetFormalCharge(mol) for mol in ms]\n",
        "# Calcular el logP (coeficiente de partición octanol-agua) de la molécula\n",
        "logp =[Descriptors.MolLogP(mol) for mol in ms]\n",
        "\n",
        "\n",
        "descriptors3 = pd.DataFrame(list(zip(numb, C, O, N,F,Br,I,Cl, nh2_counts,ring5_counts,ring6_counts,MolWeight, Rings, TPSA, FpDM1, RotBonds,logp,formal_charge)))\n",
        "\n",
        "Activity3= entrenamiento3['Activity'].tolist()"
      ],
      "metadata": {
        "id": "_VVReIKzXLOh"
      },
      "execution_count": null,
      "outputs": []
    },
    {
      "cell_type": "code",
      "source": [
        "from sklearn.model_selection import train_test_split\n",
        "\n",
        "X3= np.array(descriptors3)\n",
        "y3 = np.array(Activity3)\n",
        "\n",
        "from sklearn.model_selection import GridSearchCV\n",
        "from sklearn.pipeline import Pipeline\n",
        "from sklearn.svm import SVC\n",
        "\n",
        "model_poly = Pipeline([('scaler', StandardScaler()),\n",
        "                      ('svm', SVC(kernel='poly'))\n",
        "                    ])\n",
        "\n",
        "\n",
        "# empecé buscando algunos hiperparámetros genéricos y fui agregando para que los seleccionados no me queden en el borde\n",
        "# Para poder usar el gridsearch con el pipeline, tienen que usar nombreestimador__parámetro para poder usar la grilla\n",
        "svm_cv_poly = GridSearchCV(model_poly,\n",
        "                      param_grid = {'svm__degree': [2, 3, 4, 5, 6], 'svm__C': [0.025, 0.05, 0.1, 1, 10, 12],'svm__coef0': [0, 1, 1.5, 2, 3]},\n",
        "                      cv=5,\n",
        "                      scoring='accuracy')\n",
        "\n",
        "\n",
        "svm_cv_poly.fit(X3, y3)\n",
        "print(\"Mejores hiperparámetros:\", svm_cv_poly.best_params_)\n",
        "print(\"Mejor Accuracy\", svm_cv_poly.best_score_)\n",
        "\n",
        "mejor_modelo3=svm_cv_poly.best_estimator_"
      ],
      "metadata": {
        "colab": {
          "base_uri": "https://localhost:8080/"
        },
        "id": "x-974F1OXW6v",
        "outputId": "29acb224-4250-4979-e7d1-d7a636d0c885"
      },
      "execution_count": null,
      "outputs": [
        {
          "output_type": "stream",
          "name": "stdout",
          "text": [
            "Mejores hiperparámetros: {'svm__C': 0.1, 'svm__coef0': 0, 'svm__degree': 2}\n",
            "Mejor Accuracy 0.9091244418559503\n"
          ]
        }
      ]
    },
    {
      "cell_type": "markdown",
      "source": [
        "Testeo"
      ],
      "metadata": {
        "id": "lpx5QmRUXqCd"
      }
    },
    {
      "cell_type": "code",
      "source": [],
      "metadata": {
        "id": "E3ftpNGiXrl9"
      },
      "execution_count": null,
      "outputs": []
    },
    {
      "cell_type": "code",
      "source": [
        "# filtrar SMILES que no den error\n",
        "SMILESt3 = []\n",
        "for i in range(len(testeo3['canonical_smiles'])):\n",
        "  try:\n",
        "    cs = Chem.CanonSmiles(testeo3['canonical_smiles'].iloc[i])\n",
        "    SMILESt3.append(cs)\n",
        "\n",
        "  except:\n",
        "    print('Invalid SMILES:',testeo3['canonical_smiles'].iloc[i],i)\n",
        "\n",
        "\n",
        "# molecules from smiles\n",
        "ms = [Chem.MolFromSmiles(smile) for smile in SMILESt3]\n",
        "# number of atoms per molecule\n",
        "numb = [mol.GetNumAtoms() for mol in ms]\n",
        "# different atoms:\n",
        "C = [] # carbon\n",
        "O = [] # oxigen\n",
        "N = [] # nitrogen\n",
        "Cl=[]\n",
        "F=[]\n",
        "Br=[]\n",
        "I=[]\n",
        "\n",
        "nh2_pattern = Chem.MolFromSmarts(\"[NH2]\")\n",
        "nh2_counts = [len(mol.GetSubstructMatches(nh2_pattern)) for mol in ms]\n",
        "\n",
        "ring5_counts = []\n",
        "ring6_counts=[]\n",
        "\n",
        "\n",
        "for mol in ms:\n",
        "  c = 0\n",
        "  o = 0\n",
        "  n = 0\n",
        "  cl=0\n",
        "  f=0\n",
        "  br=0\n",
        "  i=0\n",
        "  nh2_count = 0\n",
        "  ring_info = mol.GetRingInfo()# Obtener sistemas de anillos saturados\n",
        "  ring5_count = sum(1 for ring in ring_info.AtomRings() if len(ring) == 5)  # Contar anillos de 5 carbonos\n",
        "  ring5_counts.append(ring5_count)\n",
        "  ring6= sum(1 for ring in ring_info.AtomRings()if len(ring) == 6)  # Contar anillos de 5 carbonos\n",
        "  ring6_counts.append(ring6)\n",
        "  for atom in mol.GetAtoms():\n",
        "    if atom.GetAtomicNum() == 6:\n",
        "      c += 1\n",
        "    if atom.GetAtomicNum() == 7:\n",
        "      n += 1\n",
        "    if atom.GetAtomicNum() == 8:\n",
        "      o += 1\n",
        "    if atom.GetAtomicNum() == 9:\n",
        "      f += 1\n",
        "    if atom.GetAtomicNum() == 17:\n",
        "      cl += 1\n",
        "    if atom.GetAtomicNum() == 35:\n",
        "      br += 1\n",
        "    if atom.GetAtomicNum() == 53:\n",
        "      i += 1\n",
        "\n",
        "  C.append(c)\n",
        "  O.append(o)\n",
        "  N.append(n)\n",
        "  Cl.append(cl)\n",
        "  F.append(f)\n",
        "  Br.append(br)\n",
        "  I.append(i)\n",
        "\n",
        "# molecular weight\n",
        "MolWeight = [Descriptors.ExactMolWt(mol) for mol in ms]\n",
        "# rings\n",
        "Rings = [Descriptors.RingCount(mol) for mol in ms]\n",
        "# Total polar surface area\n",
        "TPSA = [Descriptors.TPSA(mol) for mol in ms]\n",
        "# Density Morgan FP\n",
        "FpDM1 = [Descriptors.FpDensityMorgan1(mol) for mol in ms]\n",
        "# rotatable bonds\n",
        "RotBonds = [Descriptors.NumRotatableBonds(mol) for mol in ms]\n",
        "# Obtener la carga formal de la molécula\n",
        "formal_charge =[Chem.rdmolops.GetFormalCharge(mol) for mol in ms]\n",
        "# Calcular el logP (coeficiente de partición octanol-agua) de la molécula\n",
        "logp =[Descriptors.MolLogP(mol) for mol in ms]\n",
        "\n",
        "descriptorst3 = pd.DataFrame(list(zip(numb, C, O, N,F,Br,I,Cl, nh2_counts,ring5_counts,ring6_counts,MolWeight, Rings, TPSA, FpDM1, RotBonds,logp,formal_charge)))\n",
        "\n",
        "Activityt3= testeo3['Activity'].tolist()"
      ],
      "metadata": {
        "id": "wyqjaNpbXr0r"
      },
      "execution_count": null,
      "outputs": []
    },
    {
      "cell_type": "code",
      "source": [
        "Xt3 = np.array(descriptorst3)\n",
        "yt3 = np.array(Activityt3)\n",
        "\n",
        "pred_cluster2= mejor_modelo3.predict(Xt3)"
      ],
      "metadata": {
        "id": "LM-GVLN0YA6D"
      },
      "execution_count": null,
      "outputs": []
    },
    {
      "cell_type": "code",
      "source": [
        "\n",
        "from sklearn import metrics\n",
        "from sklearn.metrics import confusion_matrix, accuracy_score, precision_score, recall_score\n",
        "\n",
        "accuracy = round(accuracy_score(yt3,pred_cluster2), 3)\n",
        "precision = round(precision_score(yt3,pred_cluster2, average='micro'), 3)\n",
        "recall = round(recall_score(yt3, pred_cluster2, average='micro'), 3)\n",
        "f1_score = 2 * (precision * recall) / (precision + recall)\n",
        "print(f\"Exactitud (Accuracy): {accuracy}\")\n",
        "print(f\"Precisión: {precision}\")\n",
        "print(f\"Exhaustividad (Recall): {recall}\")\n",
        "print(f\"F1-Score: {f1_score}\")\n",
        "confusion_matrix(yt3,pred_cluster2)"
      ],
      "metadata": {
        "colab": {
          "base_uri": "https://localhost:8080/"
        },
        "id": "YBFS59f-YKU2",
        "outputId": "e1aae228-0035-4c47-bb2a-6bab9c7a4547"
      },
      "execution_count": null,
      "outputs": [
        {
          "output_type": "stream",
          "name": "stdout",
          "text": [
            "Exactitud (Accuracy): 0.957\n",
            "Precisión: 0.957\n",
            "Exhaustividad (Recall): 0.957\n",
            "F1-Score: 0.957\n"
          ]
        },
        {
          "output_type": "execute_result",
          "data": {
            "text/plain": [
              "array([[  1,   8],\n",
              "       [  0, 175]])"
            ]
          },
          "metadata": {},
          "execution_count": 42
        }
      ]
    },
    {
      "cell_type": "markdown",
      "source": [
        "### Restultados 3"
      ],
      "metadata": {
        "id": "7mvijLdCYw_J"
      }
    },
    {
      "cell_type": "code",
      "source": [
        "mostrar_resultados(yt3, pred_cluster2)"
      ],
      "metadata": {
        "colab": {
          "base_uri": "https://localhost:8080/",
          "height": 882
        },
        "id": "DSTA4tOKYzJ9",
        "outputId": "779fec80-7f2c-4e17-d9d2-b00a658b38e5"
      },
      "execution_count": null,
      "outputs": [
        {
          "output_type": "display_data",
          "data": {
            "text/plain": [
              "<Figure size 800x800 with 2 Axes>"
            ],
            "image/png": "[encoded data removed]"
          },
          "metadata": {}
        },
        {
          "output_type": "stream",
          "name": "stdout",
          "text": [
            "              precision    recall  f1-score   support\n",
            "\n",
            "      Active       1.00      0.11      0.20         9\n",
            "    Inactive       0.96      1.00      0.98       175\n",
            "\n",
            "    accuracy                           0.96       184\n",
            "   macro avg       0.98      0.56      0.59       184\n",
            "weighted avg       0.96      0.96      0.94       184\n",
            "\n"
          ]
        }
      ]
    },
    {
      "cell_type": "markdown",
      "source": [
        "##Entrenamiento (4) 0,2,3,4 y testeo en 1"
      ],
      "metadata": {
        "id": "mapf1VoXI17_"
      }
    },
    {
      "cell_type": "code",
      "source": [
        "entrenamiento4= pd.concat([cluster0,cluster4,cluster2,cluster3])\n",
        "testeo4= cluster1"
      ],
      "metadata": {
        "id": "Gtja21JxJ76I"
      },
      "execution_count": null,
      "outputs": []
    },
    {
      "cell_type": "code",
      "source": [
        "entrenamiento4[\"Activity\"].value_counts()"
      ],
      "metadata": {
        "id": "fgeayQVWZOHs",
        "colab": {
          "base_uri": "https://localhost:8080/"
        },
        "outputId": "5c1e65a1-c78f-455f-98a1-f601929dbefe"
      },
      "execution_count": null,
      "outputs": [
        {
          "output_type": "execute_result",
          "data": {
            "text/plain": [
              "Inactive    532\n",
              "Active       57\n",
              "Name: Activity, dtype: int64"
            ]
          },
          "metadata": {},
          "execution_count": 47
        }
      ]
    },
    {
      "cell_type": "code",
      "source": [
        "# filtrar SMILES que no den error\n",
        "SMILES4= []\n",
        "for i in range(len(entrenamiento4['canonical_smiles'])):\n",
        "  try:\n",
        "    cs = Chem.CanonSmiles(entrenamiento4['canonical_smiles'].iloc[i])\n",
        "    SMILES4.append(cs)\n",
        "\n",
        "  except:\n",
        "    print('Invalid SMILES:',entrenamiento4['canonical_smiles'].iloc[i],i)\n",
        "\n",
        "# molecules from smiles\n",
        "ms = [Chem.MolFromSmiles(smile) for smile in SMILES4]\n",
        "# number of atoms per molecule\n",
        "numb = [mol.GetNumAtoms() for mol in ms]\n",
        "# different atoms:\n",
        "C = [] # carbon\n",
        "O = [] # oxigen\n",
        "N = [] # nitrogen\n",
        "Cl=[]\n",
        "F=[]\n",
        "Br=[]\n",
        "I=[]\n",
        "\n",
        "nh2_pattern = Chem.MolFromSmarts(\"[NH2]\")\n",
        "nh2_counts = [len(mol.GetSubstructMatches(nh2_pattern)) for mol in ms]\n",
        "\n",
        "ring5_counts = []\n",
        "ring6_counts=[]\n",
        "\n",
        "\n",
        "for mol in ms:\n",
        "  c = 0\n",
        "  o = 0\n",
        "  n = 0\n",
        "  cl=0\n",
        "  f=0\n",
        "  br=0\n",
        "  i=0\n",
        "  nh2_count = 0\n",
        "  ring_info = mol.GetRingInfo()# Obtener sistemas de anillos saturados\n",
        "  ring5_count = sum(1 for ring in ring_info.AtomRings() if len(ring) == 5)  # Contar anillos de 5 carbonos\n",
        "  ring5_counts.append(ring5_count)\n",
        "  ring6= sum(1 for ring in ring_info.AtomRings()if len(ring) == 6)  # Contar anillos de 5 carbonos\n",
        "  ring6_counts.append(ring6)\n",
        "  for atom in mol.GetAtoms():\n",
        "    if atom.GetAtomicNum() == 6:\n",
        "      c += 1\n",
        "    if atom.GetAtomicNum() == 7:\n",
        "      n += 1\n",
        "    if atom.GetAtomicNum() == 8:\n",
        "      o += 1\n",
        "    if atom.GetAtomicNum() == 9:\n",
        "      f += 1\n",
        "    if atom.GetAtomicNum() == 17:\n",
        "      cl += 1\n",
        "    if atom.GetAtomicNum() == 35:\n",
        "      br += 1\n",
        "    if atom.GetAtomicNum() == 53:\n",
        "      i += 1\n",
        "\n",
        "  C.append(c)\n",
        "  O.append(o)\n",
        "  N.append(n)\n",
        "  Cl.append(cl)\n",
        "  F.append(f)\n",
        "  Br.append(br)\n",
        "  I.append(i)\n",
        "\n",
        "# molecular weight\n",
        "MolWeight = [Descriptors.ExactMolWt(mol) for mol in ms]\n",
        "# rings\n",
        "Rings = [Descriptors.RingCount(mol) for mol in ms]\n",
        "# Total polar surface area\n",
        "TPSA = [Descriptors.TPSA(mol) for mol in ms]\n",
        "# Density Morgan FP\n",
        "FpDM1 = [Descriptors.FpDensityMorgan1(mol) for mol in ms]\n",
        "# rotatable bonds\n",
        "RotBonds = [Descriptors.NumRotatableBonds(mol) for mol in ms]\n",
        "# Obtener la carga formal de la molécula\n",
        "formal_charge =[Chem.rdmolops.GetFormalCharge(mol) for mol in ms]\n",
        "# Calcular el logP (coeficiente de partición octanol-agua) de la molécula\n",
        "logp =[Descriptors.MolLogP(mol) for mol in ms]\n",
        "\n",
        "\n",
        "descriptors4 = pd.DataFrame(list(zip(numb, C, O, N,F,Br,I,Cl, nh2_counts,ring5_counts,ring6_counts,MolWeight, Rings, TPSA, FpDM1, RotBonds,logp,formal_charge)))\n",
        "\n",
        "Activity4= entrenamiento4['Activity'].tolist()"
      ],
      "metadata": {
        "id": "8ypKt5EEZObT"
      },
      "execution_count": null,
      "outputs": []
    },
    {
      "cell_type": "code",
      "source": [],
      "metadata": {
        "id": "XsGdRHjYZgJv"
      },
      "execution_count": null,
      "outputs": []
    },
    {
      "cell_type": "code",
      "source": [
        "from sklearn.model_selection import train_test_split\n",
        "\n",
        "X4= np.array(descriptors4)\n",
        "y4 = np.array(Activity4)\n",
        "\n",
        "from sklearn.model_selection import GridSearchCV\n",
        "from sklearn.pipeline import Pipeline\n",
        "from sklearn.svm import SVC\n",
        "\n",
        "model_poly = Pipeline([('scaler', StandardScaler()),\n",
        "                      ('svm', SVC(kernel='poly'))\n",
        "                    ])\n",
        "\n",
        "\n",
        "# empecé buscando algunos hiperparámetros genéricos y fui agregando para que los seleccionados no me queden en el borde\n",
        "# Para poder usar el gridsearch con el pipeline, tienen que usar nombreestimador__parámetro para poder usar la grilla\n",
        "svm_cv_poly = GridSearchCV(model_poly,\n",
        "                      param_grid = {'svm__degree': [2, 3, 4, 5, 6], 'svm__C': [0.025, 0.05, 0.1, 1, 10, 12],'svm__coef0': [0, 1, 1.5, 2, 3]},\n",
        "                      cv=5,\n",
        "                      scoring='accuracy')\n",
        "\n",
        "\n",
        "svm_cv_poly.fit(X4, y4)\n",
        "print(\"Mejores hiperparámetros:\", svm_cv_poly.best_params_)\n",
        "print(\"Mejor Accuracy\", svm_cv_poly.best_score_)\n",
        "\n",
        "mejor_modelo4=svm_cv_poly.best_estimator_"
      ],
      "metadata": {
        "colab": {
          "base_uri": "https://localhost:8080/"
        },
        "outputId": "2fa565ef-9da8-46ac-a723-88d523124c61",
        "id": "4lb3ILcGZgfN"
      },
      "execution_count": null,
      "outputs": [
        {
          "output_type": "stream",
          "name": "stdout",
          "text": [
            "Mejores hiperparámetros: {'svm__C': 0.1, 'svm__coef0': 1.5, 'svm__degree': 3}\n",
            "Mejor Accuracy 0.9439663914240185\n"
          ]
        }
      ]
    },
    {
      "cell_type": "markdown",
      "source": [
        "Testeo"
      ],
      "metadata": {
        "id": "Rd1-mFQbZyi4"
      }
    },
    {
      "cell_type": "code",
      "source": [],
      "metadata": {
        "id": "9DX3WnQXZzy9"
      },
      "execution_count": null,
      "outputs": []
    },
    {
      "cell_type": "code",
      "source": [
        "# filtrar SMILES que no den error\n",
        "SMILESt4 = []\n",
        "for i in range(len(testeo4['canonical_smiles'])):\n",
        "  try:\n",
        "    cs = Chem.CanonSmiles(testeo4['canonical_smiles'].iloc[i])\n",
        "    SMILESt4.append(cs)\n",
        "\n",
        "  except:\n",
        "    print('Invalid SMILES:',testeo4['canonical_smiles'].iloc[i],i)\n",
        "\n",
        "\n",
        "# molecules from smiles\n",
        "ms = [Chem.MolFromSmiles(smile) for smile in SMILESt4]\n",
        "# number of atoms per molecule\n",
        "numb = [mol.GetNumAtoms() for mol in ms]\n",
        "# different atoms:\n",
        "C = [] # carbon\n",
        "O = [] # oxigen\n",
        "N = [] # nitrogen\n",
        "Cl=[]\n",
        "F=[]\n",
        "Br=[]\n",
        "I=[]\n",
        "\n",
        "nh2_pattern = Chem.MolFromSmarts(\"[NH2]\")\n",
        "nh2_counts = [len(mol.GetSubstructMatches(nh2_pattern)) for mol in ms]\n",
        "\n",
        "ring5_counts = []\n",
        "ring6_counts=[]\n",
        "\n",
        "\n",
        "for mol in ms:\n",
        "  c = 0\n",
        "  o = 0\n",
        "  n = 0\n",
        "  cl=0\n",
        "  f=0\n",
        "  br=0\n",
        "  i=0\n",
        "  nh2_count = 0\n",
        "  ring_info = mol.GetRingInfo()# Obtener sistemas de anillos saturados\n",
        "  ring5_count = sum(1 for ring in ring_info.AtomRings() if len(ring) == 5)  # Contar anillos de 5 carbonos\n",
        "  ring5_counts.append(ring5_count)\n",
        "  ring6= sum(1 for ring in ring_info.AtomRings()if len(ring) == 6)  # Contar anillos de 5 carbonos\n",
        "  ring6_counts.append(ring6)\n",
        "  for atom in mol.GetAtoms():\n",
        "    if atom.GetAtomicNum() == 6:\n",
        "      c += 1\n",
        "    if atom.GetAtomicNum() == 7:\n",
        "      n += 1\n",
        "    if atom.GetAtomicNum() == 8:\n",
        "      o += 1\n",
        "    if atom.GetAtomicNum() == 9:\n",
        "      f += 1\n",
        "    if atom.GetAtomicNum() == 17:\n",
        "      cl += 1\n",
        "    if atom.GetAtomicNum() == 35:\n",
        "      br += 1\n",
        "    if atom.GetAtomicNum() == 53:\n",
        "      i += 1\n",
        "\n",
        "  C.append(c)\n",
        "  O.append(o)\n",
        "  N.append(n)\n",
        "  Cl.append(cl)\n",
        "  F.append(f)\n",
        "  Br.append(br)\n",
        "  I.append(i)\n",
        "\n",
        "# molecular weight\n",
        "MolWeight = [Descriptors.ExactMolWt(mol) for mol in ms]\n",
        "# rings\n",
        "Rings = [Descriptors.RingCount(mol) for mol in ms]\n",
        "# Total polar surface area\n",
        "TPSA = [Descriptors.TPSA(mol) for mol in ms]\n",
        "# Density Morgan FP\n",
        "FpDM1 = [Descriptors.FpDensityMorgan1(mol) for mol in ms]\n",
        "# rotatable bonds\n",
        "RotBonds = [Descriptors.NumRotatableBonds(mol) for mol in ms]\n",
        "# Obtener la carga formal de la molécula\n",
        "formal_charge =[Chem.rdmolops.GetFormalCharge(mol) for mol in ms]\n",
        "# Calcular el logP (coeficiente de partición octanol-agua) de la molécula\n",
        "logp =[Descriptors.MolLogP(mol) for mol in ms]\n",
        "\n",
        "descriptorst4= pd.DataFrame(list(zip(numb, C, O, N,F,Br,I,Cl, nh2_counts,ring5_counts,ring6_counts,MolWeight, Rings, TPSA, FpDM1, RotBonds,logp,formal_charge)))\n",
        "\n",
        "Activityt4= testeo4['Activity'].tolist()"
      ],
      "metadata": {
        "id": "mzdQ-zYXZ0Bl"
      },
      "execution_count": null,
      "outputs": []
    },
    {
      "cell_type": "code",
      "source": [
        "Xt4 = np.array(descriptorst4)\n",
        "yt4 = np.array(Activityt4)\n",
        "\n",
        "pred_cluster1= mejor_modelo3.predict(Xt4)"
      ],
      "metadata": {
        "id": "wqkxWvN6aD3j"
      },
      "execution_count": null,
      "outputs": []
    },
    {
      "cell_type": "code",
      "source": [
        "\n",
        "from sklearn import metrics\n",
        "from sklearn.metrics import confusion_matrix, accuracy_score, precision_score, recall_score\n",
        "\n",
        "accuracy = round(accuracy_score(yt4,pred_cluster1), 3)\n",
        "precision = round(precision_score(yt4,pred_cluster1, average='micro'), 3)\n",
        "recall = round(recall_score(yt4, pred_cluster1, average='micro'), 3)\n",
        "f1_score = 2 * (precision * recall) / (precision + recall)\n",
        "print(f\"Exactitud (Accuracy): {accuracy}\")\n",
        "print(f\"Precisión: {precision}\")\n",
        "print(f\"Exhaustividad (Recall): {recall}\")\n",
        "print(f\"F1-Score: {f1_score}\")\n",
        "confusion_matrix(yt4,pred_cluster1)"
      ],
      "metadata": {
        "colab": {
          "base_uri": "https://localhost:8080/"
        },
        "id": "PLK73KSJaN2l",
        "outputId": "e3aebfa2-286b-459b-8d65-c2acd353a008"
      },
      "execution_count": null,
      "outputs": [
        {
          "output_type": "stream",
          "name": "stdout",
          "text": [
            "Exactitud (Accuracy): 0.941\n",
            "Precisión: 0.941\n",
            "Exhaustividad (Recall): 0.941\n",
            "F1-Score: 0.941\n"
          ]
        },
        {
          "output_type": "execute_result",
          "data": {
            "text/plain": [
              "array([[ 0,  6],\n",
              "       [ 0, 95]])"
            ]
          },
          "metadata": {},
          "execution_count": 52
        }
      ]
    },
    {
      "cell_type": "markdown",
      "source": [
        "###Resutados 4"
      ],
      "metadata": {
        "id": "7h4nde_HanmK"
      }
    },
    {
      "cell_type": "code",
      "source": [
        "mostrar_resultados(yt4, pred_cluster1)"
      ],
      "metadata": {
        "colab": {
          "base_uri": "https://localhost:8080/",
          "height": 1000
        },
        "id": "mgldmFgkaRFy",
        "outputId": "a1b70e3d-0a76-4462-8773-b3114db1ca97"
      },
      "execution_count": null,
      "outputs": [
        {
          "output_type": "display_data",
          "data": {
            "text/plain": [
              "<Figure size 800x800 with 2 Axes>"
            ],
            "image/png": "[encoded data removed]"
          },
          "metadata": {}
        },
        {
          "output_type": "stream",
          "name": "stdout",
          "text": [
            "              precision    recall  f1-score   support\n",
            "\n",
            "      Active       0.00      0.00      0.00         6\n",
            "    Inactive       0.94      1.00      0.97        95\n",
            "\n",
            "    accuracy                           0.94       101\n",
            "   macro avg       0.47      0.50      0.48       101\n",
            "weighted avg       0.88      0.94      0.91       101\n",
            "\n"
          ]
        },
        {
          "output_type": "stream",
          "name": "stderr",
          "text": [
            "/usr/local/lib/python3.10/dist-packages/sklearn/metrics/_classification.py:1344: UndefinedMetricWarning: Precision and F-score are ill-defined and being set to 0.0 in labels with no predicted samples. Use `zero_division` parameter to control this behavior.\n",
            "  _warn_prf(average, modifier, msg_start, len(result))\n",
            "/usr/local/lib/python3.10/dist-packages/sklearn/metrics/_classification.py:1344: UndefinedMetricWarning: Precision and F-score are ill-defined and being set to 0.0 in labels with no predicted samples. Use `zero_division` parameter to control this behavior.\n",
            "  _warn_prf(average, modifier, msg_start, len(result))\n",
            "/usr/local/lib/python3.10/dist-packages/sklearn/metrics/_classification.py:1344: UndefinedMetricWarning: Precision and F-score are ill-defined and being set to 0.0 in labels with no predicted samples. Use `zero_division` parameter to control this behavior.\n",
            "  _warn_prf(average, modifier, msg_start, len(result))\n"
          ]
        }
      ]
    },
    {
      "cell_type": "markdown",
      "source": [
        "##Entrenamiento (5) 1,2,3,4 y testeo en 0\n"
      ],
      "metadata": {
        "id": "poA9srSwI2IG"
      }
    },
    {
      "cell_type": "code",
      "source": [
        "entrenamiento5= pd.concat([cluster4,cluster1,cluster2,cluster3])\n",
        "testeo5= cluster0"
      ],
      "metadata": {
        "id": "tLQVwDSZJ8df"
      },
      "execution_count": null,
      "outputs": []
    },
    {
      "cell_type": "code",
      "source": [
        "entrenamiento5[\"Activity\"].value_counts()"
      ],
      "metadata": {
        "colab": {
          "base_uri": "https://localhost:8080/"
        },
        "id": "S3Aj9EKtjBxq",
        "outputId": "7fd7529a-4e48-4c53-8be4-927875c9a57a"
      },
      "execution_count": null,
      "outputs": [
        {
          "output_type": "execute_result",
          "data": {
            "text/plain": [
              "Inactive    425\n",
              "Active       50\n",
              "Name: Activity, dtype: int64"
            ]
          },
          "metadata": {},
          "execution_count": 56
        }
      ]
    },
    {
      "cell_type": "code",
      "source": [
        "# filtrar SMILES que no den error\n",
        "SMILES5= []\n",
        "for i in range(len(entrenamiento5['canonical_smiles'])):\n",
        "  try:\n",
        "    cs = Chem.CanonSmiles(entrenamiento5['canonical_smiles'].iloc[i])\n",
        "    SMILES5.append(cs)\n",
        "\n",
        "  except:\n",
        "    print('Invalid SMILES:',entrenamiento5['canonical_smiles'].iloc[i],i)\n",
        "\n",
        "# molecules from smiles\n",
        "ms = [Chem.MolFromSmiles(smile) for smile in SMILES5]\n",
        "# number of atoms per molecule\n",
        "numb = [mol.GetNumAtoms() for mol in ms]\n",
        "# different atoms:\n",
        "C = [] # carbon\n",
        "O = [] # oxigen\n",
        "N = [] # nitrogen\n",
        "Cl=[]\n",
        "F=[]\n",
        "Br=[]\n",
        "I=[]\n",
        "\n",
        "nh2_pattern = Chem.MolFromSmarts(\"[NH2]\")\n",
        "nh2_counts = [len(mol.GetSubstructMatches(nh2_pattern)) for mol in ms]\n",
        "\n",
        "ring5_counts = []\n",
        "ring6_counts=[]\n",
        "\n",
        "\n",
        "for mol in ms:\n",
        "  c = 0\n",
        "  o = 0\n",
        "  n = 0\n",
        "  cl=0\n",
        "  f=0\n",
        "  br=0\n",
        "  i=0\n",
        "  nh2_count = 0\n",
        "  ring_info = mol.GetRingInfo()# Obtener sistemas de anillos saturados\n",
        "  ring5_count = sum(1 for ring in ring_info.AtomRings() if len(ring) == 5)  # Contar anillos de 5 carbonos\n",
        "  ring5_counts.append(ring5_count)\n",
        "  ring6= sum(1 for ring in ring_info.AtomRings()if len(ring) == 6)  # Contar anillos de 5 carbonos\n",
        "  ring6_counts.append(ring6)\n",
        "  for atom in mol.GetAtoms():\n",
        "    if atom.GetAtomicNum() == 6:\n",
        "      c += 1\n",
        "    if atom.GetAtomicNum() == 7:\n",
        "      n += 1\n",
        "    if atom.GetAtomicNum() == 8:\n",
        "      o += 1\n",
        "    if atom.GetAtomicNum() == 9:\n",
        "      f += 1\n",
        "    if atom.GetAtomicNum() == 17:\n",
        "      cl += 1\n",
        "    if atom.GetAtomicNum() == 35:\n",
        "      br += 1\n",
        "    if atom.GetAtomicNum() == 53:\n",
        "      i += 1\n",
        "\n",
        "  C.append(c)\n",
        "  O.append(o)\n",
        "  N.append(n)\n",
        "  Cl.append(cl)\n",
        "  F.append(f)\n",
        "  Br.append(br)\n",
        "  I.append(i)\n",
        "\n",
        "# molecular weight\n",
        "MolWeight = [Descriptors.ExactMolWt(mol) for mol in ms]\n",
        "# rings\n",
        "Rings = [Descriptors.RingCount(mol) for mol in ms]\n",
        "# Total polar surface area\n",
        "TPSA = [Descriptors.TPSA(mol) for mol in ms]\n",
        "# Density Morgan FP\n",
        "FpDM1 = [Descriptors.FpDensityMorgan1(mol) for mol in ms]\n",
        "# rotatable bonds\n",
        "RotBonds = [Descriptors.NumRotatableBonds(mol) for mol in ms]\n",
        "# Obtener la carga formal de la molécula\n",
        "formal_charge =[Chem.rdmolops.GetFormalCharge(mol) for mol in ms]\n",
        "# Calcular el logP (coeficiente de partición octanol-agua) de la molécula\n",
        "logp =[Descriptors.MolLogP(mol) for mol in ms]\n",
        "\n",
        "\n",
        "descriptors5 = pd.DataFrame(list(zip(numb, C, O, N,F,Br,I,Cl, nh2_counts,ring5_counts,ring6_counts,MolWeight, Rings, TPSA, FpDM1, RotBonds,logp,formal_charge)))\n",
        "\n",
        "Activity5= entrenamiento5['Activity'].tolist()"
      ],
      "metadata": {
        "id": "j4JKB9vTbBD6"
      },
      "execution_count": null,
      "outputs": []
    },
    {
      "cell_type": "code",
      "source": [
        "from sklearn.model_selection import train_test_split\n",
        "\n",
        "X5= np.array(descriptors5)\n",
        "y5 = np.array(Activity5)\n",
        "\n",
        "from sklearn.model_selection import GridSearchCV\n",
        "from sklearn.pipeline import Pipeline\n",
        "from sklearn.svm import SVC\n",
        "\n",
        "model_poly = Pipeline([('scaler', StandardScaler()),\n",
        "                      ('svm', SVC(kernel='poly'))\n",
        "                    ])\n",
        "\n",
        "\n",
        "# empecé buscando algunos hiperparámetros genéricos y fui agregando para que los seleccionados no me queden en el borde\n",
        "# Para poder usar el gridsearch con el pipeline, tienen que usar nombreestimador__parámetro para poder usar la grilla\n",
        "svm_cv_poly = GridSearchCV(model_poly,\n",
        "                      param_grid = {'svm__degree': [2, 3, 4, 5, 6], 'svm__C': [0.025, 0.05, 0.1, 1, 10, 12],'svm__coef0': [0, 1, 1.5, 2, 3]},\n",
        "                      cv=5,\n",
        "                      scoring='accuracy')\n",
        "\n",
        "\n",
        "svm_cv_poly.fit(X5, y5)\n",
        "print(\"Mejores hiperparámetros:\", svm_cv_poly.best_params_)\n",
        "print(\"Mejor Accuracy\", svm_cv_poly.best_score_)\n",
        "\n",
        "mejor_modelo5=svm_cv_poly.best_estimator_"
      ],
      "metadata": {
        "colab": {
          "base_uri": "https://localhost:8080/"
        },
        "id": "1OC7bVHIbZTx",
        "outputId": "bf420c8f-4ac0-4b88-9e7b-d47be4b45d11"
      },
      "execution_count": null,
      "outputs": [
        {
          "output_type": "stream",
          "name": "stdout",
          "text": [
            "Mejores hiperparámetros: {'svm__C': 10, 'svm__coef0': 0, 'svm__degree': 2}\n",
            "Mejor Accuracy 0.9263157894736842\n"
          ]
        }
      ]
    },
    {
      "cell_type": "markdown",
      "source": [
        "Testeo"
      ],
      "metadata": {
        "id": "M4pZdkIAbmLH"
      }
    },
    {
      "cell_type": "code",
      "source": [],
      "metadata": {
        "id": "jV9V-ABgbn7w"
      },
      "execution_count": null,
      "outputs": []
    },
    {
      "cell_type": "code",
      "source": [
        "# filtrar SMILES que no den error\n",
        "SMILESt5 = []\n",
        "for i in range(len(testeo5['canonical_smiles'])):\n",
        "  try:\n",
        "    cs = Chem.CanonSmiles(testeo5['canonical_smiles'].iloc[i])\n",
        "    SMILESt5.append(cs)\n",
        "\n",
        "  except:\n",
        "    print('Invalid SMILES:',testeo5['canonical_smiles'].iloc[i],i)\n",
        "\n",
        "\n",
        "# molecules from smiles\n",
        "ms = [Chem.MolFromSmiles(smile) for smile in SMILESt5]\n",
        "# number of atoms per molecule\n",
        "numb = [mol.GetNumAtoms() for mol in ms]\n",
        "# different atoms:\n",
        "C = [] # carbon\n",
        "O = [] # oxigen\n",
        "N = [] # nitrogen\n",
        "Cl=[]\n",
        "F=[]\n",
        "Br=[]\n",
        "I=[]\n",
        "\n",
        "nh2_pattern = Chem.MolFromSmarts(\"[NH2]\")\n",
        "nh2_counts = [len(mol.GetSubstructMatches(nh2_pattern)) for mol in ms]\n",
        "\n",
        "ring5_counts = []\n",
        "ring6_counts=[]\n",
        "\n",
        "\n",
        "for mol in ms:\n",
        "  c = 0\n",
        "  o = 0\n",
        "  n = 0\n",
        "  cl=0\n",
        "  f=0\n",
        "  br=0\n",
        "  i=0\n",
        "  nh2_count = 0\n",
        "  ring_info = mol.GetRingInfo()# Obtener sistemas de anillos saturados\n",
        "  ring5_count = sum(1 for ring in ring_info.AtomRings() if len(ring) == 5)  # Contar anillos de 5 carbonos\n",
        "  ring5_counts.append(ring5_count)\n",
        "  ring6= sum(1 for ring in ring_info.AtomRings()if len(ring) == 6)  # Contar anillos de 5 carbonos\n",
        "  ring6_counts.append(ring6)\n",
        "  for atom in mol.GetAtoms():\n",
        "    if atom.GetAtomicNum() == 6:\n",
        "      c += 1\n",
        "    if atom.GetAtomicNum() == 7:\n",
        "      n += 1\n",
        "    if atom.GetAtomicNum() == 8:\n",
        "      o += 1\n",
        "    if atom.GetAtomicNum() == 9:\n",
        "      f += 1\n",
        "    if atom.GetAtomicNum() == 17:\n",
        "      cl += 1\n",
        "    if atom.GetAtomicNum() == 35:\n",
        "      br += 1\n",
        "    if atom.GetAtomicNum() == 53:\n",
        "      i += 1\n",
        "\n",
        "  C.append(c)\n",
        "  O.append(o)\n",
        "  N.append(n)\n",
        "  Cl.append(cl)\n",
        "  F.append(f)\n",
        "  Br.append(br)\n",
        "  I.append(i)\n",
        "\n",
        "# molecular weight\n",
        "MolWeight = [Descriptors.ExactMolWt(mol) for mol in ms]\n",
        "# rings\n",
        "Rings = [Descriptors.RingCount(mol) for mol in ms]\n",
        "# Total polar surface area\n",
        "TPSA = [Descriptors.TPSA(mol) for mol in ms]\n",
        "# Density Morgan FP\n",
        "FpDM1 = [Descriptors.FpDensityMorgan1(mol) for mol in ms]\n",
        "# rotatable bonds\n",
        "RotBonds = [Descriptors.NumRotatableBonds(mol) for mol in ms]\n",
        "# Obtener la carga formal de la molécula\n",
        "formal_charge =[Chem.rdmolops.GetFormalCharge(mol) for mol in ms]\n",
        "# Calcular el logP (coeficiente de partición octanol-agua) de la molécula\n",
        "logp =[Descriptors.MolLogP(mol) for mol in ms]\n",
        "\n",
        "descriptorst5= pd.DataFrame(list(zip(numb, C, O, N,F,Br,I,Cl, nh2_counts,ring5_counts,ring6_counts,MolWeight, Rings, TPSA, FpDM1, RotBonds,logp,formal_charge)))\n",
        "\n",
        "Activityt5= testeo5['Activity'].tolist()"
      ],
      "metadata": {
        "id": "Wb10pbYFboDq"
      },
      "execution_count": null,
      "outputs": []
    },
    {
      "cell_type": "code",
      "source": [
        "Xt5 = np.array(descriptorst5)\n",
        "yt5 = np.array(Activityt5)\n",
        "\n",
        "pred_cluster0= mejor_modelo3.predict(Xt5)"
      ],
      "metadata": {
        "id": "9k6aNJsOb2Tz"
      },
      "execution_count": null,
      "outputs": []
    },
    {
      "cell_type": "code",
      "source": [
        "\n",
        "from sklearn import metrics\n",
        "from sklearn.metrics import confusion_matrix, accuracy_score, precision_score, recall_score\n",
        "\n",
        "accuracy = round(accuracy_score(yt5,pred_cluster0), 3)\n",
        "precision = round(precision_score(yt5,pred_cluster0, average='micro'), 3)\n",
        "recall = round(recall_score(yt5, pred_cluster0, average='micro'), 3)\n",
        "f1_score = 2 * (precision * recall) / (precision + recall)\n",
        "print(f\"Exactitud (Accuracy): {accuracy}\")\n",
        "print(f\"Precisión: {precision}\")\n",
        "print(f\"Exhaustividad (Recall): {recall}\")\n",
        "print(f\"F1-Score: {f1_score}\")\n",
        "confusion_matrix(yt5,pred_cluster0)"
      ],
      "metadata": {
        "colab": {
          "base_uri": "https://localhost:8080/"
        },
        "id": "7UKN15ztcGCs",
        "outputId": "413b823f-47e2-4c27-979a-540ad1e04a63"
      },
      "execution_count": null,
      "outputs": [
        {
          "output_type": "stream",
          "name": "stdout",
          "text": [
            "Exactitud (Accuracy): 0.94\n",
            "Precisión: 0.94\n",
            "Exhaustividad (Recall): 0.94\n",
            "F1-Score: 0.94\n"
          ]
        },
        {
          "output_type": "execute_result",
          "data": {
            "text/plain": [
              "array([[  0,  13],\n",
              "       [  0, 202]])"
            ]
          },
          "metadata": {},
          "execution_count": 61
        }
      ]
    },
    {
      "cell_type": "markdown",
      "source": [
        "### Resultados 5"
      ],
      "metadata": {
        "id": "SddKgjqWcnxo"
      }
    },
    {
      "cell_type": "code",
      "source": [
        "mostrar_resultados(yt5, pred_cluster0)"
      ],
      "metadata": {
        "colab": {
          "base_uri": "https://localhost:8080/",
          "height": 1000
        },
        "id": "jqmPQLKdcU-P",
        "outputId": "ed6110ff-d9d0-4af8-953b-b30e2ca5481f"
      },
      "execution_count": null,
      "outputs": [
        {
          "output_type": "display_data",
          "data": {
            "text/plain": [
              "<Figure size 800x800 with 2 Axes>"
            ],
            "image/png": "[encoded data removed]"
          },
          "metadata": {}
        },
        {
          "output_type": "stream",
          "name": "stdout",
          "text": [
            "              precision    recall  f1-score   support\n",
            "\n",
            "      Active       0.00      0.00      0.00        13\n",
            "    Inactive       0.94      1.00      0.97       202\n",
            "\n",
            "    accuracy                           0.94       215\n",
            "   macro avg       0.47      0.50      0.48       215\n",
            "weighted avg       0.88      0.94      0.91       215\n",
            "\n"
          ]
        },
        {
          "output_type": "stream",
          "name": "stderr",
          "text": [
            "/usr/local/lib/python3.10/dist-packages/sklearn/metrics/_classification.py:1344: UndefinedMetricWarning: Precision and F-score are ill-defined and being set to 0.0 in labels with no predicted samples. Use `zero_division` parameter to control this behavior.\n",
            "  _warn_prf(average, modifier, msg_start, len(result))\n",
            "/usr/local/lib/python3.10/dist-packages/sklearn/metrics/_classification.py:1344: UndefinedMetricWarning: Precision and F-score are ill-defined and being set to 0.0 in labels with no predicted samples. Use `zero_division` parameter to control this behavior.\n",
            "  _warn_prf(average, modifier, msg_start, len(result))\n",
            "/usr/local/lib/python3.10/dist-packages/sklearn/metrics/_classification.py:1344: UndefinedMetricWarning: Precision and F-score are ill-defined and being set to 0.0 in labels with no predicted samples. Use `zero_division` parameter to control this behavior.\n",
            "  _warn_prf(average, modifier, msg_start, len(result))\n"
          ]
        }
      ]
    },
    {
      "cell_type": "markdown",
      "source": [
        "##Prueba en testeo"
      ],
      "metadata": {
        "id": "TnqeT_pkjh99"
      }
    },
    {
      "cell_type": "code",
      "source": [
        "#use el modelo 3 para probar creoque es el que mejor predijo ambos"
      ],
      "metadata": {
        "id": "XMGYolW1jmbg"
      },
      "execution_count": null,
      "outputs": []
    },
    {
      "cell_type": "code",
      "source": [
        "total_prueba"
      ],
      "metadata": {
        "colab": {
          "base_uri": "https://localhost:8080/",
          "height": 614
        },
        "id": "FMUOixKHjvSM",
        "outputId": "163f64b3-95df-4a58-a644-cb7b24c8195f"
      },
      "execution_count": null,
      "outputs": [
        {
          "output_type": "execute_result",
          "data": {
            "text/plain": [
              "     Unnamed: 0  index                                   canonical_smiles  \\\n",
              "715         715  69241         CCCn1ccnc1CN1CCC(Oc2ccc(Cl)cc2)(C(=O)O)CC1   \n",
              "605         605  69128                 CC(C)NC(=O)N1CCC(c2nnc3n2CCNC3)CC1   \n",
              "120         120      0          COc1ccccc1CNC(=O)CCn1c(=O)[nH]c2ccsc2c1=O   \n",
              "208         208     88                    Oc1ccc(Cl)cc1CNc1nc2ccccc2[nH]1   \n",
              "380         380    260  Cc1ccc(S(=O)(=O)c2c(COC(=O)c3cccc(C)c3)c(-c3cc...   \n",
              "..          ...    ...                                                ...   \n",
              "235         235    115  CCN1CCN(c2cc(C)c3cc(NC(=O)c4ccc(OC)c(OC)c4)ccc...   \n",
              "333         333    213  CCOC(=O)C1CCN(C(=O)CN2C(=O)c3ccccc3C2c2c[nH]c3...   \n",
              "215         215     95         CC(O)(c1ccc(Cl)cc1)C(CN1CCCCC1)c1ccccc1.Cl   \n",
              "796         796  69323              CCc1nc(C2CCCN2Cc2noc(Cc3ccccc3)n2)no1   \n",
              "7             7     10  COc1cc(Nc2nc(N[C@H]3CCCC[C@H]3N)n3ncnc3c2C(N)=...   \n",
              "\n",
              "                                                ROMol  \\\n",
              "715  <rdkit.Chem.rdchem.Mol object at 0x7b12cfc76c70>   \n",
              "605  <rdkit.Chem.rdchem.Mol object at 0x7b12cfc6fa70>   \n",
              "120  <rdkit.Chem.rdchem.Mol object at 0x7b12d1b78a50>   \n",
              "208  <rdkit.Chem.rdchem.Mol object at 0x7b12d1b7b1b0>   \n",
              "380  <rdkit.Chem.rdchem.Mol object at 0x7b12d1b87d80>   \n",
              "..                                                ...   \n",
              "235  <rdkit.Chem.rdchem.Mol object at 0x7b12d1b7bd80>   \n",
              "333  <rdkit.Chem.rdchem.Mol object at 0x7b12d1b868f0>   \n",
              "215  <rdkit.Chem.rdchem.Mol object at 0x7b12d1b7b4c0>   \n",
              "796  <rdkit.Chem.rdchem.Mol object at 0x7b12cfc7d0e0>   \n",
              "7    <rdkit.Chem.rdchem.Mol object at 0x7b12d1b50660>   \n",
              "\n",
              "                        InchiKey  Activity   Organismo  Cluster_PCA  \n",
              "715  YTNKKDUGOVLRHH-UHFFFAOYSA-N  Inactive  Plasmodium            0  \n",
              "605  JKLKRJCUGCCPBV-UHFFFAOYSA-N  Inactive  Plasmodium            2  \n",
              "120  ALGPHOUNWIZIOQ-UHFFFAOYSA-N  Inactive  Plasmodium            2  \n",
              "208  CICSCGMRUIMBNF-UHFFFAOYSA-N  Inactive  Plasmodium            0  \n",
              "380  RGXXAMTXVCJIHY-UHFFFAOYSA-N  Inactive  Plasmodium            1  \n",
              "..                           ...       ...         ...          ...  \n",
              "235  YGHVMEYBSUHIGF-UHFFFAOYSA-N  Inactive  Plasmodium            1  \n",
              "333  UJJWLXPPJYJCBA-UHFFFAOYSA-N  Inactive  Plasmodium            1  \n",
              "215  NTHPIZPRBUBXHK-UHFFFAOYSA-N  Inactive  Plasmodium            3  \n",
              "796  POHKSWBHMVQKTC-UHFFFAOYSA-N  Inactive  Plasmodium            2  \n",
              "7    RVIMFNLCTIXVKN-CABCVRRESA-N    Active       Human            4  \n",
              "\n",
              "[173 rows x 8 columns]"
            ],
            "text/html": [
              "\n",
              "  <div id=\"df-088b6cd2-bee4-415a-833d-5251de0610d6\" class=\"colab-df-container\">\n",
              "    <div>\n",
              "<style scoped>\n",
              "    .dataframe tbody tr th:only-of-type {\n",
              "        vertical-align: middle;\n",
              "    }\n",
              "\n",
              "    .dataframe tbody tr th {\n",
              "        vertical-align: top;\n",
              "    }\n",
              "\n",
              "    .dataframe thead th {\n",
              "        text-align: right;\n",
              "    }\n",
              "</style>\n",
              "<table border=\"1\" class=\"dataframe\">\n",
              "  <thead>\n",
              "    <tr style=\"text-align: right;\">\n",
              "      <th></th>\n",
              "      <th>Unnamed: 0</th>\n",
              "      <th>index</th>\n",
              "      <th>canonical_smiles</th>\n",
              "      <th>ROMol</th>\n",
              "      <th>InchiKey</th>\n",
              "      <th>Activity</th>\n",
              "      <th>Organismo</th>\n",
              "      <th>Cluster_PCA</th>\n",
              "    </tr>\n",
              "  </thead>\n",
              "  <tbody>\n",
              "    <tr>\n",
              "      <th>715</th>\n",
              "      <td>715</td>\n",
              "      <td>69241</td>\n",
              "      <td>CCCn1ccnc1CN1CCC(Oc2ccc(Cl)cc2)(C(=O)O)CC1</td>\n",
              "      <td>&lt;rdkit.Chem.rdchem.Mol object at 0x7b12cfc76c70&gt;</td>\n",
              "      <td>YTNKKDUGOVLRHH-UHFFFAOYSA-N</td>\n",
              "      <td>Inactive</td>\n",
              "      <td>Plasmodium</td>\n",
              "      <td>0</td>\n",
              "    </tr>\n",
              "    <tr>\n",
              "      <th>605</th>\n",
              "      <td>605</td>\n",
              "      <td>69128</td>\n",
              "      <td>CC(C)NC(=O)N1CCC(c2nnc3n2CCNC3)CC1</td>\n",
              "      <td>&lt;rdkit.Chem.rdchem.Mol object at 0x7b12cfc6fa70&gt;</td>\n",
              "      <td>JKLKRJCUGCCPBV-UHFFFAOYSA-N</td>\n",
              "      <td>Inactive</td>\n",
              "      <td>Plasmodium</td>\n",
              "      <td>2</td>\n",
              "    </tr>\n",
              "    <tr>\n",
              "      <th>120</th>\n",
              "      <td>120</td>\n",
              "      <td>0</td>\n",
              "      <td>COc1ccccc1CNC(=O)CCn1c(=O)[nH]c2ccsc2c1=O</td>\n",
              "      <td>&lt;rdkit.Chem.rdchem.Mol object at 0x7b12d1b78a50&gt;</td>\n",
              "      <td>ALGPHOUNWIZIOQ-UHFFFAOYSA-N</td>\n",
              "      <td>Inactive</td>\n",
              "      <td>Plasmodium</td>\n",
              "      <td>2</td>\n",
              "    </tr>\n",
              "    <tr>\n",
              "      <th>208</th>\n",
              "      <td>208</td>\n",
              "      <td>88</td>\n",
              "      <td>Oc1ccc(Cl)cc1CNc1nc2ccccc2[nH]1</td>\n",
              "      <td>&lt;rdkit.Chem.rdchem.Mol object at 0x7b12d1b7b1b0&gt;</td>\n",
              "      <td>CICSCGMRUIMBNF-UHFFFAOYSA-N</td>\n",
              "      <td>Inactive</td>\n",
              "      <td>Plasmodium</td>\n",
              "      <td>0</td>\n",
              "    </tr>\n",
              "    <tr>\n",
              "      <th>380</th>\n",
              "      <td>380</td>\n",
              "      <td>260</td>\n",
              "      <td>Cc1ccc(S(=O)(=O)c2c(COC(=O)c3cccc(C)c3)c(-c3cc...</td>\n",
              "      <td>&lt;rdkit.Chem.rdchem.Mol object at 0x7b12d1b87d80&gt;</td>\n",
              "      <td>RGXXAMTXVCJIHY-UHFFFAOYSA-N</td>\n",
              "      <td>Inactive</td>\n",
              "      <td>Plasmodium</td>\n",
              "      <td>1</td>\n",
              "    </tr>\n",
              "    <tr>\n",
              "      <th>...</th>\n",
              "      <td>...</td>\n",
              "      <td>...</td>\n",
              "      <td>...</td>\n",
              "      <td>...</td>\n",
              "      <td>...</td>\n",
              "      <td>...</td>\n",
              "      <td>...</td>\n",
              "      <td>...</td>\n",
              "    </tr>\n",
              "    <tr>\n",
              "      <th>235</th>\n",
              "      <td>235</td>\n",
              "      <td>115</td>\n",
              "      <td>CCN1CCN(c2cc(C)c3cc(NC(=O)c4ccc(OC)c(OC)c4)ccc...</td>\n",
              "      <td>&lt;rdkit.Chem.rdchem.Mol object at 0x7b12d1b7bd80&gt;</td>\n",
              "      <td>YGHVMEYBSUHIGF-UHFFFAOYSA-N</td>\n",
              "      <td>Inactive</td>\n",
              "      <td>Plasmodium</td>\n",
              "      <td>1</td>\n",
              "    </tr>\n",
              "    <tr>\n",
              "      <th>333</th>\n",
              "      <td>333</td>\n",
              "      <td>213</td>\n",
              "      <td>CCOC(=O)C1CCN(C(=O)CN2C(=O)c3ccccc3C2c2c[nH]c3...</td>\n",
              "      <td>&lt;rdkit.Chem.rdchem.Mol object at 0x7b12d1b868f0&gt;</td>\n",
              "      <td>UJJWLXPPJYJCBA-UHFFFAOYSA-N</td>\n",
              "      <td>Inactive</td>\n",
              "      <td>Plasmodium</td>\n",
              "      <td>1</td>\n",
              "    </tr>\n",
              "    <tr>\n",
              "      <th>215</th>\n",
              "      <td>215</td>\n",
              "      <td>95</td>\n",
              "      <td>CC(O)(c1ccc(Cl)cc1)C(CN1CCCCC1)c1ccccc1.Cl</td>\n",
              "      <td>&lt;rdkit.Chem.rdchem.Mol object at 0x7b12d1b7b4c0&gt;</td>\n",
              "      <td>NTHPIZPRBUBXHK-UHFFFAOYSA-N</td>\n",
              "      <td>Inactive</td>\n",
              "      <td>Plasmodium</td>\n",
              "      <td>3</td>\n",
              "    </tr>\n",
              "    <tr>\n",
              "      <th>796</th>\n",
              "      <td>796</td>\n",
              "      <td>69323</td>\n",
              "      <td>CCc1nc(C2CCCN2Cc2noc(Cc3ccccc3)n2)no1</td>\n",
              "      <td>&lt;rdkit.Chem.rdchem.Mol object at 0x7b12cfc7d0e0&gt;</td>\n",
              "      <td>POHKSWBHMVQKTC-UHFFFAOYSA-N</td>\n",
              "      <td>Inactive</td>\n",
              "      <td>Plasmodium</td>\n",
              "      <td>2</td>\n",
              "    </tr>\n",
              "    <tr>\n",
              "      <th>7</th>\n",
              "      <td>7</td>\n",
              "      <td>10</td>\n",
              "      <td>COc1cc(Nc2nc(N[C@H]3CCCC[C@H]3N)n3ncnc3c2C(N)=...</td>\n",
              "      <td>&lt;rdkit.Chem.rdchem.Mol object at 0x7b12d1b50660&gt;</td>\n",
              "      <td>RVIMFNLCTIXVKN-CABCVRRESA-N</td>\n",
              "      <td>Active</td>\n",
              "      <td>Human</td>\n",
              "      <td>4</td>\n",
              "    </tr>\n",
              "  </tbody>\n",
              "</table>\n",
              "<p>173 rows × 8 columns</p>\n",
              "</div>\n",
              "    <div class=\"colab-df-buttons\">\n",
              "\n",
              "  <div class=\"colab-df-container\">\n",
              "    <button class=\"colab-df-convert\" onclick=\"convertToInteractive('df-088b6cd2-bee4-415a-833d-5251de0610d6')\"\n",
              "            title=\"Convert this dataframe to an interactive table.\"\n",
              "            style=\"display:none;\">\n",
              "\n",
              "  <svg xmlns=\"http://www.w3.org/2000/svg\" height=\"24px\" viewBox=\"0 -960 960 960\">\n",
              "    <path d=\"M120-120v-720h720v720H120Zm60-500h600v-160H180v160Zm220 220h160v-160H400v160Zm0 220h160v-160H400v160ZM180-400h160v-160H180v160Zm440 0h160v-160H620v160ZM180-180h160v-160H180v160Zm440 0h160v-160H620v160Z\"/>\n",
              "  </svg>\n",
              "    </button>\n",
              "\n",
              "  <style>\n",
              "    .colab-df-container {\n",
              "      display:flex;\n",
              "      gap: 12px;\n",
              "    }\n",
              "\n",
              "    .colab-df-convert {\n",
              "      background-color: #E8F0FE;\n",
              "      border: none;\n",
              "      border-radius: 50%;\n",
              "      cursor: pointer;\n",
              "      display: none;\n",
              "      fill: #1967D2;\n",
              "      height: 32px;\n",
              "      padding: 0 0 0 0;\n",
              "      width: 32px;\n",
              "    }\n",
              "\n",
              "    .colab-df-convert:hover {\n",
              "      background-color: #E2EBFA;\n",
              "      box-shadow: 0px 1px 2px rgba(60, 64, 67, 0.3), 0px 1px 3px 1px rgba(60, 64, 67, 0.15);\n",
              "      fill: #174EA6;\n",
              "    }\n",
              "\n",
              "    .colab-df-buttons div {\n",
              "      margin-bottom: 4px;\n",
              "    }\n",
              "\n",
              "    [theme=dark] .colab-df-convert {\n",
              "      background-color: #3B4455;\n",
              "      fill: #D2E3FC;\n",
              "    }\n",
              "\n",
              "    [theme=dark] .colab-df-convert:hover {\n",
              "      background-color: #434B5C;\n",
              "      box-shadow: 0px 1px 3px 1px rgba(0, 0, 0, 0.15);\n",
              "      filter: drop-shadow(0px 1px 2px rgba(0, 0, 0, 0.3));\n",
              "      fill: #FFFFFF;\n",
              "    }\n",
              "  </style>\n",
              "\n",
              "    <script>\n",
              "      const buttonEl =\n",
              "        document.querySelector('#df-088b6cd2-bee4-415a-833d-5251de0610d6 button.colab-df-convert');\n",
              "      buttonEl.style.display =\n",
              "        google.colab.kernel.accessAllowed ? 'block' : 'none';\n",
              "\n",
              "      async function convertToInteractive(key) {\n",
              "        const element = document.querySelector('#df-088b6cd2-bee4-415a-833d-5251de0610d6');\n",
              "        const dataTable =\n",
              "          await google.colab.kernel.invokeFunction('convertToInteractive',\n",
              "                                                    [key], {});\n",
              "        if (!dataTable) return;\n",
              "\n",
              "        const docLinkHtml = 'Like what you see? Visit the ' +\n",
              "          '<a target=\"_blank\" href=https://colab.research.google.com/notebooks/data_table.ipynb>data table notebook</a>'\n",
              "          + ' to learn more about interactive tables.';\n",
              "        element.innerHTML = '';\n",
              "        dataTable['output_type'] = 'display_data';\n",
              "        await google.colab.output.renderOutput(dataTable, element);\n",
              "        const docLink = document.createElement('div');\n",
              "        docLink.innerHTML = docLinkHtml;\n",
              "        element.appendChild(docLink);\n",
              "      }\n",
              "    </script>\n",
              "  </div>\n",
              "\n",
              "\n",
              "<div id=\"df-a21ba664-e99c-45e6-a6b2-b83015478ec9\">\n",
              "  <button class=\"colab-df-quickchart\" onclick=\"quickchart('df-a21ba664-e99c-45e6-a6b2-b83015478ec9')\"\n",
              "            title=\"Suggest charts.\"\n",
              "            style=\"display:none;\">\n",
              "\n",
              "<svg xmlns=\"http://www.w3.org/2000/svg\" height=\"24px\"viewBox=\"0 0 24 24\"\n",
              "     width=\"24px\">\n",
              "    <g>\n",
              "        <path d=\"M19 3H5c-1.1 0-2 .9-2 2v14c0 1.1.9 2 2 2h14c1.1 0 2-.9 2-2V5c0-1.1-.9-2-2-2zM9 17H7v-7h2v7zm4 0h-2V7h2v10zm4 0h-2v-4h2v4z\"/>\n",
              "    </g>\n",
              "</svg>\n",
              "  </button>\n",
              "\n",
              "<style>\n",
              "  .colab-df-quickchart {\n",
              "      --bg-color: #E8F0FE;\n",
              "      --fill-color: #1967D2;\n",
              "      --hover-bg-color: #E2EBFA;\n",
              "      --hover-fill-color: #174EA6;\n",
              "      --disabled-fill-color: #AAA;\n",
              "      --disabled-bg-color: #DDD;\n",
              "  }\n",
              "\n",
              "  [theme=dark] .colab-df-quickchart {\n",
              "      --bg-color: #3B4455;\n",
              "      --fill-color: #D2E3FC;\n",
              "      --hover-bg-color: #434B5C;\n",
              "      --hover-fill-color: #FFFFFF;\n",
              "      --disabled-bg-color: #3B4455;\n",
              "      --disabled-fill-color: #666;\n",
              "  }\n",
              "\n",
              "  .colab-df-quickchart {\n",
              "    background-color: var(--bg-color);\n",
              "    border: none;\n",
              "    border-radius: 50%;\n",
              "    cursor: pointer;\n",
              "    display: none;\n",
              "    fill: var(--fill-color);\n",
              "    height: 32px;\n",
              "    padding: 0;\n",
              "    width: 32px;\n",
              "  }\n",
              "\n",
              "  .colab-df-quickchart:hover {\n",
              "    background-color: var(--hover-bg-color);\n",
              "    box-shadow: 0 1px 2px rgba(60, 64, 67, 0.3), 0 1px 3px 1px rgba(60, 64, 67, 0.15);\n",
              "    fill: var(--button-hover-fill-color);\n",
              "  }\n",
              "\n",
              "  .colab-df-quickchart-complete:disabled,\n",
              "  .colab-df-quickchart-complete:disabled:hover {\n",
              "    background-color: var(--disabled-bg-color);\n",
              "    fill: var(--disabled-fill-color);\n",
              "    box-shadow: none;\n",
              "  }\n",
              "\n",
              "  .colab-df-spinner {\n",
              "    border: 2px solid var(--fill-color);\n",
              "    border-color: transparent;\n",
              "    border-bottom-color: var(--fill-color);\n",
              "    animation:\n",
              "      spin 1s steps(1) infinite;\n",
              "  }\n",
              "\n",
              "  @keyframes spin {\n",
              "    0% {\n",
              "      border-color: transparent;\n",
              "      border-bottom-color: var(--fill-color);\n",
              "      border-left-color: var(--fill-color);\n",
              "    }\n",
              "    20% {\n",
              "      border-color: transparent;\n",
              "      border-left-color: var(--fill-color);\n",
              "      border-top-color: var(--fill-color);\n",
              "    }\n",
              "    30% {\n",
              "      border-color: transparent;\n",
              "      border-left-color: var(--fill-color);\n",
              "      border-top-color: var(--fill-color);\n",
              "      border-right-color: var(--fill-color);\n",
              "    }\n",
              "    40% {\n",
              "      border-color: transparent;\n",
              "      border-right-color: var(--fill-color);\n",
              "      border-top-color: var(--fill-color);\n",
              "    }\n",
              "    60% {\n",
              "      border-color: transparent;\n",
              "      border-right-color: var(--fill-color);\n",
              "    }\n",
              "    80% {\n",
              "      border-color: transparent;\n",
              "      border-right-color: var(--fill-color);\n",
              "      border-bottom-color: var(--fill-color);\n",
              "    }\n",
              "    90% {\n",
              "      border-color: transparent;\n",
              "      border-bottom-color: var(--fill-color);\n",
              "    }\n",
              "  }\n",
              "</style>\n",
              "\n",
              "  <script>\n",
              "    async function quickchart(key) {\n",
              "      const quickchartButtonEl =\n",
              "        document.querySelector('#' + key + ' button');\n",
              "      quickchartButtonEl.disabled = true;  // To prevent multiple clicks.\n",
              "      quickchartButtonEl.classList.add('colab-df-spinner');\n",
              "      try {\n",
              "        const charts = await google.colab.kernel.invokeFunction(\n",
              "            'suggestCharts', [key], {});\n",
              "      } catch (error) {\n",
              "        console.error('Error during call to suggestCharts:', error);\n",
              "      }\n",
              "      quickchartButtonEl.classList.remove('colab-df-spinner');\n",
              "      quickchartButtonEl.classList.add('colab-df-quickchart-complete');\n",
              "    }\n",
              "    (() => {\n",
              "      let quickchartButtonEl =\n",
              "        document.querySelector('#df-a21ba664-e99c-45e6-a6b2-b83015478ec9 button');\n",
              "      quickchartButtonEl.style.display =\n",
              "        google.colab.kernel.accessAllowed ? 'block' : 'none';\n",
              "    })();\n",
              "  </script>\n",
              "</div>\n",
              "    </div>\n",
              "  </div>\n"
            ]
          },
          "metadata": {},
          "execution_count": 63
        }
      ]
    },
    {
      "cell_type": "code",
      "source": [
        "# filtrar SMILES que no den error\n",
        "SMILESs= []\n",
        "for i in range(len(total_prueba['canonical_smiles'])):\n",
        "  try:\n",
        "    cs = Chem.CanonSmiles(total_prueba['canonical_smiles'].iloc[i])\n",
        "    SMILESs.append(cs)\n",
        "\n",
        "  except:\n",
        "    print('Invalid SMILES:',total_prueba['canonical_smiles'].iloc[i],i)\n",
        "\n",
        "# molecules from smiles\n",
        "ms = [Chem.MolFromSmiles(smile) for smile in SMILESs]\n",
        "# number of atoms per molecule\n",
        "numb = [mol.GetNumAtoms() for mol in ms]\n",
        "# different atoms:\n",
        "C = [] # carbon\n",
        "O = [] # oxigen\n",
        "N = [] # nitrogen\n",
        "Cl=[]\n",
        "F=[]\n",
        "Br=[]\n",
        "I=[]\n",
        "\n",
        "nh2_pattern = Chem.MolFromSmarts(\"[NH2]\")\n",
        "nh2_counts = [len(mol.GetSubstructMatches(nh2_pattern)) for mol in ms]\n",
        "\n",
        "ring5_counts = []\n",
        "ring6_counts=[]\n",
        "\n",
        "\n",
        "for mol in ms:\n",
        "  c = 0\n",
        "  o = 0\n",
        "  n = 0\n",
        "  cl=0\n",
        "  f=0\n",
        "  br=0\n",
        "  i=0\n",
        "  nh2_count = 0\n",
        "  ring_info = mol.GetRingInfo()# Obtener sistemas de anillos saturados\n",
        "  ring5_count = sum(1 for ring in ring_info.AtomRings() if len(ring) == 5)  # Contar anillos de 5 carbonos\n",
        "  ring5_counts.append(ring5_count)\n",
        "  ring6= sum(1 for ring in ring_info.AtomRings()if len(ring) == 6)  # Contar anillos de 5 carbonos\n",
        "  ring6_counts.append(ring6)\n",
        "  for atom in mol.GetAtoms():\n",
        "    if atom.GetAtomicNum() == 6:\n",
        "      c += 1\n",
        "    if atom.GetAtomicNum() == 7:\n",
        "      n += 1\n",
        "    if atom.GetAtomicNum() == 8:\n",
        "      o += 1\n",
        "    if atom.GetAtomicNum() == 9:\n",
        "      f += 1\n",
        "    if atom.GetAtomicNum() == 17:\n",
        "      cl += 1\n",
        "    if atom.GetAtomicNum() == 35:\n",
        "      br += 1\n",
        "    if atom.GetAtomicNum() == 53:\n",
        "      i += 1\n",
        "\n",
        "  C.append(c)\n",
        "  O.append(o)\n",
        "  N.append(n)\n",
        "  Cl.append(cl)\n",
        "  F.append(f)\n",
        "  Br.append(br)\n",
        "  I.append(i)\n",
        "\n",
        "# molecular weight\n",
        "MolWeight = [Descriptors.ExactMolWt(mol) for mol in ms]\n",
        "# rings\n",
        "Rings = [Descriptors.RingCount(mol) for mol in ms]\n",
        "# Total polar surface area\n",
        "TPSA = [Descriptors.TPSA(mol) for mol in ms]\n",
        "# Density Morgan FP\n",
        "FpDM1 = [Descriptors.FpDensityMorgan1(mol) for mol in ms]\n",
        "# rotatable bonds\n",
        "RotBonds = [Descriptors.NumRotatableBonds(mol) for mol in ms]\n",
        "# Obtener la carga formal de la molécula\n",
        "formal_charge =[Chem.rdmolops.GetFormalCharge(mol) for mol in ms]\n",
        "# Calcular el logP (coeficiente de partición octanol-agua) de la molécula\n",
        "logp =[Descriptors.MolLogP(mol) for mol in ms]\n",
        "\n",
        "\n",
        "descriptorss = pd.DataFrame(list(zip(numb, C, O, N,F,Br,I,Cl, nh2_counts,ring5_counts,ring6_counts,MolWeight, Rings, TPSA, FpDM1, RotBonds,logp,formal_charge)))\n",
        "\n",
        "Activitys= total_prueba['Activity'].tolist()"
      ],
      "metadata": {
        "id": "_R4UOzGXj5rD"
      },
      "execution_count": null,
      "outputs": []
    },
    {
      "cell_type": "code",
      "source": [
        "Xts = np.array(descriptorss)\n",
        "yts = np.array(Activitys)\n",
        "\n",
        "pred_prueba= mejor_modelo3.predict(Xts)"
      ],
      "metadata": {
        "id": "ZrtZ08TBkN9J"
      },
      "execution_count": null,
      "outputs": []
    },
    {
      "cell_type": "code",
      "source": [
        "total_prueba['Activity'].value_counts()"
      ],
      "metadata": {
        "colab": {
          "base_uri": "https://localhost:8080/"
        },
        "id": "1hkT3wt9kgS4",
        "outputId": "dd05ec89-5392-4f7b-bc63-1f3ea581656e"
      },
      "execution_count": null,
      "outputs": [
        {
          "output_type": "execute_result",
          "data": {
            "text/plain": [
              "Inactive    157\n",
              "Active       16\n",
              "Name: Activity, dtype: int64"
            ]
          },
          "metadata": {},
          "execution_count": 66
        }
      ]
    },
    {
      "cell_type": "code",
      "source": [
        "\n",
        "from sklearn import metrics\n",
        "from sklearn.metrics import confusion_matrix, accuracy_score, precision_score, recall_score\n",
        "\n",
        "accuracy = round(accuracy_score(yts,pred_prueba), 3)\n",
        "precision = round(precision_score(yts,pred_prueba, average='micro'), 3)\n",
        "recall = round(recall_score(yts, pred_prueba, average='micro'), 3)\n",
        "f1_score = 2 * (precision * recall) / (precision + recall)\n",
        "print(f\"Exactitud (Accuracy): {accuracy}\")\n",
        "print(f\"Precisión: {precision}\")\n",
        "print(f\"Exhaustividad (Recall): {recall}\")\n",
        "print(f\"F1-Score: {f1_score}\")\n",
        "confusion_matrix(yts,pred_prueba)"
      ],
      "metadata": {
        "colab": {
          "base_uri": "https://localhost:8080/"
        },
        "id": "ipzfKQIFkc-K",
        "outputId": "da0c92ee-27ee-4137-cb04-d5c2e50e0621"
      },
      "execution_count": null,
      "outputs": [
        {
          "output_type": "stream",
          "name": "stdout",
          "text": [
            "Exactitud (Accuracy): 0.936\n",
            "Precisión: 0.936\n",
            "Exhaustividad (Recall): 0.936\n",
            "F1-Score: 0.936\n"
          ]
        },
        {
          "output_type": "execute_result",
          "data": {
            "text/plain": [
              "array([[  5,  11],\n",
              "       [  0, 157]])"
            ]
          },
          "metadata": {},
          "execution_count": 67
        }
      ]
    },
    {
      "cell_type": "code",
      "source": [
        "mostrar_resultados(yts,pred_prueba)"
      ],
      "metadata": {
        "colab": {
          "base_uri": "https://localhost:8080/",
          "height": 882
        },
        "id": "A_7odJKwkz0Q",
        "outputId": "579d74d7-91fc-40ca-bfc2-a1743b61b696"
      },
      "execution_count": null,
      "outputs": [
        {
          "output_type": "display_data",
          "data": {
            "text/plain": [
              "<Figure size 800x800 with 2 Axes>"
            ],
            "image/png": "[encoded data removed]"
          },
          "metadata": {}
        },
        {
          "output_type": "stream",
          "name": "stdout",
          "text": [
            "              precision    recall  f1-score   support\n",
            "\n",
            "      Active       1.00      0.31      0.48        16\n",
            "    Inactive       0.93      1.00      0.97       157\n",
            "\n",
            "    accuracy                           0.94       173\n",
            "   macro avg       0.97      0.66      0.72       173\n",
            "weighted avg       0.94      0.94      0.92       173\n",
            "\n"
          ]
        }
      ]
    }
  ]
}